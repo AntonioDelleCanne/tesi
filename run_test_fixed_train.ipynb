{
 "cells": [
  {
   "cell_type": "code",
   "execution_count": null,
   "metadata": {},
   "outputs": [
    {
     "name": "stdout",
     "output_type": "stream",
     "text": [
      "/data/home/dsvm_server_admin/notebooks/fastai/tesi/DeepLearning_Financial\n",
      "FOLD 1\n",
      "Training set da 2000-09-19 00:00:00 a 2004-05-18 00:00:00\n",
      "Validation set da 2004-05-19 00:00:00 a 2008-01-12 00:00:00\n",
      "2000-09-19 00:00:00\n",
      "2018-12-27 00:00:00\n",
      "FOLD 2\n",
      "Training set da 2004-05-15 00:00:00 a 2008-01-12 00:00:00\n",
      "Validation set da 2008-01-13 00:00:00 a 2011-09-07 00:00:00\n",
      "2000-09-19 00:00:00\n",
      "2018-12-27 00:00:00\n",
      "FOLD 3\n",
      "Training set da 2008-01-09 00:00:00 a 2011-09-07 00:00:00\n",
      "Validation set da 2011-09-08 00:00:00 a 2015-05-03 00:00:00\n",
      "2000-09-19 00:00:00\n",
      "2018-12-27 00:00:00\n",
      "FOLD 4\n",
      "Training set da 2011-09-04 00:00:00 a 2015-05-03 00:00:00\n",
      "Validation set da 2015-05-04 00:00:00 a 2018-12-27 00:00:00\n",
      "2000-09-19 00:00:00\n",
      "2018-12-27 00:00:00\n",
      "lstm_sa_^GSPC_2000-09-19_2004-05-18.pkl\n",
      "  epoch    neg_mean_absolute_error       r2    roi_train    train_loss    valid_loss    cp     dur\n",
      "-------  -------------------------  -------  -----------  ------------  ------------  ----  ------\n",
      "      1                    \u001b[36m-1.4226\u001b[0m  \u001b[32m-2.6854\u001b[0m     \u001b[35m-72.5763\u001b[0m        \u001b[31m1.0600\u001b[0m        \u001b[94m2.7725\u001b[0m     +  2.9675\n"
     ]
    },
    {
     "name": "stderr",
     "output_type": "stream",
     "text": [
      "/data/anaconda/envs/fastai/lib/python3.6/site-packages/torch/storage.py:34: FutureWarning: pickle support for Storage will be removed in 1.5. Use `torch.save` instead\n",
      "  warnings.warn(\"pickle support for Storage will be removed in 1.5. Use `torch.save` instead\", FutureWarning)\n"
     ]
    },
    {
     "name": "stdout",
     "output_type": "stream",
     "text": [
      "      2                    -1.4280  -2.7062     -72.7016        \u001b[31m1.0166\u001b[0m        2.7882        2.2954\n",
      "      3                    -1.4287  -2.7087     -72.7016        \u001b[31m1.0109\u001b[0m        2.7900        1.9940\n",
      "      4                    -1.4285  -2.7079     -72.7016        \u001b[31m1.0065\u001b[0m        2.7895        1.3343\n",
      "      5                    -1.4279  -2.7059     -72.7016        \u001b[31m1.0034\u001b[0m        2.7879        1.6327\n",
      "      6                    -1.4273  -2.7036     -72.7016        \u001b[31m1.0011\u001b[0m        2.7862        1.5431\n",
      "      7                    -1.4268  -2.7015     -72.7016        \u001b[31m0.9994\u001b[0m        2.7846        1.9824\n",
      "      8                    -1.4263  -2.6994     -72.7016        \u001b[31m0.9980\u001b[0m        2.7831        1.5867\n",
      "      9                    -1.4258  -2.6978     -72.7016        \u001b[31m0.9970\u001b[0m        2.7818        1.7226\n",
      "     10                    -1.4254  -2.6962     -72.7016        \u001b[31m0.9961\u001b[0m        2.7806        1.8483\n",
      "     11                    -1.4249  -2.6944     -72.7016        \u001b[31m0.9953\u001b[0m        2.7793        1.8054\n",
      "     12                    -1.4245  -2.6927     -72.7016        \u001b[31m0.9945\u001b[0m        2.7780        2.5878\n",
      "     13                    -1.4240  -2.6909     -72.5763        \u001b[31m0.9939\u001b[0m        2.7766        2.4659\n",
      "     14                    -1.4236  -2.6893     -72.5763        \u001b[31m0.9933\u001b[0m        2.7754        2.2276\n",
      "     15                    -1.4232  -2.6876     -72.5763        \u001b[31m0.9928\u001b[0m        2.7741        2.0204\n",
      "     16                    -1.4229  -2.6864     -72.5763        \u001b[31m0.9923\u001b[0m        2.7732        2.1658\n",
      "     17                    \u001b[36m-1.4225\u001b[0m  \u001b[32m-2.6849\u001b[0m     -72.5763        \u001b[31m0.9919\u001b[0m        \u001b[94m2.7722\u001b[0m     +  1.8741\n"
     ]
    },
    {
     "name": "stderr",
     "output_type": "stream",
     "text": [
      "/data/anaconda/envs/fastai/lib/python3.6/site-packages/torch/storage.py:34: FutureWarning: pickle support for Storage will be removed in 1.5. Use `torch.save` instead\n",
      "  warnings.warn(\"pickle support for Storage will be removed in 1.5. Use `torch.save` instead\", FutureWarning)\n"
     ]
    },
    {
     "name": "stdout",
     "output_type": "stream",
     "text": [
      "     18                    \u001b[36m-1.4223\u001b[0m  \u001b[32m-2.6843\u001b[0m     -72.5763        \u001b[31m0.9916\u001b[0m        \u001b[94m2.7717\u001b[0m     +  2.5447\n"
     ]
    },
    {
     "name": "stderr",
     "output_type": "stream",
     "text": [
      "/data/anaconda/envs/fastai/lib/python3.6/site-packages/torch/storage.py:34: FutureWarning: pickle support for Storage will be removed in 1.5. Use `torch.save` instead\n",
      "  warnings.warn(\"pickle support for Storage will be removed in 1.5. Use `torch.save` instead\", FutureWarning)\n"
     ]
    },
    {
     "name": "stdout",
     "output_type": "stream",
     "text": [
      "     19                    \u001b[36m-1.4221\u001b[0m  \u001b[32m-2.6833\u001b[0m     -72.5763        \u001b[31m0.9913\u001b[0m        \u001b[94m2.7710\u001b[0m     +  1.8953\n"
     ]
    },
    {
     "name": "stderr",
     "output_type": "stream",
     "text": [
      "/data/anaconda/envs/fastai/lib/python3.6/site-packages/torch/storage.py:34: FutureWarning: pickle support for Storage will be removed in 1.5. Use `torch.save` instead\n",
      "  warnings.warn(\"pickle support for Storage will be removed in 1.5. Use `torch.save` instead\", FutureWarning)\n"
     ]
    },
    {
     "name": "stdout",
     "output_type": "stream",
     "text": [
      "     20                    \u001b[36m-1.4220\u001b[0m  \u001b[32m-2.6831\u001b[0m     -72.5763        \u001b[31m0.9910\u001b[0m        \u001b[94m2.7708\u001b[0m     +  1.6381\n"
     ]
    },
    {
     "name": "stderr",
     "output_type": "stream",
     "text": [
      "/data/anaconda/envs/fastai/lib/python3.6/site-packages/torch/storage.py:34: FutureWarning: pickle support for Storage will be removed in 1.5. Use `torch.save` instead\n",
      "  warnings.warn(\"pickle support for Storage will be removed in 1.5. Use `torch.save` instead\", FutureWarning)\n"
     ]
    },
    {
     "name": "stdout",
     "output_type": "stream",
     "text": [
      "     21                    \u001b[36m-1.4217\u001b[0m  \u001b[32m-2.6820\u001b[0m     -72.5763        \u001b[31m0.9908\u001b[0m        \u001b[94m2.7700\u001b[0m     +  1.3396\n"
     ]
    },
    {
     "name": "stderr",
     "output_type": "stream",
     "text": [
      "/data/anaconda/envs/fastai/lib/python3.6/site-packages/torch/storage.py:34: FutureWarning: pickle support for Storage will be removed in 1.5. Use `torch.save` instead\n",
      "  warnings.warn(\"pickle support for Storage will be removed in 1.5. Use `torch.save` instead\", FutureWarning)\n"
     ]
    },
    {
     "name": "stdout",
     "output_type": "stream",
     "text": [
      "     22                    \u001b[36m-1.4216\u001b[0m  \u001b[32m-2.6815\u001b[0m     -72.5763        \u001b[31m0.9906\u001b[0m        \u001b[94m2.7696\u001b[0m     +  1.3590\n"
     ]
    },
    {
     "name": "stderr",
     "output_type": "stream",
     "text": [
      "/data/anaconda/envs/fastai/lib/python3.6/site-packages/torch/storage.py:34: FutureWarning: pickle support for Storage will be removed in 1.5. Use `torch.save` instead\n",
      "  warnings.warn(\"pickle support for Storage will be removed in 1.5. Use `torch.save` instead\", FutureWarning)\n"
     ]
    },
    {
     "name": "stdout",
     "output_type": "stream",
     "text": [
      "     23                    \u001b[36m-1.4212\u001b[0m  \u001b[32m-2.6800\u001b[0m     -72.5763        \u001b[31m0.9904\u001b[0m        \u001b[94m2.7684\u001b[0m     +  2.5585\n"
     ]
    },
    {
     "name": "stderr",
     "output_type": "stream",
     "text": [
      "/data/anaconda/envs/fastai/lib/python3.6/site-packages/torch/storage.py:34: FutureWarning: pickle support for Storage will be removed in 1.5. Use `torch.save` instead\n",
      "  warnings.warn(\"pickle support for Storage will be removed in 1.5. Use `torch.save` instead\", FutureWarning)\n"
     ]
    },
    {
     "name": "stdout",
     "output_type": "stream",
     "text": [
      "     24                    \u001b[36m-1.4210\u001b[0m  \u001b[32m-2.6793\u001b[0m     -72.5763        \u001b[31m0.9901\u001b[0m        \u001b[94m2.7679\u001b[0m     +  2.4177\n"
     ]
    },
    {
     "name": "stderr",
     "output_type": "stream",
     "text": [
      "/data/anaconda/envs/fastai/lib/python3.6/site-packages/torch/storage.py:34: FutureWarning: pickle support for Storage will be removed in 1.5. Use `torch.save` instead\n",
      "  warnings.warn(\"pickle support for Storage will be removed in 1.5. Use `torch.save` instead\", FutureWarning)\n"
     ]
    },
    {
     "name": "stdout",
     "output_type": "stream",
     "text": [
      "     25                    \u001b[36m-1.4207\u001b[0m  \u001b[32m-2.6779\u001b[0m     -72.5763        \u001b[31m0.9899\u001b[0m        \u001b[94m2.7669\u001b[0m     +  1.7516\n"
     ]
    },
    {
     "name": "stderr",
     "output_type": "stream",
     "text": [
      "/data/anaconda/envs/fastai/lib/python3.6/site-packages/torch/storage.py:34: FutureWarning: pickle support for Storage will be removed in 1.5. Use `torch.save` instead\n",
      "  warnings.warn(\"pickle support for Storage will be removed in 1.5. Use `torch.save` instead\", FutureWarning)\n"
     ]
    },
    {
     "name": "stdout",
     "output_type": "stream",
     "text": [
      "     26                    \u001b[36m-1.4205\u001b[0m  \u001b[32m-2.6774\u001b[0m     -72.5763        \u001b[31m0.9896\u001b[0m        \u001b[94m2.7665\u001b[0m     +  1.4883\n"
     ]
    },
    {
     "name": "stderr",
     "output_type": "stream",
     "text": [
      "/data/anaconda/envs/fastai/lib/python3.6/site-packages/torch/storage.py:34: FutureWarning: pickle support for Storage will be removed in 1.5. Use `torch.save` instead\n",
      "  warnings.warn(\"pickle support for Storage will be removed in 1.5. Use `torch.save` instead\", FutureWarning)\n"
     ]
    },
    {
     "name": "stdout",
     "output_type": "stream",
     "text": [
      "     27                    \u001b[36m-1.4202\u001b[0m  \u001b[32m-2.6763\u001b[0m     -72.5763        \u001b[31m0.9895\u001b[0m        \u001b[94m2.7656\u001b[0m     +  1.5060\n"
     ]
    },
    {
     "name": "stderr",
     "output_type": "stream",
     "text": [
      "/data/anaconda/envs/fastai/lib/python3.6/site-packages/torch/storage.py:34: FutureWarning: pickle support for Storage will be removed in 1.5. Use `torch.save` instead\n",
      "  warnings.warn(\"pickle support for Storage will be removed in 1.5. Use `torch.save` instead\", FutureWarning)\n"
     ]
    },
    {
     "name": "stdout",
     "output_type": "stream",
     "text": [
      "     28                    \u001b[36m-1.4201\u001b[0m  \u001b[32m-2.6759\u001b[0m     -72.5763        \u001b[31m0.9893\u001b[0m        \u001b[94m2.7653\u001b[0m     +  1.5498\n"
     ]
    },
    {
     "name": "stderr",
     "output_type": "stream",
     "text": [
      "/data/anaconda/envs/fastai/lib/python3.6/site-packages/torch/storage.py:34: FutureWarning: pickle support for Storage will be removed in 1.5. Use `torch.save` instead\n",
      "  warnings.warn(\"pickle support for Storage will be removed in 1.5. Use `torch.save` instead\", FutureWarning)\n"
     ]
    },
    {
     "name": "stdout",
     "output_type": "stream",
     "text": [
      "     29                    \u001b[36m-1.4199\u001b[0m  \u001b[32m-2.6751\u001b[0m     -72.5763        \u001b[31m0.9892\u001b[0m        \u001b[94m2.7647\u001b[0m     +  2.3296\n"
     ]
    },
    {
     "name": "stderr",
     "output_type": "stream",
     "text": [
      "/data/anaconda/envs/fastai/lib/python3.6/site-packages/torch/storage.py:34: FutureWarning: pickle support for Storage will be removed in 1.5. Use `torch.save` instead\n",
      "  warnings.warn(\"pickle support for Storage will be removed in 1.5. Use `torch.save` instead\", FutureWarning)\n"
     ]
    },
    {
     "name": "stdout",
     "output_type": "stream",
     "text": [
      "     30                    -1.4199  -2.6751     -72.5763        \u001b[31m0.9890\u001b[0m        2.7648        2.5347\n",
      "     31                    \u001b[36m-1.4197\u001b[0m  \u001b[32m-2.6744\u001b[0m     -72.5763        \u001b[31m0.9889\u001b[0m        \u001b[94m2.7642\u001b[0m     +  1.4800\n"
     ]
    },
    {
     "name": "stderr",
     "output_type": "stream",
     "text": [
      "/data/anaconda/envs/fastai/lib/python3.6/site-packages/torch/storage.py:34: FutureWarning: pickle support for Storage will be removed in 1.5. Use `torch.save` instead\n",
      "  warnings.warn(\"pickle support for Storage will be removed in 1.5. Use `torch.save` instead\", FutureWarning)\n"
     ]
    },
    {
     "name": "stdout",
     "output_type": "stream",
     "text": [
      "     32                    -1.4198  -2.6745     -72.5763        \u001b[31m0.9888\u001b[0m        2.7643        2.5635\n",
      "     33                    \u001b[36m-1.4194\u001b[0m  \u001b[32m-2.6730\u001b[0m     -72.5763        \u001b[31m0.9888\u001b[0m        \u001b[94m2.7631\u001b[0m     +  2.4205\n"
     ]
    },
    {
     "name": "stderr",
     "output_type": "stream",
     "text": [
      "/data/anaconda/envs/fastai/lib/python3.6/site-packages/torch/storage.py:34: FutureWarning: pickle support for Storage will be removed in 1.5. Use `torch.save` instead\n",
      "  warnings.warn(\"pickle support for Storage will be removed in 1.5. Use `torch.save` instead\", FutureWarning)\n"
     ]
    },
    {
     "name": "stdout",
     "output_type": "stream",
     "text": [
      "     34                    \u001b[36m-1.4193\u001b[0m  \u001b[32m-2.6726\u001b[0m     -72.5763        \u001b[31m0.9886\u001b[0m        \u001b[94m2.7629\u001b[0m     +  2.1035\n"
     ]
    },
    {
     "name": "stderr",
     "output_type": "stream",
     "text": [
      "/data/anaconda/envs/fastai/lib/python3.6/site-packages/torch/storage.py:34: FutureWarning: pickle support for Storage will be removed in 1.5. Use `torch.save` instead\n",
      "  warnings.warn(\"pickle support for Storage will be removed in 1.5. Use `torch.save` instead\", FutureWarning)\n"
     ]
    },
    {
     "name": "stdout",
     "output_type": "stream",
     "text": [
      "     35                    \u001b[36m-1.4190\u001b[0m  \u001b[32m-2.6717\u001b[0m     -72.5763        \u001b[31m0.9885\u001b[0m        \u001b[94m2.7622\u001b[0m     +  2.2470\n"
     ]
    },
    {
     "name": "stderr",
     "output_type": "stream",
     "text": [
      "/data/anaconda/envs/fastai/lib/python3.6/site-packages/torch/storage.py:34: FutureWarning: pickle support for Storage will be removed in 1.5. Use `torch.save` instead\n",
      "  warnings.warn(\"pickle support for Storage will be removed in 1.5. Use `torch.save` instead\", FutureWarning)\n"
     ]
    },
    {
     "name": "stdout",
     "output_type": "stream",
     "text": [
      "     36                    \u001b[36m-1.4190\u001b[0m  \u001b[32m-2.6715\u001b[0m     -72.5763        \u001b[31m0.9882\u001b[0m        \u001b[94m2.7620\u001b[0m     +  2.2059\n"
     ]
    },
    {
     "name": "stderr",
     "output_type": "stream",
     "text": [
      "/data/anaconda/envs/fastai/lib/python3.6/site-packages/torch/storage.py:34: FutureWarning: pickle support for Storage will be removed in 1.5. Use `torch.save` instead\n",
      "  warnings.warn(\"pickle support for Storage will be removed in 1.5. Use `torch.save` instead\", FutureWarning)\n"
     ]
    },
    {
     "name": "stdout",
     "output_type": "stream",
     "text": [
      "     37                    \u001b[36m-1.4189\u001b[0m  \u001b[32m-2.6710\u001b[0m     -72.5763        \u001b[31m0.9881\u001b[0m        \u001b[94m2.7617\u001b[0m     +  2.3983\n"
     ]
    },
    {
     "name": "stderr",
     "output_type": "stream",
     "text": [
      "/data/anaconda/envs/fastai/lib/python3.6/site-packages/torch/storage.py:34: FutureWarning: pickle support for Storage will be removed in 1.5. Use `torch.save` instead\n",
      "  warnings.warn(\"pickle support for Storage will be removed in 1.5. Use `torch.save` instead\", FutureWarning)\n"
     ]
    },
    {
     "name": "stdout",
     "output_type": "stream",
     "text": [
      "     38                    \u001b[36m-1.4186\u001b[0m  \u001b[32m-2.6702\u001b[0m     -72.5763        \u001b[31m0.9880\u001b[0m        \u001b[94m2.7610\u001b[0m     +  2.3769\n"
     ]
    },
    {
     "name": "stderr",
     "output_type": "stream",
     "text": [
      "/data/anaconda/envs/fastai/lib/python3.6/site-packages/torch/storage.py:34: FutureWarning: pickle support for Storage will be removed in 1.5. Use `torch.save` instead\n",
      "  warnings.warn(\"pickle support for Storage will be removed in 1.5. Use `torch.save` instead\", FutureWarning)\n"
     ]
    },
    {
     "name": "stdout",
     "output_type": "stream",
     "text": [
      "     39                    \u001b[36m-1.4186\u001b[0m  \u001b[32m-2.6701\u001b[0m     -72.5763        \u001b[31m0.9879\u001b[0m        \u001b[94m2.7610\u001b[0m     +  2.3083\n"
     ]
    },
    {
     "name": "stderr",
     "output_type": "stream",
     "text": [
      "/data/anaconda/envs/fastai/lib/python3.6/site-packages/torch/storage.py:34: FutureWarning: pickle support for Storage will be removed in 1.5. Use `torch.save` instead\n",
      "  warnings.warn(\"pickle support for Storage will be removed in 1.5. Use `torch.save` instead\", FutureWarning)\n"
     ]
    },
    {
     "name": "stdout",
     "output_type": "stream",
     "text": [
      "     40                    \u001b[36m-1.4184\u001b[0m  \u001b[32m-2.6691\u001b[0m     -72.5763        \u001b[31m0.9878\u001b[0m        \u001b[94m2.7602\u001b[0m     +  2.6405\n"
     ]
    },
    {
     "name": "stderr",
     "output_type": "stream",
     "text": [
      "/data/anaconda/envs/fastai/lib/python3.6/site-packages/torch/storage.py:34: FutureWarning: pickle support for Storage will be removed in 1.5. Use `torch.save` instead\n",
      "  warnings.warn(\"pickle support for Storage will be removed in 1.5. Use `torch.save` instead\", FutureWarning)\n"
     ]
    },
    {
     "name": "stdout",
     "output_type": "stream",
     "text": [
      "     41                    -1.4184  -2.6694     -72.5763        \u001b[31m0.9877\u001b[0m        2.7605        2.0242\n",
      "     42                    \u001b[36m-1.4181\u001b[0m  \u001b[32m-2.6682\u001b[0m     -72.5763        \u001b[31m0.9877\u001b[0m        \u001b[94m2.7595\u001b[0m     +  1.6638\n"
     ]
    },
    {
     "name": "stderr",
     "output_type": "stream",
     "text": [
      "/data/anaconda/envs/fastai/lib/python3.6/site-packages/torch/storage.py:34: FutureWarning: pickle support for Storage will be removed in 1.5. Use `torch.save` instead\n",
      "  warnings.warn(\"pickle support for Storage will be removed in 1.5. Use `torch.save` instead\", FutureWarning)\n"
     ]
    },
    {
     "name": "stdout",
     "output_type": "stream",
     "text": [
      "     43                    -1.4182  -2.6684     -72.5763        \u001b[31m0.9875\u001b[0m        2.7597        1.8844\n",
      "     44                    \u001b[36m-1.4179\u001b[0m  \u001b[32m-2.6673\u001b[0m     -72.5763        \u001b[31m0.9875\u001b[0m        \u001b[94m2.7589\u001b[0m     +  2.4424\n"
     ]
    },
    {
     "name": "stderr",
     "output_type": "stream",
     "text": [
      "/data/anaconda/envs/fastai/lib/python3.6/site-packages/torch/storage.py:34: FutureWarning: pickle support for Storage will be removed in 1.5. Use `torch.save` instead\n",
      "  warnings.warn(\"pickle support for Storage will be removed in 1.5. Use `torch.save` instead\", FutureWarning)\n"
     ]
    },
    {
     "name": "stdout",
     "output_type": "stream",
     "text": [
      "     45                    -1.4179  -2.6675     -72.5763        \u001b[31m0.9874\u001b[0m        2.7591        1.7648\n",
      "     46                    \u001b[36m-1.4178\u001b[0m  \u001b[32m-2.6669\u001b[0m     -72.5763        \u001b[31m0.9874\u001b[0m        \u001b[94m2.7585\u001b[0m     +  1.7033\n"
     ]
    },
    {
     "name": "stderr",
     "output_type": "stream",
     "text": [
      "/data/anaconda/envs/fastai/lib/python3.6/site-packages/torch/storage.py:34: FutureWarning: pickle support for Storage will be removed in 1.5. Use `torch.save` instead\n",
      "  warnings.warn(\"pickle support for Storage will be removed in 1.5. Use `torch.save` instead\", FutureWarning)\n"
     ]
    },
    {
     "name": "stdout",
     "output_type": "stream",
     "text": [
      "     47                    -1.4178  -2.6669     -72.5763        \u001b[31m0.9873\u001b[0m        2.7586        1.5987\n",
      "     48                    \u001b[36m-1.4177\u001b[0m  \u001b[32m-2.6666\u001b[0m     -72.5763        \u001b[31m0.9873\u001b[0m        \u001b[94m2.7583\u001b[0m     +  2.0747\n"
     ]
    },
    {
     "name": "stderr",
     "output_type": "stream",
     "text": [
      "/data/anaconda/envs/fastai/lib/python3.6/site-packages/torch/storage.py:34: FutureWarning: pickle support for Storage will be removed in 1.5. Use `torch.save` instead\n",
      "  warnings.warn(\"pickle support for Storage will be removed in 1.5. Use `torch.save` instead\", FutureWarning)\n"
     ]
    },
    {
     "name": "stdout",
     "output_type": "stream",
     "text": [
      "     49                    \u001b[36m-1.4177\u001b[0m  \u001b[32m-2.6665\u001b[0m     \u001b[35m-72.4272\u001b[0m        \u001b[31m0.9871\u001b[0m        \u001b[94m2.7583\u001b[0m     +  1.4609\n"
     ]
    },
    {
     "name": "stderr",
     "output_type": "stream",
     "text": [
      "/data/anaconda/envs/fastai/lib/python3.6/site-packages/torch/storage.py:34: FutureWarning: pickle support for Storage will be removed in 1.5. Use `torch.save` instead\n",
      "  warnings.warn(\"pickle support for Storage will be removed in 1.5. Use `torch.save` instead\", FutureWarning)\n"
     ]
    },
    {
     "name": "stdout",
     "output_type": "stream",
     "text": [
      "     50                    \u001b[36m-1.4176\u001b[0m  \u001b[32m-2.6661\u001b[0m     -72.4272        \u001b[31m0.9871\u001b[0m        \u001b[94m2.7580\u001b[0m     +  1.6982\n"
     ]
    },
    {
     "name": "stderr",
     "output_type": "stream",
     "text": [
      "/data/anaconda/envs/fastai/lib/python3.6/site-packages/torch/storage.py:34: FutureWarning: pickle support for Storage will be removed in 1.5. Use `torch.save` instead\n",
      "  warnings.warn(\"pickle support for Storage will be removed in 1.5. Use `torch.save` instead\", FutureWarning)\n"
     ]
    },
    {
     "name": "stdout",
     "output_type": "stream",
     "text": [
      "     51                    \u001b[36m-1.4175\u001b[0m  \u001b[32m-2.6658\u001b[0m     -72.4272        \u001b[31m0.9871\u001b[0m        \u001b[94m2.7578\u001b[0m     +  2.2535\n"
     ]
    },
    {
     "name": "stderr",
     "output_type": "stream",
     "text": [
      "/data/anaconda/envs/fastai/lib/python3.6/site-packages/torch/storage.py:34: FutureWarning: pickle support for Storage will be removed in 1.5. Use `torch.save` instead\n",
      "  warnings.warn(\"pickle support for Storage will be removed in 1.5. Use `torch.save` instead\", FutureWarning)\n"
     ]
    },
    {
     "name": "stdout",
     "output_type": "stream",
     "text": [
      "     52                    \u001b[36m-1.4174\u001b[0m  \u001b[32m-2.6655\u001b[0m     -72.4272        \u001b[31m0.9870\u001b[0m        \u001b[94m2.7575\u001b[0m     +  3.9817\n"
     ]
    },
    {
     "name": "stderr",
     "output_type": "stream",
     "text": [
      "/data/anaconda/envs/fastai/lib/python3.6/site-packages/torch/storage.py:34: FutureWarning: pickle support for Storage will be removed in 1.5. Use `torch.save` instead\n",
      "  warnings.warn(\"pickle support for Storage will be removed in 1.5. Use `torch.save` instead\", FutureWarning)\n"
     ]
    },
    {
     "name": "stdout",
     "output_type": "stream",
     "text": [
      "     53                    \u001b[36m-1.4173\u001b[0m  \u001b[32m-2.6651\u001b[0m     -72.4272        \u001b[31m0.9869\u001b[0m        \u001b[94m2.7572\u001b[0m     +  2.4328\n"
     ]
    },
    {
     "name": "stderr",
     "output_type": "stream",
     "text": [
      "/data/anaconda/envs/fastai/lib/python3.6/site-packages/torch/storage.py:34: FutureWarning: pickle support for Storage will be removed in 1.5. Use `torch.save` instead\n",
      "  warnings.warn(\"pickle support for Storage will be removed in 1.5. Use `torch.save` instead\", FutureWarning)\n"
     ]
    },
    {
     "name": "stdout",
     "output_type": "stream",
     "text": [
      "     54                    \u001b[36m-1.4172\u001b[0m  \u001b[32m-2.6646\u001b[0m     -72.4272        \u001b[31m0.9869\u001b[0m        \u001b[94m2.7569\u001b[0m     +  2.4199\n"
     ]
    },
    {
     "name": "stderr",
     "output_type": "stream",
     "text": [
      "/data/anaconda/envs/fastai/lib/python3.6/site-packages/torch/storage.py:34: FutureWarning: pickle support for Storage will be removed in 1.5. Use `torch.save` instead\n",
      "  warnings.warn(\"pickle support for Storage will be removed in 1.5. Use `torch.save` instead\", FutureWarning)\n"
     ]
    },
    {
     "name": "stdout",
     "output_type": "stream",
     "text": [
      "     55                    \u001b[36m-1.4170\u001b[0m  \u001b[32m-2.6641\u001b[0m     -72.4272        \u001b[31m0.9868\u001b[0m        \u001b[94m2.7564\u001b[0m     +  4.7470\n"
     ]
    },
    {
     "name": "stderr",
     "output_type": "stream",
     "text": [
      "/data/anaconda/envs/fastai/lib/python3.6/site-packages/torch/storage.py:34: FutureWarning: pickle support for Storage will be removed in 1.5. Use `torch.save` instead\n",
      "  warnings.warn(\"pickle support for Storage will be removed in 1.5. Use `torch.save` instead\", FutureWarning)\n"
     ]
    },
    {
     "name": "stdout",
     "output_type": "stream",
     "text": [
      "     56                    \u001b[36m-1.4170\u001b[0m  \u001b[32m-2.6638\u001b[0m     -72.4272        \u001b[31m0.9868\u001b[0m        \u001b[94m2.7563\u001b[0m     +  1.3881\n"
     ]
    },
    {
     "name": "stderr",
     "output_type": "stream",
     "text": [
      "/data/anaconda/envs/fastai/lib/python3.6/site-packages/torch/storage.py:34: FutureWarning: pickle support for Storage will be removed in 1.5. Use `torch.save` instead\n",
      "  warnings.warn(\"pickle support for Storage will be removed in 1.5. Use `torch.save` instead\", FutureWarning)\n"
     ]
    },
    {
     "name": "stdout",
     "output_type": "stream",
     "text": [
      "     57                    \u001b[36m-1.4168\u001b[0m  \u001b[32m-2.6633\u001b[0m     -72.4272        \u001b[31m0.9867\u001b[0m        \u001b[94m2.7559\u001b[0m     +  1.9302\n"
     ]
    },
    {
     "name": "stderr",
     "output_type": "stream",
     "text": [
      "/data/anaconda/envs/fastai/lib/python3.6/site-packages/torch/storage.py:34: FutureWarning: pickle support for Storage will be removed in 1.5. Use `torch.save` instead\n",
      "  warnings.warn(\"pickle support for Storage will be removed in 1.5. Use `torch.save` instead\", FutureWarning)\n"
     ]
    },
    {
     "name": "stdout",
     "output_type": "stream",
     "text": [
      "     58                    \u001b[36m-1.4168\u001b[0m  \u001b[32m-2.6631\u001b[0m     -72.4272        \u001b[31m0.9866\u001b[0m        \u001b[94m2.7557\u001b[0m     +  2.1748\n"
     ]
    },
    {
     "name": "stderr",
     "output_type": "stream",
     "text": [
      "/data/anaconda/envs/fastai/lib/python3.6/site-packages/torch/storage.py:34: FutureWarning: pickle support for Storage will be removed in 1.5. Use `torch.save` instead\n",
      "  warnings.warn(\"pickle support for Storage will be removed in 1.5. Use `torch.save` instead\", FutureWarning)\n"
     ]
    },
    {
     "name": "stdout",
     "output_type": "stream",
     "text": [
      "     59                    \u001b[36m-1.4167\u001b[0m  \u001b[32m-2.6629\u001b[0m     -72.4272        \u001b[31m0.9865\u001b[0m        \u001b[94m2.7556\u001b[0m     +  2.6559\n"
     ]
    },
    {
     "name": "stderr",
     "output_type": "stream",
     "text": [
      "/data/anaconda/envs/fastai/lib/python3.6/site-packages/torch/storage.py:34: FutureWarning: pickle support for Storage will be removed in 1.5. Use `torch.save` instead\n",
      "  warnings.warn(\"pickle support for Storage will be removed in 1.5. Use `torch.save` instead\", FutureWarning)\n"
     ]
    },
    {
     "name": "stdout",
     "output_type": "stream",
     "text": [
      "     60                    \u001b[36m-1.4167\u001b[0m  \u001b[32m-2.6627\u001b[0m     -72.4272        \u001b[31m0.9864\u001b[0m        \u001b[94m2.7554\u001b[0m     +  2.1090\n"
     ]
    },
    {
     "name": "stderr",
     "output_type": "stream",
     "text": [
      "/data/anaconda/envs/fastai/lib/python3.6/site-packages/torch/storage.py:34: FutureWarning: pickle support for Storage will be removed in 1.5. Use `torch.save` instead\n",
      "  warnings.warn(\"pickle support for Storage will be removed in 1.5. Use `torch.save` instead\", FutureWarning)\n"
     ]
    },
    {
     "name": "stdout",
     "output_type": "stream",
     "text": [
      "     61                    -1.4167  -2.6629     -72.4272        \u001b[31m0.9864\u001b[0m        2.7556        2.3399\n",
      "     62                    \u001b[36m-1.4165\u001b[0m  \u001b[32m-2.6621\u001b[0m     -72.4272        0.9864        \u001b[94m2.7550\u001b[0m     +  2.7474\n"
     ]
    },
    {
     "name": "stderr",
     "output_type": "stream",
     "text": [
      "/data/anaconda/envs/fastai/lib/python3.6/site-packages/torch/storage.py:34: FutureWarning: pickle support for Storage will be removed in 1.5. Use `torch.save` instead\n",
      "  warnings.warn(\"pickle support for Storage will be removed in 1.5. Use `torch.save` instead\", FutureWarning)\n"
     ]
    },
    {
     "name": "stdout",
     "output_type": "stream",
     "text": [
      "     63                    -1.4166  -2.6623     -72.4272        \u001b[31m0.9863\u001b[0m        2.7551        1.6936\n",
      "     64                    \u001b[36m-1.4164\u001b[0m  \u001b[32m-2.6616\u001b[0m     -72.4272        \u001b[31m0.9862\u001b[0m        \u001b[94m2.7546\u001b[0m     +  1.9956\n"
     ]
    },
    {
     "name": "stderr",
     "output_type": "stream",
     "text": [
      "/data/anaconda/envs/fastai/lib/python3.6/site-packages/torch/storage.py:34: FutureWarning: pickle support for Storage will be removed in 1.5. Use `torch.save` instead\n",
      "  warnings.warn(\"pickle support for Storage will be removed in 1.5. Use `torch.save` instead\", FutureWarning)\n"
     ]
    },
    {
     "name": "stdout",
     "output_type": "stream",
     "text": [
      "     65                    -1.4165  -2.6619     -72.4272        \u001b[31m0.9861\u001b[0m        2.7548        2.2053\n",
      "     66                    \u001b[36m-1.4162\u001b[0m  \u001b[32m-2.6608\u001b[0m     -72.4272        0.9861        \u001b[94m2.7540\u001b[0m     +  2.6808\n"
     ]
    },
    {
     "name": "stderr",
     "output_type": "stream",
     "text": [
      "/data/anaconda/envs/fastai/lib/python3.6/site-packages/torch/storage.py:34: FutureWarning: pickle support for Storage will be removed in 1.5. Use `torch.save` instead\n",
      "  warnings.warn(\"pickle support for Storage will be removed in 1.5. Use `torch.save` instead\", FutureWarning)\n"
     ]
    },
    {
     "name": "stdout",
     "output_type": "stream",
     "text": [
      "     67                    -1.4163  -2.6610     -72.4272        \u001b[31m0.9861\u001b[0m        2.7542        2.7784\n",
      "     68                    \u001b[36m-1.4160\u001b[0m  \u001b[32m-2.6602\u001b[0m     -72.4272        0.9861        \u001b[94m2.7535\u001b[0m     +  1.5610\n"
     ]
    },
    {
     "name": "stderr",
     "output_type": "stream",
     "text": [
      "/data/anaconda/envs/fastai/lib/python3.6/site-packages/torch/storage.py:34: FutureWarning: pickle support for Storage will be removed in 1.5. Use `torch.save` instead\n",
      "  warnings.warn(\"pickle support for Storage will be removed in 1.5. Use `torch.save` instead\", FutureWarning)\n"
     ]
    },
    {
     "name": "stdout",
     "output_type": "stream",
     "text": [
      "     69                    -1.4162  -2.6609     -72.4272        \u001b[31m0.9861\u001b[0m        2.7541        1.7769\n",
      "     70                    -1.4161  -2.6605     -72.4272        0.9861        2.7538        2.5394\n",
      "     71                    -1.4162  -2.6608     -72.4272        \u001b[31m0.9860\u001b[0m        2.7540        2.5565\n",
      "     72                    -1.4163  -2.6610     -72.4272        \u001b[31m0.9860\u001b[0m        2.7542        1.6628\n",
      "     73                    -1.4162  -2.6609     -72.4272        \u001b[31m0.9859\u001b[0m        2.7541        1.6419\n",
      "     74                    -1.4161  -2.6603     -72.4272        \u001b[31m0.9859\u001b[0m        2.7536        1.3895\n",
      "     75                    \u001b[36m-1.4158\u001b[0m  \u001b[32m-2.6592\u001b[0m     -72.4272        \u001b[31m0.9859\u001b[0m        \u001b[94m2.7528\u001b[0m     +  1.5186\n"
     ]
    },
    {
     "name": "stderr",
     "output_type": "stream",
     "text": [
      "/data/anaconda/envs/fastai/lib/python3.6/site-packages/torch/storage.py:34: FutureWarning: pickle support for Storage will be removed in 1.5. Use `torch.save` instead\n",
      "  warnings.warn(\"pickle support for Storage will be removed in 1.5. Use `torch.save` instead\", FutureWarning)\n"
     ]
    },
    {
     "name": "stdout",
     "output_type": "stream",
     "text": [
      "     76                    \u001b[36m-1.4156\u001b[0m  \u001b[32m-2.6586\u001b[0m     -72.4272        \u001b[31m0.9858\u001b[0m        \u001b[94m2.7523\u001b[0m     +  2.0870\n"
     ]
    },
    {
     "name": "stderr",
     "output_type": "stream",
     "text": [
      "/data/anaconda/envs/fastai/lib/python3.6/site-packages/torch/storage.py:34: FutureWarning: pickle support for Storage will be removed in 1.5. Use `torch.save` instead\n",
      "  warnings.warn(\"pickle support for Storage will be removed in 1.5. Use `torch.save` instead\", FutureWarning)\n"
     ]
    },
    {
     "name": "stdout",
     "output_type": "stream",
     "text": [
      "     77                    \u001b[36m-1.4156\u001b[0m  \u001b[32m-2.6583\u001b[0m     -72.4272        \u001b[31m0.9857\u001b[0m        \u001b[94m2.7521\u001b[0m     +  2.5085\n"
     ]
    },
    {
     "name": "stderr",
     "output_type": "stream",
     "text": [
      "/data/anaconda/envs/fastai/lib/python3.6/site-packages/torch/storage.py:34: FutureWarning: pickle support for Storage will be removed in 1.5. Use `torch.save` instead\n",
      "  warnings.warn(\"pickle support for Storage will be removed in 1.5. Use `torch.save` instead\", FutureWarning)\n"
     ]
    },
    {
     "name": "stdout",
     "output_type": "stream",
     "text": [
      "     78                    \u001b[36m-1.4154\u001b[0m  \u001b[32m-2.6579\u001b[0m     -72.4272        \u001b[31m0.9856\u001b[0m        \u001b[94m2.7518\u001b[0m     +  1.8368\n"
     ]
    },
    {
     "name": "stderr",
     "output_type": "stream",
     "text": [
      "/data/anaconda/envs/fastai/lib/python3.6/site-packages/torch/storage.py:34: FutureWarning: pickle support for Storage will be removed in 1.5. Use `torch.save` instead\n",
      "  warnings.warn(\"pickle support for Storage will be removed in 1.5. Use `torch.save` instead\", FutureWarning)\n"
     ]
    },
    {
     "name": "stdout",
     "output_type": "stream",
     "text": [
      "     79                    \u001b[36m-1.4154\u001b[0m  \u001b[32m-2.6577\u001b[0m     -72.4272        \u001b[31m0.9856\u001b[0m        \u001b[94m2.7516\u001b[0m     +  2.5548\n"
     ]
    },
    {
     "name": "stderr",
     "output_type": "stream",
     "text": [
      "/data/anaconda/envs/fastai/lib/python3.6/site-packages/torch/storage.py:34: FutureWarning: pickle support for Storage will be removed in 1.5. Use `torch.save` instead\n",
      "  warnings.warn(\"pickle support for Storage will be removed in 1.5. Use `torch.save` instead\", FutureWarning)\n"
     ]
    },
    {
     "name": "stdout",
     "output_type": "stream",
     "text": [
      "     80                    \u001b[36m-1.4153\u001b[0m  \u001b[32m-2.6573\u001b[0m     -72.4272        \u001b[31m0.9856\u001b[0m        \u001b[94m2.7514\u001b[0m     +  1.7549\n"
     ]
    },
    {
     "name": "stderr",
     "output_type": "stream",
     "text": [
      "/data/anaconda/envs/fastai/lib/python3.6/site-packages/torch/storage.py:34: FutureWarning: pickle support for Storage will be removed in 1.5. Use `torch.save` instead\n",
      "  warnings.warn(\"pickle support for Storage will be removed in 1.5. Use `torch.save` instead\", FutureWarning)\n"
     ]
    },
    {
     "name": "stdout",
     "output_type": "stream",
     "text": [
      "     81                    \u001b[36m-1.4153\u001b[0m  \u001b[32m-2.6571\u001b[0m     -72.4272        \u001b[31m0.9855\u001b[0m        \u001b[94m2.7512\u001b[0m     +  2.1630\n"
     ]
    },
    {
     "name": "stderr",
     "output_type": "stream",
     "text": [
      "/data/anaconda/envs/fastai/lib/python3.6/site-packages/torch/storage.py:34: FutureWarning: pickle support for Storage will be removed in 1.5. Use `torch.save` instead\n",
      "  warnings.warn(\"pickle support for Storage will be removed in 1.5. Use `torch.save` instead\", FutureWarning)\n"
     ]
    },
    {
     "name": "stdout",
     "output_type": "stream",
     "text": [
      "     82                    \u001b[36m-1.4152\u001b[0m  \u001b[32m-2.6569\u001b[0m     -72.4272        \u001b[31m0.9855\u001b[0m        \u001b[94m2.7510\u001b[0m     +  2.0554\n"
     ]
    },
    {
     "name": "stderr",
     "output_type": "stream",
     "text": [
      "/data/anaconda/envs/fastai/lib/python3.6/site-packages/torch/storage.py:34: FutureWarning: pickle support for Storage will be removed in 1.5. Use `torch.save` instead\n",
      "  warnings.warn(\"pickle support for Storage will be removed in 1.5. Use `torch.save` instead\", FutureWarning)\n"
     ]
    },
    {
     "name": "stdout",
     "output_type": "stream",
     "text": [
      "     83                    \u001b[36m-1.4151\u001b[0m  \u001b[32m-2.6566\u001b[0m     -72.4272        \u001b[31m0.9855\u001b[0m        \u001b[94m2.7508\u001b[0m     +  3.6251\n"
     ]
    },
    {
     "name": "stderr",
     "output_type": "stream",
     "text": [
      "/data/anaconda/envs/fastai/lib/python3.6/site-packages/torch/storage.py:34: FutureWarning: pickle support for Storage will be removed in 1.5. Use `torch.save` instead\n",
      "  warnings.warn(\"pickle support for Storage will be removed in 1.5. Use `torch.save` instead\", FutureWarning)\n"
     ]
    },
    {
     "name": "stdout",
     "output_type": "stream",
     "text": [
      "     84                    \u001b[36m-1.4151\u001b[0m  \u001b[32m-2.6566\u001b[0m     -72.4272        \u001b[31m0.9855\u001b[0m        \u001b[94m2.7508\u001b[0m     +  2.6379\n"
     ]
    },
    {
     "name": "stderr",
     "output_type": "stream",
     "text": [
      "/data/anaconda/envs/fastai/lib/python3.6/site-packages/torch/storage.py:34: FutureWarning: pickle support for Storage will be removed in 1.5. Use `torch.save` instead\n",
      "  warnings.warn(\"pickle support for Storage will be removed in 1.5. Use `torch.save` instead\", FutureWarning)\n"
     ]
    },
    {
     "name": "stdout",
     "output_type": "stream",
     "text": [
      "     85                    -1.4152  -2.6568     -72.4272        \u001b[31m0.9854\u001b[0m        2.7510        4.3946\n",
      "     86                    -1.4152  -2.6568     -72.4272        0.9854        2.7510        2.3207\n",
      "     87                    -1.4152  -2.6568     -72.4272        \u001b[31m0.9853\u001b[0m        2.7510        2.6428\n",
      "     88                    \u001b[36m-1.4150\u001b[0m  \u001b[32m-2.6563\u001b[0m     -72.4272        0.9854        \u001b[94m2.7506\u001b[0m     +  2.6256\n"
     ]
    },
    {
     "name": "stderr",
     "output_type": "stream",
     "text": [
      "/data/anaconda/envs/fastai/lib/python3.6/site-packages/torch/storage.py:34: FutureWarning: pickle support for Storage will be removed in 1.5. Use `torch.save` instead\n",
      "  warnings.warn(\"pickle support for Storage will be removed in 1.5. Use `torch.save` instead\", FutureWarning)\n"
     ]
    },
    {
     "name": "stdout",
     "output_type": "stream",
     "text": [
      "     89                    \u001b[36m-1.4149\u001b[0m  \u001b[32m-2.6558\u001b[0m     -72.4272        0.9854        \u001b[94m2.7503\u001b[0m     +  2.2043\n"
     ]
    },
    {
     "name": "stderr",
     "output_type": "stream",
     "text": [
      "/data/anaconda/envs/fastai/lib/python3.6/site-packages/torch/storage.py:34: FutureWarning: pickle support for Storage will be removed in 1.5. Use `torch.save` instead\n",
      "  warnings.warn(\"pickle support for Storage will be removed in 1.5. Use `torch.save` instead\", FutureWarning)\n"
     ]
    },
    {
     "name": "stdout",
     "output_type": "stream",
     "text": [
      "     90                    \u001b[36m-1.4149\u001b[0m  \u001b[32m-2.6558\u001b[0m     -72.4272        \u001b[31m0.9853\u001b[0m        \u001b[94m2.7502\u001b[0m     +  2.5618\n"
     ]
    },
    {
     "name": "stderr",
     "output_type": "stream",
     "text": [
      "/data/anaconda/envs/fastai/lib/python3.6/site-packages/torch/storage.py:34: FutureWarning: pickle support for Storage will be removed in 1.5. Use `torch.save` instead\n",
      "  warnings.warn(\"pickle support for Storage will be removed in 1.5. Use `torch.save` instead\", FutureWarning)\n"
     ]
    },
    {
     "name": "stdout",
     "output_type": "stream",
     "text": [
      "     91                    \u001b[36m-1.4147\u001b[0m  \u001b[32m-2.6549\u001b[0m     -72.4272        \u001b[31m0.9853\u001b[0m        \u001b[94m2.7496\u001b[0m     +  1.4273\n"
     ]
    },
    {
     "name": "stderr",
     "output_type": "stream",
     "text": [
      "/data/anaconda/envs/fastai/lib/python3.6/site-packages/torch/storage.py:34: FutureWarning: pickle support for Storage will be removed in 1.5. Use `torch.save` instead\n",
      "  warnings.warn(\"pickle support for Storage will be removed in 1.5. Use `torch.save` instead\", FutureWarning)\n"
     ]
    },
    {
     "name": "stdout",
     "output_type": "stream",
     "text": [
      "     92                    -1.4147  -2.6550     -72.4272        \u001b[31m0.9851\u001b[0m        2.7496        2.2877\n",
      "     93                    \u001b[36m-1.4146\u001b[0m  \u001b[32m-2.6545\u001b[0m     -72.4272        \u001b[31m0.9851\u001b[0m        \u001b[94m2.7492\u001b[0m     +  1.8204\n"
     ]
    },
    {
     "name": "stderr",
     "output_type": "stream",
     "text": [
      "/data/anaconda/envs/fastai/lib/python3.6/site-packages/torch/storage.py:34: FutureWarning: pickle support for Storage will be removed in 1.5. Use `torch.save` instead\n",
      "  warnings.warn(\"pickle support for Storage will be removed in 1.5. Use `torch.save` instead\", FutureWarning)\n"
     ]
    },
    {
     "name": "stdout",
     "output_type": "stream",
     "text": [
      "     94                    -1.4146  -2.6545     -72.4272        \u001b[31m0.9850\u001b[0m        2.7493        2.0763\n",
      "     95                    -1.4147  -2.6551     -72.4272        0.9850        2.7497        2.5243\n",
      "     96                    -1.4147  -2.6548     -72.4272        0.9851        2.7495        1.7039\n",
      "     97                    -1.4148  -2.6555     -72.4272        0.9850        2.7500        1.4954\n",
      "     98                    -1.4147  -2.6548     -72.4272        0.9851        2.7495        1.3948\n",
      "     99                    -1.4148  -2.6553     -72.4272        0.9850        2.7498        1.3811\n",
      "    100                    -1.4148  -2.6555     -72.4272        0.9850        2.7500        1.6373\n",
      "    101                    -1.4146  -2.6546     -72.4272        \u001b[31m0.9850\u001b[0m        2.7494        1.4025\n",
      "    102                    -1.4147  -2.6548     -72.4272        \u001b[31m0.9849\u001b[0m        2.7494        1.3475\n",
      "    103                    \u001b[36m-1.4144\u001b[0m  \u001b[32m-2.6538\u001b[0m     -72.4272        0.9849        \u001b[94m2.7487\u001b[0m     +  1.3899\n"
     ]
    },
    {
     "name": "stderr",
     "output_type": "stream",
     "text": [
      "/data/anaconda/envs/fastai/lib/python3.6/site-packages/torch/storage.py:34: FutureWarning: pickle support for Storage will be removed in 1.5. Use `torch.save` instead\n",
      "  warnings.warn(\"pickle support for Storage will be removed in 1.5. Use `torch.save` instead\", FutureWarning)\n"
     ]
    },
    {
     "name": "stdout",
     "output_type": "stream",
     "text": [
      "    104                    -1.4146  -2.6544     -72.4272        \u001b[31m0.9849\u001b[0m        2.7492        2.2115\n",
      "    105                    \u001b[36m-1.4143\u001b[0m  \u001b[32m-2.6536\u001b[0m     -72.4272        0.9849        \u001b[94m2.7486\u001b[0m     +  1.6588\n"
     ]
    },
    {
     "name": "stderr",
     "output_type": "stream",
     "text": [
      "/data/anaconda/envs/fastai/lib/python3.6/site-packages/torch/storage.py:34: FutureWarning: pickle support for Storage will be removed in 1.5. Use `torch.save` instead\n",
      "  warnings.warn(\"pickle support for Storage will be removed in 1.5. Use `torch.save` instead\", FutureWarning)\n"
     ]
    },
    {
     "name": "stdout",
     "output_type": "stream",
     "text": [
      "    106                    -1.4145  -2.6540     -72.4272        \u001b[31m0.9848\u001b[0m        2.7489        2.1259\n",
      "    107                    \u001b[36m-1.4142\u001b[0m  \u001b[32m-2.6532\u001b[0m     -72.4272        \u001b[31m0.9848\u001b[0m        \u001b[94m2.7483\u001b[0m     +  1.5945\n"
     ]
    },
    {
     "name": "stderr",
     "output_type": "stream",
     "text": [
      "/data/anaconda/envs/fastai/lib/python3.6/site-packages/torch/storage.py:34: FutureWarning: pickle support for Storage will be removed in 1.5. Use `torch.save` instead\n",
      "  warnings.warn(\"pickle support for Storage will be removed in 1.5. Use `torch.save` instead\", FutureWarning)\n"
     ]
    },
    {
     "name": "stdout",
     "output_type": "stream",
     "text": [
      "    108                    -1.4143  -2.6536     -72.4272        \u001b[31m0.9847\u001b[0m        2.7485        1.7166\n",
      "    109                    \u001b[36m-1.4142\u001b[0m  \u001b[32m-2.6530\u001b[0m     -72.4272        \u001b[31m0.9847\u001b[0m        \u001b[94m2.7481\u001b[0m     +  1.6695\n"
     ]
    },
    {
     "name": "stderr",
     "output_type": "stream",
     "text": [
      "/data/anaconda/envs/fastai/lib/python3.6/site-packages/torch/storage.py:34: FutureWarning: pickle support for Storage will be removed in 1.5. Use `torch.save` instead\n",
      "  warnings.warn(\"pickle support for Storage will be removed in 1.5. Use `torch.save` instead\", FutureWarning)\n"
     ]
    },
    {
     "name": "stdout",
     "output_type": "stream",
     "text": [
      "    110                    -1.4143  -2.6535     -72.4272        \u001b[31m0.9846\u001b[0m        2.7485        2.1126\n",
      "    111                    -1.4145  -2.6542     -72.4272        0.9846        2.7490        1.6199\n",
      "    112                    -1.4145  -2.6543     -72.4272        0.9847        2.7491        1.9278\n",
      "    113                    -1.4147  -2.6548     -72.4272        0.9847        2.7495        1.8952\n",
      "    114                    -1.4142  \u001b[32m-2.6530\u001b[0m     -72.4272        0.9847        \u001b[94m2.7481\u001b[0m     +  2.0225\n"
     ]
    },
    {
     "name": "stderr",
     "output_type": "stream",
     "text": [
      "/data/anaconda/envs/fastai/lib/python3.6/site-packages/torch/storage.py:34: FutureWarning: pickle support for Storage will be removed in 1.5. Use `torch.save` instead\n",
      "  warnings.warn(\"pickle support for Storage will be removed in 1.5. Use `torch.save` instead\", FutureWarning)\n"
     ]
    },
    {
     "name": "stdout",
     "output_type": "stream",
     "text": [
      "    115                    -1.4143  -2.6534     -72.4272        \u001b[31m0.9846\u001b[0m        2.7485        1.8054\n",
      "    116                    \u001b[36m-1.4141\u001b[0m  \u001b[32m-2.6527\u001b[0m     -72.4272        \u001b[31m0.9846\u001b[0m        \u001b[94m2.7479\u001b[0m     +  1.8310\n"
     ]
    },
    {
     "name": "stderr",
     "output_type": "stream",
     "text": [
      "/data/anaconda/envs/fastai/lib/python3.6/site-packages/torch/storage.py:34: FutureWarning: pickle support for Storage will be removed in 1.5. Use `torch.save` instead\n",
      "  warnings.warn(\"pickle support for Storage will be removed in 1.5. Use `torch.save` instead\", FutureWarning)\n"
     ]
    },
    {
     "name": "stdout",
     "output_type": "stream",
     "text": [
      "    117                    -1.4143  -2.6533     -72.4272        \u001b[31m0.9845\u001b[0m        2.7484        2.0450\n",
      "    118                    -1.4143  -2.6531     -72.4272        \u001b[31m0.9845\u001b[0m        2.7482        3.5667\n",
      "    119                    -1.4142  -2.6527     -72.4272        \u001b[31m0.9844\u001b[0m        2.7479        1.9427\n",
      "    120                    -1.4142  -2.6530     -72.4272        \u001b[31m0.9844\u001b[0m        2.7481        1.9545\n",
      "    121                    -1.4142  -2.6529     -72.4272        0.9844        2.7480        2.4563\n",
      "    122                    -1.4143  -2.6533     -72.4272        0.9844        2.7483        2.3862\n",
      "    123                    -1.4144  -2.6534     -72.4272        0.9844        2.7485        3.5509\n",
      "    124                    -1.4144  -2.6536     -72.4272        0.9844        2.7486        2.6284\n",
      "    125                    -1.4146  -2.6543     -72.4272        0.9844        2.7491        1.9988\n",
      "    126                    -1.4148  -2.6549     -72.4272        0.9844        2.7496        2.3097\n",
      "    127                    -1.4147  -2.6547     -72.4272        0.9844        2.7494        2.2570\n",
      "    128                    -1.4150  -2.6558     -72.4272        0.9844        2.7502        1.5501\n",
      "    129                    -1.4148  -2.6549     -72.4272        \u001b[31m0.9844\u001b[0m        2.7496        1.5111\n",
      "    130                    -1.4153  -2.6569     -72.4272        \u001b[31m0.9842\u001b[0m        2.7510        1.5454\n",
      "    131                    -1.4150  -2.6555     -72.4272        0.9843        2.7500        2.6207\n",
      "    132                    -1.4154  -2.6569     -72.4272        \u001b[31m0.9842\u001b[0m        2.7511        1.4926\n",
      "    133                    -1.4153  -2.6567     -72.4272        \u001b[31m0.9842\u001b[0m        2.7509        1.3908\n",
      "    134                    -1.4154  -2.6569     -72.4272        \u001b[31m0.9841\u001b[0m        2.7511        1.3974\n",
      "    135                    -1.4158  -2.6582     -72.4272        \u001b[31m0.9840\u001b[0m        2.7521        1.3561\n",
      "    136                    -1.4157  -2.6580     -72.4272        0.9841        2.7519        1.3465\n",
      "    137                    -1.4163  -2.6602     -72.4272        \u001b[31m0.9839\u001b[0m        2.7536        1.6966\n",
      "    138                    -1.4163  -2.6601     -72.4272        0.9841        2.7535        1.3747\n",
      "    139                    -1.4169  -2.6624     -72.4272        0.9840        2.7552        1.9392\n",
      "    140                    -1.4170  -2.6625     -72.4272        0.9840        2.7553        2.2592\n",
      "    141                    -1.4175  -2.6645     -72.5763        0.9840        2.7567        1.8818\n",
      "    142                    -1.4176  -2.6648     -72.5763        \u001b[31m0.9839\u001b[0m        2.7570        1.3668\n",
      "    143                    -1.4181  -2.6665     -72.5763        \u001b[31m0.9839\u001b[0m        2.7583        1.4060\n",
      "    144                    -1.4186  -2.6682     -72.5763        \u001b[31m0.9838\u001b[0m        2.7595        1.5125\n",
      "    145                    -1.4191  -2.6700     -72.5763        0.9838        2.7609        2.4164\n",
      "    146                    -1.4198  -2.6725     -72.5763        \u001b[31m0.9838\u001b[0m        2.7628        2.2852\n",
      "    147                    -1.4202  -2.6737     -72.5763        \u001b[31m0.9837\u001b[0m        2.7637        1.8909\n",
      "    148                    -1.4214  -2.6780     -72.7016        \u001b[31m0.9835\u001b[0m        2.7669        5.7598\n",
      "    149                    -1.4218  -2.6795     -72.7016        0.9836        2.7680        1.3805\n",
      "    150                    -1.4235  -2.6856     -72.7016        \u001b[31m0.9834\u001b[0m        2.7727        1.5130\n",
      "    151                    -1.4236  -2.6859     -72.7016        0.9835        2.7728        1.6397\n",
      "    152                    -1.4256  -2.6931     -72.7016        \u001b[31m0.9833\u001b[0m        2.7783        1.5565\n",
      "    153                    -1.4261  -2.6946     -72.7016        0.9833        2.7794        1.6709\n",
      "    154                    -1.4282  -2.7022     -72.7016        \u001b[31m0.9831\u001b[0m        2.7852        1.3639\n",
      "    155                    -1.4297  -2.7073     -72.8596        \u001b[31m0.9830\u001b[0m        2.7890        1.3728\n",
      "    156                    -1.4319  -2.7153     -72.9648        \u001b[31m0.9828\u001b[0m        2.7950        1.3768\n",
      "    157                    -1.4339  -2.7223     -72.9648        \u001b[31m0.9827\u001b[0m        2.8003        1.3289\n",
      "    158                    -1.4369  -2.7328     -72.9648        \u001b[31m0.9825\u001b[0m        2.8082        1.4340\n",
      "    159                    -1.4400  -2.7442     -72.9648        \u001b[31m0.9823\u001b[0m        2.8167        1.6104\n",
      "    160                    -1.4421  -2.7514     -72.9648        \u001b[31m0.9822\u001b[0m        2.8221        1.5183\n",
      "    161                    -1.4477  -2.7715     -73.0258        \u001b[31m0.9815\u001b[0m        2.8373        1.4136\n",
      "    162                    -1.4491  -2.7762     -73.1587        0.9818        2.8408        1.6731\n",
      "    163                    -1.4580  -2.8087     -73.2295        \u001b[31m0.9804\u001b[0m        2.8652        2.5794\n",
      "    164                    -1.4576  -2.8061     -73.2295        0.9812        2.8633        1.4549\n",
      "    165                    -1.4715  -2.8576     -73.6590        \u001b[31m0.9790\u001b[0m        2.9021        1.4073\n",
      "    166                    -1.4672  -2.8403     -73.6590        0.9804        2.8891        1.4579\n",
      "    167                    -1.4908  -2.9288     -73.8563        \u001b[31m0.9766\u001b[0m        2.9556        1.5112\n",
      "    168                    -1.4752  -2.8683     -73.7119        0.9797        2.9101        1.3879\n",
      "    169                    -1.5163  -3.0242     -74.8839        \u001b[31m0.9723\u001b[0m        3.0274        1.4554\n",
      "    170                    -1.4825  -2.8930     -73.8563        0.9791        2.9287        1.4506\n",
      "    171                    -1.5452  -3.1337     -75.5606        \u001b[31m0.9655\u001b[0m        3.1098        3.3974\n",
      "    172                    -1.4965  -2.9434     -74.0595        0.9769        2.9666        1.9017\n",
      "    173                    -1.5676  -3.2181     -76.0880        \u001b[31m0.9576\u001b[0m        3.1732        1.5544\n",
      "    174                    -1.5310  -3.0738     -75.1723        0.9689        3.0647        1.5581\n",
      "    175                    -1.5777  -3.2508     -76.2395        \u001b[31m0.9520\u001b[0m        3.1979        1.6988\n",
      "    176                    -1.5893  -3.3014     -76.5667        \u001b[31m0.9483\u001b[0m        3.2359        1.5126\n",
      "    177                    -1.5857  -3.2732     -76.5667        0.9486        3.2147        1.5393\n",
      "    178                    -1.6430  -3.5152     -78.0649        \u001b[31m0.9197\u001b[0m        3.3968        1.6002\n",
      "    179                    -1.6091  -3.3597     -77.2812        0.9374        3.2798        1.5932\n",
      "    180                    -1.6762  -3.6457     -79.9312        \u001b[31m0.8924\u001b[0m        3.4950        1.3943\n",
      "    181                    -1.6519  -3.5300     -78.9516        0.9093        3.4079        1.4215\n",
      "    182                    -1.6961  -3.7181     -80.5560        \u001b[31m0.8631\u001b[0m        3.5494        1.4432\n",
      "    183                    -1.6988  -3.7195     -80.9551        0.8633        3.5504        1.3620\n",
      "    184                    -1.7176  -3.7959     -82.4982        \u001b[31m0.8229\u001b[0m        3.6079        1.4357\n",
      "    185                    -1.7313  -3.8453     -83.4389        \u001b[31m0.8068\u001b[0m        3.6451        1.4523\n",
      "    186                    -1.7408  -3.8789     -84.1302        \u001b[31m0.7682\u001b[0m        3.6704        1.3679\n",
      "    187                    -1.7522  -3.9172     -84.3146        \u001b[31m0.7428\u001b[0m        3.6992        1.4487\n",
      "    188                    -1.7541  -3.9139     -84.3146        \u001b[31m0.7051\u001b[0m        3.6967        1.4484\n",
      "    189                    -1.7590  -3.9202     -84.6862        \u001b[31m0.6739\u001b[0m        3.7014        1.3770\n",
      "    190                    -1.7569  -3.8973     -84.6862        \u001b[31m0.6358\u001b[0m        3.6842        1.4166\n",
      "    191                    -1.7537  -3.8651     -84.6862        \u001b[31m0.6031\u001b[0m        3.6600        1.3834\n",
      "    192                    -1.7485  -3.8273     -84.6862        \u001b[31m0.5680\u001b[0m        3.6316        1.3892\n",
      "    193                    -1.7406  -3.7754     -84.6862        \u001b[31m0.5370\u001b[0m        3.5925        1.3736\n",
      "    194                    -1.7309  -3.7167     -84.6862        \u001b[31m0.5072\u001b[0m        3.5484        2.1651\n",
      "    195                    -1.7204  -3.6547     -84.6862        \u001b[31m0.4802\u001b[0m        3.5017        1.3659\n"
     ]
    },
    {
     "name": "stdout",
     "output_type": "stream",
     "text": [
      "    196                    -1.7096  -3.5935     -84.4946        \u001b[31m0.4548\u001b[0m        3.4556        1.3765\n",
      "    197                    -1.6979  -3.5284     -84.4946        \u001b[31m0.4329\u001b[0m        3.4067        1.3469\n",
      "    198                    -1.6861  -3.4651     -84.4946        \u001b[31m0.4123\u001b[0m        3.3591        1.3826\n",
      "    199                    -1.6727  -3.3946     -84.4946        \u001b[31m0.3947\u001b[0m        3.3060        1.3370\n",
      "    200                    -1.6601  -3.3298     -84.3102        \u001b[31m0.3779\u001b[0m        3.2573        1.6413\n",
      "    201                    -1.6457  -3.2569     -84.3102        \u001b[31m0.3636\u001b[0m        3.2025        2.3480\n",
      "    202                    -1.6330  -3.1936     -84.3102        \u001b[31m0.3501\u001b[0m        3.1548        1.9534\n",
      "    203                    -1.6189  -3.1246     -84.3102        \u001b[31m0.3388\u001b[0m        3.1029        1.6450\n",
      "    204                    -1.6071  -3.0676     -84.1750        \u001b[31m0.3285\u001b[0m        3.0601        1.5266\n",
      "    205                    -1.5942  -3.0064     -84.1750        \u001b[31m0.3200\u001b[0m        3.0140        1.9150\n",
      "    206                    -1.5844  -2.9602     -84.0441        \u001b[31m0.3125\u001b[0m        2.9792        2.3045\n",
      "    207                    -1.5732  -2.9083     -83.9093        \u001b[31m0.3065\u001b[0m        2.9402        2.0594\n",
      "    208                    -1.5651  -2.8712     -83.5566        \u001b[31m0.3011\u001b[0m        2.9123        1.8437\n",
      "    209                    -1.5554  -2.8268     -83.3801        \u001b[31m0.2970\u001b[0m        2.8789        1.6694\n",
      "    210                    -1.5488  -2.7971     -83.3801        \u001b[31m0.2931\u001b[0m        2.8565        2.0494\n",
      "    211                    -1.5405  -2.7597     -83.0725        \u001b[31m0.2902\u001b[0m        2.8284        2.5620\n",
      "    212                    -1.5351  -2.7362     -82.7754        \u001b[31m0.2874\u001b[0m        2.8107        3.9464\n",
      "    213                    -1.5280  -2.7044     -82.6652        \u001b[31m0.2854\u001b[0m        2.7868        2.2945\n",
      "    214                    -1.5225  -2.6803     -82.4872        \u001b[31m0.2831\u001b[0m        2.7687        2.6968\n",
      "    215                    -1.5156  \u001b[32m-2.6500\u001b[0m     -82.4872        \u001b[31m0.2812\u001b[0m        \u001b[94m2.7459\u001b[0m     +  1.9972\n"
     ]
    },
    {
     "name": "stderr",
     "output_type": "stream",
     "text": [
      "/data/anaconda/envs/fastai/lib/python3.6/site-packages/torch/storage.py:34: FutureWarning: pickle support for Storage will be removed in 1.5. Use `torch.save` instead\n",
      "  warnings.warn(\"pickle support for Storage will be removed in 1.5. Use `torch.save` instead\", FutureWarning)\n"
     ]
    },
    {
     "name": "stdout",
     "output_type": "stream",
     "text": [
      "    216                    -1.5116  \u001b[32m-2.6328\u001b[0m     -82.4872        \u001b[31m0.2792\u001b[0m        \u001b[94m2.7330\u001b[0m     +  1.7556\n"
     ]
    },
    {
     "name": "stderr",
     "output_type": "stream",
     "text": [
      "/data/anaconda/envs/fastai/lib/python3.6/site-packages/torch/storage.py:34: FutureWarning: pickle support for Storage will be removed in 1.5. Use `torch.save` instead\n",
      "  warnings.warn(\"pickle support for Storage will be removed in 1.5. Use `torch.save` instead\", FutureWarning)\n"
     ]
    },
    {
     "name": "stdout",
     "output_type": "stream",
     "text": [
      "    217                    -1.5043  \u001b[32m-2.6004\u001b[0m     -82.1610        \u001b[31m0.2775\u001b[0m        \u001b[94m2.7085\u001b[0m     +  2.0970\n"
     ]
    },
    {
     "name": "stderr",
     "output_type": "stream",
     "text": [
      "/data/anaconda/envs/fastai/lib/python3.6/site-packages/torch/storage.py:34: FutureWarning: pickle support for Storage will be removed in 1.5. Use `torch.save` instead\n",
      "  warnings.warn(\"pickle support for Storage will be removed in 1.5. Use `torch.save` instead\", FutureWarning)\n"
     ]
    },
    {
     "name": "stdout",
     "output_type": "stream",
     "text": [
      "    218                    -1.4990  \u001b[32m-2.5778\u001b[0m     -81.9848        \u001b[31m0.2754\u001b[0m        \u001b[94m2.6915\u001b[0m     +  3.0284\n"
     ]
    },
    {
     "name": "stderr",
     "output_type": "stream",
     "text": [
      "/data/anaconda/envs/fastai/lib/python3.6/site-packages/torch/storage.py:34: FutureWarning: pickle support for Storage will be removed in 1.5. Use `torch.save` instead\n",
      "  warnings.warn(\"pickle support for Storage will be removed in 1.5. Use `torch.save` instead\", FutureWarning)\n"
     ]
    },
    {
     "name": "stdout",
     "output_type": "stream",
     "text": [
      "    219                    -1.4921  \u001b[32m-2.5472\u001b[0m     -81.5292        \u001b[31m0.2734\u001b[0m        \u001b[94m2.6686\u001b[0m     +  1.4654\n"
     ]
    },
    {
     "name": "stderr",
     "output_type": "stream",
     "text": [
      "/data/anaconda/envs/fastai/lib/python3.6/site-packages/torch/storage.py:34: FutureWarning: pickle support for Storage will be removed in 1.5. Use `torch.save` instead\n",
      "  warnings.warn(\"pickle support for Storage will be removed in 1.5. Use `torch.save` instead\", FutureWarning)\n"
     ]
    },
    {
     "name": "stdout",
     "output_type": "stream",
     "text": [
      "    220                    -1.4857  \u001b[32m-2.5204\u001b[0m     -81.1945        \u001b[31m0.2714\u001b[0m        \u001b[94m2.6484\u001b[0m     +  1.3931\n"
     ]
    },
    {
     "name": "stderr",
     "output_type": "stream",
     "text": [
      "/data/anaconda/envs/fastai/lib/python3.6/site-packages/torch/storage.py:34: FutureWarning: pickle support for Storage will be removed in 1.5. Use `torch.save` instead\n",
      "  warnings.warn(\"pickle support for Storage will be removed in 1.5. Use `torch.save` instead\", FutureWarning)\n"
     ]
    },
    {
     "name": "stdout",
     "output_type": "stream",
     "text": [
      "    221                    -1.4795  \u001b[32m-2.4934\u001b[0m     -80.8537        \u001b[31m0.2695\u001b[0m        \u001b[94m2.6281\u001b[0m     +  2.3170\n"
     ]
    },
    {
     "name": "stderr",
     "output_type": "stream",
     "text": [
      "/data/anaconda/envs/fastai/lib/python3.6/site-packages/torch/storage.py:34: FutureWarning: pickle support for Storage will be removed in 1.5. Use `torch.save` instead\n",
      "  warnings.warn(\"pickle support for Storage will be removed in 1.5. Use `torch.save` instead\", FutureWarning)\n"
     ]
    },
    {
     "name": "stdout",
     "output_type": "stream",
     "text": [
      "    222                    -1.4739  \u001b[32m-2.4701\u001b[0m     -80.5537        \u001b[31m0.2678\u001b[0m        \u001b[94m2.6105\u001b[0m     +  1.6747\n"
     ]
    },
    {
     "name": "stderr",
     "output_type": "stream",
     "text": [
      "/data/anaconda/envs/fastai/lib/python3.6/site-packages/torch/storage.py:34: FutureWarning: pickle support for Storage will be removed in 1.5. Use `torch.save` instead\n",
      "  warnings.warn(\"pickle support for Storage will be removed in 1.5. Use `torch.save` instead\", FutureWarning)\n"
     ]
    },
    {
     "name": "stdout",
     "output_type": "stream",
     "text": [
      "    223                    -1.4670  \u001b[32m-2.4407\u001b[0m     -80.5537        \u001b[31m0.2663\u001b[0m        \u001b[94m2.5884\u001b[0m     +  2.6527\n"
     ]
    },
    {
     "name": "stderr",
     "output_type": "stream",
     "text": [
      "/data/anaconda/envs/fastai/lib/python3.6/site-packages/torch/storage.py:34: FutureWarning: pickle support for Storage will be removed in 1.5. Use `torch.save` instead\n",
      "  warnings.warn(\"pickle support for Storage will be removed in 1.5. Use `torch.save` instead\", FutureWarning)\n"
     ]
    },
    {
     "name": "stdout",
     "output_type": "stream",
     "text": [
      "    224                    -1.4617  \u001b[32m-2.4187\u001b[0m     -80.3976        \u001b[31m0.2647\u001b[0m        \u001b[94m2.5719\u001b[0m     +  2.1238\n"
     ]
    },
    {
     "name": "stderr",
     "output_type": "stream",
     "text": [
      "/data/anaconda/envs/fastai/lib/python3.6/site-packages/torch/storage.py:34: FutureWarning: pickle support for Storage will be removed in 1.5. Use `torch.save` instead\n",
      "  warnings.warn(\"pickle support for Storage will be removed in 1.5. Use `torch.save` instead\", FutureWarning)\n"
     ]
    },
    {
     "name": "stdout",
     "output_type": "stream",
     "text": [
      "    225                    -1.4553  \u001b[32m-2.3921\u001b[0m     -80.2715        \u001b[31m0.2633\u001b[0m        \u001b[94m2.5519\u001b[0m     +  3.2953\n"
     ]
    },
    {
     "name": "stderr",
     "output_type": "stream",
     "text": [
      "/data/anaconda/envs/fastai/lib/python3.6/site-packages/torch/storage.py:34: FutureWarning: pickle support for Storage will be removed in 1.5. Use `torch.save` instead\n",
      "  warnings.warn(\"pickle support for Storage will be removed in 1.5. Use `torch.save` instead\", FutureWarning)\n"
     ]
    },
    {
     "name": "stdout",
     "output_type": "stream",
     "text": [
      "    226                    -1.4506  \u001b[32m-2.3724\u001b[0m     -80.2715        \u001b[31m0.2619\u001b[0m        \u001b[94m2.5370\u001b[0m     +  2.5396\n"
     ]
    },
    {
     "name": "stderr",
     "output_type": "stream",
     "text": [
      "/data/anaconda/envs/fastai/lib/python3.6/site-packages/torch/storage.py:34: FutureWarning: pickle support for Storage will be removed in 1.5. Use `torch.save` instead\n",
      "  warnings.warn(\"pickle support for Storage will be removed in 1.5. Use `torch.save` instead\", FutureWarning)\n"
     ]
    },
    {
     "name": "stdout",
     "output_type": "stream",
     "text": [
      "    227                    -1.4449  \u001b[32m-2.3489\u001b[0m     -80.2715        \u001b[31m0.2606\u001b[0m        \u001b[94m2.5194\u001b[0m     +  2.5350\n"
     ]
    },
    {
     "name": "stderr",
     "output_type": "stream",
     "text": [
      "/data/anaconda/envs/fastai/lib/python3.6/site-packages/torch/storage.py:34: FutureWarning: pickle support for Storage will be removed in 1.5. Use `torch.save` instead\n",
      "  warnings.warn(\"pickle support for Storage will be removed in 1.5. Use `torch.save` instead\", FutureWarning)\n"
     ]
    },
    {
     "name": "stdout",
     "output_type": "stream",
     "text": [
      "    228                    -1.4392  \u001b[32m-2.3248\u001b[0m     -80.2715        \u001b[31m0.2589\u001b[0m        \u001b[94m2.5012\u001b[0m     +  2.4368\n"
     ]
    },
    {
     "name": "stderr",
     "output_type": "stream",
     "text": [
      "/data/anaconda/envs/fastai/lib/python3.6/site-packages/torch/storage.py:34: FutureWarning: pickle support for Storage will be removed in 1.5. Use `torch.save` instead\n",
      "  warnings.warn(\"pickle support for Storage will be removed in 1.5. Use `torch.save` instead\", FutureWarning)\n"
     ]
    },
    {
     "name": "stdout",
     "output_type": "stream",
     "text": [
      "    229                    -1.4330  \u001b[32m-2.2992\u001b[0m     -80.1612        \u001b[31m0.2573\u001b[0m        \u001b[94m2.4820\u001b[0m     +  2.4096\n"
     ]
    },
    {
     "name": "stderr",
     "output_type": "stream",
     "text": [
      "/data/anaconda/envs/fastai/lib/python3.6/site-packages/torch/storage.py:34: FutureWarning: pickle support for Storage will be removed in 1.5. Use `torch.save` instead\n",
      "  warnings.warn(\"pickle support for Storage will be removed in 1.5. Use `torch.save` instead\", FutureWarning)\n"
     ]
    },
    {
     "name": "stdout",
     "output_type": "stream",
     "text": [
      "    230                    -1.4262  \u001b[32m-2.2711\u001b[0m     -79.8821        \u001b[31m0.2555\u001b[0m        \u001b[94m2.4608\u001b[0m     +  1.7265\n"
     ]
    },
    {
     "name": "stderr",
     "output_type": "stream",
     "text": [
      "/data/anaconda/envs/fastai/lib/python3.6/site-packages/torch/storage.py:34: FutureWarning: pickle support for Storage will be removed in 1.5. Use `torch.save` instead\n",
      "  warnings.warn(\"pickle support for Storage will be removed in 1.5. Use `torch.save` instead\", FutureWarning)\n"
     ]
    },
    {
     "name": "stdout",
     "output_type": "stream",
     "text": [
      "    231                    -1.4191  \u001b[32m-2.2429\u001b[0m     -79.5549        \u001b[31m0.2538\u001b[0m        \u001b[94m2.4396\u001b[0m     +  2.2645\n"
     ]
    },
    {
     "name": "stderr",
     "output_type": "stream",
     "text": [
      "/data/anaconda/envs/fastai/lib/python3.6/site-packages/torch/storage.py:34: FutureWarning: pickle support for Storage will be removed in 1.5. Use `torch.save` instead\n",
      "  warnings.warn(\"pickle support for Storage will be removed in 1.5. Use `torch.save` instead\", FutureWarning)\n"
     ]
    },
    {
     "name": "stdout",
     "output_type": "stream",
     "text": [
      "    232                    \u001b[36m-1.4139\u001b[0m  \u001b[32m-2.2214\u001b[0m     -79.5549        \u001b[31m0.2522\u001b[0m        \u001b[94m2.4234\u001b[0m     +  1.9106\n"
     ]
    },
    {
     "name": "stderr",
     "output_type": "stream",
     "text": [
      "/data/anaconda/envs/fastai/lib/python3.6/site-packages/torch/storage.py:34: FutureWarning: pickle support for Storage will be removed in 1.5. Use `torch.save` instead\n",
      "  warnings.warn(\"pickle support for Storage will be removed in 1.5. Use `torch.save` instead\", FutureWarning)\n"
     ]
    },
    {
     "name": "stdout",
     "output_type": "stream",
     "text": [
      "    233                    \u001b[36m-1.4072\u001b[0m  \u001b[32m-2.1946\u001b[0m     -79.5549        \u001b[31m0.2507\u001b[0m        \u001b[94m2.4033\u001b[0m     +  2.4214\n"
     ]
    },
    {
     "name": "stderr",
     "output_type": "stream",
     "text": [
      "/data/anaconda/envs/fastai/lib/python3.6/site-packages/torch/storage.py:34: FutureWarning: pickle support for Storage will be removed in 1.5. Use `torch.save` instead\n",
      "  warnings.warn(\"pickle support for Storage will be removed in 1.5. Use `torch.save` instead\", FutureWarning)\n"
     ]
    },
    {
     "name": "stdout",
     "output_type": "stream",
     "text": [
      "    234                    \u001b[36m-1.4021\u001b[0m  \u001b[32m-2.1741\u001b[0m     -79.3812        \u001b[31m0.2492\u001b[0m        \u001b[94m2.3878\u001b[0m     +  2.4487\n"
     ]
    },
    {
     "name": "stderr",
     "output_type": "stream",
     "text": [
      "/data/anaconda/envs/fastai/lib/python3.6/site-packages/torch/storage.py:34: FutureWarning: pickle support for Storage will be removed in 1.5. Use `torch.save` instead\n",
      "  warnings.warn(\"pickle support for Storage will be removed in 1.5. Use `torch.save` instead\", FutureWarning)\n"
     ]
    },
    {
     "name": "stdout",
     "output_type": "stream",
     "text": [
      "    235                    \u001b[36m-1.3937\u001b[0m  \u001b[32m-2.1408\u001b[0m     -79.0004        \u001b[31m0.2478\u001b[0m        \u001b[94m2.3628\u001b[0m     +  2.3148\n"
     ]
    },
    {
     "name": "stderr",
     "output_type": "stream",
     "text": [
      "/data/anaconda/envs/fastai/lib/python3.6/site-packages/torch/storage.py:34: FutureWarning: pickle support for Storage will be removed in 1.5. Use `torch.save` instead\n",
      "  warnings.warn(\"pickle support for Storage will be removed in 1.5. Use `torch.save` instead\", FutureWarning)\n"
     ]
    },
    {
     "name": "stdout",
     "output_type": "stream",
     "text": [
      "    236                    \u001b[36m-1.3881\u001b[0m  \u001b[32m-2.1187\u001b[0m     -78.6250        \u001b[31m0.2461\u001b[0m        \u001b[94m2.3462\u001b[0m     +  2.2553\n"
     ]
    },
    {
     "name": "stderr",
     "output_type": "stream",
     "text": [
      "/data/anaconda/envs/fastai/lib/python3.6/site-packages/torch/storage.py:34: FutureWarning: pickle support for Storage will be removed in 1.5. Use `torch.save` instead\n",
      "  warnings.warn(\"pickle support for Storage will be removed in 1.5. Use `torch.save` instead\", FutureWarning)\n"
     ]
    },
    {
     "name": "stdout",
     "output_type": "stream",
     "text": [
      "    237                    \u001b[36m-1.3824\u001b[0m  \u001b[32m-2.0966\u001b[0m     -78.3944        \u001b[31m0.2449\u001b[0m        \u001b[94m2.3295\u001b[0m     +  1.5976\n"
     ]
    },
    {
     "name": "stderr",
     "output_type": "stream",
     "text": [
      "/data/anaconda/envs/fastai/lib/python3.6/site-packages/torch/storage.py:34: FutureWarning: pickle support for Storage will be removed in 1.5. Use `torch.save` instead\n",
      "  warnings.warn(\"pickle support for Storage will be removed in 1.5. Use `torch.save` instead\", FutureWarning)\n"
     ]
    },
    {
     "name": "stdout",
     "output_type": "stream",
     "text": [
      "    238                    \u001b[36m-1.3767\u001b[0m  \u001b[32m-2.0738\u001b[0m     -78.2411        \u001b[31m0.2435\u001b[0m        \u001b[94m2.3124\u001b[0m     +  1.9297\n"
     ]
    },
    {
     "name": "stderr",
     "output_type": "stream",
     "text": [
      "/data/anaconda/envs/fastai/lib/python3.6/site-packages/torch/storage.py:34: FutureWarning: pickle support for Storage will be removed in 1.5. Use `torch.save` instead\n",
      "  warnings.warn(\"pickle support for Storage will be removed in 1.5. Use `torch.save` instead\", FutureWarning)\n"
     ]
    },
    {
     "name": "stdout",
     "output_type": "stream",
     "text": [
      "    239                    \u001b[36m-1.3715\u001b[0m  \u001b[32m-2.0536\u001b[0m     -78.1163        \u001b[31m0.2422\u001b[0m        \u001b[94m2.2972\u001b[0m     +  2.0812\n"
     ]
    },
    {
     "name": "stderr",
     "output_type": "stream",
     "text": [
      "/data/anaconda/envs/fastai/lib/python3.6/site-packages/torch/storage.py:34: FutureWarning: pickle support for Storage will be removed in 1.5. Use `torch.save` instead\n",
      "  warnings.warn(\"pickle support for Storage will be removed in 1.5. Use `torch.save` instead\", FutureWarning)\n"
     ]
    },
    {
     "name": "stdout",
     "output_type": "stream",
     "text": [
      "    240                    \u001b[36m-1.3642\u001b[0m  \u001b[32m-2.0250\u001b[0m     -78.0274        \u001b[31m0.2405\u001b[0m        \u001b[94m2.2757\u001b[0m     +  2.1619\n"
     ]
    },
    {
     "name": "stderr",
     "output_type": "stream",
     "text": [
      "/data/anaconda/envs/fastai/lib/python3.6/site-packages/torch/storage.py:34: FutureWarning: pickle support for Storage will be removed in 1.5. Use `torch.save` instead\n",
      "  warnings.warn(\"pickle support for Storage will be removed in 1.5. Use `torch.save` instead\", FutureWarning)\n"
     ]
    },
    {
     "name": "stdout",
     "output_type": "stream",
     "text": [
      "    241                    \u001b[36m-1.3595\u001b[0m  \u001b[32m-2.0067\u001b[0m     -78.0274        \u001b[31m0.2389\u001b[0m        \u001b[94m2.2619\u001b[0m     +  2.1102\n"
     ]
    },
    {
     "name": "stderr",
     "output_type": "stream",
     "text": [
      "/data/anaconda/envs/fastai/lib/python3.6/site-packages/torch/storage.py:34: FutureWarning: pickle support for Storage will be removed in 1.5. Use `torch.save` instead\n",
      "  warnings.warn(\"pickle support for Storage will be removed in 1.5. Use `torch.save` instead\", FutureWarning)\n"
     ]
    },
    {
     "name": "stdout",
     "output_type": "stream",
     "text": [
      "    242                    \u001b[36m-1.3498\u001b[0m  \u001b[32m-1.9692\u001b[0m     -77.8907        \u001b[31m0.2370\u001b[0m        \u001b[94m2.2337\u001b[0m     +  2.0124\n"
     ]
    },
    {
     "name": "stderr",
     "output_type": "stream",
     "text": [
      "/data/anaconda/envs/fastai/lib/python3.6/site-packages/torch/storage.py:34: FutureWarning: pickle support for Storage will be removed in 1.5. Use `torch.save` instead\n",
      "  warnings.warn(\"pickle support for Storage will be removed in 1.5. Use `torch.save` instead\", FutureWarning)\n"
     ]
    },
    {
     "name": "stdout",
     "output_type": "stream",
     "text": [
      "    243                    \u001b[36m-1.3457\u001b[0m  \u001b[32m-1.9539\u001b[0m     -77.7152        \u001b[31m0.2351\u001b[0m        \u001b[94m2.2222\u001b[0m     +  4.3283\n"
     ]
    },
    {
     "name": "stderr",
     "output_type": "stream",
     "text": [
      "/data/anaconda/envs/fastai/lib/python3.6/site-packages/torch/storage.py:34: FutureWarning: pickle support for Storage will be removed in 1.5. Use `torch.save` instead\n",
      "  warnings.warn(\"pickle support for Storage will be removed in 1.5. Use `torch.save` instead\", FutureWarning)\n"
     ]
    },
    {
     "name": "stdout",
     "output_type": "stream",
     "text": [
      "    244                    \u001b[36m-1.3357\u001b[0m  \u001b[32m-1.9154\u001b[0m     -77.5645        \u001b[31m0.2333\u001b[0m        \u001b[94m2.1933\u001b[0m     +  2.2334\n"
     ]
    },
    {
     "name": "stderr",
     "output_type": "stream",
     "text": [
      "/data/anaconda/envs/fastai/lib/python3.6/site-packages/torch/storage.py:34: FutureWarning: pickle support for Storage will be removed in 1.5. Use `torch.save` instead\n",
      "  warnings.warn(\"pickle support for Storage will be removed in 1.5. Use `torch.save` instead\", FutureWarning)\n"
     ]
    },
    {
     "name": "stdout",
     "output_type": "stream",
     "text": [
      "    245                    \u001b[36m-1.3346\u001b[0m  \u001b[32m-1.9114\u001b[0m     -77.3221        \u001b[31m0.2319\u001b[0m        \u001b[94m2.1902\u001b[0m     +  1.8733\n"
     ]
    },
    {
     "name": "stderr",
     "output_type": "stream",
     "text": [
      "/data/anaconda/envs/fastai/lib/python3.6/site-packages/torch/storage.py:34: FutureWarning: pickle support for Storage will be removed in 1.5. Use `torch.save` instead\n",
      "  warnings.warn(\"pickle support for Storage will be removed in 1.5. Use `torch.save` instead\", FutureWarning)\n"
     ]
    },
    {
     "name": "stdout",
     "output_type": "stream",
     "text": [
      "    246                    \u001b[36m-1.3228\u001b[0m  \u001b[32m-1.8665\u001b[0m     -77.2457        \u001b[31m0.2302\u001b[0m        \u001b[94m2.1564\u001b[0m     +  1.8851\n"
     ]
    },
    {
     "name": "stderr",
     "output_type": "stream",
     "text": [
      "/data/anaconda/envs/fastai/lib/python3.6/site-packages/torch/storage.py:34: FutureWarning: pickle support for Storage will be removed in 1.5. Use `torch.save` instead\n",
      "  warnings.warn(\"pickle support for Storage will be removed in 1.5. Use `torch.save` instead\", FutureWarning)\n"
     ]
    },
    {
     "name": "stdout",
     "output_type": "stream",
     "text": [
      "    247                    \u001b[36m-1.3200\u001b[0m  \u001b[32m-1.8565\u001b[0m     -77.2457        \u001b[31m0.2283\u001b[0m        \u001b[94m2.1489\u001b[0m     +  2.2320\n"
     ]
    },
    {
     "name": "stderr",
     "output_type": "stream",
     "text": [
      "/data/anaconda/envs/fastai/lib/python3.6/site-packages/torch/storage.py:34: FutureWarning: pickle support for Storage will be removed in 1.5. Use `torch.save` instead\n",
      "  warnings.warn(\"pickle support for Storage will be removed in 1.5. Use `torch.save` instead\", FutureWarning)\n"
     ]
    },
    {
     "name": "stdout",
     "output_type": "stream",
     "text": [
      "    248                    \u001b[36m-1.3083\u001b[0m  \u001b[32m-1.8131\u001b[0m     -77.1963        \u001b[31m0.2264\u001b[0m        \u001b[94m2.1162\u001b[0m     +  2.0517\n"
     ]
    },
    {
     "name": "stderr",
     "output_type": "stream",
     "text": [
      "/data/anaconda/envs/fastai/lib/python3.6/site-packages/torch/storage.py:34: FutureWarning: pickle support for Storage will be removed in 1.5. Use `torch.save` instead\n",
      "  warnings.warn(\"pickle support for Storage will be removed in 1.5. Use `torch.save` instead\", FutureWarning)\n"
     ]
    },
    {
     "name": "stdout",
     "output_type": "stream",
     "text": [
      "    249                    \u001b[36m-1.3062\u001b[0m  \u001b[32m-1.8055\u001b[0m     -77.1963        \u001b[31m0.2248\u001b[0m        \u001b[94m2.1106\u001b[0m     +  2.1600\n"
     ]
    },
    {
     "name": "stderr",
     "output_type": "stream",
     "text": [
      "/data/anaconda/envs/fastai/lib/python3.6/site-packages/torch/storage.py:34: FutureWarning: pickle support for Storage will be removed in 1.5. Use `torch.save` instead\n",
      "  warnings.warn(\"pickle support for Storage will be removed in 1.5. Use `torch.save` instead\", FutureWarning)\n"
     ]
    },
    {
     "name": "stdout",
     "output_type": "stream",
     "text": [
      "    250                    \u001b[36m-1.2945\u001b[0m  \u001b[32m-1.7627\u001b[0m     -77.1963        \u001b[31m0.2232\u001b[0m        \u001b[94m2.0783\u001b[0m     +  2.1632\n"
     ]
    },
    {
     "name": "stderr",
     "output_type": "stream",
     "text": [
      "/data/anaconda/envs/fastai/lib/python3.6/site-packages/torch/storage.py:34: FutureWarning: pickle support for Storage will be removed in 1.5. Use `torch.save` instead\n",
      "  warnings.warn(\"pickle support for Storage will be removed in 1.5. Use `torch.save` instead\", FutureWarning)\n"
     ]
    },
    {
     "name": "stdout",
     "output_type": "stream",
     "text": [
      "    251                    \u001b[36m-1.2935\u001b[0m  \u001b[32m-1.7591\u001b[0m     -77.1963        \u001b[31m0.2217\u001b[0m        \u001b[94m2.0757\u001b[0m     +  3.7433\n"
     ]
    },
    {
     "name": "stderr",
     "output_type": "stream",
     "text": [
      "/data/anaconda/envs/fastai/lib/python3.6/site-packages/torch/storage.py:34: FutureWarning: pickle support for Storage will be removed in 1.5. Use `torch.save` instead\n",
      "  warnings.warn(\"pickle support for Storage will be removed in 1.5. Use `torch.save` instead\", FutureWarning)\n"
     ]
    },
    {
     "name": "stdout",
     "output_type": "stream",
     "text": [
      "    252                    \u001b[36m-1.2818\u001b[0m  \u001b[32m-1.7168\u001b[0m     -77.1963        \u001b[31m0.2200\u001b[0m        \u001b[94m2.0438\u001b[0m     +  2.1666\n"
     ]
    },
    {
     "name": "stderr",
     "output_type": "stream",
     "text": [
      "/data/anaconda/envs/fastai/lib/python3.6/site-packages/torch/storage.py:34: FutureWarning: pickle support for Storage will be removed in 1.5. Use `torch.save` instead\n",
      "  warnings.warn(\"pickle support for Storage will be removed in 1.5. Use `torch.save` instead\", FutureWarning)\n"
     ]
    },
    {
     "name": "stdout",
     "output_type": "stream",
     "text": [
      "    253                    \u001b[36m-1.2809\u001b[0m  \u001b[32m-1.7134\u001b[0m     -77.1963        \u001b[31m0.2185\u001b[0m        \u001b[94m2.0413\u001b[0m     +  2.0207\n"
     ]
    },
    {
     "name": "stderr",
     "output_type": "stream",
     "text": [
      "/data/anaconda/envs/fastai/lib/python3.6/site-packages/torch/storage.py:34: FutureWarning: pickle support for Storage will be removed in 1.5. Use `torch.save` instead\n",
      "  warnings.warn(\"pickle support for Storage will be removed in 1.5. Use `torch.save` instead\", FutureWarning)\n"
     ]
    },
    {
     "name": "stdout",
     "output_type": "stream",
     "text": [
      "    254                    \u001b[36m-1.2684\u001b[0m  \u001b[32m-1.6684\u001b[0m     -76.9856        \u001b[31m0.2164\u001b[0m        \u001b[94m2.0074\u001b[0m     +  4.0437\n"
     ]
    },
    {
     "name": "stderr",
     "output_type": "stream",
     "text": [
      "/data/anaconda/envs/fastai/lib/python3.6/site-packages/torch/storage.py:34: FutureWarning: pickle support for Storage will be removed in 1.5. Use `torch.save` instead\n",
      "  warnings.warn(\"pickle support for Storage will be removed in 1.5. Use `torch.save` instead\", FutureWarning)\n"
     ]
    },
    {
     "name": "stdout",
     "output_type": "stream",
     "text": [
      "    255                    \u001b[36m-1.2681\u001b[0m  \u001b[32m-1.6672\u001b[0m     -76.9856        \u001b[31m0.2147\u001b[0m        \u001b[94m2.0066\u001b[0m     +  2.4738\n"
     ]
    },
    {
     "name": "stderr",
     "output_type": "stream",
     "text": [
      "/data/anaconda/envs/fastai/lib/python3.6/site-packages/torch/storage.py:34: FutureWarning: pickle support for Storage will be removed in 1.5. Use `torch.save` instead\n",
      "  warnings.warn(\"pickle support for Storage will be removed in 1.5. Use `torch.save` instead\", FutureWarning)\n"
     ]
    },
    {
     "name": "stdout",
     "output_type": "stream",
     "text": [
      "    256                    \u001b[36m-1.2551\u001b[0m  \u001b[32m-1.6212\u001b[0m     -76.8649        \u001b[31m0.2125\u001b[0m        \u001b[94m1.9719\u001b[0m     +  2.1799\n"
     ]
    },
    {
     "name": "stderr",
     "output_type": "stream",
     "text": [
      "/data/anaconda/envs/fastai/lib/python3.6/site-packages/torch/storage.py:34: FutureWarning: pickle support for Storage will be removed in 1.5. Use `torch.save` instead\n",
      "  warnings.warn(\"pickle support for Storage will be removed in 1.5. Use `torch.save` instead\", FutureWarning)\n"
     ]
    },
    {
     "name": "stdout",
     "output_type": "stream",
     "text": [
      "    257                    \u001b[36m-1.2537\u001b[0m  \u001b[32m-1.6162\u001b[0m     -76.8649        \u001b[31m0.2105\u001b[0m        \u001b[94m1.9681\u001b[0m     +  1.5500\n"
     ]
    },
    {
     "name": "stderr",
     "output_type": "stream",
     "text": [
      "/data/anaconda/envs/fastai/lib/python3.6/site-packages/torch/storage.py:34: FutureWarning: pickle support for Storage will be removed in 1.5. Use `torch.save` instead\n",
      "  warnings.warn(\"pickle support for Storage will be removed in 1.5. Use `torch.save` instead\", FutureWarning)\n"
     ]
    },
    {
     "name": "stdout",
     "output_type": "stream",
     "text": [
      "    258                    \u001b[36m-1.2405\u001b[0m  \u001b[32m-1.5697\u001b[0m     -76.4510        \u001b[31m0.2082\u001b[0m        \u001b[94m1.9332\u001b[0m     +  1.8704\n"
     ]
    },
    {
     "name": "stderr",
     "output_type": "stream",
     "text": [
      "/data/anaconda/envs/fastai/lib/python3.6/site-packages/torch/storage.py:34: FutureWarning: pickle support for Storage will be removed in 1.5. Use `torch.save` instead\n",
      "  warnings.warn(\"pickle support for Storage will be removed in 1.5. Use `torch.save` instead\", FutureWarning)\n"
     ]
    },
    {
     "name": "stdout",
     "output_type": "stream",
     "text": [
      "    259                    \u001b[36m-1.2387\u001b[0m  \u001b[32m-1.5637\u001b[0m     -76.4510        \u001b[31m0.2060\u001b[0m        \u001b[94m1.9286\u001b[0m     +  4.6239\n"
     ]
    },
    {
     "name": "stderr",
     "output_type": "stream",
     "text": [
      "/data/anaconda/envs/fastai/lib/python3.6/site-packages/torch/storage.py:34: FutureWarning: pickle support for Storage will be removed in 1.5. Use `torch.save` instead\n",
      "  warnings.warn(\"pickle support for Storage will be removed in 1.5. Use `torch.save` instead\", FutureWarning)\n"
     ]
    },
    {
     "name": "stdout",
     "output_type": "stream",
     "text": [
      "    260                    \u001b[36m-1.2248\u001b[0m  \u001b[32m-1.5158\u001b[0m     -75.7069        \u001b[31m0.2036\u001b[0m        \u001b[94m1.8926\u001b[0m     +  2.2026\n"
     ]
    },
    {
     "name": "stderr",
     "output_type": "stream",
     "text": [
      "/data/anaconda/envs/fastai/lib/python3.6/site-packages/torch/storage.py:34: FutureWarning: pickle support for Storage will be removed in 1.5. Use `torch.save` instead\n",
      "  warnings.warn(\"pickle support for Storage will be removed in 1.5. Use `torch.save` instead\", FutureWarning)\n"
     ]
    },
    {
     "name": "stdout",
     "output_type": "stream",
     "text": [
      "    261                    \u001b[36m-1.2231\u001b[0m  \u001b[32m-1.5103\u001b[0m     -75.3054        \u001b[31m0.2017\u001b[0m        \u001b[94m1.8885\u001b[0m     +  2.4208\n"
     ]
    },
    {
     "name": "stderr",
     "output_type": "stream",
     "text": [
      "/data/anaconda/envs/fastai/lib/python3.6/site-packages/torch/storage.py:34: FutureWarning: pickle support for Storage will be removed in 1.5. Use `torch.save` instead\n",
      "  warnings.warn(\"pickle support for Storage will be removed in 1.5. Use `torch.save` instead\", FutureWarning)\n"
     ]
    },
    {
     "name": "stdout",
     "output_type": "stream",
     "text": [
      "    262                    \u001b[36m-1.2095\u001b[0m  \u001b[32m-1.4641\u001b[0m     -75.1435        \u001b[31m0.1993\u001b[0m        \u001b[94m1.8537\u001b[0m     +  2.5000\n"
     ]
    },
    {
     "name": "stderr",
     "output_type": "stream",
     "text": [
      "/data/anaconda/envs/fastai/lib/python3.6/site-packages/torch/storage.py:34: FutureWarning: pickle support for Storage will be removed in 1.5. Use `torch.save` instead\n",
      "  warnings.warn(\"pickle support for Storage will be removed in 1.5. Use `torch.save` instead\", FutureWarning)\n"
     ]
    },
    {
     "name": "stdout",
     "output_type": "stream",
     "text": [
      "    263                    -1.2110  -1.4694     -75.1435        \u001b[31m0.1979\u001b[0m        1.8577        1.7148\n",
      "    264                    \u001b[36m-1.1932\u001b[0m  \u001b[32m-1.4097\u001b[0m     -74.8881        \u001b[31m0.1950\u001b[0m        \u001b[94m1.8128\u001b[0m     +  1.8727\n"
     ]
    },
    {
     "name": "stderr",
     "output_type": "stream",
     "text": [
      "/data/anaconda/envs/fastai/lib/python3.6/site-packages/torch/storage.py:34: FutureWarning: pickle support for Storage will be removed in 1.5. Use `torch.save` instead\n",
      "  warnings.warn(\"pickle support for Storage will be removed in 1.5. Use `torch.save` instead\", FutureWarning)\n"
     ]
    },
    {
     "name": "stdout",
     "output_type": "stream",
     "text": [
      "    265                    -1.2000  -1.4323     -75.0459        \u001b[31m0.1938\u001b[0m        1.8298        2.1418\n",
      "    266                    \u001b[36m-1.1781\u001b[0m  \u001b[32m-1.3598\u001b[0m     -74.0815        \u001b[31m0.1906\u001b[0m        \u001b[94m1.7753\u001b[0m     +  2.0551\n"
     ]
    },
    {
     "name": "stderr",
     "output_type": "stream",
     "text": [
      "/data/anaconda/envs/fastai/lib/python3.6/site-packages/torch/storage.py:34: FutureWarning: pickle support for Storage will be removed in 1.5. Use `torch.save` instead\n",
      "  warnings.warn(\"pickle support for Storage will be removed in 1.5. Use `torch.save` instead\", FutureWarning)\n"
     ]
    },
    {
     "name": "stdout",
     "output_type": "stream",
     "text": [
      "    267                    -1.1869  -1.3888     -74.5281        \u001b[31m0.1893\u001b[0m        1.7970        2.0344\n",
      "    268                    \u001b[36m-1.1605\u001b[0m  \u001b[32m-1.3025\u001b[0m     -72.8824        \u001b[31m0.1854\u001b[0m        \u001b[94m1.7321\u001b[0m     +  1.6530\n"
     ]
    },
    {
     "name": "stderr",
     "output_type": "stream",
     "text": [
      "/data/anaconda/envs/fastai/lib/python3.6/site-packages/torch/storage.py:34: FutureWarning: pickle support for Storage will be removed in 1.5. Use `torch.save` instead\n",
      "  warnings.warn(\"pickle support for Storage will be removed in 1.5. Use `torch.save` instead\", FutureWarning)\n"
     ]
    },
    {
     "name": "stdout",
     "output_type": "stream",
     "text": [
      "    269                    -1.1749  -1.3491     -73.9161        \u001b[31m0.1845\u001b[0m        1.7672        2.2033\n",
      "    270                    \u001b[36m-1.1445\u001b[0m  \u001b[32m-1.2511\u001b[0m     \u001b[35m-71.6659\u001b[0m        \u001b[31m0.1802\u001b[0m        \u001b[94m1.6935\u001b[0m     +  5.9313\n"
     ]
    },
    {
     "name": "stderr",
     "output_type": "stream",
     "text": [
      "/data/anaconda/envs/fastai/lib/python3.6/site-packages/torch/storage.py:34: FutureWarning: pickle support for Storage will be removed in 1.5. Use `torch.save` instead\n",
      "  warnings.warn(\"pickle support for Storage will be removed in 1.5. Use `torch.save` instead\", FutureWarning)\n"
     ]
    },
    {
     "name": "stdout",
     "output_type": "stream",
     "text": [
      "    271                    -1.1633  -1.3109     -73.1042        \u001b[31m0.1797\u001b[0m        1.7385        3.1415\n",
      "    272                    \u001b[36m-1.1266\u001b[0m  \u001b[32m-1.1949\u001b[0m     \u001b[35m-70.9955\u001b[0m        \u001b[31m0.1744\u001b[0m        \u001b[94m1.6512\u001b[0m     +  2.1687\n"
     ]
    },
    {
     "name": "stderr",
     "output_type": "stream",
     "text": [
      "/data/anaconda/envs/fastai/lib/python3.6/site-packages/torch/storage.py:34: FutureWarning: pickle support for Storage will be removed in 1.5. Use `torch.save` instead\n",
      "  warnings.warn(\"pickle support for Storage will be removed in 1.5. Use `torch.save` instead\", FutureWarning)\n"
     ]
    },
    {
     "name": "stdout",
     "output_type": "stream",
     "text": [
      "    273                    -1.1509  -1.2705     -72.2026        0.1744        1.7081        2.4683\n",
      "    274                    \u001b[36m-1.1102\u001b[0m  \u001b[32m-1.1439\u001b[0m     \u001b[35m-68.6953\u001b[0m        \u001b[31m0.1685\u001b[0m        \u001b[94m1.6128\u001b[0m     +  2.1395\n"
     ]
    },
    {
     "name": "stderr",
     "output_type": "stream",
     "text": [
      "/data/anaconda/envs/fastai/lib/python3.6/site-packages/torch/storage.py:34: FutureWarning: pickle support for Storage will be removed in 1.5. Use `torch.save` instead\n",
      "  warnings.warn(\"pickle support for Storage will be removed in 1.5. Use `torch.save` instead\", FutureWarning)\n"
     ]
    },
    {
     "name": "stdout",
     "output_type": "stream",
     "text": [
      "    275                    -1.1376  -1.2277     -71.5595        0.1689        1.6759        5.9888\n",
      "    276                    \u001b[36m-1.0949\u001b[0m  \u001b[32m-1.0967\u001b[0m     \u001b[35m-67.0042\u001b[0m        \u001b[31m0.1624\u001b[0m        \u001b[94m1.5773\u001b[0m     +  4.7370\n"
     ]
    },
    {
     "name": "stderr",
     "output_type": "stream",
     "text": [
      "/data/anaconda/envs/fastai/lib/python3.6/site-packages/torch/storage.py:34: FutureWarning: pickle support for Storage will be removed in 1.5. Use `torch.save` instead\n",
      "  warnings.warn(\"pickle support for Storage will be removed in 1.5. Use `torch.save` instead\", FutureWarning)\n"
     ]
    },
    {
     "name": "stdout",
     "output_type": "stream",
     "text": [
      "    277                    -1.1218  -1.1776     -70.4988        0.1628        1.6382        2.0046\n",
      "    278                    \u001b[36m-1.0837\u001b[0m  \u001b[32m-1.0624\u001b[0m     \u001b[35m-65.9110\u001b[0m        \u001b[31m0.1565\u001b[0m        \u001b[94m1.5515\u001b[0m     +  1.9763\n"
     ]
    },
    {
     "name": "stderr",
     "output_type": "stream",
     "text": [
      "/data/anaconda/envs/fastai/lib/python3.6/site-packages/torch/storage.py:34: FutureWarning: pickle support for Storage will be removed in 1.5. Use `torch.save` instead\n",
      "  warnings.warn(\"pickle support for Storage will be removed in 1.5. Use `torch.save` instead\", FutureWarning)\n"
     ]
    },
    {
     "name": "stdout",
     "output_type": "stream",
     "text": [
      "    279                    -1.1056  -1.1267     -68.2233        0.1566        1.5999        2.4813\n",
      "    280                    \u001b[36m-1.0740\u001b[0m  \u001b[32m-1.0323\u001b[0m     \u001b[35m-64.9089\u001b[0m        \u001b[31m0.1506\u001b[0m        \u001b[94m1.5289\u001b[0m     +  1.8289\n"
     ]
    },
    {
     "name": "stderr",
     "output_type": "stream",
     "text": [
      "/data/anaconda/envs/fastai/lib/python3.6/site-packages/torch/storage.py:34: FutureWarning: pickle support for Storage will be removed in 1.5. Use `torch.save` instead\n",
      "  warnings.warn(\"pickle support for Storage will be removed in 1.5. Use `torch.save` instead\", FutureWarning)\n"
     ]
    },
    {
     "name": "stdout",
     "output_type": "stream",
     "text": [
      "    281                    -1.0871  -1.0693     -66.3893        \u001b[31m0.1497\u001b[0m        1.5567        3.4112\n",
      "    282                    \u001b[36m-1.0626\u001b[0m  \u001b[32m-0.9972\u001b[0m     \u001b[35m-62.4549\u001b[0m        \u001b[31m0.1439\u001b[0m        \u001b[94m1.5024\u001b[0m     +  1.9639\n"
     ]
    },
    {
     "name": "stderr",
     "output_type": "stream",
     "text": [
      "/data/anaconda/envs/fastai/lib/python3.6/site-packages/torch/storage.py:34: FutureWarning: pickle support for Storage will be removed in 1.5. Use `torch.save` instead\n",
      "  warnings.warn(\"pickle support for Storage will be removed in 1.5. Use `torch.save` instead\", FutureWarning)\n"
     ]
    },
    {
     "name": "stdout",
     "output_type": "stream",
     "text": [
      "    283                    -1.0700  -1.0172     -64.3849        \u001b[31m0.1427\u001b[0m        1.5175        1.6505\n",
      "    284                    \u001b[36m-1.0504\u001b[0m  \u001b[32m-0.9601\u001b[0m     \u001b[35m-59.6793\u001b[0m        \u001b[31m0.1372\u001b[0m        \u001b[94m1.4745\u001b[0m     +  1.5510\n"
     ]
    },
    {
     "name": "stderr",
     "output_type": "stream",
     "text": [
      "/data/anaconda/envs/fastai/lib/python3.6/site-packages/torch/storage.py:34: FutureWarning: pickle support for Storage will be removed in 1.5. Use `torch.save` instead\n",
      "  warnings.warn(\"pickle support for Storage will be removed in 1.5. Use `torch.save` instead\", FutureWarning)\n"
     ]
    },
    {
     "name": "stdout",
     "output_type": "stream",
     "text": [
      "    285                    -1.0533  -0.9665     -60.6203        \u001b[31m0.1355\u001b[0m        1.4794        2.2326\n",
      "    286                    \u001b[36m-1.0392\u001b[0m  \u001b[32m-0.9259\u001b[0m     \u001b[35m-57.2860\u001b[0m        \u001b[31m0.1307\u001b[0m        \u001b[94m1.4488\u001b[0m     +  2.2355\n"
     ]
    },
    {
     "name": "stderr",
     "output_type": "stream",
     "text": [
      "/data/anaconda/envs/fastai/lib/python3.6/site-packages/torch/storage.py:34: FutureWarning: pickle support for Storage will be removed in 1.5. Use `torch.save` instead\n",
      "  warnings.warn(\"pickle support for Storage will be removed in 1.5. Use `torch.save` instead\", FutureWarning)\n"
     ]
    },
    {
     "name": "stdout",
     "output_type": "stream",
     "text": [
      "    287                    \u001b[36m-1.0374\u001b[0m  \u001b[32m-0.9185\u001b[0m     \u001b[35m-56.9259\u001b[0m        \u001b[31m0.1286\u001b[0m        \u001b[94m1.4432\u001b[0m     +  2.3717\n"
     ]
    },
    {
     "name": "stderr",
     "output_type": "stream",
     "text": [
      "/data/anaconda/envs/fastai/lib/python3.6/site-packages/torch/storage.py:34: FutureWarning: pickle support for Storage will be removed in 1.5. Use `torch.save` instead\n",
      "  warnings.warn(\"pickle support for Storage will be removed in 1.5. Use `torch.save` instead\", FutureWarning)\n"
     ]
    },
    {
     "name": "stdout",
     "output_type": "stream",
     "text": [
      "    288                    \u001b[36m-1.0279\u001b[0m  \u001b[32m-0.8911\u001b[0m     \u001b[35m-55.6935\u001b[0m        \u001b[31m0.1242\u001b[0m        \u001b[94m1.4227\u001b[0m     +  2.0202\n"
     ]
    },
    {
     "name": "stderr",
     "output_type": "stream",
     "text": [
      "/data/anaconda/envs/fastai/lib/python3.6/site-packages/torch/storage.py:34: FutureWarning: pickle support for Storage will be removed in 1.5. Use `torch.save` instead\n",
      "  warnings.warn(\"pickle support for Storage will be removed in 1.5. Use `torch.save` instead\", FutureWarning)\n"
     ]
    },
    {
     "name": "stdout",
     "output_type": "stream",
     "text": [
      "    289                    \u001b[36m-1.0225\u001b[0m  \u001b[32m-0.8738\u001b[0m     \u001b[35m-54.7604\u001b[0m        \u001b[31m0.1217\u001b[0m        \u001b[94m1.4097\u001b[0m     +  1.8055\n"
     ]
    },
    {
     "name": "stderr",
     "output_type": "stream",
     "text": [
      "/data/anaconda/envs/fastai/lib/python3.6/site-packages/torch/storage.py:34: FutureWarning: pickle support for Storage will be removed in 1.5. Use `torch.save` instead\n",
      "  warnings.warn(\"pickle support for Storage will be removed in 1.5. Use `torch.save` instead\", FutureWarning)\n"
     ]
    },
    {
     "name": "stdout",
     "output_type": "stream",
     "text": [
      "    290                    \u001b[36m-1.0166\u001b[0m  \u001b[32m-0.8568\u001b[0m     \u001b[35m-53.8408\u001b[0m        \u001b[31m0.1180\u001b[0m        \u001b[94m1.3968\u001b[0m     +  2.6776\n"
     ]
    },
    {
     "name": "stderr",
     "output_type": "stream",
     "text": [
      "/data/anaconda/envs/fastai/lib/python3.6/site-packages/torch/storage.py:34: FutureWarning: pickle support for Storage will be removed in 1.5. Use `torch.save` instead\n",
      "  warnings.warn(\"pickle support for Storage will be removed in 1.5. Use `torch.save` instead\", FutureWarning)\n"
     ]
    },
    {
     "name": "stdout",
     "output_type": "stream",
     "text": [
      "    291                    \u001b[36m-1.0088\u001b[0m  \u001b[32m-0.8327\u001b[0m     \u001b[35m-51.9517\u001b[0m        \u001b[31m0.1153\u001b[0m        \u001b[94m1.3787\u001b[0m     +  2.2106\n"
     ]
    },
    {
     "name": "stderr",
     "output_type": "stream",
     "text": [
      "/data/anaconda/envs/fastai/lib/python3.6/site-packages/torch/storage.py:34: FutureWarning: pickle support for Storage will be removed in 1.5. Use `torch.save` instead\n",
      "  warnings.warn(\"pickle support for Storage will be removed in 1.5. Use `torch.save` instead\", FutureWarning)\n"
     ]
    },
    {
     "name": "stdout",
     "output_type": "stream",
     "text": [
      "    292                    \u001b[36m-1.0055\u001b[0m  \u001b[32m-0.8227\u001b[0m     \u001b[35m-51.4210\u001b[0m        \u001b[31m0.1120\u001b[0m        \u001b[94m1.3712\u001b[0m     +  2.4878\n"
     ]
    },
    {
     "name": "stderr",
     "output_type": "stream",
     "text": [
      "/data/anaconda/envs/fastai/lib/python3.6/site-packages/torch/storage.py:34: FutureWarning: pickle support for Storage will be removed in 1.5. Use `torch.save` instead\n",
      "  warnings.warn(\"pickle support for Storage will be removed in 1.5. Use `torch.save` instead\", FutureWarning)\n"
     ]
    },
    {
     "name": "stdout",
     "output_type": "stream",
     "text": [
      "    293                    \u001b[36m-0.9964\u001b[0m  \u001b[32m-0.7951\u001b[0m     \u001b[35m-50.7113\u001b[0m        \u001b[31m0.1092\u001b[0m        \u001b[94m1.3504\u001b[0m     +  1.7451\n"
     ]
    },
    {
     "name": "stderr",
     "output_type": "stream",
     "text": [
      "/data/anaconda/envs/fastai/lib/python3.6/site-packages/torch/storage.py:34: FutureWarning: pickle support for Storage will be removed in 1.5. Use `torch.save` instead\n",
      "  warnings.warn(\"pickle support for Storage will be removed in 1.5. Use `torch.save` instead\", FutureWarning)\n"
     ]
    },
    {
     "name": "stdout",
     "output_type": "stream",
     "text": [
      "    294                    \u001b[36m-0.9947\u001b[0m  \u001b[32m-0.7898\u001b[0m     \u001b[35m-50.6195\u001b[0m        \u001b[31m0.1064\u001b[0m        \u001b[94m1.3464\u001b[0m     +  3.5451\n"
     ]
    },
    {
     "name": "stderr",
     "output_type": "stream",
     "text": [
      "/data/anaconda/envs/fastai/lib/python3.6/site-packages/torch/storage.py:34: FutureWarning: pickle support for Storage will be removed in 1.5. Use `torch.save` instead\n",
      "  warnings.warn(\"pickle support for Storage will be removed in 1.5. Use `torch.save` instead\", FutureWarning)\n"
     ]
    },
    {
     "name": "stdout",
     "output_type": "stream",
     "text": [
      "    295                    \u001b[36m-0.9849\u001b[0m  \u001b[32m-0.7605\u001b[0m     \u001b[35m-48.6860\u001b[0m        \u001b[31m0.1035\u001b[0m        \u001b[94m1.3244\u001b[0m     +  2.5120\n"
     ]
    },
    {
     "name": "stderr",
     "output_type": "stream",
     "text": [
      "/data/anaconda/envs/fastai/lib/python3.6/site-packages/torch/storage.py:34: FutureWarning: pickle support for Storage will be removed in 1.5. Use `torch.save` instead\n",
      "  warnings.warn(\"pickle support for Storage will be removed in 1.5. Use `torch.save` instead\", FutureWarning)\n"
     ]
    },
    {
     "name": "stdout",
     "output_type": "stream",
     "text": [
      "    296                    \u001b[36m-0.9834\u001b[0m  \u001b[32m-0.7552\u001b[0m     -48.6860        \u001b[31m0.1010\u001b[0m        \u001b[94m1.3204\u001b[0m     +  3.0779\n"
     ]
    },
    {
     "name": "stderr",
     "output_type": "stream",
     "text": [
      "/data/anaconda/envs/fastai/lib/python3.6/site-packages/torch/storage.py:34: FutureWarning: pickle support for Storage will be removed in 1.5. Use `torch.save` instead\n",
      "  warnings.warn(\"pickle support for Storage will be removed in 1.5. Use `torch.save` instead\", FutureWarning)\n"
     ]
    },
    {
     "name": "stdout",
     "output_type": "stream",
     "text": [
      "    297                    \u001b[36m-0.9737\u001b[0m  \u001b[32m-0.7267\u001b[0m     \u001b[35m-47.5005\u001b[0m        \u001b[31m0.0981\u001b[0m        \u001b[94m1.2990\u001b[0m     +  3.7908\n"
     ]
    },
    {
     "name": "stderr",
     "output_type": "stream",
     "text": [
      "/data/anaconda/envs/fastai/lib/python3.6/site-packages/torch/storage.py:34: FutureWarning: pickle support for Storage will be removed in 1.5. Use `torch.save` instead\n",
      "  warnings.warn(\"pickle support for Storage will be removed in 1.5. Use `torch.save` instead\", FutureWarning)\n"
     ]
    },
    {
     "name": "stdout",
     "output_type": "stream",
     "text": [
      "    298                    \u001b[36m-0.9719\u001b[0m  \u001b[32m-0.7206\u001b[0m     \u001b[35m-47.1273\u001b[0m        \u001b[31m0.0959\u001b[0m        \u001b[94m1.2944\u001b[0m     +  1.8155\n"
     ]
    },
    {
     "name": "stderr",
     "output_type": "stream",
     "text": [
      "/data/anaconda/envs/fastai/lib/python3.6/site-packages/torch/storage.py:34: FutureWarning: pickle support for Storage will be removed in 1.5. Use `torch.save` instead\n",
      "  warnings.warn(\"pickle support for Storage will be removed in 1.5. Use `torch.save` instead\", FutureWarning)\n"
     ]
    },
    {
     "name": "stdout",
     "output_type": "stream",
     "text": [
      "    299                    \u001b[36m-0.9631\u001b[0m  \u001b[32m-0.6950\u001b[0m     \u001b[35m-45.9287\u001b[0m        \u001b[31m0.0933\u001b[0m        \u001b[94m1.2751\u001b[0m     +  1.8762\n"
     ]
    },
    {
     "name": "stderr",
     "output_type": "stream",
     "text": [
      "/data/anaconda/envs/fastai/lib/python3.6/site-packages/torch/storage.py:34: FutureWarning: pickle support for Storage will be removed in 1.5. Use `torch.save` instead\n",
      "  warnings.warn(\"pickle support for Storage will be removed in 1.5. Use `torch.save` instead\", FutureWarning)\n"
     ]
    },
    {
     "name": "stdout",
     "output_type": "stream",
     "text": [
      "    300                    \u001b[36m-0.9607\u001b[0m  \u001b[32m-0.6873\u001b[0m     \u001b[35m-45.3237\u001b[0m        \u001b[31m0.0912\u001b[0m        \u001b[94m1.2693\u001b[0m     +  2.1252\n"
     ]
    },
    {
     "name": "stderr",
     "output_type": "stream",
     "text": [
      "/data/anaconda/envs/fastai/lib/python3.6/site-packages/torch/storage.py:34: FutureWarning: pickle support for Storage will be removed in 1.5. Use `torch.save` instead\n",
      "  warnings.warn(\"pickle support for Storage will be removed in 1.5. Use `torch.save` instead\", FutureWarning)\n"
     ]
    },
    {
     "name": "stdout",
     "output_type": "stream",
     "text": [
      "    301                    \u001b[36m-0.9531\u001b[0m  \u001b[32m-0.6651\u001b[0m     \u001b[35m-43.4523\u001b[0m        \u001b[31m0.0889\u001b[0m        \u001b[94m1.2526\u001b[0m     +  2.4009\n"
     ]
    },
    {
     "name": "stderr",
     "output_type": "stream",
     "text": [
      "/data/anaconda/envs/fastai/lib/python3.6/site-packages/torch/storage.py:34: FutureWarning: pickle support for Storage will be removed in 1.5. Use `torch.save` instead\n",
      "  warnings.warn(\"pickle support for Storage will be removed in 1.5. Use `torch.save` instead\", FutureWarning)\n"
     ]
    },
    {
     "name": "stdout",
     "output_type": "stream",
     "text": [
      "    302                    \u001b[36m-0.9500\u001b[0m  \u001b[32m-0.6556\u001b[0m     \u001b[35m-43.0569\u001b[0m        \u001b[31m0.0871\u001b[0m        \u001b[94m1.2455\u001b[0m     +  2.4193\n"
     ]
    },
    {
     "name": "stderr",
     "output_type": "stream",
     "text": [
      "/data/anaconda/envs/fastai/lib/python3.6/site-packages/torch/storage.py:34: FutureWarning: pickle support for Storage will be removed in 1.5. Use `torch.save` instead\n",
      "  warnings.warn(\"pickle support for Storage will be removed in 1.5. Use `torch.save` instead\", FutureWarning)\n"
     ]
    },
    {
     "name": "stdout",
     "output_type": "stream",
     "text": [
      "    303                    \u001b[36m-0.9431\u001b[0m  \u001b[32m-0.6356\u001b[0m     \u001b[35m-42.2156\u001b[0m        \u001b[31m0.0850\u001b[0m        \u001b[94m1.2305\u001b[0m     +  2.1865\n"
     ]
    },
    {
     "name": "stderr",
     "output_type": "stream",
     "text": [
      "/data/anaconda/envs/fastai/lib/python3.6/site-packages/torch/storage.py:34: FutureWarning: pickle support for Storage will be removed in 1.5. Use `torch.save` instead\n",
      "  warnings.warn(\"pickle support for Storage will be removed in 1.5. Use `torch.save` instead\", FutureWarning)\n"
     ]
    },
    {
     "name": "stdout",
     "output_type": "stream",
     "text": [
      "    304                    \u001b[36m-0.9395\u001b[0m  \u001b[32m-0.6249\u001b[0m     \u001b[35m-41.3135\u001b[0m        \u001b[31m0.0833\u001b[0m        \u001b[94m1.2224\u001b[0m     +  3.4583\n"
     ]
    },
    {
     "name": "stderr",
     "output_type": "stream",
     "text": [
      "/data/anaconda/envs/fastai/lib/python3.6/site-packages/torch/storage.py:34: FutureWarning: pickle support for Storage will be removed in 1.5. Use `torch.save` instead\n",
      "  warnings.warn(\"pickle support for Storage will be removed in 1.5. Use `torch.save` instead\", FutureWarning)\n"
     ]
    },
    {
     "name": "stdout",
     "output_type": "stream",
     "text": [
      "    305                    \u001b[36m-0.9332\u001b[0m  \u001b[32m-0.6067\u001b[0m     \u001b[35m-39.8350\u001b[0m        \u001b[31m0.0814\u001b[0m        \u001b[94m1.2087\u001b[0m     +  1.8594\n"
     ]
    },
    {
     "name": "stderr",
     "output_type": "stream",
     "text": [
      "/data/anaconda/envs/fastai/lib/python3.6/site-packages/torch/storage.py:34: FutureWarning: pickle support for Storage will be removed in 1.5. Use `torch.save` instead\n",
      "  warnings.warn(\"pickle support for Storage will be removed in 1.5. Use `torch.save` instead\", FutureWarning)\n"
     ]
    },
    {
     "name": "stdout",
     "output_type": "stream",
     "text": [
      "    306                    \u001b[36m-0.9299\u001b[0m  \u001b[32m-0.5967\u001b[0m     \u001b[35m-39.2874\u001b[0m        \u001b[31m0.0799\u001b[0m        \u001b[94m1.2012\u001b[0m     +  2.0034\n"
     ]
    },
    {
     "name": "stderr",
     "output_type": "stream",
     "text": [
      "/data/anaconda/envs/fastai/lib/python3.6/site-packages/torch/storage.py:34: FutureWarning: pickle support for Storage will be removed in 1.5. Use `torch.save` instead\n",
      "  warnings.warn(\"pickle support for Storage will be removed in 1.5. Use `torch.save` instead\", FutureWarning)\n"
     ]
    },
    {
     "name": "stdout",
     "output_type": "stream",
     "text": [
      "    307                    \u001b[36m-0.9241\u001b[0m  \u001b[32m-0.5804\u001b[0m     \u001b[35m-38.1166\u001b[0m        \u001b[31m0.0783\u001b[0m        \u001b[94m1.1889\u001b[0m     +  2.1904\n"
     ]
    },
    {
     "name": "stderr",
     "output_type": "stream",
     "text": [
      "/data/anaconda/envs/fastai/lib/python3.6/site-packages/torch/storage.py:34: FutureWarning: pickle support for Storage will be removed in 1.5. Use `torch.save` instead\n",
      "  warnings.warn(\"pickle support for Storage will be removed in 1.5. Use `torch.save` instead\", FutureWarning)\n"
     ]
    },
    {
     "name": "stdout",
     "output_type": "stream",
     "text": [
      "    308                    \u001b[36m-0.9207\u001b[0m  \u001b[32m-0.5704\u001b[0m     \u001b[35m-37.4629\u001b[0m        \u001b[31m0.0770\u001b[0m        \u001b[94m1.1814\u001b[0m     +  2.4737\n"
     ]
    },
    {
     "name": "stderr",
     "output_type": "stream",
     "text": [
      "/data/anaconda/envs/fastai/lib/python3.6/site-packages/torch/storage.py:34: FutureWarning: pickle support for Storage will be removed in 1.5. Use `torch.save` instead\n",
      "  warnings.warn(\"pickle support for Storage will be removed in 1.5. Use `torch.save` instead\", FutureWarning)\n"
     ]
    },
    {
     "name": "stdout",
     "output_type": "stream",
     "text": [
      "    309                    \u001b[36m-0.9153\u001b[0m  \u001b[32m-0.5550\u001b[0m     \u001b[35m-36.2554\u001b[0m        \u001b[31m0.0755\u001b[0m        \u001b[94m1.1698\u001b[0m     +  2.1669\n"
     ]
    },
    {
     "name": "stderr",
     "output_type": "stream",
     "text": [
      "/data/anaconda/envs/fastai/lib/python3.6/site-packages/torch/storage.py:34: FutureWarning: pickle support for Storage will be removed in 1.5. Use `torch.save` instead\n",
      "  warnings.warn(\"pickle support for Storage will be removed in 1.5. Use `torch.save` instead\", FutureWarning)\n"
     ]
    },
    {
     "name": "stdout",
     "output_type": "stream",
     "text": [
      "    310                    \u001b[36m-0.9119\u001b[0m  \u001b[32m-0.5452\u001b[0m     \u001b[35m-34.5592\u001b[0m        \u001b[31m0.0743\u001b[0m        \u001b[94m1.1625\u001b[0m     +  1.9472\n"
     ]
    },
    {
     "name": "stderr",
     "output_type": "stream",
     "text": [
      "/data/anaconda/envs/fastai/lib/python3.6/site-packages/torch/storage.py:34: FutureWarning: pickle support for Storage will be removed in 1.5. Use `torch.save` instead\n",
      "  warnings.warn(\"pickle support for Storage will be removed in 1.5. Use `torch.save` instead\", FutureWarning)\n"
     ]
    },
    {
     "name": "stdout",
     "output_type": "stream",
     "text": [
      "    311                    \u001b[36m-0.9066\u001b[0m  \u001b[32m-0.5305\u001b[0m     \u001b[35m-32.8801\u001b[0m        \u001b[31m0.0730\u001b[0m        \u001b[94m1.1514\u001b[0m     +  4.1797\n"
     ]
    },
    {
     "name": "stderr",
     "output_type": "stream",
     "text": [
      "/data/anaconda/envs/fastai/lib/python3.6/site-packages/torch/storage.py:34: FutureWarning: pickle support for Storage will be removed in 1.5. Use `torch.save` instead\n",
      "  warnings.warn(\"pickle support for Storage will be removed in 1.5. Use `torch.save` instead\", FutureWarning)\n"
     ]
    },
    {
     "name": "stdout",
     "output_type": "stream",
     "text": [
      "    312                    \u001b[36m-0.9035\u001b[0m  \u001b[32m-0.5216\u001b[0m     \u001b[35m-32.5133\u001b[0m        \u001b[31m0.0718\u001b[0m        \u001b[94m1.1447\u001b[0m     +  1.9756\n"
     ]
    },
    {
     "name": "stderr",
     "output_type": "stream",
     "text": [
      "/data/anaconda/envs/fastai/lib/python3.6/site-packages/torch/storage.py:34: FutureWarning: pickle support for Storage will be removed in 1.5. Use `torch.save` instead\n",
      "  warnings.warn(\"pickle support for Storage will be removed in 1.5. Use `torch.save` instead\", FutureWarning)\n"
     ]
    },
    {
     "name": "stdout",
     "output_type": "stream",
     "text": [
      "    313                    \u001b[36m-0.8982\u001b[0m  \u001b[32m-0.5070\u001b[0m     \u001b[35m-32.3725\u001b[0m        \u001b[31m0.0706\u001b[0m        \u001b[94m1.1337\u001b[0m     +  1.7055\n"
     ]
    },
    {
     "name": "stderr",
     "output_type": "stream",
     "text": [
      "/data/anaconda/envs/fastai/lib/python3.6/site-packages/torch/storage.py:34: FutureWarning: pickle support for Storage will be removed in 1.5. Use `torch.save` instead\n",
      "  warnings.warn(\"pickle support for Storage will be removed in 1.5. Use `torch.save` instead\", FutureWarning)\n"
     ]
    },
    {
     "name": "stdout",
     "output_type": "stream",
     "text": [
      "    314                    \u001b[36m-0.8952\u001b[0m  \u001b[32m-0.4985\u001b[0m     \u001b[35m-31.8644\u001b[0m        \u001b[31m0.0696\u001b[0m        \u001b[94m1.1273\u001b[0m     +  2.0977\n"
     ]
    },
    {
     "name": "stderr",
     "output_type": "stream",
     "text": [
      "/data/anaconda/envs/fastai/lib/python3.6/site-packages/torch/storage.py:34: FutureWarning: pickle support for Storage will be removed in 1.5. Use `torch.save` instead\n",
      "  warnings.warn(\"pickle support for Storage will be removed in 1.5. Use `torch.save` instead\", FutureWarning)\n"
     ]
    },
    {
     "name": "stdout",
     "output_type": "stream",
     "text": [
      "    315                    \u001b[36m-0.8899\u001b[0m  \u001b[32m-0.4841\u001b[0m     \u001b[35m-30.8288\u001b[0m        \u001b[31m0.0684\u001b[0m        \u001b[94m1.1165\u001b[0m     +  3.7771\n"
     ]
    },
    {
     "name": "stderr",
     "output_type": "stream",
     "text": [
      "/data/anaconda/envs/fastai/lib/python3.6/site-packages/torch/storage.py:34: FutureWarning: pickle support for Storage will be removed in 1.5. Use `torch.save` instead\n",
      "  warnings.warn(\"pickle support for Storage will be removed in 1.5. Use `torch.save` instead\", FutureWarning)\n"
     ]
    },
    {
     "name": "stdout",
     "output_type": "stream",
     "text": [
      "    316                    \u001b[36m-0.8871\u001b[0m  \u001b[32m-0.4762\u001b[0m     \u001b[35m-30.0224\u001b[0m        \u001b[31m0.0675\u001b[0m        \u001b[94m1.1106\u001b[0m     +  1.9017\n"
     ]
    },
    {
     "name": "stderr",
     "output_type": "stream",
     "text": [
      "/data/anaconda/envs/fastai/lib/python3.6/site-packages/torch/storage.py:34: FutureWarning: pickle support for Storage will be removed in 1.5. Use `torch.save` instead\n",
      "  warnings.warn(\"pickle support for Storage will be removed in 1.5. Use `torch.save` instead\", FutureWarning)\n"
     ]
    },
    {
     "name": "stdout",
     "output_type": "stream",
     "text": [
      "    317                    \u001b[36m-0.8820\u001b[0m  \u001b[32m-0.4626\u001b[0m     \u001b[35m-28.3846\u001b[0m        \u001b[31m0.0664\u001b[0m        \u001b[94m1.1003\u001b[0m     +  2.3029\n"
     ]
    },
    {
     "name": "stderr",
     "output_type": "stream",
     "text": [
      "/data/anaconda/envs/fastai/lib/python3.6/site-packages/torch/storage.py:34: FutureWarning: pickle support for Storage will be removed in 1.5. Use `torch.save` instead\n",
      "  warnings.warn(\"pickle support for Storage will be removed in 1.5. Use `torch.save` instead\", FutureWarning)\n"
     ]
    },
    {
     "name": "stdout",
     "output_type": "stream",
     "text": [
      "    318                    \u001b[36m-0.8794\u001b[0m  \u001b[32m-0.4555\u001b[0m     -28.3846        \u001b[31m0.0655\u001b[0m        \u001b[94m1.0949\u001b[0m     +  1.5593\n"
     ]
    },
    {
     "name": "stderr",
     "output_type": "stream",
     "text": [
      "/data/anaconda/envs/fastai/lib/python3.6/site-packages/torch/storage.py:34: FutureWarning: pickle support for Storage will be removed in 1.5. Use `torch.save` instead\n",
      "  warnings.warn(\"pickle support for Storage will be removed in 1.5. Use `torch.save` instead\", FutureWarning)\n"
     ]
    },
    {
     "name": "stdout",
     "output_type": "stream",
     "text": [
      "    319                    \u001b[36m-0.8746\u001b[0m  \u001b[32m-0.4425\u001b[0m     \u001b[35m-27.5251\u001b[0m        \u001b[31m0.0644\u001b[0m        \u001b[94m1.0852\u001b[0m     +  1.8258\n"
     ]
    }
   ],
   "source": [
    "%reload_ext autoreload\n",
    "%autoreload 2\n",
    "%matplotlib inline\n",
    "%cd DeepLearning_Financial\n",
    "\n",
    "## EXTERNAL\n",
    "import numpy as np\n",
    "import pandas as pd\n",
    "import matplotlib.pyplot as plt\n",
    "import sklearn\n",
    "import yfinance\n",
    "from pandas import Series\n",
    "from sklearn.preprocessing import PolynomialFeatures, StandardScaler, MinMaxScaler\n",
    "from sklearn.pipeline import Pipeline\n",
    "from sklearn.model_selection import TimeSeriesSplit, PredefinedSplit\n",
    "from sklearn.metrics import make_scorer\n",
    "from sklearn.model_selection import cross_validate\n",
    "from sklearn.model_selection import GridSearchCV\n",
    "from IPython.display import display\n",
    "import datetime\n",
    "import torch\n",
    "import torch.nn as nn\n",
    "from torch.autograd import Variable\n",
    "import torch.optim as optim\n",
    "from torch.utils.data import Dataset, DataLoader\n",
    "import torch.nn.functional as F\n",
    "import numpy as np\n",
    "import time\n",
    "import os\n",
    "import random \n",
    "from sklearn.datasets import make_regression\n",
    "from torch import nn\n",
    "import torch.nn.functional as F\n",
    "from skorch import NeuralNetRegressor\n",
    "from torch.nn.modules.loss import MSELoss\n",
    "import tensorflow as tf\n",
    "from tensorflow import keras\n",
    "from skorch.dataset import CVSplit\n",
    "from skorch import callbacks\n",
    "import pickle\n",
    "from sklearn.model_selection import train_test_split\n",
    "from functools import partial\n",
    "import skorch\n",
    "import pywt\n",
    "from sklearn import preprocessing\n",
    "import joblib\n",
    "\n",
    "\n",
    "##INTERNAL\n",
    "from models import Autoencoder, waveletSmooth, SequenceDouble, SequenceDoubleAtt, SequenceAtt\n",
    "from utils import prepare_data_lstm, ExampleDataset, save_checkpoint, evaluate_lstm, backtest\n",
    "from testing import *\n",
    "from sa_tools import *\n",
    "from test_models import *\n",
    "\n",
    "\n",
    "\n",
    "#creazione dataset\n",
    "# indices = ['^DJI', '^GSPC', '^HSI', '^N225', 'ASHR','^NSEI']\n",
    "indices = ['^GSPC']\n",
    "feature_sets = ['open', 'ohlcv', 'ext']\n",
    "start_date=\"2000-01-01\"\n",
    "end_date=\"2018-12-31\"\n",
    "\n",
    "# datasets=get_datasets(indices = indices, feature_sets = feature_sets, end_date=end_date, start_date=start_date)\n",
    "# save(datasets, 'datasets')\n",
    "datasets = load('^GSCP')\n",
    "# tss = TimeSeriesSplit(4)\n",
    "# tss_split = CVSplit(cv=tss, stratified=False, random_state=None)\n",
    "\n",
    "\n",
    "for index in indices:\n",
    "    X=datasets[index][\"target\"]\n",
    "    \n",
    "    tss = TimeSeriesSplit(4)\n",
    "    max_train_size = len(list(tss.split(X))[0][0])\n",
    "    tss = TimeSeriesSplit(4, max_train_size=max_train_size)\n",
    "    tss_split = CVSplit(cv=tss, stratified=False, random_state=None)\n",
    "    \n",
    "    for i, (train, val) in enumerate(tss.split(X), start=1):\n",
    "        print(\"FOLD {}\".format(i))\n",
    "        train_dates = X.index[train]\n",
    "        val_dates = X.index[val]\n",
    "        print(\"Training set da {} a {}\".format(train_dates.min(), train_dates.max()))\n",
    "        print(\"Validation set da {} a {}\".format(val_dates.min(), val_dates.max()))\n",
    "        print(X.index.min())\n",
    "        print(X.index.max())\n",
    "    for i, (train_dates, val_dates) in enumerate(tss.split(datasets[index][\"target\"]), start=1):\n",
    "        for model_name in get_model_names():\n",
    "            \n",
    "            # get the model\n",
    "            save_name = \"{}_{}_{}_{}.pkl\".format(model_name, index, datasets[index][\"target\"].index[train_dates].min().date(), datasets[index][\"target\"].index[train_dates].max().date())\n",
    "            print(save_name)\n",
    "            model, feature_set = get_model(model_name,  save_name)\n",
    "                \n",
    "            #get the dataset\n",
    "            sa=None\n",
    "            ld=False\n",
    "            fset= feature_set\n",
    "            if(feature_set is 'ext_sa'):\n",
    "                fset='ext'\n",
    "                sa = \"sa_{}_{}_{}\".format(index, datasets[index][\"target\"][train_dates].index.min().date(), datasets[index][\"target\"][train_dates].index.max().date())\n",
    "                sa_fname = sa + \".pkl\"\n",
    "                if(os.path.isfile(sa_fname)):\n",
    "                    ld=True\n",
    "            x, y, x_train, x_val, x_scaler, y_train, y_val, y_scaler = get_dataset_train(datasets=datasets, feature_set=fset, train_dates=train_dates, val_dates=val_dates, index=index, sa=sa, ld=ld)\n",
    "            \n",
    "            #prepare dataset for training\n",
    "            n_days=5\n",
    "\n",
    "            x_batch = days_group(x, n_days=n_days)\n",
    "            y_batch = y[n_days:]\n",
    "            serie = x_batch\n",
    "            train_dates_s = train_dates[n_days:].copy()\n",
    "            val_dates_s = val_dates.copy()\n",
    "\n",
    "#             opn_test = y_scaler.transform(datasets[index][\"original\"][\"Open\"].iloc[val_dates].to_numpy().reshape(-1,1))\n",
    "            opn_test = datasets[index][\"original\"][\"Open\"].iloc[val_dates].to_numpy()\n",
    "            roi_test = partial(roi_train,opn=opn_test)\n",
    "            \n",
    "            model, feature_set = get_model(model_name,  save_name, roi_test=roi_test)\n",
    "            \n",
    "            model.y_scaler = y_scaler\n",
    "            model.x_scaler = x_scaler\n",
    "            \n",
    "            splitted = np.split(serie, [len(train_dates_s)])\n",
    "            l1, l2 = len(splitted[0]), len(splitted[1])\n",
    "            train_s = PredefinedSplit(np.concatenate((np.ones(l1)*-1,np.ones(l2))))\n",
    "            train_split =  CVSplit(cv=train_s, stratified=False, random_state=None)  \n",
    "            train_dates_s, val_dates_s = list(train_s.split(serie))[0]\n",
    "            \n",
    "            model.train_split = train_split\n",
    "            model.fit(x_batch,y_batch)\n",
    "    "
   ]
  }
 ],
 "metadata": {
  "kernelspec": {
   "display_name": "Python (fastai)",
   "language": "python",
   "name": "fastai"
  },
  "language_info": {
   "codemirror_mode": {
    "name": "ipython",
    "version": 3
   },
   "file_extension": ".py",
   "mimetype": "text/x-python",
   "name": "python",
   "nbconvert_exporter": "python",
   "pygments_lexer": "ipython3",
   "version": "3.6.10"
  }
 },
 "nbformat": 4,
 "nbformat_minor": 2
}
