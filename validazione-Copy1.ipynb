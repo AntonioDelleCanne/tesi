{
 "cells": [
  {
   "cell_type": "code",
   "execution_count": 1,
   "metadata": {},
   "outputs": [],
   "source": [
    "%reload_ext autoreload\n",
    "%autoreload 2\n",
    "%matplotlib inline"
   ]
  },
  {
   "cell_type": "code",
   "execution_count": 2,
   "metadata": {},
   "outputs": [
    {
     "name": "stdout",
     "output_type": "stream",
     "text": [
      "/data/home/dsvm_server_admin/notebooks/fastai/tesi/DeepLearning_Financial\n"
     ]
    }
   ],
   "source": [
    "%cd DeepLearning_Financial"
   ]
  },
  {
   "cell_type": "code",
   "execution_count": 3,
   "metadata": {},
   "outputs": [],
   "source": [
    "## EXTERNAL\n",
    "import numpy as np\n",
    "import pandas as pd\n",
    "import matplotlib.pyplot as plt\n",
    "import sklearn\n",
    "import yfinance\n",
    "from pandas import Series\n",
    "from sklearn.preprocessing import PolynomialFeatures, StandardScaler, MinMaxScaler\n",
    "from sklearn.pipeline import Pipeline\n",
    "from sklearn.model_selection import TimeSeriesSplit, PredefinedSplit\n",
    "from sklearn.metrics import make_scorer\n",
    "from sklearn.model_selection import cross_validate\n",
    "from sklearn.model_selection import GridSearchCV\n",
    "from IPython.display import display\n",
    "import datetime\n",
    "import torch\n",
    "import torch.nn as nn\n",
    "from torch.autograd import Variable\n",
    "import torch.optim as optim\n",
    "from torch.utils.data import Dataset, DataLoader\n",
    "import torch.nn.functional as F\n",
    "import numpy as np\n",
    "import time\n",
    "import os\n",
    "import random \n",
    "from sklearn.datasets import make_regression\n",
    "from torch import nn\n",
    "import torch.nn.functional as F\n",
    "from skorch import NeuralNetRegressor\n",
    "from torch.nn.modules.loss import MSELoss\n",
    "import tensorflow as tf\n",
    "from tensorflow import keras\n",
    "from skorch.dataset import CVSplit\n",
    "from skorch import callbacks\n",
    "import pickle\n",
    "from sklearn.model_selection import train_test_split\n",
    "from functools import partial\n",
    "import skorch\n",
    "import pywt\n",
    "from sklearn import preprocessing\n",
    "import joblib\n",
    "\n",
    "\n",
    "##INTERNAL\n",
    "from models import Autoencoder, waveletSmooth, SequenceDouble, SequenceDoubleAtt, SequenceAtt\n",
    "from utils import prepare_data_lstm, ExampleDataset, save_checkpoint, evaluate_lstm, backtest\n",
    "from testing import *\n",
    "from sa_tools import *\n",
    "from test_models import *"
   ]
  },
  {
   "cell_type": "markdown",
   "metadata": {},
   "source": [
    "## Creazione dei dataset"
   ]
  },
  {
   "cell_type": "code",
   "execution_count": 4,
   "metadata": {},
   "outputs": [],
   "source": [
    "indices = ['^GSPC']\n",
    "feature_sets = ['open', 'ohlcv', 'ext']\n",
    "start_date=\"2000-01-01\"\n",
    "end_date=\"2018-12-31\""
   ]
  },
  {
   "cell_type": "code",
   "execution_count": 5,
   "metadata": {
    "scrolled": true
   },
   "outputs": [
    {
     "name": "stdout",
     "output_type": "stream",
     "text": [
      "{'^GSPC': {'original':                Open     High      Low    Close      Volume\n",
      "Date                                                      \n",
      "2000-01-03  1469.25  1478.00  1438.36  1455.22   931800000\n",
      "2000-01-04  1455.22  1455.22  1397.43  1399.42  1009000000\n",
      "2000-01-05  1399.42  1413.27  1377.68  1402.11  1085500000\n",
      "2000-01-06  1402.11  1411.90  1392.10  1403.45  1092300000\n",
      "2000-01-07  1403.45  1441.47  1400.73  1441.47  1225200000\n",
      "...             ...      ...      ...      ...         ...\n",
      "2018-12-21  2465.38  2504.41  2408.55  2416.62  7609010000\n",
      "2018-12-24  2400.56  2410.34  2351.10  2351.10  2613930000\n",
      "2018-12-26  2363.12  2467.76  2346.58  2467.70  4233990000\n",
      "2018-12-27  2442.50  2489.10  2397.94  2488.83  4096610000\n",
      "2018-12-28  2498.77  2520.27  2472.89  2485.74  3702620000\n",
      "\n",
      "[4778 rows x 5 columns], 'features': {}, 'target': Date\n",
      "2000-01-03    1455.22\n",
      "2000-01-04    1399.42\n",
      "2000-01-05    1402.11\n",
      "2000-01-06    1403.45\n",
      "2000-01-07    1441.47\n",
      "               ...   \n",
      "2018-12-21    2416.62\n",
      "2018-12-24    2351.10\n",
      "2018-12-26    2467.70\n",
      "2018-12-27    2488.83\n",
      "2018-12-28    2485.74\n",
      "Name: Close, Length: 4778, dtype: float64}}\n"
     ]
    },
    {
     "name": "stderr",
     "output_type": "stream",
     "text": [
      "/data/anaconda/envs/fastai/lib/python3.6/site-packages/pywt/_multilevel.py:45: UserWarning: Level value of 3 is too high: all coefficients will experience boundary effects.\n",
      "  \"boundary effects.\").format(level))\n",
      "/data/anaconda/envs/fastai/lib/python3.6/site-packages/pywt/_thresholding.py:23: RuntimeWarning: invalid value encountered in true_divide\n",
      "  thresholded = (1 - value/magnitude)\n"
     ]
    }
   ],
   "source": [
    "datasets=get_datasets(indices = indices, feature_sets = feature_sets, end_date=end_date, start_date=start_date)"
   ]
  },
  {
   "cell_type": "markdown",
   "metadata": {},
   "source": [
    "## Creazione di training e validation set"
   ]
  },
  {
   "cell_type": "code",
   "execution_count": 100,
   "metadata": {},
   "outputs": [],
   "source": [
    "valid_size=0.3\n",
    "\n",
    "serie = datasets['^GSPC'][\"target\"].to_numpy()\n",
    "\n",
    "splitted = np.split(serie, [np.ceil(len(serie)*valid_size).astype(int)])\n",
    "l1, l2 = len(splitted[1]), len(splitted[0])\n",
    "perc = PredefinedSplit(np.concatenate((np.ones(l1)*-1,np.ones(l2))))\n",
    "perc_split =  CVSplit(cv=perc, stratified=False, random_state=None)\n",
    "train_dates, val_dates = list(perc.split(serie))[0]"
   ]
  },
  {
   "cell_type": "code",
   "execution_count": 101,
   "metadata": {},
   "outputs": [],
   "source": [
    "feature_set=\"ohlcv\"\n",
    "x, y, x_train, x_val, x_scaler, y_train, y_val, y_scaler = get_dataset_train(datasets=datasets, feature_set=feature_set, train_dates=train_dates, val_dates=val_dates, index='^GSPC', sa=None, load=False)"
   ]
  },
  {
   "cell_type": "markdown",
   "metadata": {},
   "source": [
    "## Preparaizione dei dati per il training"
   ]
  },
  {
   "cell_type": "code",
   "execution_count": 118,
   "metadata": {},
   "outputs": [],
   "source": [
    "n_days=5\n",
    "\n",
    "x_batch = days_group(x, n_days=n_days)\n",
    "y_batch = y[n_days:]\n",
    "serie = x_batch\n",
    "\n",
    "splitted = np.split(serie, [np.ceil(len(serie)*valid_size).astype(int)])\n",
    "l1, l2 = len(splitted[1]), len(splitted[0])\n",
    "train_s = PredefinedSplit(np.concatenate((np.ones(l1)*-1,np.ones(l2))))\n",
    "train_split =  CVSplit(cv=train_s, stratified=False, random_state=None)\n",
    "train_dates, val_dates = list(perc.split(serie))[0]"
   ]
  },
  {
   "cell_type": "code",
   "execution_count": 120,
   "metadata": {},
   "outputs": [],
   "source": [
    "batch_size = 20\n",
    "\n",
    "lstm_att = NeuralNetRegressor(\n",
    "    module=SequenceDoubleAtt,\n",
    "    optimizer=optim.Adam,\n",
    "    batch_size=batch_size,\n",
    "    max_epochs=5000, # trovato empiricamente\n",
    "    train_split=train_split,\n",
    "    callbacks=[\n",
    "        callbacks.EpochScoring('neg_mean_absolute_error', lower_is_better=False),\n",
    "        callbacks.EpochScoring('r2', lower_is_better=False),\n",
    "        callbacks.Checkpoint(monitor='valid_loss_best', f_pickle='lstm_sa_best')        \n",
    "    ],\n",
    "    \n",
    "    module__nb_features=x.shape[1],\n",
    "    module__hidden_size=256,\n",
    "#     module__nb_layers= 5,\n",
    "    optimizer__lr=0.0001, #TODO prova con questa lr\n",
    "#     optimizer__weight_decay=0,\n",
    "#     optimizer__momentum=0.9\n",
    ")"
   ]
  },
  {
   "cell_type": "code",
   "execution_count": null,
   "metadata": {},
   "outputs": [
    {
     "name": "stdout",
     "output_type": "stream",
     "text": [
      "  epoch    neg_mean_absolute_error       r2    train_loss    valid_loss    cp     dur\n",
      "-------  -------------------------  -------  ------------  ------------  ----  ------\n",
      "      1                    \u001b[36m-4.1152\u001b[0m  \u001b[32m-5.8761\u001b[0m        \u001b[35m0.7381\u001b[0m       \u001b[31m19.6586\u001b[0m     +  4.2898\n"
     ]
    },
    {
     "name": "stderr",
     "output_type": "stream",
     "text": [
      "/data/anaconda/envs/fastai/lib/python3.6/site-packages/torch/storage.py:34: FutureWarning: pickle support for Storage will be removed in 1.5. Use `torch.save` instead\n",
      "  warnings.warn(\"pickle support for Storage will be removed in 1.5. Use `torch.save` instead\", FutureWarning)\n"
     ]
    },
    {
     "name": "stdout",
     "output_type": "stream",
     "text": [
      "      2                    \u001b[36m-3.5521\u001b[0m  \u001b[32m-4.3347\u001b[0m        \u001b[35m0.1508\u001b[0m       \u001b[31m15.2516\u001b[0m     +  5.6788\n"
     ]
    },
    {
     "name": "stderr",
     "output_type": "stream",
     "text": [
      "/data/anaconda/envs/fastai/lib/python3.6/site-packages/torch/storage.py:34: FutureWarning: pickle support for Storage will be removed in 1.5. Use `torch.save` instead\n",
      "  warnings.warn(\"pickle support for Storage will be removed in 1.5. Use `torch.save` instead\", FutureWarning)\n"
     ]
    },
    {
     "name": "stdout",
     "output_type": "stream",
     "text": [
      "      3                    \u001b[36m-3.2071\u001b[0m  \u001b[32m-3.4963\u001b[0m        \u001b[35m0.0904\u001b[0m       \u001b[31m12.8547\u001b[0m     +  5.7257\n"
     ]
    },
    {
     "name": "stderr",
     "output_type": "stream",
     "text": [
      "/data/anaconda/envs/fastai/lib/python3.6/site-packages/torch/storage.py:34: FutureWarning: pickle support for Storage will be removed in 1.5. Use `torch.save` instead\n",
      "  warnings.warn(\"pickle support for Storage will be removed in 1.5. Use `torch.save` instead\", FutureWarning)\n"
     ]
    },
    {
     "name": "stdout",
     "output_type": "stream",
     "text": [
      "      4                    \u001b[36m-2.9585\u001b[0m  \u001b[32m-2.9424\u001b[0m        \u001b[35m0.0589\u001b[0m       \u001b[31m11.2712\u001b[0m     +  5.8794\n"
     ]
    },
    {
     "name": "stderr",
     "output_type": "stream",
     "text": [
      "/data/anaconda/envs/fastai/lib/python3.6/site-packages/torch/storage.py:34: FutureWarning: pickle support for Storage will be removed in 1.5. Use `torch.save` instead\n",
      "  warnings.warn(\"pickle support for Storage will be removed in 1.5. Use `torch.save` instead\", FutureWarning)\n"
     ]
    },
    {
     "name": "stdout",
     "output_type": "stream",
     "text": [
      "      5                    \u001b[36m-2.7931\u001b[0m  \u001b[32m-2.5941\u001b[0m        \u001b[35m0.0435\u001b[0m       \u001b[31m10.2754\u001b[0m     +  6.2744\n"
     ]
    },
    {
     "name": "stderr",
     "output_type": "stream",
     "text": [
      "/data/anaconda/envs/fastai/lib/python3.6/site-packages/torch/storage.py:34: FutureWarning: pickle support for Storage will be removed in 1.5. Use `torch.save` instead\n",
      "  warnings.warn(\"pickle support for Storage will be removed in 1.5. Use `torch.save` instead\", FutureWarning)\n"
     ]
    },
    {
     "name": "stdout",
     "output_type": "stream",
     "text": [
      "      6                    \u001b[36m-2.6992\u001b[0m  \u001b[32m-2.4021\u001b[0m        \u001b[35m0.0393\u001b[0m        \u001b[31m9.7265\u001b[0m     +  4.3562\n"
     ]
    },
    {
     "name": "stderr",
     "output_type": "stream",
     "text": [
      "/data/anaconda/envs/fastai/lib/python3.6/site-packages/torch/storage.py:34: FutureWarning: pickle support for Storage will be removed in 1.5. Use `torch.save` instead\n",
      "  warnings.warn(\"pickle support for Storage will be removed in 1.5. Use `torch.save` instead\", FutureWarning)\n"
     ]
    },
    {
     "name": "stdout",
     "output_type": "stream",
     "text": [
      "      7                    \u001b[36m-2.6354\u001b[0m  \u001b[32m-2.2743\u001b[0m        \u001b[35m0.0378\u001b[0m        \u001b[31m9.3611\u001b[0m     +  7.0066\n"
     ]
    },
    {
     "name": "stderr",
     "output_type": "stream",
     "text": [
      "/data/anaconda/envs/fastai/lib/python3.6/site-packages/torch/storage.py:34: FutureWarning: pickle support for Storage will be removed in 1.5. Use `torch.save` instead\n",
      "  warnings.warn(\"pickle support for Storage will be removed in 1.5. Use `torch.save` instead\", FutureWarning)\n"
     ]
    },
    {
     "name": "stdout",
     "output_type": "stream",
     "text": [
      "      8                    \u001b[36m-2.5810\u001b[0m  \u001b[32m-2.1678\u001b[0m        \u001b[35m0.0370\u001b[0m        \u001b[31m9.0565\u001b[0m     +  5.3120\n"
     ]
    },
    {
     "name": "stderr",
     "output_type": "stream",
     "text": [
      "/data/anaconda/envs/fastai/lib/python3.6/site-packages/torch/storage.py:34: FutureWarning: pickle support for Storage will be removed in 1.5. Use `torch.save` instead\n",
      "  warnings.warn(\"pickle support for Storage will be removed in 1.5. Use `torch.save` instead\", FutureWarning)\n"
     ]
    },
    {
     "name": "stdout",
     "output_type": "stream",
     "text": [
      "      9                    \u001b[36m-2.5323\u001b[0m  \u001b[32m-2.0741\u001b[0m        \u001b[35m0.0364\u001b[0m        \u001b[31m8.7889\u001b[0m     +  5.2354\n"
     ]
    },
    {
     "name": "stderr",
     "output_type": "stream",
     "text": [
      "/data/anaconda/envs/fastai/lib/python3.6/site-packages/torch/storage.py:34: FutureWarning: pickle support for Storage will be removed in 1.5. Use `torch.save` instead\n",
      "  warnings.warn(\"pickle support for Storage will be removed in 1.5. Use `torch.save` instead\", FutureWarning)\n"
     ]
    },
    {
     "name": "stdout",
     "output_type": "stream",
     "text": [
      "     10                    \u001b[36m-2.4869\u001b[0m  \u001b[32m-1.9886\u001b[0m        \u001b[35m0.0358\u001b[0m        \u001b[31m8.5444\u001b[0m     +  6.0483\n"
     ]
    },
    {
     "name": "stderr",
     "output_type": "stream",
     "text": [
      "/data/anaconda/envs/fastai/lib/python3.6/site-packages/torch/storage.py:34: FutureWarning: pickle support for Storage will be removed in 1.5. Use `torch.save` instead\n",
      "  warnings.warn(\"pickle support for Storage will be removed in 1.5. Use `torch.save` instead\", FutureWarning)\n"
     ]
    },
    {
     "name": "stdout",
     "output_type": "stream",
     "text": [
      "     11                    \u001b[36m-2.4426\u001b[0m  \u001b[32m-1.9069\u001b[0m        \u001b[35m0.0351\u001b[0m        \u001b[31m8.3107\u001b[0m     +  5.8945\n"
     ]
    },
    {
     "name": "stderr",
     "output_type": "stream",
     "text": [
      "/data/anaconda/envs/fastai/lib/python3.6/site-packages/torch/storage.py:34: FutureWarning: pickle support for Storage will be removed in 1.5. Use `torch.save` instead\n",
      "  warnings.warn(\"pickle support for Storage will be removed in 1.5. Use `torch.save` instead\", FutureWarning)\n"
     ]
    },
    {
     "name": "stdout",
     "output_type": "stream",
     "text": [
      "     12                    \u001b[36m-2.3987\u001b[0m  \u001b[32m-1.8271\u001b[0m        \u001b[35m0.0344\u001b[0m        \u001b[31m8.0826\u001b[0m     +  5.1284\n"
     ]
    },
    {
     "name": "stderr",
     "output_type": "stream",
     "text": [
      "/data/anaconda/envs/fastai/lib/python3.6/site-packages/torch/storage.py:34: FutureWarning: pickle support for Storage will be removed in 1.5. Use `torch.save` instead\n",
      "  warnings.warn(\"pickle support for Storage will be removed in 1.5. Use `torch.save` instead\", FutureWarning)\n"
     ]
    },
    {
     "name": "stdout",
     "output_type": "stream",
     "text": [
      "     13                    \u001b[36m-2.3555\u001b[0m  \u001b[32m-1.7493\u001b[0m        \u001b[35m0.0336\u001b[0m        \u001b[31m7.8602\u001b[0m     +  5.0531\n"
     ]
    },
    {
     "name": "stderr",
     "output_type": "stream",
     "text": [
      "/data/anaconda/envs/fastai/lib/python3.6/site-packages/torch/storage.py:34: FutureWarning: pickle support for Storage will be removed in 1.5. Use `torch.save` instead\n",
      "  warnings.warn(\"pickle support for Storage will be removed in 1.5. Use `torch.save` instead\", FutureWarning)\n"
     ]
    },
    {
     "name": "stdout",
     "output_type": "stream",
     "text": [
      "     14                    \u001b[36m-2.3135\u001b[0m  \u001b[32m-1.6747\u001b[0m        \u001b[35m0.0329\u001b[0m        \u001b[31m7.6468\u001b[0m     +  6.1503\n"
     ]
    },
    {
     "name": "stderr",
     "output_type": "stream",
     "text": [
      "/data/anaconda/envs/fastai/lib/python3.6/site-packages/torch/storage.py:34: FutureWarning: pickle support for Storage will be removed in 1.5. Use `torch.save` instead\n",
      "  warnings.warn(\"pickle support for Storage will be removed in 1.5. Use `torch.save` instead\", FutureWarning)\n"
     ]
    },
    {
     "name": "stdout",
     "output_type": "stream",
     "text": [
      "     15                    \u001b[36m-2.2735\u001b[0m  \u001b[32m-1.6042\u001b[0m        \u001b[35m0.0321\u001b[0m        \u001b[31m7.4453\u001b[0m     +  5.3877\n"
     ]
    },
    {
     "name": "stderr",
     "output_type": "stream",
     "text": [
      "/data/anaconda/envs/fastai/lib/python3.6/site-packages/torch/storage.py:34: FutureWarning: pickle support for Storage will be removed in 1.5. Use `torch.save` instead\n",
      "  warnings.warn(\"pickle support for Storage will be removed in 1.5. Use `torch.save` instead\", FutureWarning)\n"
     ]
    },
    {
     "name": "stdout",
     "output_type": "stream",
     "text": [
      "     16                    \u001b[36m-2.2332\u001b[0m  \u001b[32m-1.5353\u001b[0m        \u001b[35m0.0314\u001b[0m        \u001b[31m7.2484\u001b[0m     +  5.8119\n"
     ]
    },
    {
     "name": "stderr",
     "output_type": "stream",
     "text": [
      "/data/anaconda/envs/fastai/lib/python3.6/site-packages/torch/storage.py:34: FutureWarning: pickle support for Storage will be removed in 1.5. Use `torch.save` instead\n",
      "  warnings.warn(\"pickle support for Storage will be removed in 1.5. Use `torch.save` instead\", FutureWarning)\n"
     ]
    },
    {
     "name": "stdout",
     "output_type": "stream",
     "text": [
      "     17                    \u001b[36m-2.1851\u001b[0m  \u001b[32m-1.4586\u001b[0m        \u001b[35m0.0307\u001b[0m        \u001b[31m7.0291\u001b[0m     +  5.2370\n"
     ]
    },
    {
     "name": "stderr",
     "output_type": "stream",
     "text": [
      "/data/anaconda/envs/fastai/lib/python3.6/site-packages/torch/storage.py:34: FutureWarning: pickle support for Storage will be removed in 1.5. Use `torch.save` instead\n",
      "  warnings.warn(\"pickle support for Storage will be removed in 1.5. Use `torch.save` instead\", FutureWarning)\n"
     ]
    },
    {
     "name": "stdout",
     "output_type": "stream",
     "text": [
      "     18                    \u001b[36m-2.1390\u001b[0m  \u001b[32m-1.3879\u001b[0m        \u001b[35m0.0303\u001b[0m        \u001b[31m6.8269\u001b[0m     +  5.0251\n"
     ]
    },
    {
     "name": "stderr",
     "output_type": "stream",
     "text": [
      "/data/anaconda/envs/fastai/lib/python3.6/site-packages/torch/storage.py:34: FutureWarning: pickle support for Storage will be removed in 1.5. Use `torch.save` instead\n",
      "  warnings.warn(\"pickle support for Storage will be removed in 1.5. Use `torch.save` instead\", FutureWarning)\n"
     ]
    },
    {
     "name": "stdout",
     "output_type": "stream",
     "text": [
      "     19                    \u001b[36m-2.1228\u001b[0m  \u001b[32m-1.3597\u001b[0m        \u001b[35m0.0302\u001b[0m        \u001b[31m6.7462\u001b[0m     +  4.0213\n"
     ]
    },
    {
     "name": "stderr",
     "output_type": "stream",
     "text": [
      "/data/anaconda/envs/fastai/lib/python3.6/site-packages/torch/storage.py:34: FutureWarning: pickle support for Storage will be removed in 1.5. Use `torch.save` instead\n",
      "  warnings.warn(\"pickle support for Storage will be removed in 1.5. Use `torch.save` instead\", FutureWarning)\n"
     ]
    },
    {
     "name": "stdout",
     "output_type": "stream",
     "text": [
      "     20                    \u001b[36m-2.1069\u001b[0m  \u001b[32m-1.3314\u001b[0m        \u001b[35m0.0298\u001b[0m        \u001b[31m6.6654\u001b[0m     +  4.6591\n"
     ]
    },
    {
     "name": "stderr",
     "output_type": "stream",
     "text": [
      "/data/anaconda/envs/fastai/lib/python3.6/site-packages/torch/storage.py:34: FutureWarning: pickle support for Storage will be removed in 1.5. Use `torch.save` instead\n",
      "  warnings.warn(\"pickle support for Storage will be removed in 1.5. Use `torch.save` instead\", FutureWarning)\n"
     ]
    },
    {
     "name": "stdout",
     "output_type": "stream",
     "text": [
      "     21                    \u001b[36m-2.0870\u001b[0m  \u001b[32m-1.2975\u001b[0m        \u001b[35m0.0297\u001b[0m        \u001b[31m6.5684\u001b[0m     +  8.2834\n"
     ]
    },
    {
     "name": "stderr",
     "output_type": "stream",
     "text": [
      "/data/anaconda/envs/fastai/lib/python3.6/site-packages/torch/storage.py:34: FutureWarning: pickle support for Storage will be removed in 1.5. Use `torch.save` instead\n",
      "  warnings.warn(\"pickle support for Storage will be removed in 1.5. Use `torch.save` instead\", FutureWarning)\n"
     ]
    },
    {
     "name": "stdout",
     "output_type": "stream",
     "text": [
      "     22                    \u001b[36m-2.0680\u001b[0m  \u001b[32m-1.2639\u001b[0m        0.0298        \u001b[31m6.4724\u001b[0m     +  5.1480\n"
     ]
    },
    {
     "name": "stderr",
     "output_type": "stream",
     "text": [
      "/data/anaconda/envs/fastai/lib/python3.6/site-packages/torch/storage.py:34: FutureWarning: pickle support for Storage will be removed in 1.5. Use `torch.save` instead\n",
      "  warnings.warn(\"pickle support for Storage will be removed in 1.5. Use `torch.save` instead\", FutureWarning)\n"
     ]
    },
    {
     "name": "stdout",
     "output_type": "stream",
     "text": [
      "     23                    \u001b[36m-2.0496\u001b[0m  \u001b[32m-1.2298\u001b[0m        0.0299        \u001b[31m6.3750\u001b[0m     +  4.4577\n"
     ]
    },
    {
     "name": "stderr",
     "output_type": "stream",
     "text": [
      "/data/anaconda/envs/fastai/lib/python3.6/site-packages/torch/storage.py:34: FutureWarning: pickle support for Storage will be removed in 1.5. Use `torch.save` instead\n",
      "  warnings.warn(\"pickle support for Storage will be removed in 1.5. Use `torch.save` instead\", FutureWarning)\n"
     ]
    },
    {
     "name": "stdout",
     "output_type": "stream",
     "text": [
      "     24                    \u001b[36m-2.0366\u001b[0m  \u001b[32m-1.2017\u001b[0m        0.0302        \u001b[31m6.2947\u001b[0m     +  4.7162\n"
     ]
    },
    {
     "name": "stderr",
     "output_type": "stream",
     "text": [
      "/data/anaconda/envs/fastai/lib/python3.6/site-packages/torch/storage.py:34: FutureWarning: pickle support for Storage will be removed in 1.5. Use `torch.save` instead\n",
      "  warnings.warn(\"pickle support for Storage will be removed in 1.5. Use `torch.save` instead\", FutureWarning)\n"
     ]
    },
    {
     "name": "stdout",
     "output_type": "stream",
     "text": [
      "     25                    \u001b[36m-2.0352\u001b[0m  \u001b[32m-1.1888\u001b[0m        0.0305        \u001b[31m6.2576\u001b[0m     +  7.9873\n"
     ]
    },
    {
     "name": "stderr",
     "output_type": "stream",
     "text": [
      "/data/anaconda/envs/fastai/lib/python3.6/site-packages/torch/storage.py:34: FutureWarning: pickle support for Storage will be removed in 1.5. Use `torch.save` instead\n",
      "  warnings.warn(\"pickle support for Storage will be removed in 1.5. Use `torch.save` instead\", FutureWarning)\n"
     ]
    },
    {
     "name": "stdout",
     "output_type": "stream",
     "text": [
      "     26                    -2.0369  \u001b[32m-1.1816\u001b[0m        0.0307        \u001b[31m6.2371\u001b[0m     +  3.9311\n"
     ]
    },
    {
     "name": "stderr",
     "output_type": "stream",
     "text": [
      "/data/anaconda/envs/fastai/lib/python3.6/site-packages/torch/storage.py:34: FutureWarning: pickle support for Storage will be removed in 1.5. Use `torch.save` instead\n",
      "  warnings.warn(\"pickle support for Storage will be removed in 1.5. Use `torch.save` instead\", FutureWarning)\n"
     ]
    },
    {
     "name": "stdout",
     "output_type": "stream",
     "text": [
      "     27                    \u001b[36m-2.0164\u001b[0m  \u001b[32m-1.1470\u001b[0m        0.0305        \u001b[31m6.1383\u001b[0m     +  4.0642\n"
     ]
    },
    {
     "name": "stderr",
     "output_type": "stream",
     "text": [
      "/data/anaconda/envs/fastai/lib/python3.6/site-packages/torch/storage.py:34: FutureWarning: pickle support for Storage will be removed in 1.5. Use `torch.save` instead\n",
      "  warnings.warn(\"pickle support for Storage will be removed in 1.5. Use `torch.save` instead\", FutureWarning)\n"
     ]
    },
    {
     "name": "stdout",
     "output_type": "stream",
     "text": [
      "     28                    \u001b[36m-1.9806\u001b[0m  \u001b[32m-1.0940\u001b[0m        0.0301        \u001b[31m5.9868\u001b[0m     +  5.0906\n"
     ]
    },
    {
     "name": "stderr",
     "output_type": "stream",
     "text": [
      "/data/anaconda/envs/fastai/lib/python3.6/site-packages/torch/storage.py:34: FutureWarning: pickle support for Storage will be removed in 1.5. Use `torch.save` instead\n",
      "  warnings.warn(\"pickle support for Storage will be removed in 1.5. Use `torch.save` instead\", FutureWarning)\n"
     ]
    },
    {
     "name": "stdout",
     "output_type": "stream",
     "text": [
      "     29                    \u001b[36m-1.9442\u001b[0m  \u001b[32m-1.0420\u001b[0m        0.0300        \u001b[31m5.8381\u001b[0m     +  5.7487\n"
     ]
    },
    {
     "name": "stderr",
     "output_type": "stream",
     "text": [
      "/data/anaconda/envs/fastai/lib/python3.6/site-packages/torch/storage.py:34: FutureWarning: pickle support for Storage will be removed in 1.5. Use `torch.save` instead\n",
      "  warnings.warn(\"pickle support for Storage will be removed in 1.5. Use `torch.save` instead\", FutureWarning)\n"
     ]
    },
    {
     "name": "stdout",
     "output_type": "stream",
     "text": [
      "     30                    \u001b[36m-1.9117\u001b[0m  \u001b[32m-0.9968\u001b[0m        0.0300        \u001b[31m5.7089\u001b[0m     +  5.8250\n"
     ]
    },
    {
     "name": "stderr",
     "output_type": "stream",
     "text": [
      "/data/anaconda/envs/fastai/lib/python3.6/site-packages/torch/storage.py:34: FutureWarning: pickle support for Storage will be removed in 1.5. Use `torch.save` instead\n",
      "  warnings.warn(\"pickle support for Storage will be removed in 1.5. Use `torch.save` instead\", FutureWarning)\n"
     ]
    },
    {
     "name": "stdout",
     "output_type": "stream",
     "text": [
      "     31                    \u001b[36m-1.8850\u001b[0m  \u001b[32m-0.9604\u001b[0m        0.0301        \u001b[31m5.6047\u001b[0m     +  8.2367\n"
     ]
    },
    {
     "name": "stderr",
     "output_type": "stream",
     "text": [
      "/data/anaconda/envs/fastai/lib/python3.6/site-packages/torch/storage.py:34: FutureWarning: pickle support for Storage will be removed in 1.5. Use `torch.save` instead\n",
      "  warnings.warn(\"pickle support for Storage will be removed in 1.5. Use `torch.save` instead\", FutureWarning)\n"
     ]
    },
    {
     "name": "stdout",
     "output_type": "stream",
     "text": [
      "     32                    \u001b[36m-1.8632\u001b[0m  \u001b[32m-0.9309\u001b[0m        0.0302        \u001b[31m5.5204\u001b[0m     +  5.9010\n"
     ]
    },
    {
     "name": "stderr",
     "output_type": "stream",
     "text": [
      "/data/anaconda/envs/fastai/lib/python3.6/site-packages/torch/storage.py:34: FutureWarning: pickle support for Storage will be removed in 1.5. Use `torch.save` instead\n",
      "  warnings.warn(\"pickle support for Storage will be removed in 1.5. Use `torch.save` instead\", FutureWarning)\n"
     ]
    },
    {
     "name": "stdout",
     "output_type": "stream",
     "text": [
      "     33                    \u001b[36m-1.8458\u001b[0m  \u001b[32m-0.9075\u001b[0m        0.0303        \u001b[31m5.4535\u001b[0m     +  5.0471\n"
     ]
    },
    {
     "name": "stderr",
     "output_type": "stream",
     "text": [
      "/data/anaconda/envs/fastai/lib/python3.6/site-packages/torch/storage.py:34: FutureWarning: pickle support for Storage will be removed in 1.5. Use `torch.save` instead\n",
      "  warnings.warn(\"pickle support for Storage will be removed in 1.5. Use `torch.save` instead\", FutureWarning)\n"
     ]
    },
    {
     "name": "stdout",
     "output_type": "stream",
     "text": [
      "     34                    \u001b[36m-1.8305\u001b[0m  \u001b[32m-0.8870\u001b[0m        0.0304        \u001b[31m5.3950\u001b[0m     +  7.2159\n"
     ]
    },
    {
     "name": "stderr",
     "output_type": "stream",
     "text": [
      "/data/anaconda/envs/fastai/lib/python3.6/site-packages/torch/storage.py:34: FutureWarning: pickle support for Storage will be removed in 1.5. Use `torch.save` instead\n",
      "  warnings.warn(\"pickle support for Storage will be removed in 1.5. Use `torch.save` instead\", FutureWarning)\n"
     ]
    },
    {
     "name": "stdout",
     "output_type": "stream",
     "text": [
      "     35                    \u001b[36m-1.8180\u001b[0m  \u001b[32m-0.8702\u001b[0m        0.0306        \u001b[31m5.3469\u001b[0m     +  4.5500\n"
     ]
    },
    {
     "name": "stderr",
     "output_type": "stream",
     "text": [
      "/data/anaconda/envs/fastai/lib/python3.6/site-packages/torch/storage.py:34: FutureWarning: pickle support for Storage will be removed in 1.5. Use `torch.save` instead\n",
      "  warnings.warn(\"pickle support for Storage will be removed in 1.5. Use `torch.save` instead\", FutureWarning)\n"
     ]
    },
    {
     "name": "stdout",
     "output_type": "stream",
     "text": [
      "     36                    \u001b[36m-1.8045\u001b[0m  \u001b[32m-0.8523\u001b[0m        0.0307        \u001b[31m5.2956\u001b[0m     +  4.0247\n"
     ]
    },
    {
     "name": "stderr",
     "output_type": "stream",
     "text": [
      "/data/anaconda/envs/fastai/lib/python3.6/site-packages/torch/storage.py:34: FutureWarning: pickle support for Storage will be removed in 1.5. Use `torch.save` instead\n",
      "  warnings.warn(\"pickle support for Storage will be removed in 1.5. Use `torch.save` instead\", FutureWarning)\n"
     ]
    },
    {
     "name": "stdout",
     "output_type": "stream",
     "text": [
      "     37                    \u001b[36m-1.7944\u001b[0m  \u001b[32m-0.8388\u001b[0m        0.0308        \u001b[31m5.2570\u001b[0m     +  3.9290\n"
     ]
    },
    {
     "name": "stderr",
     "output_type": "stream",
     "text": [
      "/data/anaconda/envs/fastai/lib/python3.6/site-packages/torch/storage.py:34: FutureWarning: pickle support for Storage will be removed in 1.5. Use `torch.save` instead\n",
      "  warnings.warn(\"pickle support for Storage will be removed in 1.5. Use `torch.save` instead\", FutureWarning)\n"
     ]
    },
    {
     "name": "stdout",
     "output_type": "stream",
     "text": [
      "     38                    \u001b[36m-1.7798\u001b[0m  \u001b[32m-0.8193\u001b[0m        0.0309        \u001b[31m5.2014\u001b[0m     +  4.3080\n"
     ]
    },
    {
     "name": "stderr",
     "output_type": "stream",
     "text": [
      "/data/anaconda/envs/fastai/lib/python3.6/site-packages/torch/storage.py:34: FutureWarning: pickle support for Storage will be removed in 1.5. Use `torch.save` instead\n",
      "  warnings.warn(\"pickle support for Storage will be removed in 1.5. Use `torch.save` instead\", FutureWarning)\n"
     ]
    },
    {
     "name": "stdout",
     "output_type": "stream",
     "text": [
      "     39                    \u001b[36m-1.7700\u001b[0m  \u001b[32m-0.8060\u001b[0m        0.0311        \u001b[31m5.1632\u001b[0m     +  3.7676\n"
     ]
    },
    {
     "name": "stderr",
     "output_type": "stream",
     "text": [
      "/data/anaconda/envs/fastai/lib/python3.6/site-packages/torch/storage.py:34: FutureWarning: pickle support for Storage will be removed in 1.5. Use `torch.save` instead\n",
      "  warnings.warn(\"pickle support for Storage will be removed in 1.5. Use `torch.save` instead\", FutureWarning)\n"
     ]
    },
    {
     "name": "stdout",
     "output_type": "stream",
     "text": [
      "     40                    \u001b[36m-1.7570\u001b[0m  \u001b[32m-0.7884\u001b[0m        0.0313        \u001b[31m5.1130\u001b[0m     +  3.5009\n"
     ]
    },
    {
     "name": "stderr",
     "output_type": "stream",
     "text": [
      "/data/anaconda/envs/fastai/lib/python3.6/site-packages/torch/storage.py:34: FutureWarning: pickle support for Storage will be removed in 1.5. Use `torch.save` instead\n",
      "  warnings.warn(\"pickle support for Storage will be removed in 1.5. Use `torch.save` instead\", FutureWarning)\n"
     ]
    },
    {
     "name": "stdout",
     "output_type": "stream",
     "text": [
      "     41                    \u001b[36m-1.7494\u001b[0m  \u001b[32m-0.7772\u001b[0m        0.0316        \u001b[31m5.0811\u001b[0m     +  3.8343\n"
     ]
    },
    {
     "name": "stderr",
     "output_type": "stream",
     "text": [
      "/data/anaconda/envs/fastai/lib/python3.6/site-packages/torch/storage.py:34: FutureWarning: pickle support for Storage will be removed in 1.5. Use `torch.save` instead\n",
      "  warnings.warn(\"pickle support for Storage will be removed in 1.5. Use `torch.save` instead\", FutureWarning)\n"
     ]
    },
    {
     "name": "stdout",
     "output_type": "stream",
     "text": [
      "     42                    \u001b[36m-1.7393\u001b[0m  \u001b[32m-0.7619\u001b[0m        0.0320        \u001b[31m5.0373\u001b[0m     +  5.9957\n"
     ]
    },
    {
     "name": "stderr",
     "output_type": "stream",
     "text": [
      "/data/anaconda/envs/fastai/lib/python3.6/site-packages/torch/storage.py:34: FutureWarning: pickle support for Storage will be removed in 1.5. Use `torch.save` instead\n",
      "  warnings.warn(\"pickle support for Storage will be removed in 1.5. Use `torch.save` instead\", FutureWarning)\n"
     ]
    },
    {
     "name": "stdout",
     "output_type": "stream",
     "text": [
      "     43                    \u001b[36m-1.7393\u001b[0m  \u001b[32m-0.7580\u001b[0m        0.0326        \u001b[31m5.0261\u001b[0m     +  4.5052\n"
     ]
    },
    {
     "name": "stderr",
     "output_type": "stream",
     "text": [
      "/data/anaconda/envs/fastai/lib/python3.6/site-packages/torch/storage.py:34: FutureWarning: pickle support for Storage will be removed in 1.5. Use `torch.save` instead\n",
      "  warnings.warn(\"pickle support for Storage will be removed in 1.5. Use `torch.save` instead\", FutureWarning)\n"
     ]
    },
    {
     "name": "stdout",
     "output_type": "stream",
     "text": [
      "     44                    \u001b[36m-1.7321\u001b[0m  \u001b[32m-0.7451\u001b[0m        0.0333        \u001b[31m4.9892\u001b[0m     +  4.0073\n"
     ]
    },
    {
     "name": "stderr",
     "output_type": "stream",
     "text": [
      "/data/anaconda/envs/fastai/lib/python3.6/site-packages/torch/storage.py:34: FutureWarning: pickle support for Storage will be removed in 1.5. Use `torch.save` instead\n",
      "  warnings.warn(\"pickle support for Storage will be removed in 1.5. Use `torch.save` instead\", FutureWarning)\n"
     ]
    },
    {
     "name": "stdout",
     "output_type": "stream",
     "text": [
      "     45                    -1.7371  -0.7465        0.0342        4.9932        5.3536\n",
      "     46                    \u001b[36m-1.7296\u001b[0m  \u001b[32m-0.7330\u001b[0m        0.0353        \u001b[31m4.9545\u001b[0m     +  4.1390\n"
     ]
    },
    {
     "name": "stderr",
     "output_type": "stream",
     "text": [
      "/data/anaconda/envs/fastai/lib/python3.6/site-packages/torch/storage.py:34: FutureWarning: pickle support for Storage will be removed in 1.5. Use `torch.save` instead\n",
      "  warnings.warn(\"pickle support for Storage will be removed in 1.5. Use `torch.save` instead\", FutureWarning)\n"
     ]
    },
    {
     "name": "stdout",
     "output_type": "stream",
     "text": [
      "     47                    -1.7563  -0.7578        0.0368        5.0255        5.4356\n",
      "     48                    -1.7508  -0.7495        0.0385        5.0019        5.1105\n",
      "     49                    -1.8587  -0.8677        0.0406        5.3396        3.6433\n",
      "     50                    -1.7711  -0.7794        0.0421        5.0872        3.8602\n",
      "     51                    -2.2241  -1.4049        0.0444        6.8755        5.1429\n",
      "     52                    -2.1541  -1.2902        0.0440        6.5477        5.1189\n",
      "     53                    -2.0816  -1.1764        0.0445        6.2222        3.6028\n",
      "     54                    -2.0437  -1.1242        0.0438        6.0729        3.8083\n",
      "     55                    -2.1256  -1.2469        0.0433        6.4238        6.0408\n",
      "     56                    -2.0381  -1.1272        0.0417        6.0816        6.0737\n",
      "     57                    -2.2006  -1.3743        0.0414        6.7880        6.0512\n",
      "     58                    -2.0323  -1.1244        0.0394        6.0735        5.5634\n",
      "     59                    -2.1294  -1.2648        0.0396        6.4749        5.2424\n",
      "     60                    -1.9595  -1.0289        0.0376        5.8005        4.5309\n",
      "     61                    -2.1389  -1.2847        0.0382        6.5319        5.3444\n",
      "     62                    -2.0140  -1.1016        0.0364        6.0083        5.6802\n",
      "     63                    -1.8926  -0.9373        0.0364        5.5386        3.9978\n",
      "     64                    -2.0421  -1.1398        0.0361        6.1177        4.8545\n",
      "     65                    -1.8568  -0.8920        0.0348        5.4093        4.6925\n",
      "     66                    -1.9644  -1.0274        0.0354        5.7962        5.8646\n",
      "     67                    -1.7864  -0.8071        0.0339        5.1665        5.3005\n",
      "     68                    -1.9537  -1.0119        0.0348        5.7521        4.7769\n",
      "     69                    -1.7922  -0.8098        0.0333        5.1742        4.4812\n",
      "     70                    -1.7833  -0.7933        0.0338        5.1270        4.3968\n",
      "     71                    \u001b[36m-1.7203\u001b[0m  \u001b[32m-0.7243\u001b[0m        0.0329        \u001b[31m4.9296\u001b[0m     +  3.8737\n"
     ]
    },
    {
     "name": "stderr",
     "output_type": "stream",
     "text": [
      "/data/anaconda/envs/fastai/lib/python3.6/site-packages/torch/storage.py:34: FutureWarning: pickle support for Storage will be removed in 1.5. Use `torch.save` instead\n",
      "  warnings.warn(\"pickle support for Storage will be removed in 1.5. Use `torch.save` instead\", FutureWarning)\n"
     ]
    },
    {
     "name": "stdout",
     "output_type": "stream",
     "text": [
      "     72                    -1.7576  -0.7582        0.0331        5.0266        5.8393\n",
      "     73                    \u001b[36m-1.6300\u001b[0m  \u001b[32m-0.6304\u001b[0m        0.0322        \u001b[31m4.6613\u001b[0m     +  4.4523\n"
     ]
    },
    {
     "name": "stderr",
     "output_type": "stream",
     "text": [
      "/data/anaconda/envs/fastai/lib/python3.6/site-packages/torch/storage.py:34: FutureWarning: pickle support for Storage will be removed in 1.5. Use `torch.save` instead\n",
      "  warnings.warn(\"pickle support for Storage will be removed in 1.5. Use `torch.save` instead\", FutureWarning)\n"
     ]
    },
    {
     "name": "stdout",
     "output_type": "stream",
     "text": [
      "     74                    -1.7975  -0.8004        0.0328        5.1472        4.8652\n"
     ]
    }
   ],
   "source": [
    "model= lstm_att\n",
    "model.fit(x_batch,y_batch)"
   ]
  },
  {
   "cell_type": "code",
   "execution_count": null,
   "metadata": {},
   "outputs": [],
   "source": [
    "save(model, 'lstm_att')"
   ]
  }
 ],
 "metadata": {
  "kernelspec": {
   "display_name": "Python (fastai)",
   "language": "python",
   "name": "fastai"
  },
  "language_info": {
   "codemirror_mode": {
    "name": "ipython",
    "version": 3
   },
   "file_extension": ".py",
   "mimetype": "text/x-python",
   "name": "python",
   "nbconvert_exporter": "python",
   "pygments_lexer": "ipython3",
   "version": "3.6.10"
  }
 },
 "nbformat": 4,
 "nbformat_minor": 2
}
