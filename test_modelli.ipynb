{
  "nbformat": 4,
  "nbformat_minor": 0,
  "metadata": {
    "kernelspec": {
      "display_name": "stock_preds",
      "language": "python",
      "name": "stock_preds"
    },
    "language_info": {
      "codemirror_mode": {
        "name": "ipython",
        "version": 3
      },
      "file_extension": ".py",
      "mimetype": "text/x-python",
      "name": "python",
      "nbconvert_exporter": "python",
      "pygments_lexer": "ipython3",
      "version": "3.8.3"
    },
    "colab": {
      "name": "test_modelli.ipynb",
      "provenance": [],
      "collapsed_sections": []
    }
  },
  "cells": [
    {
      "cell_type": "markdown",
      "metadata": {
        "id": "4SoRjGQmhDkg",
        "colab_type": "text"
      },
      "source": [
        "# Import delle librerie necessarie"
      ]
    },
    {
      "cell_type": "code",
      "metadata": {
        "id": "c6wa9QZChDkh",
        "colab_type": "code",
        "colab": {}
      },
      "source": [
        "%reload_ext autoreload\n",
        "%autoreload 2\n",
        "%matplotlib inline"
      ],
      "execution_count": 78,
      "outputs": []
    },
    {
      "cell_type": "code",
      "metadata": {
        "id": "GO7HIqebhMFl",
        "colab_type": "code",
        "colab": {
          "base_uri": "https://localhost:8080/"
        },
        "outputId": "37add962-9279-4338-e92a-5bd1d57cf2d4"
      },
      "source": [
        "pip install yfinance, skorch"
      ],
      "execution_count": 79,
      "outputs": [
        {
          "output_type": "stream",
          "text": [
            "\u001b[31mERROR: Invalid requirement: 'yfinance,'\u001b[0m\n"
          ],
          "name": "stdout"
        }
      ]
    },
    {
      "cell_type": "code",
      "metadata": {
        "id": "iAvkL66NMopR",
        "colab_type": "code",
        "colab": {
          "base_uri": "https://localhost:8080/"
        },
        "outputId": "4a7b7edd-d1dd-47e5-8bd8-956c07eade63"
      },
      "source": [
        "!git clone https://github.com/AntonioDelleCanne/tesi.git"
      ],
      "execution_count": 80,
      "outputs": [
        {
          "output_type": "stream",
          "text": [
            "Cloning into 'tesi'...\n",
            "remote: Enumerating objects: 113, done.\u001b[K\n",
            "remote: Counting objects:   0% (1/113)\u001b[K\rremote: Counting objects:   1% (2/113)\u001b[K\rremote: Counting objects:   2% (3/113)\u001b[K\rremote: Counting objects:   3% (4/113)\u001b[K\rremote: Counting objects:   4% (5/113)\u001b[K\rremote: Counting objects:   5% (6/113)\u001b[K\rremote: Counting objects:   6% (7/113)\u001b[K\rremote: Counting objects:   7% (8/113)\u001b[K\rremote: Counting objects:   8% (10/113)\u001b[K\rremote: Counting objects:   9% (11/113)\u001b[K\rremote: Counting objects:  10% (12/113)\u001b[K\rremote: Counting objects:  11% (13/113)\u001b[K\rremote: Counting objects:  12% (14/113)\u001b[K\rremote: Counting objects:  13% (15/113)\u001b[K\rremote: Counting objects:  14% (16/113)\u001b[K\rremote: Counting objects:  15% (17/113)\u001b[K\rremote: Counting objects:  16% (19/113)\u001b[K\rremote: Counting objects:  17% (20/113)\u001b[K\rremote: Counting objects:  18% (21/113)\u001b[K\rremote: Counting objects:  19% (22/113)\u001b[K\rremote: Counting objects:  20% (23/113)\u001b[K\rremote: Counting objects:  21% (24/113)\u001b[K\rremote: Counting objects:  22% (25/113)\u001b[K\rremote: Counting objects:  23% (26/113)\u001b[K\rremote: Counting objects:  24% (28/113)\u001b[K\rremote: Counting objects:  25% (29/113)\u001b[K\rremote: Counting objects:  26% (30/113)\u001b[K\rremote: Counting objects:  27% (31/113)\u001b[K\rremote: Counting objects:  28% (32/113)\u001b[K\rremote: Counting objects:  29% (33/113)\u001b[K\rremote: Counting objects:  30% (34/113)\u001b[K\rremote: Counting objects:  31% (36/113)\u001b[K\rremote: Counting objects:  32% (37/113)\u001b[K\rremote: Counting objects:  33% (38/113)\u001b[K\rremote: Counting objects:  34% (39/113)\u001b[K\rremote: Counting objects:  35% (40/113)\u001b[K\rremote: Counting objects:  36% (41/113)\u001b[K\rremote: Counting objects:  37% (42/113)\u001b[K\rremote: Counting objects:  38% (43/113)\u001b[K\rremote: Counting objects:  39% (45/113)\u001b[K\rremote: Counting objects:  40% (46/113)\u001b[K\rremote: Counting objects:  41% (47/113)\u001b[K\rremote: Counting objects:  42% (48/113)\u001b[K\rremote: Counting objects:  43% (49/113)\u001b[K\rremote: Counting objects:  44% (50/113)\u001b[K\rremote: Counting objects:  45% (51/113)\u001b[K\rremote: Counting objects:  46% (52/113)\u001b[K\rremote: Counting objects:  47% (54/113)\u001b[K\rremote: Counting objects:  48% (55/113)\u001b[K\rremote: Counting objects:  49% (56/113)\u001b[K\rremote: Counting objects:  50% (57/113)\u001b[K\rremote: Counting objects:  51% (58/113)\u001b[K\rremote: Counting objects:  52% (59/113)\u001b[K\rremote: Counting objects:  53% (60/113)\u001b[K\rremote: Counting objects:  54% (62/113)\u001b[K\rremote: Counting objects:  55% (63/113)\u001b[K\rremote: Counting objects:  56% (64/113)\u001b[K\rremote: Counting objects:  57% (65/113)\u001b[K\rremote: Counting objects:  58% (66/113)\u001b[K\rremote: Counting objects:  59% (67/113)\u001b[K\rremote: Counting objects:  60% (68/113)\u001b[K\rremote: Counting objects:  61% (69/113)\u001b[K\rremote: Counting objects:  62% (71/113)\u001b[K\rremote: Counting objects:  63% (72/113)\u001b[K\rremote: Counting objects:  64% (73/113)\u001b[K\rremote: Counting objects:  65% (74/113)\u001b[K\rremote: Counting objects:  66% (75/113)\u001b[K\rremote: Counting objects:  67% (76/113)\u001b[K\rremote: Counting objects:  68% (77/113)\u001b[K\rremote: Counting objects:  69% (78/113)\u001b[K\rremote: Counting objects:  70% (80/113)\u001b[K\rremote: Counting objects:  71% (81/113)\u001b[K\rremote: Counting objects:  72% (82/113)\u001b[K\rremote: Counting objects:  73% (83/113)\u001b[K\rremote: Counting objects:  74% (84/113)\u001b[K\rremote: Counting objects:  75% (85/113)\u001b[K\rremote: Counting objects:  76% (86/113)\u001b[K\rremote: Counting objects:  77% (88/113)\u001b[K\rremote: Counting objects:  78% (89/113)\u001b[K\rremote: Counting objects:  79% (90/113)\u001b[K\rremote: Counting objects:  80% (91/113)\u001b[K\rremote: Counting objects:  81% (92/113)\u001b[K\rremote: Counting objects:  82% (93/113)\u001b[K\rremote: Counting objects:  83% (94/113)\u001b[K\rremote: Counting objects:  84% (95/113)\u001b[K\rremote: Counting objects:  85% (97/113)\u001b[K\rremote: Counting objects:  86% (98/113)\u001b[K\rremote: Counting objects:  87% (99/113)\u001b[K\rremote: Counting objects:  88% (100/113)\u001b[K\rremote: Counting objects:  89% (101/113)\u001b[K\rremote: Counting objects:  90% (102/113)\u001b[K\rremote: Counting objects:  91% (103/113)\u001b[K\rremote: Counting objects:  92% (104/113)\u001b[K\rremote: Counting objects:  93% (106/113)\u001b[K\rremote: Counting objects:  94% (107/113)\u001b[K\rremote: Counting objects:  95% (108/113)\u001b[K\rremote: Counting objects:  96% (109/113)\u001b[K\rremote: Counting objects:  97% (110/113)\u001b[K\rremote: Counting objects:  98% (111/113)\u001b[K\rremote: Counting objects:  99% (112/113)\u001b[K\rremote: Counting objects: 100% (113/113)\u001b[K\rremote: Counting objects: 100% (113/113), done.\u001b[K\n",
            "remote: Compressing objects:   1% (1/79)\u001b[K\rremote: Compressing objects:   2% (2/79)\u001b[K\rremote: Compressing objects:   3% (3/79)\u001b[K\rremote: Compressing objects:   5% (4/79)\u001b[K\rremote: Compressing objects:   6% (5/79)\u001b[K\rremote: Compressing objects:   7% (6/79)\u001b[K\rremote: Compressing objects:   8% (7/79)\u001b[K\rremote: Compressing objects:  10% (8/79)\u001b[K\rremote: Compressing objects:  11% (9/79)\u001b[K\rremote: Compressing objects:  12% (10/79)\u001b[K\rremote: Compressing objects:  13% (11/79)\u001b[K\rremote: Compressing objects:  15% (12/79)\u001b[K\rremote: Compressing objects:  16% (13/79)\u001b[K\rremote: Compressing objects:  17% (14/79)\u001b[K\rremote: Compressing objects:  18% (15/79)\u001b[K\rremote: Compressing objects:  20% (16/79)\u001b[K\rremote: Compressing objects:  21% (17/79)\u001b[K\rremote: Compressing objects:  22% (18/79)\u001b[K\rremote: Compressing objects:  24% (19/79)\u001b[K\rremote: Compressing objects:  25% (20/79)\u001b[K\rremote: Compressing objects:  26% (21/79)\u001b[K\rremote: Compressing objects:  27% (22/79)\u001b[K\rremote: Compressing objects:  29% (23/79)\u001b[K\rremote: Compressing objects:  30% (24/79)\u001b[K\rremote: Compressing objects:  31% (25/79)\u001b[K\rremote: Compressing objects:  32% (26/79)\u001b[K\rremote: Compressing objects:  34% (27/79)\u001b[K\rremote: Compressing objects:  35% (28/79)\u001b[K\rremote: Compressing objects:  36% (29/79)\u001b[K\rremote: Compressing objects:  37% (30/79)\u001b[K\rremote: Compressing objects:  39% (31/79)\u001b[K\rremote: Compressing objects:  40% (32/79)\u001b[K\rremote: Compressing objects:  41% (33/79)\u001b[K\rremote: Compressing objects:  43% (34/79)\u001b[K\rremote: Compressing objects:  44% (35/79)\u001b[K\rremote: Compressing objects:  45% (36/79)\u001b[K\rremote: Compressing objects:  46% (37/79)\u001b[K\rremote: Compressing objects:  48% (38/79)\u001b[K\rremote: Compressing objects:  49% (39/79)\u001b[K\rremote: Compressing objects:  50% (40/79)\u001b[K\rremote: Compressing objects:  51% (41/79)\u001b[K\rremote: Compressing objects:  53% (42/79)\u001b[K\rremote: Compressing objects:  54% (43/79)\u001b[K\rremote: Compressing objects:  55% (44/79)\u001b[K\rremote: Compressing objects:  56% (45/79)\u001b[K\rremote: Compressing objects:  58% (46/79)\u001b[K\rremote: Compressing objects:  59% (47/79)\u001b[K\rremote: Compressing objects:  60% (48/79)\u001b[K\rremote: Compressing objects:  62% (49/79)\u001b[K\rremote: Compressing objects:  63% (50/79)\u001b[K\rremote: Compressing objects:  64% (51/79)\u001b[K\rremote: Compressing objects:  65% (52/79)\u001b[K\rremote: Compressing objects:  67% (53/79)\u001b[K\rremote: Compressing objects:  68% (54/79)\u001b[K\rremote: Compressing objects:  69% (55/79)\u001b[K\rremote: Compressing objects:  70% (56/79)\u001b[K\rremote: Compressing objects:  72% (57/79)\u001b[K\rremote: Compressing objects:  73% (58/79)\u001b[K\rremote: Compressing objects:  74% (59/79)\u001b[K\rremote: Compressing objects:  75% (60/79)\u001b[K\rremote: Compressing objects:  77% (61/79)\u001b[K\rremote: Compressing objects:  78% (62/79)\u001b[K\rremote: Compressing objects:  79% (63/79)\u001b[K\rremote: Compressing objects:  81% (64/79)\u001b[K\rremote: Compressing objects:  82% (65/79)\u001b[K\rremote: Compressing objects:  83% (66/79)\u001b[K\rremote: Compressing objects:  84% (67/79)\u001b[K\rremote: Compressing objects:  86% (68/79)\u001b[K\rremote: Compressing objects:  87% (69/79)\u001b[K\rremote: Compressing objects:  88% (70/79)\u001b[K\rremote: Compressing objects:  89% (71/79)\u001b[K\rremote: Compressing objects:  91% (72/79)\u001b[K\rremote: Compressing objects:  92% (73/79)\u001b[K\rremote: Compressing objects:  93% (74/79)\u001b[K\rremote: Compressing objects:  94% (75/79)\u001b[K\rremote: Compressing objects:  96% (76/79)\u001b[K\rremote: Compressing objects:  97% (77/79)\u001b[K\rremote: Compressing objects:  98% (78/79)\u001b[K\rremote: Compressing objects: 100% (79/79)\u001b[K\rremote: Compressing objects: 100% (79/79), done.\u001b[K\n",
            "Receiving objects:   0% (1/113)   \rReceiving objects:   1% (2/113)   \rReceiving objects:   2% (3/113)   \rReceiving objects:   3% (4/113)   \rReceiving objects:   4% (5/113)   \rReceiving objects:   5% (6/113)   \rReceiving objects:   6% (7/113)   \rReceiving objects:   7% (8/113)   \rReceiving objects:   8% (10/113)   \rReceiving objects:   9% (11/113)   \rReceiving objects:  10% (12/113)   \rReceiving objects:  11% (13/113)   \rReceiving objects:  12% (14/113)   \rReceiving objects:  13% (15/113)   \rReceiving objects:  14% (16/113)   \rReceiving objects:  15% (17/113), 284.00 KiB | 537.00 KiB/s   \rReceiving objects:  16% (19/113), 284.00 KiB | 537.00 KiB/s   \rReceiving objects:  17% (20/113), 284.00 KiB | 537.00 KiB/s   \rReceiving objects:  18% (21/113), 284.00 KiB | 537.00 KiB/s   \rReceiving objects:  19% (22/113), 284.00 KiB | 537.00 KiB/s   \rReceiving objects:  20% (23/113), 284.00 KiB | 537.00 KiB/s   \rReceiving objects:  21% (24/113), 284.00 KiB | 537.00 KiB/s   \rReceiving objects:  22% (25/113), 284.00 KiB | 537.00 KiB/s   \rReceiving objects:  23% (26/113), 284.00 KiB | 537.00 KiB/s   \rReceiving objects:  24% (28/113), 284.00 KiB | 537.00 KiB/s   \rReceiving objects:  25% (29/113), 284.00 KiB | 537.00 KiB/s   \rReceiving objects:  26% (30/113), 284.00 KiB | 537.00 KiB/s   \rReceiving objects:  27% (31/113), 284.00 KiB | 537.00 KiB/s   \rReceiving objects:  28% (32/113), 284.00 KiB | 537.00 KiB/s   \rReceiving objects:  29% (33/113), 284.00 KiB | 537.00 KiB/s   \rReceiving objects:  30% (34/113), 284.00 KiB | 537.00 KiB/s   \rReceiving objects:  31% (36/113), 284.00 KiB | 537.00 KiB/s   \rReceiving objects:  32% (37/113), 284.00 KiB | 537.00 KiB/s   \rReceiving objects:  33% (38/113), 284.00 KiB | 537.00 KiB/s   \rReceiving objects:  34% (39/113), 284.00 KiB | 537.00 KiB/s   \rReceiving objects:  35% (40/113), 284.00 KiB | 537.00 KiB/s   \rReceiving objects:  36% (41/113), 284.00 KiB | 537.00 KiB/s   \rReceiving objects:  37% (42/113), 284.00 KiB | 537.00 KiB/s   \rReceiving objects:  38% (43/113), 284.00 KiB | 537.00 KiB/s   \rReceiving objects:  39% (45/113), 284.00 KiB | 537.00 KiB/s   \rReceiving objects:  40% (46/113), 284.00 KiB | 537.00 KiB/s   \rReceiving objects:  41% (47/113), 284.00 KiB | 537.00 KiB/s   \rReceiving objects:  42% (48/113), 284.00 KiB | 537.00 KiB/s   \rReceiving objects:  43% (49/113), 284.00 KiB | 537.00 KiB/s   \rReceiving objects:  44% (50/113), 284.00 KiB | 537.00 KiB/s   \rReceiving objects:  45% (51/113), 284.00 KiB | 537.00 KiB/s   \rReceiving objects:  46% (52/113), 284.00 KiB | 537.00 KiB/s   \rReceiving objects:  47% (54/113), 284.00 KiB | 537.00 KiB/s   \rReceiving objects:  48% (55/113), 284.00 KiB | 537.00 KiB/s   \rReceiving objects:  49% (56/113), 284.00 KiB | 537.00 KiB/s   \rReceiving objects:  50% (57/113), 284.00 KiB | 537.00 KiB/s   \rReceiving objects:  51% (58/113), 284.00 KiB | 537.00 KiB/s   \rReceiving objects:  52% (59/113), 284.00 KiB | 537.00 KiB/s   \rReceiving objects:  53% (60/113), 284.00 KiB | 537.00 KiB/s   \rReceiving objects:  54% (62/113), 284.00 KiB | 537.00 KiB/s   \rReceiving objects:  55% (63/113), 284.00 KiB | 537.00 KiB/s   \rReceiving objects:  56% (64/113), 284.00 KiB | 537.00 KiB/s   \rReceiving objects:  57% (65/113), 284.00 KiB | 537.00 KiB/s   \rReceiving objects:  58% (66/113), 284.00 KiB | 537.00 KiB/s   \rReceiving objects:  59% (67/113), 284.00 KiB | 537.00 KiB/s   \rReceiving objects:  60% (68/113), 284.00 KiB | 537.00 KiB/s   \rReceiving objects:  61% (69/113), 284.00 KiB | 537.00 KiB/s   \rReceiving objects:  61% (70/113), 2.71 MiB | 2.61 MiB/s   \rReceiving objects:  62% (71/113), 2.71 MiB | 2.61 MiB/s   \rReceiving objects:  63% (72/113), 2.71 MiB | 2.61 MiB/s   \rReceiving objects:  64% (73/113), 2.71 MiB | 2.61 MiB/s   \rReceiving objects:  65% (74/113), 2.71 MiB | 2.61 MiB/s   \rReceiving objects:  66% (75/113), 2.71 MiB | 2.61 MiB/s   \rReceiving objects:  67% (76/113), 2.71 MiB | 2.61 MiB/s   \rReceiving objects:  68% (77/113), 2.71 MiB | 2.61 MiB/s   \rReceiving objects:  69% (78/113), 2.71 MiB | 2.61 MiB/s   \rReceiving objects:  70% (80/113), 2.71 MiB | 2.61 MiB/s   \rReceiving objects:  71% (81/113), 2.71 MiB | 2.61 MiB/s   \rReceiving objects:  72% (82/113), 2.71 MiB | 2.61 MiB/s   \rReceiving objects:  73% (83/113), 2.71 MiB | 2.61 MiB/s   \rReceiving objects:  74% (84/113), 2.71 MiB | 2.61 MiB/s   \rremote: Total 113 (delta 42), reused 94 (delta 26), pack-reused 0\u001b[K\n",
            "Receiving objects:  75% (85/113), 2.71 MiB | 2.61 MiB/s   \rReceiving objects:  76% (86/113), 2.71 MiB | 2.61 MiB/s   \rReceiving objects:  77% (88/113), 2.71 MiB | 2.61 MiB/s   \rReceiving objects:  78% (89/113), 2.71 MiB | 2.61 MiB/s   \rReceiving objects:  79% (90/113), 2.71 MiB | 2.61 MiB/s   \rReceiving objects:  80% (91/113), 2.71 MiB | 2.61 MiB/s   \rReceiving objects:  81% (92/113), 2.71 MiB | 2.61 MiB/s   \rReceiving objects:  82% (93/113), 2.71 MiB | 2.61 MiB/s   \rReceiving objects:  83% (94/113), 2.71 MiB | 2.61 MiB/s   \rReceiving objects:  84% (95/113), 2.71 MiB | 2.61 MiB/s   \rReceiving objects:  85% (97/113), 2.71 MiB | 2.61 MiB/s   \rReceiving objects:  86% (98/113), 2.71 MiB | 2.61 MiB/s   \rReceiving objects:  87% (99/113), 2.71 MiB | 2.61 MiB/s   \rReceiving objects:  88% (100/113), 2.71 MiB | 2.61 MiB/s   \rReceiving objects:  89% (101/113), 2.71 MiB | 2.61 MiB/s   \rReceiving objects:  90% (102/113), 2.71 MiB | 2.61 MiB/s   \rReceiving objects:  91% (103/113), 2.71 MiB | 2.61 MiB/s   \rReceiving objects:  92% (104/113), 2.71 MiB | 2.61 MiB/s   \rReceiving objects:  93% (106/113), 2.71 MiB | 2.61 MiB/s   \rReceiving objects:  94% (107/113), 2.71 MiB | 2.61 MiB/s   \rReceiving objects:  95% (108/113), 2.71 MiB | 2.61 MiB/s   \rReceiving objects:  96% (109/113), 2.71 MiB | 2.61 MiB/s   \rReceiving objects:  97% (110/113), 2.71 MiB | 2.61 MiB/s   \rReceiving objects:  98% (111/113), 2.71 MiB | 2.61 MiB/s   \rReceiving objects:  99% (112/113), 2.71 MiB | 2.61 MiB/s   \rReceiving objects: 100% (113/113), 2.71 MiB | 2.61 MiB/s   \rReceiving objects: 100% (113/113), 8.25 MiB | 6.04 MiB/s, done.\n",
            "Resolving deltas:   0% (0/42)   \rResolving deltas:   2% (1/42)   \rResolving deltas:   7% (3/42)   \rResolving deltas:  14% (6/42)   \rResolving deltas:  19% (8/42)   \rResolving deltas:  30% (13/42)   \rResolving deltas:  33% (14/42)   \rResolving deltas:  35% (15/42)   \rResolving deltas:  40% (17/42)   \rResolving deltas:  45% (19/42)   \rResolving deltas:  47% (20/42)   \rResolving deltas:  50% (21/42)   \rResolving deltas:  52% (22/42)   \rResolving deltas:  54% (23/42)   \rResolving deltas:  57% (24/42)   \rResolving deltas:  59% (25/42)   \rResolving deltas:  61% (26/42)   \rResolving deltas:  64% (27/42)   \rResolving deltas:  76% (32/42)   \rResolving deltas:  78% (33/42)   \rResolving deltas:  83% (35/42)   \rResolving deltas: 100% (42/42)   \rResolving deltas: 100% (42/42), done.\n"
          ],
          "name": "stdout"
        }
      ]
    },
    {
      "cell_type": "code",
      "metadata": {
        "id": "cFpIIEUVM9p9",
        "colab_type": "code",
        "colab": {
          "base_uri": "https://localhost:8080/"
        },
        "outputId": "c94eb57a-b2ac-467d-e84f-cbb68bf1af4f"
      },
      "source": [
        "%cd tesi/DeepLearning_Financial"
      ],
      "execution_count": 81,
      "outputs": [
        {
          "output_type": "stream",
          "text": [
            "/content/tesi/DeepLearning_Financial/tesi/DeepLearning_Financial/tesi/DeepLearning_Financial/tesi/DeepLearning_Financial\n"
          ],
          "name": "stdout"
        }
      ]
    },
    {
      "cell_type": "code",
      "metadata": {
        "id": "7OGJqse3hDkk",
        "colab_type": "code",
        "colab": {
          "base_uri": "https://localhost:8080/"
        },
        "outputId": "9e37161b-5ec6-4deb-be4d-e33d86c09d79"
      },
      "source": [
        "## EXTERNAL\n",
        "import numpy as np\n",
        "import pandas as pd\n",
        "import matplotlib.pyplot as plt\n",
        "import sklearn\n",
        "import yfinance\n",
        "from pandas import Series\n",
        "from sklearn.preprocessing import PolynomialFeatures, StandardScaler, MinMaxScaler\n",
        "from sklearn.pipeline import Pipeline\n",
        "from sklearn.model_selection import TimeSeriesSplit\n",
        "from sklearn.metrics import make_scorer\n",
        "from sklearn.model_selection import cross_validate\n",
        "from sklearn.model_selection import GridSearchCV\n",
        "from IPython.display import display\n",
        "import datetime\n",
        "import torch\n",
        "import torch.nn as nn\n",
        "from torch.autograd import Variable\n",
        "import torch.optim as optim\n",
        "from torch.utils.data import Dataset, DataLoader\n",
        "import torch.nn.functional as F\n",
        "import numpy as np\n",
        "import time\n",
        "import os\n",
        "import random \n",
        "from sklearn.datasets import make_regression\n",
        "from torch import nn\n",
        "import torch.nn.functional as F\n",
        "from skorch import NeuralNetRegressor\n",
        "from torch.nn.modules.loss import MSELos\n",
        "\n",
        "##INTERNAL\n",
        "from models import Autoencoder\n",
        "from models import Sequence\n",
        "from models import waveletSmooth\n",
        "from utils import prepare_data_lstm, ExampleDataset, save_checkpoint, evaluate_lstm, backtest"
      ],
      "execution_count": 82,
      "outputs": [
        {
          "output_type": "error",
          "ename": "ModuleNotFoundError",
          "evalue": "ignored",
          "traceback": [
            "\u001b[0;31m---------------------------------------------------------------------------\u001b[0m",
            "\u001b[0;31mModuleNotFoundError\u001b[0m                       Traceback (most recent call last)",
            "\u001b[0;32m<ipython-input-82-d695395fd3e6>\u001b[0m in \u001b[0;36m<module>\u001b[0;34m()\u001b[0m\n\u001b[1;32m     27\u001b[0m \u001b[0;32mfrom\u001b[0m \u001b[0mtorch\u001b[0m \u001b[0;32mimport\u001b[0m \u001b[0mnn\u001b[0m\u001b[0;34m\u001b[0m\u001b[0;34m\u001b[0m\u001b[0m\n\u001b[1;32m     28\u001b[0m \u001b[0;32mimport\u001b[0m \u001b[0mtorch\u001b[0m\u001b[0;34m.\u001b[0m\u001b[0mnn\u001b[0m\u001b[0;34m.\u001b[0m\u001b[0mfunctional\u001b[0m \u001b[0;32mas\u001b[0m \u001b[0mF\u001b[0m\u001b[0;34m\u001b[0m\u001b[0;34m\u001b[0m\u001b[0m\n\u001b[0;32m---> 29\u001b[0;31m \u001b[0;32mfrom\u001b[0m \u001b[0mskorch\u001b[0m \u001b[0;32mimport\u001b[0m \u001b[0mNeuralNetRegressor\u001b[0m\u001b[0;34m\u001b[0m\u001b[0;34m\u001b[0m\u001b[0m\n\u001b[0m\u001b[1;32m     30\u001b[0m \u001b[0;32mfrom\u001b[0m \u001b[0mtorch\u001b[0m\u001b[0;34m.\u001b[0m\u001b[0mnn\u001b[0m\u001b[0;34m.\u001b[0m\u001b[0mmodules\u001b[0m\u001b[0;34m.\u001b[0m\u001b[0mloss\u001b[0m \u001b[0;32mimport\u001b[0m \u001b[0mMSELoss\u001b[0m\u001b[0;34m\u001b[0m\u001b[0;34m\u001b[0m\u001b[0m\n\u001b[1;32m     31\u001b[0m \u001b[0;32mimport\u001b[0m \u001b[0myfinance\u001b[0m\u001b[0;34m\u001b[0m\u001b[0;34m\u001b[0m\u001b[0m\n",
            "\u001b[0;31mModuleNotFoundError\u001b[0m: No module named 'skorch'",
            "",
            "\u001b[0;31m---------------------------------------------------------------------------\u001b[0;32m\nNOTE: If your import is failing due to a missing package, you can\nmanually install dependencies using either !pip or !apt.\n\nTo view examples of installing some common dependencies, click the\n\"Open Examples\" button below.\n\u001b[0;31m---------------------------------------------------------------------------\u001b[0m\n"
          ]
        }
      ]
    },
    {
      "cell_type": "markdown",
      "metadata": {
        "id": "J8VKBEyWhDkm",
        "colab_type": "text"
      },
      "source": [
        "# Raccolta dati e analisi esplorativa\n",
        "\n",
        "Carichiamo i dati da YahooFinance utilizzando l'API yfinance.\n",
        "Questa fornisce dati storici su un'ampia gamma di stock, e permette di ottenerli in dataframe Pandas.\n",
        "\n",
        "Da questa API otteniamo le seguenti informazioni indicizzare per data(YYYY-MM-DD):\n",
        "\n",
        " - `Open`: valore della security al momento dell'apertua del mercato\n",
        " \n",
        " - `Close`: valore della security al momento della chiusura del mercato\n",
        " \n",
        " - `Low`: valore minimo che la security ha raggiunto durante la gionrata\n",
        " \n",
        " - `High`: valore massimo che la security ha raggiunto durante la gionrata \n",
        " \n",
        " - `Volume`: numero di transazioni eseguite sulle security dello stock al momento della chiusura del mercato. Nella scelta dello stock, ne volgiamo considerare uno che abbia un volume abbastanza alto, in modod da facilitare le transazioni."
      ]
    },
    {
      "cell_type": "code",
      "metadata": {
        "id": "k0RQ1F9KhDkn",
        "colab_type": "code",
        "colab": {}
      },
      "source": [
        "start_date = \"2000-01-01\"\n",
        "end_date = \"2017-12-31\"\n",
        "security = yfinance.Ticker(\"DJIA\")\n",
        "security_data = security.history(start=start_date, end=end_date, actions=False)"
      ],
      "execution_count": null,
      "outputs": []
    },
    {
      "cell_type": "code",
      "metadata": {
        "id": "yqEC1rplhDkq",
        "colab_type": "code",
        "colab": {
          "base_uri": "https://localhost:8080/",
          "height": 297
        },
        "outputId": "4f7c32f1-df11-4b17-94d2-5e03fac51b6d"
      },
      "source": [
        "security_data.describe()"
      ],
      "execution_count": null,
      "outputs": [
        {
          "output_type": "execute_result",
          "data": {
            "text/html": [
              "<div>\n",
              "<style scoped>\n",
              "    .dataframe tbody tr th:only-of-type {\n",
              "        vertical-align: middle;\n",
              "    }\n",
              "\n",
              "    .dataframe tbody tr th {\n",
              "        vertical-align: top;\n",
              "    }\n",
              "\n",
              "    .dataframe thead th {\n",
              "        text-align: right;\n",
              "    }\n",
              "</style>\n",
              "<table border=\"1\" class=\"dataframe\">\n",
              "  <thead>\n",
              "    <tr style=\"text-align: right;\">\n",
              "      <th></th>\n",
              "      <th>Open</th>\n",
              "      <th>High</th>\n",
              "      <th>Low</th>\n",
              "      <th>Close</th>\n",
              "      <th>Volume</th>\n",
              "    </tr>\n",
              "  </thead>\n",
              "  <tbody>\n",
              "    <tr>\n",
              "      <th>count</th>\n",
              "      <td>4528.000000</td>\n",
              "      <td>4528.000000</td>\n",
              "      <td>4528.000000</td>\n",
              "      <td>4528.000000</td>\n",
              "      <td>4.528000e+03</td>\n",
              "    </tr>\n",
              "    <tr>\n",
              "      <th>mean</th>\n",
              "      <td>12740.565071</td>\n",
              "      <td>12860.832849</td>\n",
              "      <td>12620.891407</td>\n",
              "      <td>12743.508149</td>\n",
              "      <td>3.037059e+09</td>\n",
              "    </tr>\n",
              "    <tr>\n",
              "      <th>std</th>\n",
              "      <td>3608.789477</td>\n",
              "      <td>3610.574730</td>\n",
              "      <td>3609.466386</td>\n",
              "      <td>3610.827892</td>\n",
              "      <td>1.533750e+09</td>\n",
              "    </tr>\n",
              "    <tr>\n",
              "      <th>min</th>\n",
              "      <td>6547.010000</td>\n",
              "      <td>6758.440000</td>\n",
              "      <td>6440.080000</td>\n",
              "      <td>6547.050000</td>\n",
              "      <td>2.200000e+06</td>\n",
              "    </tr>\n",
              "    <tr>\n",
              "      <th>25%</th>\n",
              "      <td>10314.365000</td>\n",
              "      <td>10416.732500</td>\n",
              "      <td>10211.222500</td>\n",
              "      <td>10314.695000</td>\n",
              "      <td>1.556750e+09</td>\n",
              "    </tr>\n",
              "    <tr>\n",
              "      <th>50%</th>\n",
              "      <td>11362.830000</td>\n",
              "      <td>11471.115000</td>\n",
              "      <td>11241.835000</td>\n",
              "      <td>11364.775000</td>\n",
              "      <td>3.117765e+09</td>\n",
              "    </tr>\n",
              "    <tr>\n",
              "      <th>75%</th>\n",
              "      <td>15106.982500</td>\n",
              "      <td>15203.210000</td>\n",
              "      <td>15002.562500</td>\n",
              "      <td>15113.035000</td>\n",
              "      <td>3.938362e+09</td>\n",
              "    </tr>\n",
              "    <tr>\n",
              "      <th>max</th>\n",
              "      <td>24849.630000</td>\n",
              "      <td>24973.150000</td>\n",
              "      <td>24729.000000</td>\n",
              "      <td>24837.510000</td>\n",
              "      <td>1.145623e+10</td>\n",
              "    </tr>\n",
              "  </tbody>\n",
              "</table>\n",
              "</div>"
            ],
            "text/plain": [
              "               Open          High           Low         Close        Volume\n",
              "count   4528.000000   4528.000000   4528.000000   4528.000000  4.528000e+03\n",
              "mean   12740.565071  12860.832849  12620.891407  12743.508149  3.037059e+09\n",
              "std     3608.789477   3610.574730   3609.466386   3610.827892  1.533750e+09\n",
              "min     6547.010000   6758.440000   6440.080000   6547.050000  2.200000e+06\n",
              "25%    10314.365000  10416.732500  10211.222500  10314.695000  1.556750e+09\n",
              "50%    11362.830000  11471.115000  11241.835000  11364.775000  3.117765e+09\n",
              "75%    15106.982500  15203.210000  15002.562500  15113.035000  3.938362e+09\n",
              "max    24849.630000  24973.150000  24729.000000  24837.510000  1.145623e+10"
            ]
          },
          "metadata": {
            "tags": []
          },
          "execution_count": 15
        }
      ]
    },
    {
      "cell_type": "code",
      "metadata": {
        "id": "dx0vIkwVhDku",
        "colab_type": "code",
        "colab": {}
      },
      "source": [
        "#per essereconsiderata nella nostra analisi, una feature deve essere disponibile all'inizio della giornata, se cosi' non e',\n",
        "#possiamo considerarne i valori delle gionrate passate usando il metodo shift dei dataframe e delle serie pandas\n",
        "\n",
        "open = security_data[\"Open\"] #disponibile all'apertura\n",
        "high = security_data[\"High\"] #non disponibile all'apertura\n",
        "low = security_data[\"Low\"] #non disponibile all'apertura\n",
        "close = security_data[\"Close\"] #non disponibile all'apertura\n",
        "volume = security_data[\"Volume\"] #non disponibile all'apertura"
      ],
      "execution_count": null,
      "outputs": []
    },
    {
      "cell_type": "code",
      "metadata": {
        "id": "iIgknnJHOv7G",
        "colab_type": "code",
        "colab": {
          "base_uri": "https://localhost:8080/",
          "height": 286
        },
        "outputId": "93b2a675-c0a3-49b7-c347-c7ebd85530fe"
      },
      "source": [
        "open.plot()"
      ],
      "execution_count": null,
      "outputs": [
        {
          "output_type": "execute_result",
          "data": {
            "text/plain": [
              "<matplotlib.axes._subplots.AxesSubplot at 0x7f9c42135c50>"
            ]
          },
          "metadata": {
            "tags": []
          },
          "execution_count": 38
        },
        {
          "output_type": "display_data",
          "data": {
            "image/png": "[encoded data removed]",
            "text/plain": [
              "<Figure size 432x288 with 1 Axes>"
            ]
          },
          "metadata": {
            "tags": [],
            "needs_background": "light"
          }
        }
      ]
    },
    {
      "cell_type": "code",
      "metadata": {
        "id": "uTp5_sEhO1HM",
        "colab_type": "code",
        "colab": {
          "base_uri": "https://localhost:8080/",
          "height": 286
        },
        "outputId": "3d2686cf-af8d-4685-85bc-74f57f387bc5"
      },
      "source": [
        "open_inv = pd.Series(open.values, index=open.index[::-1])\n",
        "open_inv.plot()"
      ],
      "execution_count": null,
      "outputs": [
        {
          "output_type": "execute_result",
          "data": {
            "text/plain": [
              "<matplotlib.axes._subplots.AxesSubplot at 0x7f9c4083fbe0>"
            ]
          },
          "metadata": {
            "tags": []
          },
          "execution_count": 39
        },
        {
          "output_type": "display_data",
          "data": {
            "image/png": "[encoded data removed]",
            "text/plain": [
              "<Figure size 432x288 with 1 Axes>"
            ]
          },
          "metadata": {
            "tags": [],
            "needs_background": "light"
          }
        }
      ]
    },
    {
      "cell_type": "markdown",
      "metadata": {
        "id": "N3mVLVkyhDlI",
        "colab_type": "text"
      },
      "source": [
        "# Allenamento modello"
      ]
    },
    {
      "cell_type": "markdown",
      "metadata": {
        "id": "gw2hmMQHhDlI",
        "colab_type": "text"
      },
      "source": [
        "## Metriche\n",
        "Come metrica principale per valutare la bonta' dele predizioni utilizzeremo il Return of Investment (ROI).\n",
        "\n",
        "Con questa metrica assumiamo di utilizzare l'algoritmo di trading precedentemente descritto, e calcoliamo il guadango che avremmo ottenuto se lo avessimo utilizzato sul dataset che stiamo valutando."
      ]
    },
    {
      "cell_type": "code",
      "metadata": {
        "id": "P3gpU8l6hDlI",
        "colab_type": "code",
        "colab": {}
      },
      "source": [
        "def gain(C, C_pred):\n",
        "    O = open.reindex_like(C)\n",
        "    CO_diff = C - O\n",
        "    growth = C_pred > O\n",
        "    decline = C_pred < O\n",
        "    return CO_diff[growth].sum() - CO_diff[decline].sum()\n",
        "def roi(C, C_pred):\n",
        "    mean_open = open.reindex_like(C).mean()\n",
        "    return gain(C, C_pred) / mean_open"
      ],
      "execution_count": null,
      "outputs": []
    },
    {
      "cell_type": "markdown",
      "metadata": {
        "id": "BpEzlQ-ghDlK",
        "colab_type": "text"
      },
      "source": [
        "## Preparazione dei dati\n",
        "Come spiegato in precedenza, visto che alcune feature non sono disponibili all'inizio della giornata, per poterle utilizzare nel nostro modello, utilizzeremo i dati dei giori passati, servendoci della funzione shift.\n",
        "\n",
        "Visto che l'utilizzo di questa funzione fara' si che in alcune riche vi saranno dei vaolri NaN, dobbiamo assicurarci di eliminare queste osservazioni sia nelle serie relative ale features che in quella della variabile da predire.\n",
        "Questo compito e' svolto dalla funzione prepare_data."
      ]
    },
    {
      "cell_type": "code",
      "metadata": {
        "id": "K7Q_75EthDlL",
        "colab_type": "code",
        "colab": {}
      },
      "source": [
        "def prepare_data(features, target):\n",
        "    X = pd.DataFrame(features)\n",
        "    X.dropna(inplace=True)\n",
        "    y = target.reindex_like(X)\n",
        "    return X, y"
      ],
      "execution_count": null,
      "outputs": []
    },
    {
      "cell_type": "markdown",
      "metadata": {
        "id": "sJjrwfynhDlN",
        "colab_type": "text"
      },
      "source": [
        "Con questa funzione dividiamo i dati in training set e validation set come è stato fatto nel paper"
      ]
    },
    {
      "cell_type": "code",
      "metadata": {
        "id": "OReH-EXzhDlO",
        "colab_type": "code",
        "colab": {}
      },
      "source": [
        "def split_before_2009_06_30(X, y):\n",
        "    is_train = X.index.date < datetime.date(2009,6,30)\n",
        "    X_train = X.loc[is_train]\n",
        "    y_train = y.loc[is_train]\n",
        "    X_val = X.loc[~is_train]\n",
        "    y_val = y.loc[~is_train]\n",
        "    return X_train, X_val, y_train, y_val"
      ],
      "execution_count": null,
      "outputs": []
    },
    {
      "cell_type": "markdown",
      "metadata": {
        "id": "oW0tPxrAhDlP",
        "colab_type": "text"
      },
      "source": [
        "## Individuazione delle features piu' rilevanti\n",
        "Per individuare le feature piu' rilevanti usiamo la regressione Lasso e vediamo quali features non vengono escluse."
      ]
    },
    {
      "cell_type": "code",
      "metadata": {
        "id": "KYxv7o0ChDlQ",
        "colab_type": "code",
        "colab": {}
      },
      "source": [
        "features = {}\n",
        "# for i in range(1, 4):\n",
        "#     features[\"DeltaLag{}\".format(i)] = delta.shift(i)\n",
        "# for i in range(1, 4):\n",
        "#     features[\"DeltaSMALag{}\".format(i)] = sma_delta.shift(i)\n",
        "# for i in range(1, 4):\n",
        "#     features[\"DeltaVsSMALag{}\".format(i)] = delta_vs_sma.shift(i)\n",
        "# for i in range(1, 4):\n",
        "#     features[\"PriceVsSMALag{}\".format(i)] = price_vs_sma.shift(i)\n",
        "# for i in range(1, 4):\n",
        "#     features[\"PriceLag{}\".format(i)] = hlm.shift(i)\n",
        "features[\"Open\"] = open\n",
        "\n",
        "X, y = prepare_data(features, close)"
      ],
      "execution_count": null,
      "outputs": []
    },
    {
      "cell_type": "code",
      "metadata": {
        "id": "lpLRfMtAhDlR",
        "colab_type": "code",
        "colab": {
          "base_uri": "https://localhost:8080/",
          "height": 235
        },
        "outputId": "9a0f9cbb-3ed1-4bb5-d96b-d31dd6796797"
      },
      "source": [
        "X.head(5)"
      ],
      "execution_count": null,
      "outputs": [
        {
          "output_type": "execute_result",
          "data": {
            "text/html": [
              "<div>\n",
              "<style scoped>\n",
              "    .dataframe tbody tr th:only-of-type {\n",
              "        vertical-align: middle;\n",
              "    }\n",
              "\n",
              "    .dataframe tbody tr th {\n",
              "        vertical-align: top;\n",
              "    }\n",
              "\n",
              "    .dataframe thead th {\n",
              "        text-align: right;\n",
              "    }\n",
              "</style>\n",
              "<table border=\"1\" class=\"dataframe\">\n",
              "  <thead>\n",
              "    <tr style=\"text-align: right;\">\n",
              "      <th></th>\n",
              "      <th>Open</th>\n",
              "    </tr>\n",
              "    <tr>\n",
              "      <th>Date</th>\n",
              "      <th></th>\n",
              "    </tr>\n",
              "  </thead>\n",
              "  <tbody>\n",
              "    <tr>\n",
              "      <th>2000-01-03</th>\n",
              "      <td>11501.85</td>\n",
              "    </tr>\n",
              "    <tr>\n",
              "      <th>2000-01-04</th>\n",
              "      <td>11349.75</td>\n",
              "    </tr>\n",
              "    <tr>\n",
              "      <th>2000-01-05</th>\n",
              "      <td>10989.37</td>\n",
              "    </tr>\n",
              "    <tr>\n",
              "      <th>2000-01-06</th>\n",
              "      <td>11113.37</td>\n",
              "    </tr>\n",
              "    <tr>\n",
              "      <th>2000-01-07</th>\n",
              "      <td>11247.06</td>\n",
              "    </tr>\n",
              "  </tbody>\n",
              "</table>\n",
              "</div>"
            ],
            "text/plain": [
              "                Open\n",
              "Date                \n",
              "2000-01-03  11501.85\n",
              "2000-01-04  11349.75\n",
              "2000-01-05  10989.37\n",
              "2000-01-06  11113.37\n",
              "2000-01-07  11247.06"
            ]
          },
          "metadata": {
            "tags": []
          },
          "execution_count": 55
        }
      ]
    },
    {
      "cell_type": "code",
      "metadata": {
        "id": "sevxk4N6hDlT",
        "colab_type": "code",
        "colab": {
          "base_uri": "https://localhost:8080/",
          "height": 297
        },
        "outputId": "7871b003-141d-41d8-b96e-56854185a170"
      },
      "source": [
        "X.describe()"
      ],
      "execution_count": null,
      "outputs": [
        {
          "output_type": "execute_result",
          "data": {
            "text/html": [
              "<div>\n",
              "<style scoped>\n",
              "    .dataframe tbody tr th:only-of-type {\n",
              "        vertical-align: middle;\n",
              "    }\n",
              "\n",
              "    .dataframe tbody tr th {\n",
              "        vertical-align: top;\n",
              "    }\n",
              "\n",
              "    .dataframe thead th {\n",
              "        text-align: right;\n",
              "    }\n",
              "</style>\n",
              "<table border=\"1\" class=\"dataframe\">\n",
              "  <thead>\n",
              "    <tr style=\"text-align: right;\">\n",
              "      <th></th>\n",
              "      <th>Open</th>\n",
              "    </tr>\n",
              "  </thead>\n",
              "  <tbody>\n",
              "    <tr>\n",
              "      <th>count</th>\n",
              "      <td>4528.000000</td>\n",
              "    </tr>\n",
              "    <tr>\n",
              "      <th>mean</th>\n",
              "      <td>12740.565071</td>\n",
              "    </tr>\n",
              "    <tr>\n",
              "      <th>std</th>\n",
              "      <td>3608.789477</td>\n",
              "    </tr>\n",
              "    <tr>\n",
              "      <th>min</th>\n",
              "      <td>6547.010000</td>\n",
              "    </tr>\n",
              "    <tr>\n",
              "      <th>25%</th>\n",
              "      <td>10314.365000</td>\n",
              "    </tr>\n",
              "    <tr>\n",
              "      <th>50%</th>\n",
              "      <td>11362.830000</td>\n",
              "    </tr>\n",
              "    <tr>\n",
              "      <th>75%</th>\n",
              "      <td>15106.982500</td>\n",
              "    </tr>\n",
              "    <tr>\n",
              "      <th>max</th>\n",
              "      <td>24849.630000</td>\n",
              "    </tr>\n",
              "  </tbody>\n",
              "</table>\n",
              "</div>"
            ],
            "text/plain": [
              "               Open\n",
              "count   4528.000000\n",
              "mean   12740.565071\n",
              "std     3608.789477\n",
              "min     6547.010000\n",
              "25%    10314.365000\n",
              "50%    11362.830000\n",
              "75%    15106.982500\n",
              "max    24849.630000"
            ]
          },
          "metadata": {
            "tags": []
          },
          "execution_count": 56
        }
      ]
    },
    {
      "cell_type": "markdown",
      "metadata": {
        "id": "OjKS9Cg3hDlg",
        "colab_type": "text"
      },
      "source": [
        "## Modello casuale\n",
        "Come vediamo di seguito, il return of investment di un modello casuale negativo.\n",
        "\n",
        "Per valutare se un modello e' efficace o meno, confronteremo quindi il suo roi con quello del modello casuale,\n",
        "ossia, se se ha un roi maggiore di 0, vuol dire che e' ha un certo grado di efficacia efficace, proporzionale al valore del roi."
      ]
    },
    {
      "cell_type": "code",
      "metadata": {
        "id": "-0pcqYm2hDlh",
        "colab_type": "code",
        "colab": {}
      },
      "source": [
        "X_train, X_val, y_train, y_val = split_before_2009_06_30(X, y)"
      ],
      "execution_count": null,
      "outputs": []
    },
    {
      "cell_type": "code",
      "metadata": {
        "id": "G7JM3FvvhDli",
        "colab_type": "code",
        "colab": {
          "base_uri": "https://localhost:8080/",
          "height": 282
        },
        "outputId": "219e837f-fa9d-4640-a4f6-1b93ccb7fd27"
      },
      "source": [
        "y.plot.hist(bins=40, figsize=(12, 4))"
      ],
      "execution_count": null,
      "outputs": [
        {
          "output_type": "execute_result",
          "data": {
            "text/plain": [
              "<matplotlib.axes._subplots.AxesSubplot at 0x7f9c4071d4e0>"
            ]
          },
          "metadata": {
            "tags": []
          },
          "execution_count": 59
        },
        {
          "output_type": "display_data",
          "data": {
            "image/png": "[encoded data removed]",
            "text/plain": [
              "<Figure size 864x288 with 1 Axes>"
            ]
          },
          "metadata": {
            "tags": [],
            "needs_background": "light"
          }
        }
      ]
    },
    {
      "cell_type": "code",
      "metadata": {
        "id": "gq6kHROOhDlk",
        "colab_type": "code",
        "colab": {
          "base_uri": "https://localhost:8080/",
          "height": 34
        },
        "outputId": "6641ed7a-6ea3-4dc8-f117-a5c9efa72094"
      },
      "source": [
        "rois = []\n",
        "for s in range(1000):\n",
        "    np.random.seed(s)\n",
        "    preds = np.random.normal(y_train.mean(), y_train.std(), len(y_val))\n",
        "    rois.append(roi(y_val, preds))\n",
        "print(np.mean(rois))"
      ],
      "execution_count": null,
      "outputs": [
        {
          "output_type": "stream",
          "text": [
            "-0.43244292748307145\n"
          ],
          "name": "stdout"
        }
      ]
    },
    {
      "cell_type": "markdown",
      "metadata": {
        "id": "NJIcMifAhDln",
        "colab_type": "text"
      },
      "source": [
        "## Modelli"
      ]
    },
    {
      "cell_type": "code",
      "metadata": {
        "id": "2_s14fuIhDln",
        "colab_type": "code",
        "colab": {}
      },
      "source": [
        "models = {}"
      ],
      "execution_count": null,
      "outputs": []
    },
    {
      "cell_type": "code",
      "metadata": {
        "id": "c9nIWKRwYXRn",
        "colab_type": "code",
        "colab": {
          "base_uri": "https://localhost:8080/",
          "height": 215
        },
        "outputId": "c39d95e8-f3fe-4108-bca3-9e64d9651cf1"
      },
      "source": [
        "## Calcola la loss solo sull'utlimo elemento del batch\n",
        "class RNNMSELoss(MSELoss):\n",
        "    def __call__(self, input, target):\n",
        "        return super().__call__(input, target[-1])"
      ],
      "execution_count": null,
      "outputs": [
        {
          "output_type": "error",
          "ename": "NameError",
          "evalue": "ignored",
          "traceback": [
            "\u001b[0;31m---------------------------------------------------------------------------\u001b[0m",
            "\u001b[0;31mNameError\u001b[0m                                 Traceback (most recent call last)",
            "\u001b[0;32m<ipython-input-66-0522ff69cf2f>\u001b[0m in \u001b[0;36m<module>\u001b[0;34m()\u001b[0m\n\u001b[1;32m      1\u001b[0m \u001b[0;31m## Calcola la loss solo sull'utlimo elemento del batch\u001b[0m\u001b[0;34m\u001b[0m\u001b[0;34m\u001b[0m\u001b[0;34m\u001b[0m\u001b[0m\n\u001b[0;32m----> 2\u001b[0;31m \u001b[0;32mclass\u001b[0m \u001b[0mRNNMSELoss\u001b[0m\u001b[0;34m(\u001b[0m\u001b[0mMSELoss\u001b[0m\u001b[0;34m)\u001b[0m\u001b[0;34m:\u001b[0m\u001b[0;34m\u001b[0m\u001b[0;34m\u001b[0m\u001b[0m\n\u001b[0m\u001b[1;32m      3\u001b[0m     \u001b[0;32mdef\u001b[0m \u001b[0m__call__\u001b[0m\u001b[0;34m(\u001b[0m\u001b[0mself\u001b[0m\u001b[0;34m,\u001b[0m \u001b[0minput\u001b[0m\u001b[0;34m,\u001b[0m \u001b[0mtarget\u001b[0m\u001b[0;34m)\u001b[0m\u001b[0;34m:\u001b[0m\u001b[0;34m\u001b[0m\u001b[0;34m\u001b[0m\u001b[0m\n\u001b[1;32m      4\u001b[0m         \u001b[0;32mreturn\u001b[0m \u001b[0msuper\u001b[0m\u001b[0;34m(\u001b[0m\u001b[0;34m)\u001b[0m\u001b[0;34m.\u001b[0m\u001b[0m__call__\u001b[0m\u001b[0;34m(\u001b[0m\u001b[0minput\u001b[0m\u001b[0;34m,\u001b[0m \u001b[0mtarget\u001b[0m\u001b[0;34m[\u001b[0m\u001b[0;34m-\u001b[0m\u001b[0;36m1\u001b[0m\u001b[0;34m]\u001b[0m\u001b[0;34m)\u001b[0m\u001b[0;34m\u001b[0m\u001b[0;34m\u001b[0m\u001b[0m\n",
            "\u001b[0;31mNameError\u001b[0m: name 'MSELoss' is not defined"
          ]
        }
      ]
    },
    {
      "cell_type": "code",
      "metadata": {
        "id": "u2eBLx1pYlk_",
        "colab_type": "code",
        "colab": {}
      },
      "source": [
        "n_days= 10\n",
        "lstm = NeuralNetRegressor(\n",
        "    module=Sequence,\n",
        "    optimizer=optim.Adam,\n",
        "    batch_size=n_days,\n",
        "    criterion=RNNMSELoss,\n",
        "    max_epochs=210,\n",
        "    \n",
        "    \n",
        "    module__nb_features=X.shape[1],\n",
        "    module__hidden_size=256, \n",
        "    module__nb_layers=2,\n",
        "    optimizer__lr=0.0005,\n",
        "    optimizer__amsgrad=True\n",
        ")"
      ],
      "execution_count": null,
      "outputs": []
    },
    {
      "cell_type": "code",
      "metadata": {
        "id": "cQ4aNSkGhDlp",
        "colab_type": "code",
        "colab": {}
      },
      "source": [
        "ridge_regr = Pipeline([\n",
        "    (\"scale\",  StandardScaler()),\n",
        "    (\"regr\", Ridge())\n",
        "])\n",
        "ridge_regr_grid = {\n",
        "    \"regr__alpha\": [0.1, 1, 10, 50]\n",
        "}\n",
        "models[\"ridge_regr\"] = (ridge_regr, ridge_regr_grid)"
      ],
      "execution_count": null,
      "outputs": []
    },
    {
      "cell_type": "code",
      "metadata": {
        "id": "e-EDLZlKhDlq",
        "colab_type": "code",
        "colab": {}
      },
      "source": [
        "linear_regression = Pipeline([\n",
        "    (\"poly\", PolynomialFeatures(include_bias=False)),\n",
        "    (\"scale\", None),\n",
        "    (\"regr\", LinearRegression())\n",
        "])\n",
        "lin_regr_grid = {\n",
        "    \"scale\": [None, StandardScaler()],\n",
        "    \"poly__degree\": list(range(1, 7))\n",
        "}\n",
        "models[\"lin_regr\"] = (linear_regression, lin_regr_grid)"
      ],
      "execution_count": null,
      "outputs": []
    },
    {
      "cell_type": "code",
      "metadata": {
        "id": "iiFWzFqBhDls",
        "colab_type": "code",
        "colab": {}
      },
      "source": [
        "kernel_ridge = Pipeline([\n",
        "    (\"scale\", None),\n",
        "    (\"regr\", KernelRidge(kernel=\"rbf\"))\n",
        "])\n",
        "k_ridge_grid = {\n",
        "    \"scale\": [None, StandardScaler()],\n",
        "    \"regr__gamma\": [0.001, 0.01, 0.1],\n",
        "    \"regr__alpha\": np.logspace(-3, 2, 6)\n",
        "}\n",
        "models[\"k_ridge\"] = (kernel_ridge, k_ridge_grid)"
      ],
      "execution_count": null,
      "outputs": []
    },
    {
      "cell_type": "markdown",
      "metadata": {
        "id": "0Sn9GfeThDlu",
        "colab_type": "text"
      },
      "source": [
        "## Grid Search per trovare gli iperparametri migliori"
      ]
    },
    {
      "cell_type": "code",
      "metadata": {
        "id": "ubw0LGmwhDlv",
        "colab_type": "code",
        "colab": {}
      },
      "source": [
        "tss = TimeSeriesSplit(3)\n",
        "roi_scorer = make_scorer(roi, greater_is_better=True)\n",
        "scoring = {\n",
        "    \"roi\": roi_scorer\n",
        "}"
      ],
      "execution_count": null,
      "outputs": []
    },
    {
      "cell_type": "code",
      "metadata": {
        "id": "Ju5tIyOKhDlx",
        "colab_type": "code",
        "colab": {}
      },
      "source": [
        "results = {}\n",
        "for model_name, model_data in models.items():\n",
        "    model = model_data[0]\n",
        "    grid = model_data[1]\n",
        "    gs = GridSearchCV(model, grid, scoring=scoring, cv=tss, refit=\"roi\")\n",
        "    gs.fit(X, y)\n",
        "    cv_results = pd.DataFrame(gs.cv_results_)\n",
        "    results[model_name] = cv_results"
      ],
      "execution_count": null,
      "outputs": []
    },
    {
      "cell_type": "code",
      "metadata": {
        "scrolled": false,
        "id": "KFsWDvAghDl1",
        "colab_type": "code",
        "colab": {
          "base_uri": "https://localhost:8080/",
          "height": 1000
        },
        "outputId": "0255e626-7050-41cd-ae22-05ba211db124"
      },
      "source": [
        "pd.set_option('display.max_columns', None)\n",
        "for model_name in models.keys():\n",
        "    print(f\"-------------{model_name}--------------\")\n",
        "    display(results[model_name].sort_values(\"mean_test_roi\", ascending=False).head(5))\n",
        "    print(\"\\n\\n\")\n",
        "    #si puo' fare con un dataframe con indice gerarchico"
      ],
      "execution_count": null,
      "outputs": [
        {
          "output_type": "stream",
          "text": [
            "-------------ridge_regr--------------\n"
          ],
          "name": "stdout"
        },
        {
          "output_type": "display_data",
          "data": {
            "text/html": [
              "<div>\n",
              "<style scoped>\n",
              "    .dataframe tbody tr th:only-of-type {\n",
              "        vertical-align: middle;\n",
              "    }\n",
              "\n",
              "    .dataframe tbody tr th {\n",
              "        vertical-align: top;\n",
              "    }\n",
              "\n",
              "    .dataframe thead th {\n",
              "        text-align: right;\n",
              "    }\n",
              "</style>\n",
              "<table border=\"1\" class=\"dataframe\">\n",
              "  <thead>\n",
              "    <tr style=\"text-align: right;\">\n",
              "      <th></th>\n",
              "      <th>mean_fit_time</th>\n",
              "      <th>std_fit_time</th>\n",
              "      <th>mean_score_time</th>\n",
              "      <th>std_score_time</th>\n",
              "      <th>param_regr__alpha</th>\n",
              "      <th>params</th>\n",
              "      <th>split0_test_roi</th>\n",
              "      <th>split1_test_roi</th>\n",
              "      <th>split2_test_roi</th>\n",
              "      <th>mean_test_roi</th>\n",
              "      <th>std_test_roi</th>\n",
              "      <th>rank_test_roi</th>\n",
              "    </tr>\n",
              "  </thead>\n",
              "  <tbody>\n",
              "    <tr>\n",
              "      <th>2</th>\n",
              "      <td>0.003494</td>\n",
              "      <td>0.000117</td>\n",
              "      <td>0.002162</td>\n",
              "      <td>0.000169</td>\n",
              "      <td>10</td>\n",
              "      <td>{'regr__alpha': 10}</td>\n",
              "      <td>-0.029932</td>\n",
              "      <td>-0.001615</td>\n",
              "      <td>0.398462</td>\n",
              "      <td>0.122305</td>\n",
              "      <td>0.195614</td>\n",
              "      <td>1</td>\n",
              "    </tr>\n",
              "    <tr>\n",
              "      <th>3</th>\n",
              "      <td>0.003416</td>\n",
              "      <td>0.000258</td>\n",
              "      <td>0.002076</td>\n",
              "      <td>0.000074</td>\n",
              "      <td>50</td>\n",
              "      <td>{'regr__alpha': 50}</td>\n",
              "      <td>0.061993</td>\n",
              "      <td>-0.024026</td>\n",
              "      <td>0.109699</td>\n",
              "      <td>0.049222</td>\n",
              "      <td>0.055335</td>\n",
              "      <td>2</td>\n",
              "    </tr>\n",
              "    <tr>\n",
              "      <th>1</th>\n",
              "      <td>0.003644</td>\n",
              "      <td>0.000448</td>\n",
              "      <td>0.002820</td>\n",
              "      <td>0.000367</td>\n",
              "      <td>1</td>\n",
              "      <td>{'regr__alpha': 1}</td>\n",
              "      <td>-0.006495</td>\n",
              "      <td>0.030744</td>\n",
              "      <td>0.031438</td>\n",
              "      <td>0.018562</td>\n",
              "      <td>0.017721</td>\n",
              "      <td>3</td>\n",
              "    </tr>\n",
              "    <tr>\n",
              "      <th>0</th>\n",
              "      <td>0.003727</td>\n",
              "      <td>0.000400</td>\n",
              "      <td>0.002143</td>\n",
              "      <td>0.000023</td>\n",
              "      <td>0.1</td>\n",
              "      <td>{'regr__alpha': 0.1}</td>\n",
              "      <td>-0.050108</td>\n",
              "      <td>-0.014879</td>\n",
              "      <td>0.049432</td>\n",
              "      <td>-0.005185</td>\n",
              "      <td>0.041211</td>\n",
              "      <td>4</td>\n",
              "    </tr>\n",
              "  </tbody>\n",
              "</table>\n",
              "</div>"
            ],
            "text/plain": [
              "   mean_fit_time  std_fit_time  mean_score_time  std_score_time  \\\n",
              "2       0.003494      0.000117         0.002162        0.000169   \n",
              "3       0.003416      0.000258         0.002076        0.000074   \n",
              "1       0.003644      0.000448         0.002820        0.000367   \n",
              "0       0.003727      0.000400         0.002143        0.000023   \n",
              "\n",
              "  param_regr__alpha                params  split0_test_roi  split1_test_roi  \\\n",
              "2                10   {'regr__alpha': 10}        -0.029932        -0.001615   \n",
              "3                50   {'regr__alpha': 50}         0.061993        -0.024026   \n",
              "1                 1    {'regr__alpha': 1}        -0.006495         0.030744   \n",
              "0               0.1  {'regr__alpha': 0.1}        -0.050108        -0.014879   \n",
              "\n",
              "   split2_test_roi  mean_test_roi  std_test_roi  rank_test_roi  \n",
              "2         0.398462       0.122305      0.195614              1  \n",
              "3         0.109699       0.049222      0.055335              2  \n",
              "1         0.031438       0.018562      0.017721              3  \n",
              "0         0.049432      -0.005185      0.041211              4  "
            ]
          },
          "metadata": {
            "tags": []
          }
        },
        {
          "output_type": "stream",
          "text": [
            "\n",
            "\n",
            "\n",
            "-------------lin_regr--------------\n"
          ],
          "name": "stdout"
        },
        {
          "output_type": "display_data",
          "data": {
            "text/html": [
              "<div>\n",
              "<style scoped>\n",
              "    .dataframe tbody tr th:only-of-type {\n",
              "        vertical-align: middle;\n",
              "    }\n",
              "\n",
              "    .dataframe tbody tr th {\n",
              "        vertical-align: top;\n",
              "    }\n",
              "\n",
              "    .dataframe thead th {\n",
              "        text-align: right;\n",
              "    }\n",
              "</style>\n",
              "<table border=\"1\" class=\"dataframe\">\n",
              "  <thead>\n",
              "    <tr style=\"text-align: right;\">\n",
              "      <th></th>\n",
              "      <th>mean_fit_time</th>\n",
              "      <th>std_fit_time</th>\n",
              "      <th>mean_score_time</th>\n",
              "      <th>std_score_time</th>\n",
              "      <th>param_poly__degree</th>\n",
              "      <th>param_scale</th>\n",
              "      <th>params</th>\n",
              "      <th>split0_test_roi</th>\n",
              "      <th>split1_test_roi</th>\n",
              "      <th>split2_test_roi</th>\n",
              "      <th>mean_test_roi</th>\n",
              "      <th>std_test_roi</th>\n",
              "      <th>rank_test_roi</th>\n",
              "    </tr>\n",
              "  </thead>\n",
              "  <tbody>\n",
              "    <tr>\n",
              "      <th>4</th>\n",
              "      <td>0.011034</td>\n",
              "      <td>0.001744</td>\n",
              "      <td>0.003804</td>\n",
              "      <td>0.000331</td>\n",
              "      <td>3</td>\n",
              "      <td>None</td>\n",
              "      <td>{'poly__degree': 3, 'scale': None}</td>\n",
              "      <td>0.191562</td>\n",
              "      <td>-0.165067</td>\n",
              "      <td>0.687484</td>\n",
              "      <td>0.237993</td>\n",
              "      <td>0.349598</td>\n",
              "      <td>1</td>\n",
              "    </tr>\n",
              "    <tr>\n",
              "      <th>5</th>\n",
              "      <td>0.014915</td>\n",
              "      <td>0.002911</td>\n",
              "      <td>0.004506</td>\n",
              "      <td>0.000140</td>\n",
              "      <td>3</td>\n",
              "      <td>StandardScaler(copy=True, with_mean=True, with...</td>\n",
              "      <td>{'poly__degree': 3, 'scale': StandardScaler(co...</td>\n",
              "      <td>0.191562</td>\n",
              "      <td>-0.165067</td>\n",
              "      <td>0.687484</td>\n",
              "      <td>0.237993</td>\n",
              "      <td>0.349598</td>\n",
              "      <td>1</td>\n",
              "    </tr>\n",
              "    <tr>\n",
              "      <th>10</th>\n",
              "      <td>0.315050</td>\n",
              "      <td>0.176616</td>\n",
              "      <td>0.006685</td>\n",
              "      <td>0.000038</td>\n",
              "      <td>6</td>\n",
              "      <td>None</td>\n",
              "      <td>{'poly__degree': 6, 'scale': None}</td>\n",
              "      <td>0.342689</td>\n",
              "      <td>-0.159093</td>\n",
              "      <td>0.241984</td>\n",
              "      <td>0.141860</td>\n",
              "      <td>0.216741</td>\n",
              "      <td>3</td>\n",
              "    </tr>\n",
              "    <tr>\n",
              "      <th>6</th>\n",
              "      <td>0.029804</td>\n",
              "      <td>0.007330</td>\n",
              "      <td>0.004875</td>\n",
              "      <td>0.000170</td>\n",
              "      <td>4</td>\n",
              "      <td>None</td>\n",
              "      <td>{'poly__degree': 4, 'scale': None}</td>\n",
              "      <td>0.125119</td>\n",
              "      <td>-0.010477</td>\n",
              "      <td>0.295892</td>\n",
              "      <td>0.136845</td>\n",
              "      <td>0.125349</td>\n",
              "      <td>4</td>\n",
              "    </tr>\n",
              "    <tr>\n",
              "      <th>7</th>\n",
              "      <td>0.032840</td>\n",
              "      <td>0.005772</td>\n",
              "      <td>0.007213</td>\n",
              "      <td>0.002876</td>\n",
              "      <td>4</td>\n",
              "      <td>StandardScaler(copy=True, with_mean=True, with...</td>\n",
              "      <td>{'poly__degree': 4, 'scale': StandardScaler(co...</td>\n",
              "      <td>0.125119</td>\n",
              "      <td>-0.010477</td>\n",
              "      <td>0.295892</td>\n",
              "      <td>0.136845</td>\n",
              "      <td>0.125349</td>\n",
              "      <td>4</td>\n",
              "    </tr>\n",
              "  </tbody>\n",
              "</table>\n",
              "</div>"
            ],
            "text/plain": [
              "    mean_fit_time  std_fit_time  mean_score_time  std_score_time  \\\n",
              "4        0.011034      0.001744         0.003804        0.000331   \n",
              "5        0.014915      0.002911         0.004506        0.000140   \n",
              "10       0.315050      0.176616         0.006685        0.000038   \n",
              "6        0.029804      0.007330         0.004875        0.000170   \n",
              "7        0.032840      0.005772         0.007213        0.002876   \n",
              "\n",
              "   param_poly__degree                                        param_scale  \\\n",
              "4                   3                                               None   \n",
              "5                   3  StandardScaler(copy=True, with_mean=True, with...   \n",
              "10                  6                                               None   \n",
              "6                   4                                               None   \n",
              "7                   4  StandardScaler(copy=True, with_mean=True, with...   \n",
              "\n",
              "                                               params  split0_test_roi  \\\n",
              "4                  {'poly__degree': 3, 'scale': None}         0.191562   \n",
              "5   {'poly__degree': 3, 'scale': StandardScaler(co...         0.191562   \n",
              "10                 {'poly__degree': 6, 'scale': None}         0.342689   \n",
              "6                  {'poly__degree': 4, 'scale': None}         0.125119   \n",
              "7   {'poly__degree': 4, 'scale': StandardScaler(co...         0.125119   \n",
              "\n",
              "    split1_test_roi  split2_test_roi  mean_test_roi  std_test_roi  \\\n",
              "4         -0.165067         0.687484       0.237993      0.349598   \n",
              "5         -0.165067         0.687484       0.237993      0.349598   \n",
              "10        -0.159093         0.241984       0.141860      0.216741   \n",
              "6         -0.010477         0.295892       0.136845      0.125349   \n",
              "7         -0.010477         0.295892       0.136845      0.125349   \n",
              "\n",
              "    rank_test_roi  \n",
              "4               1  \n",
              "5               1  \n",
              "10              3  \n",
              "6               4  \n",
              "7               4  "
            ]
          },
          "metadata": {
            "tags": []
          }
        },
        {
          "output_type": "stream",
          "text": [
            "\n",
            "\n",
            "\n",
            "-------------k_ridge--------------\n"
          ],
          "name": "stdout"
        },
        {
          "output_type": "display_data",
          "data": {
            "text/html": [
              "<div>\n",
              "<style scoped>\n",
              "    .dataframe tbody tr th:only-of-type {\n",
              "        vertical-align: middle;\n",
              "    }\n",
              "\n",
              "    .dataframe tbody tr th {\n",
              "        vertical-align: top;\n",
              "    }\n",
              "\n",
              "    .dataframe thead th {\n",
              "        text-align: right;\n",
              "    }\n",
              "</style>\n",
              "<table border=\"1\" class=\"dataframe\">\n",
              "  <thead>\n",
              "    <tr style=\"text-align: right;\">\n",
              "      <th></th>\n",
              "      <th>mean_fit_time</th>\n",
              "      <th>std_fit_time</th>\n",
              "      <th>mean_score_time</th>\n",
              "      <th>std_score_time</th>\n",
              "      <th>param_regr__alpha</th>\n",
              "      <th>param_regr__gamma</th>\n",
              "      <th>param_scale</th>\n",
              "      <th>params</th>\n",
              "      <th>split0_test_roi</th>\n",
              "      <th>split1_test_roi</th>\n",
              "      <th>split2_test_roi</th>\n",
              "      <th>mean_test_roi</th>\n",
              "      <th>std_test_roi</th>\n",
              "      <th>rank_test_roi</th>\n",
              "    </tr>\n",
              "  </thead>\n",
              "  <tbody>\n",
              "    <tr>\n",
              "      <th>7</th>\n",
              "      <td>0.072577</td>\n",
              "      <td>0.050123</td>\n",
              "      <td>0.017760</td>\n",
              "      <td>0.005557</td>\n",
              "      <td>0.01</td>\n",
              "      <td>0.001</td>\n",
              "      <td>StandardScaler(copy=True, with_mean=True, with...</td>\n",
              "      <td>{'regr__alpha': 0.01, 'regr__gamma': 0.001, 's...</td>\n",
              "      <td>-0.085762</td>\n",
              "      <td>0.400412</td>\n",
              "      <td>0.910933</td>\n",
              "      <td>0.408528</td>\n",
              "      <td>0.406940</td>\n",
              "      <td>1</td>\n",
              "    </tr>\n",
              "    <tr>\n",
              "      <th>8</th>\n",
              "      <td>0.071150</td>\n",
              "      <td>0.049809</td>\n",
              "      <td>0.019299</td>\n",
              "      <td>0.004225</td>\n",
              "      <td>0.01</td>\n",
              "      <td>0.01</td>\n",
              "      <td>None</td>\n",
              "      <td>{'regr__alpha': 0.01, 'regr__gamma': 0.01, 'sc...</td>\n",
              "      <td>0.256125</td>\n",
              "      <td>0.397554</td>\n",
              "      <td>0.444282</td>\n",
              "      <td>0.365987</td>\n",
              "      <td>0.079992</td>\n",
              "      <td>2</td>\n",
              "    </tr>\n",
              "    <tr>\n",
              "      <th>1</th>\n",
              "      <td>0.086959</td>\n",
              "      <td>0.063666</td>\n",
              "      <td>0.017870</td>\n",
              "      <td>0.005306</td>\n",
              "      <td>0.001</td>\n",
              "      <td>0.001</td>\n",
              "      <td>StandardScaler(copy=True, with_mean=True, with...</td>\n",
              "      <td>{'regr__alpha': 0.001, 'regr__gamma': 0.001, '...</td>\n",
              "      <td>-0.168346</td>\n",
              "      <td>0.469475</td>\n",
              "      <td>0.694707</td>\n",
              "      <td>0.331946</td>\n",
              "      <td>0.365514</td>\n",
              "      <td>3</td>\n",
              "    </tr>\n",
              "    <tr>\n",
              "      <th>14</th>\n",
              "      <td>0.071230</td>\n",
              "      <td>0.050763</td>\n",
              "      <td>0.017533</td>\n",
              "      <td>0.006215</td>\n",
              "      <td>0.1</td>\n",
              "      <td>0.01</td>\n",
              "      <td>None</td>\n",
              "      <td>{'regr__alpha': 0.1, 'regr__gamma': 0.01, 'sca...</td>\n",
              "      <td>0.298136</td>\n",
              "      <td>0.277266</td>\n",
              "      <td>0.292547</td>\n",
              "      <td>0.289316</td>\n",
              "      <td>0.008821</td>\n",
              "      <td>4</td>\n",
              "    </tr>\n",
              "    <tr>\n",
              "      <th>21</th>\n",
              "      <td>0.076957</td>\n",
              "      <td>0.055982</td>\n",
              "      <td>0.018027</td>\n",
              "      <td>0.005427</td>\n",
              "      <td>1</td>\n",
              "      <td>0.01</td>\n",
              "      <td>StandardScaler(copy=True, with_mean=True, with...</td>\n",
              "      <td>{'regr__alpha': 1.0, 'regr__gamma': 0.01, 'sca...</td>\n",
              "      <td>-0.018269</td>\n",
              "      <td>0.142085</td>\n",
              "      <td>0.711317</td>\n",
              "      <td>0.278377</td>\n",
              "      <td>0.313056</td>\n",
              "      <td>5</td>\n",
              "    </tr>\n",
              "  </tbody>\n",
              "</table>\n",
              "</div>"
            ],
            "text/plain": [
              "    mean_fit_time  std_fit_time  mean_score_time  std_score_time  \\\n",
              "7        0.072577      0.050123         0.017760        0.005557   \n",
              "8        0.071150      0.049809         0.019299        0.004225   \n",
              "1        0.086959      0.063666         0.017870        0.005306   \n",
              "14       0.071230      0.050763         0.017533        0.006215   \n",
              "21       0.076957      0.055982         0.018027        0.005427   \n",
              "\n",
              "   param_regr__alpha param_regr__gamma  \\\n",
              "7               0.01             0.001   \n",
              "8               0.01              0.01   \n",
              "1              0.001             0.001   \n",
              "14               0.1              0.01   \n",
              "21                 1              0.01   \n",
              "\n",
              "                                          param_scale  \\\n",
              "7   StandardScaler(copy=True, with_mean=True, with...   \n",
              "8                                                None   \n",
              "1   StandardScaler(copy=True, with_mean=True, with...   \n",
              "14                                               None   \n",
              "21  StandardScaler(copy=True, with_mean=True, with...   \n",
              "\n",
              "                                               params  split0_test_roi  \\\n",
              "7   {'regr__alpha': 0.01, 'regr__gamma': 0.001, 's...        -0.085762   \n",
              "8   {'regr__alpha': 0.01, 'regr__gamma': 0.01, 'sc...         0.256125   \n",
              "1   {'regr__alpha': 0.001, 'regr__gamma': 0.001, '...        -0.168346   \n",
              "14  {'regr__alpha': 0.1, 'regr__gamma': 0.01, 'sca...         0.298136   \n",
              "21  {'regr__alpha': 1.0, 'regr__gamma': 0.01, 'sca...        -0.018269   \n",
              "\n",
              "    split1_test_roi  split2_test_roi  mean_test_roi  std_test_roi  \\\n",
              "7          0.400412         0.910933       0.408528      0.406940   \n",
              "8          0.397554         0.444282       0.365987      0.079992   \n",
              "1          0.469475         0.694707       0.331946      0.365514   \n",
              "14         0.277266         0.292547       0.289316      0.008821   \n",
              "21         0.142085         0.711317       0.278377      0.313056   \n",
              "\n",
              "    rank_test_roi  \n",
              "7               1  \n",
              "8               2  \n",
              "1               3  \n",
              "14              4  \n",
              "21              5  "
            ]
          },
          "metadata": {
            "tags": []
          }
        },
        {
          "output_type": "stream",
          "text": [
            "\n",
            "\n",
            "\n"
          ],
          "name": "stdout"
        }
      ]
    },
    {
      "cell_type": "markdown",
      "metadata": {
        "id": "QfFKz9sVhDl3",
        "colab_type": "text"
      },
      "source": [
        "## Modello Migliore\n",
        "Dall'analisi dei risultati di Grid Search, selezioniamo il modello nella cella seguente.\n",
        "\n",
        "Questo modello ha un return of investment abbastanza alto(mean_test_roi) e \n",
        "che hanno una deviazione standard di questo errore(std_test_roi) bassa. \n",
        "\n",
        "Questo e' importante poiche' vuol dire che l'accuratezza delle predizioni fatte da queti modelli non varia\n",
        "significativamente cambiando i dati, e questo le rende affidabili.\n",
        "\n",
        "Nell'analisi precedente, vi sono infatti modelli con ROI piu' alto di questo, ma con una deviazione standard motlo alta, e cio' fa si che siano inaffidabili."
      ]
    },
    {
      "cell_type": "code",
      "metadata": {
        "id": "U-ZTlK_6hDl3",
        "colab_type": "code",
        "colab": {}
      },
      "source": [
        "#kernel ridge ha il roi migliore e ha una deviazione standard sui fold set motlo bassa\n",
        "best = Pipeline([\n",
        "    (\"scale\", None),\n",
        "    (\"regr\", KernelRidge(kernel=\"rbf\", alpha=0.1, gamma=0.01))\n",
        "])"
      ],
      "execution_count": null,
      "outputs": []
    },
    {
      "cell_type": "markdown",
      "metadata": {
        "id": "DE1BE9d_hDl4",
        "colab_type": "text"
      },
      "source": [
        "## Interpretazione dei coefficienti del modello migliore\n",
        "Dall'analisi dei coefficienti dei parametri riportata di seguito, si nota che la maggiorparte di questi e' negativa e cio' vuol dire che i parametri scelti sono inversamente proporzionali alla variabile da predire, delta.\n",
        "\n",
        "Come parametri abbiamo usato le differenze tra valore del delta/prezzo e media del delta/prezzo.\n",
        "\n",
        "Il fatto che i coefficienti di questi parametri siano negativi indica che, visto che il prezzo, nel lasso di pochi gionri (in questo caso 3) rimane circa intorno al suo valore medio, se nei giorni precedenti ha assunto valori sotto quello medio, e' probabile che il giorno attuale risalga e che quindi a fine giornata il pezzo sia piu' alto rispetto a quello di inizio giornata."
      ]
    },
    {
      "cell_type": "code",
      "metadata": {
        "id": "N9xTYFh1hDl5",
        "colab_type": "code",
        "colab": {
          "base_uri": "https://localhost:8080/",
          "height": 136
        },
        "outputId": "c22e81d1-4f39-4c4a-a565-09f1a3ec1857"
      },
      "source": [
        "best.fit(X, y)\n",
        "coef = pd.Series(np.dot(X.transpose(),best[\"regr\"].dual_coef_), X.columns)\n",
        "coef.sort_values(ascending=False)"
      ],
      "execution_count": null,
      "outputs": [
        {
          "output_type": "execute_result",
          "data": {
            "text/plain": [
              "DeltaVsSMALag3     3545.059666\n",
              "DeltaVsSMALag2   -12340.342246\n",
              "DeltaVsSMALag1   -15778.464910\n",
              "PriceVsSMALag2   -49600.965146\n",
              "PriceVsSMALag1   -50322.669523\n",
              "PriceVsSMALag3   -56478.079805\n",
              "dtype: float64"
            ]
          },
          "metadata": {
            "tags": []
          },
          "execution_count": 415
        }
      ]
    }
  ]
}