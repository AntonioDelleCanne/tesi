{
 "cells": [
  {
   "cell_type": "markdown",
   "metadata": {
    "colab_type": "text",
    "id": "4SoRjGQmhDkg"
   },
   "source": [
    "# Import delle librerie necessarie"
   ]
  },
  {
   "cell_type": "code",
   "execution_count": 1,
   "metadata": {
    "colab": {},
    "colab_type": "code",
    "id": "c6wa9QZChDkh"
   },
   "outputs": [],
   "source": [
    "%reload_ext autoreload\n",
    "%autoreload 2\n",
    "%matplotlib inline"
   ]
  },
  {
   "cell_type": "code",
   "execution_count": 2,
   "metadata": {
    "colab": {
     "base_uri": "https://localhost:8080/"
    },
    "colab_type": "code",
    "id": "iAvkL66NMopR",
    "outputId": "4a7b7edd-d1dd-47e5-8bd8-956c07eade63"
   },
   "outputs": [],
   "source": [
    "# !git clone https://github.com/AntonioDelleCanne/tesi.git"
   ]
  },
  {
   "cell_type": "code",
   "execution_count": 3,
   "metadata": {
    "colab": {
     "base_uri": "https://localhost:8080/"
    },
    "colab_type": "code",
    "id": "cFpIIEUVM9p9",
    "outputId": "c94eb57a-b2ac-467d-e84f-cbb68bf1af4f"
   },
   "outputs": [
    {
     "name": "stdout",
     "output_type": "stream",
     "text": [
      "/data/home/dsvm_server_admin/notebooks/fastai/tesi/DeepLearning_Financial\n"
     ]
    }
   ],
   "source": [
    "%cd DeepLearning_Financial"
   ]
  },
  {
   "cell_type": "code",
   "execution_count": 4,
   "metadata": {
    "colab": {
     "base_uri": "https://localhost:8080/"
    },
    "colab_type": "code",
    "id": "7OGJqse3hDkk",
    "outputId": "9e37161b-5ec6-4deb-be4d-e33d86c09d79"
   },
   "outputs": [],
   "source": [
    "## EXTERNAL\n",
    "import numpy as np\n",
    "import pandas as pd\n",
    "import matplotlib.pyplot as plt\n",
    "import sklearn\n",
    "import yfinance\n",
    "from pandas import Series\n",
    "from sklearn.preprocessing import PolynomialFeatures, StandardScaler, MinMaxScaler\n",
    "from sklearn.pipeline import Pipeline\n",
    "from sklearn.model_selection import TimeSeriesSplit\n",
    "from sklearn.metrics import make_scorer\n",
    "from sklearn.model_selection import cross_validate\n",
    "from sklearn.model_selection import GridSearchCV\n",
    "from IPython.display import display\n",
    "import datetime\n",
    "import torch\n",
    "import torch.nn as nn\n",
    "from torch.autograd import Variable\n",
    "import torch.optim as optim\n",
    "from torch.utils.data import Dataset, DataLoader\n",
    "import torch.nn.functional as F\n",
    "import numpy as np\n",
    "import time\n",
    "import os\n",
    "import random \n",
    "from sklearn.datasets import make_regression\n",
    "from torch import nn\n",
    "import torch.nn.functional as F\n",
    "from skorch import NeuralNetRegressor\n",
    "from torch.nn.modules.loss import MSELoss\n",
    "import tensorflow as tf\n",
    "from tensorflow import keras\n",
    "from skorch.dataset import CVSplit\n",
    "\n",
    "##INTERNAL\n",
    "from models import Autoencoder\n",
    "from models import Sequence\n",
    "from models import waveletSmooth\n",
    "from utils import prepare_data_lstm, ExampleDataset, save_checkpoint, evaluate_lstm, backtest"
   ]
  },
  {
   "cell_type": "markdown",
   "metadata": {
    "colab_type": "text",
    "id": "J8VKBEyWhDkm"
   },
   "source": [
    "# Raccolta dati e analisi esplorativa\n",
    "\n",
    "Carichiamo i dati da YahooFinance utilizzando l'API yfinance.\n",
    "Questa fornisce dati storici su un'ampia gamma di stock, e permette di ottenerli in dataframe Pandas.\n",
    "\n",
    "Da questa API otteniamo le seguenti informazioni indicizzare per data(YYYY-MM-DD):\n",
    "\n",
    " - `Open`: valore della security al momento dell'apertua del mercato\n",
    " \n",
    " - `Close`: valore della security al momento della chiusura del mercato\n",
    " \n",
    " - `Low`: valore minimo che la security ha raggiunto durante la gionrata\n",
    " \n",
    " - `High`: valore massimo che la security ha raggiunto durante la gionrata \n",
    " \n",
    " - `Volume`: numero di transazioni eseguite sulle security dello stock al momento della chiusura del mercato. Nella scelta dello stock, ne volgiamo considerare uno che abbia un volume abbastanza alto, in modod da facilitare le transazioni."
   ]
  },
  {
   "cell_type": "code",
   "execution_count": 5,
   "metadata": {
    "colab": {},
    "colab_type": "code",
    "id": "k0RQ1F9KhDkn"
   },
   "outputs": [],
   "source": [
    "start_date = \"2000-01-01\"\n",
    "end_date = \"2017-12-31\"\n",
    "security = yfinance.Ticker(\"DJIA\")\n",
    "security_data = security.history(start=start_date, end=end_date, actions=False)"
   ]
  },
  {
   "cell_type": "code",
   "execution_count": 6,
   "metadata": {
    "colab": {
     "base_uri": "https://localhost:8080/",
     "height": 297
    },
    "colab_type": "code",
    "id": "yqEC1rplhDkq",
    "outputId": "4f7c32f1-df11-4b17-94d2-5e03fac51b6d"
   },
   "outputs": [
    {
     "data": {
      "text/html": [
       "<div>\n",
       "<style scoped>\n",
       "    .dataframe tbody tr th:only-of-type {\n",
       "        vertical-align: middle;\n",
       "    }\n",
       "\n",
       "    .dataframe tbody tr th {\n",
       "        vertical-align: top;\n",
       "    }\n",
       "\n",
       "    .dataframe thead th {\n",
       "        text-align: right;\n",
       "    }\n",
       "</style>\n",
       "<table border=\"1\" class=\"dataframe\">\n",
       "  <thead>\n",
       "    <tr style=\"text-align: right;\">\n",
       "      <th></th>\n",
       "      <th>Open</th>\n",
       "      <th>High</th>\n",
       "      <th>Low</th>\n",
       "      <th>Close</th>\n",
       "      <th>Volume</th>\n",
       "    </tr>\n",
       "  </thead>\n",
       "  <tbody>\n",
       "    <tr>\n",
       "      <th>count</th>\n",
       "      <td>4528.000000</td>\n",
       "      <td>4528.000000</td>\n",
       "      <td>4528.000000</td>\n",
       "      <td>4528.000000</td>\n",
       "      <td>4.528000e+03</td>\n",
       "    </tr>\n",
       "    <tr>\n",
       "      <th>mean</th>\n",
       "      <td>12740.565071</td>\n",
       "      <td>12860.832849</td>\n",
       "      <td>12620.891407</td>\n",
       "      <td>12743.508149</td>\n",
       "      <td>3.037059e+09</td>\n",
       "    </tr>\n",
       "    <tr>\n",
       "      <th>std</th>\n",
       "      <td>3608.789477</td>\n",
       "      <td>3610.574730</td>\n",
       "      <td>3609.466386</td>\n",
       "      <td>3610.827892</td>\n",
       "      <td>1.533750e+09</td>\n",
       "    </tr>\n",
       "    <tr>\n",
       "      <th>min</th>\n",
       "      <td>6547.010000</td>\n",
       "      <td>6758.440000</td>\n",
       "      <td>6440.080000</td>\n",
       "      <td>6547.050000</td>\n",
       "      <td>2.200000e+06</td>\n",
       "    </tr>\n",
       "    <tr>\n",
       "      <th>25%</th>\n",
       "      <td>10314.365000</td>\n",
       "      <td>10416.732500</td>\n",
       "      <td>10211.222500</td>\n",
       "      <td>10314.695000</td>\n",
       "      <td>1.556750e+09</td>\n",
       "    </tr>\n",
       "    <tr>\n",
       "      <th>50%</th>\n",
       "      <td>11362.830000</td>\n",
       "      <td>11471.115000</td>\n",
       "      <td>11241.835000</td>\n",
       "      <td>11364.775000</td>\n",
       "      <td>3.117765e+09</td>\n",
       "    </tr>\n",
       "    <tr>\n",
       "      <th>75%</th>\n",
       "      <td>15106.982500</td>\n",
       "      <td>15203.210000</td>\n",
       "      <td>15002.562500</td>\n",
       "      <td>15113.035000</td>\n",
       "      <td>3.938362e+09</td>\n",
       "    </tr>\n",
       "    <tr>\n",
       "      <th>max</th>\n",
       "      <td>24849.630000</td>\n",
       "      <td>24973.150000</td>\n",
       "      <td>24729.000000</td>\n",
       "      <td>24837.510000</td>\n",
       "      <td>1.145623e+10</td>\n",
       "    </tr>\n",
       "  </tbody>\n",
       "</table>\n",
       "</div>"
      ],
      "text/plain": [
       "               Open          High           Low         Close        Volume\n",
       "count   4528.000000   4528.000000   4528.000000   4528.000000  4.528000e+03\n",
       "mean   12740.565071  12860.832849  12620.891407  12743.508149  3.037059e+09\n",
       "std     3608.789477   3610.574730   3609.466386   3610.827892  1.533750e+09\n",
       "min     6547.010000   6758.440000   6440.080000   6547.050000  2.200000e+06\n",
       "25%    10314.365000  10416.732500  10211.222500  10314.695000  1.556750e+09\n",
       "50%    11362.830000  11471.115000  11241.835000  11364.775000  3.117765e+09\n",
       "75%    15106.982500  15203.210000  15002.562500  15113.035000  3.938362e+09\n",
       "max    24849.630000  24973.150000  24729.000000  24837.510000  1.145623e+10"
      ]
     },
     "execution_count": 6,
     "metadata": {},
     "output_type": "execute_result"
    }
   ],
   "source": [
    "security_data.describe()"
   ]
  },
  {
   "cell_type": "code",
   "execution_count": 7,
   "metadata": {
    "colab": {},
    "colab_type": "code",
    "id": "dx0vIkwVhDku"
   },
   "outputs": [],
   "source": [
    "#per essereconsiderata nella nostra analisi, una feature deve essere disponibile all'inizio della giornata, se cosi' non e',\n",
    "#possiamo considerarne i valori delle gionrate passate usando il metodo shift dei dataframe e delle serie pandas\n",
    "\n",
    "open = security_data[\"Open\"] #disponibile all'apertura\n",
    "high = security_data[\"High\"] #non disponibile all'apertura\n",
    "low = security_data[\"Low\"] #non disponibile all'apertura\n",
    "close = security_data[\"Close\"] #non disponibile all'apertura\n",
    "volume = security_data[\"Volume\"] #non disponibile all'apertura"
   ]
  },
  {
   "cell_type": "code",
   "execution_count": 8,
   "metadata": {
    "colab": {
     "base_uri": "https://localhost:8080/",
     "height": 286
    },
    "colab_type": "code",
    "id": "iIgknnJHOv7G",
    "outputId": "93b2a675-c0a3-49b7-c347-c7ebd85530fe"
   },
   "outputs": [
    {
     "data": {
      "text/plain": [
       "<matplotlib.axes._subplots.AxesSubplot at 0x7efd7fa0b2b0>"
      ]
     },
     "execution_count": 8,
     "metadata": {},
     "output_type": "execute_result"
    },
    {
     "data": {
      "image/png": "[encoded data removed]",
      "text/plain": [
       "<Figure size 432x288 with 1 Axes>"
      ]
     },
     "metadata": {
      "needs_background": "light"
     },
     "output_type": "display_data"
    }
   ],
   "source": [
    "open.plot()"
   ]
  },
  {
   "cell_type": "code",
   "execution_count": 9,
   "metadata": {
    "colab": {
     "base_uri": "https://localhost:8080/",
     "height": 286
    },
    "colab_type": "code",
    "id": "uTp5_sEhO1HM",
    "outputId": "3d2686cf-af8d-4685-85bc-74f57f387bc5"
   },
   "outputs": [
    {
     "data": {
      "text/plain": [
       "<matplotlib.axes._subplots.AxesSubplot at 0x7efd7c869828>"
      ]
     },
     "execution_count": 9,
     "metadata": {},
     "output_type": "execute_result"
    },
    {
     "data": {
      "image/png": "[encoded data removed]",
      "text/plain": [
       "<Figure size 432x288 with 1 Axes>"
      ]
     },
     "metadata": {
      "needs_background": "light"
     },
     "output_type": "display_data"
    }
   ],
   "source": [
    "open_inv = pd.Series(open.values, index=open.index[::-1])\n",
    "open_inv.plot()"
   ]
  },
  {
   "cell_type": "markdown",
   "metadata": {
    "colab_type": "text",
    "id": "N3mVLVkyhDlI"
   },
   "source": [
    "# Allenamento modello"
   ]
  },
  {
   "cell_type": "markdown",
   "metadata": {
    "colab_type": "text",
    "id": "gw2hmMQHhDlI"
   },
   "source": [
    "## Metriche\n",
    "Come metrica principale per valutare la bonta' dele predizioni utilizzeremo il Return of Investment (ROI).\n",
    "\n",
    "Con questa metrica assumiamo di utilizzare l'algoritmo di trading precedentemente descritto, e calcoliamo il guadango che avremmo ottenuto se lo avessimo utilizzato sul dataset che stiamo valutando."
   ]
  },
  {
   "cell_type": "code",
   "execution_count": 10,
   "metadata": {
    "colab": {},
    "colab_type": "code",
    "id": "P3gpU8l6hDlI"
   },
   "outputs": [],
   "source": [
    "def gain(C, C_pred):\n",
    "    O = open.reindex_like(C)\n",
    "    CO_diff = C - O\n",
    "    growth = C_pred > O\n",
    "    decline = C_pred < O\n",
    "    return CO_diff[growth].sum() - CO_diff[decline].sum()\n",
    "def roi(C, C_pred):\n",
    "    mean_open = open.reindex_like(C).mean()\n",
    "    return gain(C, C_pred) / mean_open"
   ]
  },
  {
   "cell_type": "markdown",
   "metadata": {
    "colab_type": "text",
    "id": "BpEzlQ-ghDlK"
   },
   "source": [
    "## Preparazione dei dati\n",
    "Come spiegato in precedenza, visto che alcune feature non sono disponibili all'inizio della giornata, per poterle utilizzare nel nostro modello, utilizzeremo i dati dei giori passati, servendoci della funzione shift.\n",
    "\n",
    "Visto che l'utilizzo di questa funzione fara' si che in alcune riche vi saranno dei vaolri NaN, dobbiamo assicurarci di eliminare queste osservazioni sia nelle serie relative ale features che in quella della variabile da predire.\n",
    "Questo compito e' svolto dalla funzione prepare_data."
   ]
  },
  {
   "cell_type": "code",
   "execution_count": 11,
   "metadata": {
    "colab": {},
    "colab_type": "code",
    "id": "K7Q_75EthDlL"
   },
   "outputs": [],
   "source": [
    "def prepare_data(features, target):\n",
    "    X = pd.DataFrame(features)\n",
    "    X.dropna(inplace=True)\n",
    "    Y = target.reindex_like(X)\n",
    "    return X, Y"
   ]
  },
  {
   "cell_type": "markdown",
   "metadata": {
    "colab_type": "text",
    "id": "sJjrwfynhDlN"
   },
   "source": [
    "Con questa funzione dividiamo i dati in training set e validation set come è stato fatto nel paper"
   ]
  },
  {
   "cell_type": "code",
   "execution_count": 12,
   "metadata": {
    "colab": {},
    "colab_type": "code",
    "id": "OReH-EXzhDlO"
   },
   "outputs": [],
   "source": [
    "def split_before_2009_06_30(X, y):\n",
    "    is_train = X.index.date < datetime.date(2009,6,30)\n",
    "    X_train = X.loc[is_train]\n",
    "    y_train = y.loc[is_train]\n",
    "    X_val = X.loc[~is_train]\n",
    "    y_val = y.loc[~is_train]\n",
    "    return X_train, X_val, y_train, y_val"
   ]
  },
  {
   "cell_type": "markdown",
   "metadata": {
    "colab_type": "text",
    "id": "oW0tPxrAhDlP"
   },
   "source": [
    "# Preparazione del dataset"
   ]
  },
  {
   "cell_type": "markdown",
   "metadata": {},
   "source": [
    "## Normalizzazione \n",
    "Le seguenti funzioni sono utilizzate per normalizzare i dati, pianifichiamo di utilizzare queste funzioni anche sulla variabile da predire dovremo implementarne anche l'inversa, di modo da poter denormalizzare le predizioni fatte dal modello.\n",
    "Questo passo sarà importante nella valutazione del modello, ad esempio per calcolare il ROI."
   ]
  },
  {
   "cell_type": "code",
   "execution_count": 13,
   "metadata": {},
   "outputs": [],
   "source": [
    "#Calcola il z-score di una serie pandas\n",
    "def z_score(serie):\n",
    "    res = serie[1:].copy()\n",
    "    for i in range(0,len(res)):\n",
    "        serie_slice = serie[:i+2].copy()\n",
    "        res[i] = (serie_slice[-1] - serie_slice.mean())/serie_slice.std(ddof=0)\n",
    "    return res\n",
    "#prede come la serie dei valori precedenti a allo z score da denormalizzare e lo z_score\n",
    "def z_score_inv(past_serie, z_score):\n",
    "    return z_score * past_serie.std(ddof=0) +  past_serie.mean()"
   ]
  },
  {
   "cell_type": "code",
   "execution_count": 14,
   "metadata": {},
   "outputs": [],
   "source": [
    "open_z = z_score(open)\n",
    "close_z = z_score(close)"
   ]
  },
  {
   "cell_type": "code",
   "execution_count": 15,
   "metadata": {},
   "outputs": [
    {
     "data": {
      "text/plain": [
       "3.3169773894865258"
      ]
     },
     "execution_count": 15,
     "metadata": {},
     "output_type": "execute_result"
    }
   ],
   "source": [
    "close_z[-1]"
   ]
  },
  {
   "cell_type": "code",
   "execution_count": 16,
   "metadata": {},
   "outputs": [
    {
     "data": {
      "text/plain": [
       "24843.371842561362"
      ]
     },
     "execution_count": 16,
     "metadata": {},
     "output_type": "execute_result"
    }
   ],
   "source": [
    "z_score_inv(close[:-1], open_z[-1])"
   ]
  },
  {
   "cell_type": "markdown",
   "metadata": {},
   "source": [
    "## Selezione delle features"
   ]
  },
  {
   "cell_type": "code",
   "execution_count": 17,
   "metadata": {
    "colab": {},
    "colab_type": "code",
    "id": "KYxv7o0ChDlQ"
   },
   "outputs": [],
   "source": [
    "features = {}\n",
    "features[\"Open\"] = open_z\n",
    "\n",
    "X, Y = prepare_data(features, close_z)\n",
    "X_train, X_val, Y_train, Y_val = split_before_2009_06_30(X, Y)"
   ]
  },
  {
   "cell_type": "markdown",
   "metadata": {
    "colab_type": "text",
    "id": "OjKS9Cg3hDlg"
   },
   "source": [
    "## Modello casuale\n",
    "Come vediamo di seguito, il return of investment di un modello casuale negativo.\n",
    "\n",
    "Per valutare se un modello e' efficace o meno, confronteremo quindi il suo roi con quello del modello casuale,\n",
    "ossia, se se ha un roi maggiore di 0, vuol dire che e' ha un certo grado di efficacia efficace, proporzionale al valore del roi."
   ]
  },
  {
   "cell_type": "code",
   "execution_count": 18,
   "metadata": {
    "colab": {
     "base_uri": "https://localhost:8080/",
     "height": 282
    },
    "colab_type": "code",
    "id": "G7JM3FvvhDli",
    "outputId": "219e837f-fa9d-4640-a4f6-1b93ccb7fd27"
   },
   "outputs": [
    {
     "data": {
      "text/plain": [
       "<matplotlib.axes._subplots.AxesSubplot at 0x7efd7c7909b0>"
      ]
     },
     "execution_count": 18,
     "metadata": {},
     "output_type": "execute_result"
    },
    {
     "data": {
      "image/png": "[encoded data removed]",
      "text/plain": [
       "<Figure size 864x288 with 1 Axes>"
      ]
     },
     "metadata": {
      "needs_background": "light"
     },
     "output_type": "display_data"
    }
   ],
   "source": [
    "Y.plot.hist(bins=40, figsize=(12, 4))"
   ]
  },
  {
   "cell_type": "code",
   "execution_count": 19,
   "metadata": {
    "colab": {
     "base_uri": "https://localhost:8080/",
     "height": 34
    },
    "colab_type": "code",
    "id": "gq6kHROOhDlk",
    "outputId": "6641ed7a-6ea3-4dc8-f117-a5c9efa72094"
   },
   "outputs": [
    {
     "name": "stdout",
     "output_type": "stream",
     "text": [
      "2141.7517257244103\n"
     ]
    }
   ],
   "source": [
    "rois = []\n",
    "for s in range(1000):\n",
    "    np.random.seed(s)\n",
    "    preds = np.random.normal(Y_train.mean(), Y_train.std(), len(Y_val))\n",
    "    #previous: close < date\n",
    "    rois.append(roi(Y_val, preds))#TODO denormalizza dati, fai dopo LSTM training\n",
    "print(np.mean(rois))"
   ]
  },
  {
   "cell_type": "markdown",
   "metadata": {
    "colab_type": "text",
    "id": "NJIcMifAhDln"
   },
   "source": [
    "## Modelli"
   ]
  },
  {
   "cell_type": "code",
   "execution_count": 20,
   "metadata": {},
   "outputs": [],
   "source": [
    "#ORA devi replicare i risultati, gli step mancanti sono\n",
    "#TODO guarda che altro\n",
    "#TODO lancia training e mentre training metti a punto funzioni per valutare modello"
   ]
  },
  {
   "cell_type": "code",
   "execution_count": 21,
   "metadata": {
    "colab": {
     "base_uri": "https://localhost:8080/",
     "height": 215
    },
    "colab_type": "code",
    "id": "c9nIWKRwYXRn",
    "outputId": "c39d95e8-f3fe-4108-bca3-9e64d9651cf1"
   },
   "outputs": [],
   "source": [
    "## Calcola la loss solo sull'utlimo elemento del batch\n",
    "class RNNMSELoss(MSELoss):\n",
    "    def __call__(self, input, target):\n",
    "        return super().__call__(input, target[-1])"
   ]
  },
  {
   "cell_type": "code",
   "execution_count": 22,
   "metadata": {},
   "outputs": [],
   "source": [
    "tss = TimeSeriesSplit(3)"
   ]
  },
  {
   "cell_type": "code",
   "execution_count": 33,
   "metadata": {},
   "outputs": [],
   "source": [
    "# tss_split = CVSplit(cv=tss, stratified=False, random_state=None)"
   ]
  },
  {
   "cell_type": "code",
   "execution_count": 24,
   "metadata": {},
   "outputs": [
    {
     "name": "stdout",
     "output_type": "stream",
     "text": [
      "FOLD 1\n",
      "Training set da 2000-01-04 00:00:00 a 2004-07-12 00:00:00\n",
      "Validation set da 2004-07-13 00:00:00 a 2009-01-06 00:00:00\n",
      "FOLD 2\n",
      "Training set da 2000-01-04 00:00:00 a 2009-01-06 00:00:00\n",
      "Validation set da 2009-01-07 00:00:00 a 2013-07-05 00:00:00\n",
      "FOLD 3\n",
      "Training set da 2000-01-04 00:00:00 a 2013-07-05 00:00:00\n",
      "Validation set da 2013-07-08 00:00:00 a 2017-12-29 00:00:00\n"
     ]
    }
   ],
   "source": [
    "for i, (train, val) in enumerate(tss.split(X), start=1):\n",
    "    print(\"FOLD {}\".format(i))\n",
    "    train_dates = X.index[train]\n",
    "    val_dates = X.index[val]\n",
    "    print(\"Training set da {} a {}\".format(train_dates.min(), train_dates.max()))\n",
    "    print(\"Validation set da {} a {}\".format(val_dates.min(), val_dates.max()))"
   ]
  },
  {
   "cell_type": "code",
   "execution_count": 50,
   "metadata": {
    "colab": {},
    "colab_type": "code",
    "id": "u2eBLx1pYlk_"
   },
   "outputs": [],
   "source": [
    "n_days= 10\n",
    "lstm = NeuralNetRegressor(\n",
    "    module=Sequence,\n",
    "    optimizer=optim.Adam,\n",
    "    batch_size=n_days,\n",
    "    criterion=RNNMSELoss,\n",
    "    max_epochs=100, #trovato empiricamente 30\n",
    "    train_split=tss_split,\n",
    "    \n",
    "    module__nb_features=X.shape[1],\n",
    "    module__hidden_size=256*2, \n",
    "    module__nb_layers=2,\n",
    "    optimizer__lr=0.0005,\n",
    "    optimizer__amsgrad=True\n",
    ")"
   ]
  },
  {
   "cell_type": "code",
   "execution_count": 26,
   "metadata": {},
   "outputs": [],
   "source": [
    "# n_days= 10\n",
    "# lstm = NeuralNetRegressor(\n",
    "#     module=Sequence,\n",
    "#     optimizer=optim.SGD,\n",
    "#     batch_size=n_days,\n",
    "#     criterion=RNNMSELoss,\n",
    "#     max_epochs=200,\n",
    "#     train_split=None,\n",
    "    \n",
    "#     module__nb_features=X.shape[1],\n",
    "#     module__hidden_size=256, \n",
    "#     module__nb_layers=1,\n",
    "#     optimizer__lr=0.01,\n",
    "#     optimizer__weight_decay=0\n",
    "# )"
   ]
  },
  {
   "cell_type": "code",
   "execution_count": 51,
   "metadata": {
    "scrolled": true
   },
   "outputs": [
    {
     "name": "stdout",
     "output_type": "stream",
     "text": [
      "  epoch    train_loss    valid_loss     dur\n",
      "-------  ------------  ------------  ------\n",
      "      1        \u001b[36m0.5252\u001b[0m        \u001b[32m0.1545\u001b[0m  5.5066\n",
      "      2        \u001b[36m0.4836\u001b[0m        \u001b[32m0.0842\u001b[0m  5.5021\n",
      "      3        \u001b[36m0.2538\u001b[0m        0.2446  3.8362\n",
      "      4        \u001b[36m0.1885\u001b[0m        0.1173  5.2866\n",
      "      5        0.1969        0.1015  4.6850\n",
      "      6        \u001b[36m0.1751\u001b[0m        \u001b[32m0.0321\u001b[0m  4.6241\n",
      "      7        \u001b[36m0.1400\u001b[0m        \u001b[32m0.0248\u001b[0m  3.8945\n",
      "      8        \u001b[36m0.1211\u001b[0m        \u001b[32m0.0176\u001b[0m  5.3064\n",
      "      9        0.1460        0.0238  3.4769\n",
      "     10        0.2151        0.1420  3.2323\n",
      "     11        0.1325        0.0210  3.9461\n",
      "     12        0.1442        0.2016  4.3028\n",
      "     13        0.1288        0.1132  3.9581\n",
      "     14        0.1572        0.1231  3.7541\n",
      "     15        0.1478        0.0470  4.5926\n",
      "     16        0.1447        0.0922  3.8440\n",
      "     17        0.1558        0.0356  4.6316\n",
      "     18        0.1338        0.0675  4.6703\n",
      "     19        \u001b[36m0.1076\u001b[0m        \u001b[32m0.0142\u001b[0m  5.6190\n",
      "     20        0.1620        0.1052  4.9702\n",
      "     21        0.1381        0.0241  5.2379\n",
      "     22        0.1488        \u001b[32m0.0107\u001b[0m  5.0130\n",
      "     23        0.1279        0.0160  5.4511\n",
      "     24        0.1224        0.0454  4.9118\n",
      "     25        \u001b[36m0.0964\u001b[0m        0.0211  4.4230\n",
      "     26        0.1222        0.0216  5.2859\n",
      "     27        0.1410        0.0530  5.4772\n",
      "     28        0.1199        0.0424  5.1529\n",
      "     29        0.1202        0.0863  4.5799\n",
      "     30        0.1067        0.1078  4.1310\n",
      "     31        \u001b[36m0.0943\u001b[0m        0.0584  5.1085\n",
      "     32        0.1108        0.0425  5.4856\n",
      "     33        \u001b[36m0.0835\u001b[0m        0.1152  4.6509\n",
      "     34        0.1096        0.2181  3.9810\n",
      "     35        0.1366        0.1946  5.1462\n",
      "     36        0.0952        0.1416  4.3705\n",
      "     37        0.1189        0.2294  4.2924\n",
      "     38        0.0915        0.1747  4.5492\n",
      "     39        0.1163        0.2508  4.7714\n",
      "     40        0.1294        0.2006  5.1614\n",
      "     41        0.1036        0.2277  5.5601\n",
      "     42        0.1041        0.2349  5.5220\n",
      "     43        0.1193        0.2852  5.4308\n",
      "     44        0.0963        0.2911  4.5893\n",
      "     45        \u001b[36m0.0809\u001b[0m        0.1118  5.6338\n",
      "     46        0.0944        0.2723  4.6528\n",
      "     47        0.1006        0.3769  4.8317\n",
      "     48        0.0922        0.2696  3.5314\n",
      "     49        \u001b[36m0.0734\u001b[0m        0.2108  5.5455\n",
      "     50        0.1027        0.2417  4.0517\n",
      "     51        0.0990        0.2761  4.2524\n",
      "     52        0.0917        0.2705  4.8689\n",
      "     53        0.0990        0.2321  4.3338\n",
      "     54        0.0835        0.3200  4.1552\n",
      "     55        0.0943        0.2918  4.0510\n",
      "     56        0.0813        0.3345  4.9276\n",
      "     57        0.0741        0.2725  4.4425\n",
      "     58        \u001b[36m0.0708\u001b[0m        0.2793  4.5996\n",
      "     59        \u001b[36m0.0674\u001b[0m        0.3773  5.1144\n",
      "     60        0.0757        0.2902  3.8622\n",
      "     61        0.0742        0.2076  4.6298\n",
      "     62        0.0881        0.3296  4.6116\n",
      "     63        0.1055        0.2727  3.9144\n",
      "     64        0.0674        0.2767  4.2172\n",
      "     65        0.0978        0.2964  4.6567\n",
      "     66        0.0775        0.3418  4.8567\n",
      "     67        0.0778        0.2815  5.3639\n",
      "     68        0.0765        0.2076  4.2534\n",
      "     69        \u001b[36m0.0669\u001b[0m        0.3328  4.1769\n",
      "     70        0.0784        0.4640  5.2444\n",
      "     71        \u001b[36m0.0625\u001b[0m        0.3110  5.4897\n",
      "     72        \u001b[36m0.0577\u001b[0m        0.2344  3.7982\n",
      "     73        0.0841        0.1549  4.8659\n",
      "     74        0.0892        0.1810  5.3116\n",
      "     75        \u001b[36m0.0569\u001b[0m        0.3829  5.5582\n",
      "     76        0.0619        0.2570  4.2720\n",
      "     77        \u001b[36m0.0441\u001b[0m        0.2387  5.3808\n",
      "     78        0.0631        0.2227  5.4368\n",
      "     79        0.0690        0.1970  4.2144\n",
      "     80        0.0738        0.2977  3.8578\n",
      "     81        0.0842        0.2435  4.2235\n",
      "     82        0.0627        0.2647  4.4003\n",
      "     83        0.0515        0.2804  3.8634\n",
      "     84        0.0835        0.2939  4.9870\n",
      "     85        0.0577        0.2346  5.0503\n",
      "     86        0.0510        0.2889  3.9418\n",
      "     87        \u001b[36m0.0410\u001b[0m        0.2536  5.6253\n",
      "     88        0.0431        0.2239  4.4037\n",
      "     89        0.0489        0.2555  4.1897\n",
      "     90        0.0541        0.4693  4.2857\n",
      "     91        0.0455        0.2133  4.0544\n",
      "     92        0.0440        0.2415  4.7958\n",
      "     93        0.0571        0.2034  5.3767\n",
      "     94        0.0446        0.2085  4.7421\n",
      "     95        0.0429        0.2114  5.4170\n",
      "     96        0.0741        0.2415  4.0194\n",
      "     97        0.0454        0.3008  3.4429\n",
      "     98        0.0445        0.2317  4.9127\n",
      "     99        \u001b[36m0.0357\u001b[0m        0.2215  4.3935\n",
      "    100        0.0456        0.1899  4.0396\n"
     ]
    }
   ],
   "source": [
    "#questa cella viene usata per trovare i parametri migliori\n",
    "lstm.fit(X.to_numpy().astype(np.float32),Y.to_numpy().astype(np.float32)[...,None])"
   ]
  },
  {
   "cell_type": "code",
   "execution_count": 97,
   "metadata": {},
   "outputs": [
    {
     "data": {
      "text/plain": [
       "<matplotlib.legend.Legend at 0x7efd326db128>"
      ]
     },
     "execution_count": 97,
     "metadata": {},
     "output_type": "execute_result"
    },
    {
     "data": {
      "image/png": "[encoded data removed]",
      "text/plain": [
       "<Figure size 864x504 with 1 Axes>"
      ]
     },
     "metadata": {
      "needs_background": "light"
     },
     "output_type": "display_data"
    }
   ],
   "source": [
    "valid_losses = lstm.history[:, 'valid_loss']\n",
    "train_losses = lstm.history[:, 'train_loss']\n",
    "plt.figure(figsize=(12,7))\n",
    "plt.plot(valid_losses, label='valid_loss')\n",
    "plt.plot(train_losses, label='train_loss')\n",
    "plt.xticks(np.arange(len(valid_losses)+1, step=5))\n",
    "plt.legend()"
   ]
  },
  {
   "cell_type": "markdown",
   "metadata": {},
   "source": [
    "# Test\n",
    "Dopo aver trovato i parametri migliori i modelli vengono testati facendo training sulla metà dei dati e predizioni sull'altra metà"
   ]
  },
  {
   "cell_type": "markdown",
   "metadata": {},
   "source": [
    "## Training"
   ]
  },
  {
   "cell_type": "code",
   "execution_count": 102,
   "metadata": {},
   "outputs": [],
   "source": [
    "n_days= 10\n",
    "lstm_test = NeuralNetRegressor(\n",
    "    module=Sequence,\n",
    "    optimizer=optim.Adam,\n",
    "    batch_size=n_days,\n",
    "    criterion=RNNMSELoss,\n",
    "    max_epochs=30, #trovato empiricamente\n",
    "    train_split=None, #non viene fatta cross validation nei test\n",
    "    \n",
    "    module__nb_features=X.shape[1],\n",
    "    module__hidden_size=256*2, \n",
    "    module__nb_layers=2,\n",
    "    optimizer__lr=0.0005,\n",
    "    optimizer__amsgrad=True\n",
    ")"
   ]
  },
  {
   "cell_type": "code",
   "execution_count": 103,
   "metadata": {
    "scrolled": true
   },
   "outputs": [
    {
     "name": "stdout",
     "output_type": "stream",
     "text": [
      "  epoch    train_loss     dur\n",
      "-------  ------------  ------\n",
      "      1        \u001b[36m0.3422\u001b[0m  9.4685\n",
      "      2        \u001b[36m0.2413\u001b[0m  9.2063\n",
      "      3        \u001b[36m0.1699\u001b[0m  8.1672\n",
      "      4        \u001b[36m0.1184\u001b[0m  8.2194\n",
      "      5        \u001b[36m0.0901\u001b[0m  10.0158\n",
      "      6        0.1009  9.7729\n",
      "      7        0.1005  8.9349\n",
      "      8        0.1259  10.1371\n",
      "      9        0.0933  7.6890\n",
      "     10        0.1101  8.8786\n",
      "     11        0.1035  10.3351\n",
      "     12        0.1078  8.4541\n",
      "     13        0.0967  9.1027\n",
      "     14        0.1045  8.1504\n",
      "     15        0.0975  8.5291\n",
      "     16        0.1087  8.4439\n",
      "     17        0.1252  9.5156\n",
      "     18        0.1214  8.9548\n",
      "     19        0.1177  9.0106\n",
      "     20        0.1276  7.7948\n",
      "     21        0.1181  9.2789\n",
      "     22        0.1263  10.1581\n",
      "     23        0.1173  11.1125\n",
      "     24        0.1302  10.7365\n",
      "     25        0.1244  8.6871\n",
      "     26        0.1115  7.1997\n",
      "     27        0.1186  7.8886\n",
      "     28        0.0943  8.5909\n",
      "     29        0.1020  8.9766\n",
      "     30        0.0981  10.2623\n"
     ]
    },
    {
     "data": {
      "text/plain": [
       "<class 'skorch.regressor.NeuralNetRegressor'>[initialized](\n",
       "  module_=Sequence(\n",
       "    (lstm): LSTM(1, 512, num_layers=2, dropout=0.5)\n",
       "    (lin): Linear(in_features=512, out_features=1, bias=True)\n",
       "  ),\n",
       ")"
      ]
     },
     "execution_count": 103,
     "metadata": {},
     "output_type": "execute_result"
    }
   ],
   "source": [
    "lstm_test.fit(X_train.to_numpy().astype(np.float32),Y_train.to_numpy().astype(np.float32)[...,None])"
   ]
  },
  {
   "cell_type": "markdown",
   "metadata": {},
   "source": [
    "## Valutazione"
   ]
  },
  {
   "cell_type": "code",
   "execution_count": 186,
   "metadata": {},
   "outputs": [],
   "source": [
    "Y_preds = Y_val.copy()\n",
    "Y_original = close.copy().reindex_like(Y_val)\n",
    "for i in range(51, len(Y_val)):\n",
    "    pred = lstm_test.predict(X_val[i-10:i].to_numpy().astype(np.float32))[0] #in input vengono dati 10 gionri\n",
    "    #denormalization\n",
    "    previous_serie = Y_original[:i]\n",
    "    Y_preds[i] = z_score_inv(previous_serie[:-50], pred) #il z score viene calcolato su 50 gionri\n",
    "Y_preds = Y_preds[51:]\n",
    "Y_original = Y_original.reindex_like(Y_preds, copy=False)"
   ]
  },
  {
   "cell_type": "code",
   "execution_count": 187,
   "metadata": {},
   "outputs": [
    {
     "data": {
      "text/plain": [
       "<matplotlib.legend.Legend at 0x7efd30700e48>"
      ]
     },
     "execution_count": 187,
     "metadata": {},
     "output_type": "execute_result"
    },
    {
     "data": {
      "image/png": "[encoded data removed]",
      "text/plain": [
       "<Figure size 1080x504 with 1 Axes>"
      ]
     },
     "metadata": {
      "needs_background": "light"
     },
     "output_type": "display_data"
    }
   ],
   "source": [
    "plt.figure(figsize=(15,7))\n",
    "Y_preds.plot(label='close_pred')\n",
    "Y_original.plot(label='close_true')\n",
    "plt.legend()"
   ]
  },
  {
   "cell_type": "code",
   "execution_count": 219,
   "metadata": {},
   "outputs": [
    {
     "data": {
      "text/plain": [
       "-0.21412535105116928"
      ]
     },
     "execution_count": 219,
     "metadata": {},
     "output_type": "execute_result"
    }
   ],
   "source": [
    "roi(Y_original,Y_preds)"
   ]
  },
  {
   "cell_type": "code",
   "execution_count": 218,
   "metadata": {},
   "outputs": [
    {
     "name": "stdout",
     "output_type": "stream",
     "text": [
      "guadagno assoluto: 9414.660000000025\n",
      "guadagno percentuale: 0.1882932000000005\n"
     ]
    }
   ],
   "source": [
    "initial_capital = 50000\n",
    "capital = initial_capital\n",
    "cap_history = Y_preds.copy()\n",
    "holding=False\n",
    "opens = open.reindex_like(Y_preds)\n",
    "for date in Y_preds.index:\n",
    "    pred = Y_preds[date]\n",
    "    true = Y_original[date]\n",
    "    buy = Y_preds[date] - opens[date] > 0\n",
    "    delta_true = Y_original[date] - opens[date]\n",
    "    if(buy and not holding): # buy\n",
    "        capital -= opens[date]\n",
    "        holding = True\n",
    "    elif(not buy and holding): #sell\n",
    "        capital += opens[date]\n",
    "        holding = False\n",
    "    if(holding):\n",
    "        capital+= delta_true\n",
    "    cap_history[date] = capital\n",
    "abs_gain = capital - initial_capital\n",
    "perc_gain = (abs_gain) / initial_capital\n",
    "print(f\"guadagno assoluto: {abs_gain}\")\n",
    "print(f\"guadagno percentuale: {perc_gain}\")"
   ]
  },
  {
   "cell_type": "code",
   "execution_count": 212,
   "metadata": {},
   "outputs": [
    {
     "data": {
      "text/plain": [
       "<matplotlib.axes._subplots.AxesSubplot at 0x7efd27c160b8>"
      ]
     },
     "execution_count": 212,
     "metadata": {},
     "output_type": "execute_result"
    },
    {
     "data": {
      "image/png": "[encoded data removed]",
      "text/plain": [
       "<Figure size 1080x504 with 1 Axes>"
      ]
     },
     "metadata": {
      "needs_background": "light"
     },
     "output_type": "display_data"
    }
   ],
   "source": [
    "plt.figure(figsize=(15,7))\n",
    "cap_history.plot()"
   ]
  },
  {
   "cell_type": "markdown",
   "metadata": {
    "colab_type": "text",
    "id": "0Sn9GfeThDlu"
   },
   "source": [
    "## Grid Search per trovare gli iperparametri migliori"
   ]
  },
  {
   "cell_type": "code",
   "execution_count": 28,
   "metadata": {
    "colab": {},
    "colab_type": "code",
    "id": "2_s14fuIhDln"
   },
   "outputs": [],
   "source": [
    "# models = {}"
   ]
  },
  {
   "cell_type": "code",
   "execution_count": 29,
   "metadata": {
    "colab": {},
    "colab_type": "code",
    "id": "iiFWzFqBhDls"
   },
   "outputs": [],
   "source": [
    "# kernel_ridge = Pipeline([\n",
    "#     (\"scale\", None),\n",
    "#     (\"regr\", KernelRidge(kernel=\"rbf\"))\n",
    "# ])\n",
    "# k_ridge_grid = {\n",
    "#     \"scale\": [None, StandardScaler()],\n",
    "#     \"regr__gamma\": [0.001, 0.01, 0.1],\n",
    "#     \"regr__alpha\": np.logspace(-3, 2, 6)\n",
    "# }\n",
    "# models[\"k_ridge\"] = (kernel_ridge, k_ridge_grid)"
   ]
  },
  {
   "cell_type": "code",
   "execution_count": 30,
   "metadata": {
    "colab": {},
    "colab_type": "code",
    "id": "ubw0LGmwhDlv"
   },
   "outputs": [],
   "source": [
    "# tss = TimeSeriesSplit(3)\n",
    "# roi_scorer = make_scorer(roi, greater_is_better=True)\n",
    "# scoring = {\n",
    "#     \"roi\": roi_scorer\n",
    "# }"
   ]
  },
  {
   "cell_type": "code",
   "execution_count": 31,
   "metadata": {
    "colab": {},
    "colab_type": "code",
    "id": "Ju5tIyOKhDlx"
   },
   "outputs": [],
   "source": [
    "# results = {}\n",
    "# for model_name, model_data in models.items():\n",
    "#     model = model_data[0]\n",
    "#     grid = model_data[1]\n",
    "#     gs = GridSearchCV(model, grid, scoring=scoring, cv=tss, refit=\"roi\")\n",
    "#     gs.fit(X, y)\n",
    "#     cv_results = pd.DataFrame(gs.cv_results_)\n",
    "#     results[model_name] = cv_results"
   ]
  },
  {
   "cell_type": "code",
   "execution_count": 32,
   "metadata": {
    "colab": {
     "base_uri": "https://localhost:8080/",
     "height": 1000
    },
    "colab_type": "code",
    "id": "KFsWDvAghDl1",
    "outputId": "0255e626-7050-41cd-ae22-05ba211db124",
    "scrolled": false
   },
   "outputs": [],
   "source": [
    "# pd.set_option('display.max_columns', None)\n",
    "# for model_name in models.keys():\n",
    "#     print(f\"-------------{model_name}--------------\")\n",
    "#     display(results[model_name].sort_values(\"mean_test_roi\", ascending=False).head(5))\n",
    "#     print(\"\\n\\n\")\n",
    "#     #si puo' fare con un dataframe con indice gerarchico"
   ]
  },
  {
   "cell_type": "markdown",
   "metadata": {},
   "source": [
    "# Modello Migliore\n",
    "Il modello migliore viene allenato su tutto il dataset e salvato"
   ]
  },
  {
   "cell_type": "code",
   "execution_count": null,
   "metadata": {},
   "outputs": [],
   "source": [
    "#TODO"
   ]
  }
 ],
 "metadata": {
  "colab": {
   "collapsed_sections": [],
   "name": "test_modelli.ipynb",
   "provenance": []
  },
  "kernelspec": {
   "display_name": "Python (fastai)",
   "language": "python",
   "name": "fastai"
  },
  "language_info": {
   "codemirror_mode": {
    "name": "ipython",
    "version": 3
   },
   "file_extension": ".py",
   "mimetype": "text/x-python",
   "name": "python",
   "nbconvert_exporter": "python",
   "pygments_lexer": "ipython3",
   "version": "3.6.10"
  }
 },
 "nbformat": 4,
 "nbformat_minor": 1
}
