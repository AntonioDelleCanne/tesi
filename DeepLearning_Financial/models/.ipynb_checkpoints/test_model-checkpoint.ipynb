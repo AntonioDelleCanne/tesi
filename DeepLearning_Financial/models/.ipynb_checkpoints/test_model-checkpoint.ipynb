{
 "cells": [
  {
   "cell_type": "code",
   "execution_count": 87,
   "metadata": {},
   "outputs": [],
   "source": [
    "import pandas as pd \n",
    "import numpy as np\n",
    "import sklearn\n",
    "import torch\n",
    "import torch.nn as nn\n",
    "from torch.autograd import Variable\n",
    "import torch.optim as optim\n",
    "from torch.utils.data import Dataset, DataLoader\n",
    "import torch.nn.functional as F"
   ]
  },
  {
   "cell_type": "code",
   "execution_count": 126,
   "metadata": {},
   "outputs": [],
   "source": [
    "class SequenceDoubleAtt(nn.Module):\n",
    "    def __init__(self, nb_features=1, hidden_size=100, dropout=0.5):\n",
    "        super(SequenceDoubleAtt, self).__init__()\n",
    "        nb_layers=1\n",
    "        self.nb_features=nb_features\n",
    "        self.hidden_size=hidden_size\n",
    "        self.nb_layers=nb_layers\n",
    "        self.lstm1 = nn.LSTM(self.nb_features, self.hidden_size, self.nb_layers, dropout=0, batch_first=True)\n",
    "        self.lstm2 = nn.LSTM(self.hidden_size, self.hidden_size*2, self.nb_layers, dropout=0, batch_first=True)\n",
    "        self.lin = nn.Linear(self.hidden_size*2,1)\n",
    "        self.lin_out = nn.Linear(self.hidden_size*2,1)\n",
    "        self.softmax = nn.Softmax(1)\n",
    "        self.tanh = nn.Tanh()\n",
    "\n",
    "    def forward(self, input):\n",
    "        h01 = torch.zeros(self.nb_layers, input.size()[0], self.hidden_size)#TODO fix\n",
    "        c01 = torch.zeros(self.nb_layers, input.size()[0], self.hidden_size)\n",
    "        hidden_cell1 = (h01, c01)\n",
    "        h02 = torch.zeros(self.nb_layers, input.size()[0], self.hidden_size*2)#TODO adatta per nuova struttura\n",
    "        c02 = torch.zeros(self.nb_layers, input.size()[0], self.hidden_size*2)\n",
    "        hidden_cell2 = (h02, c02)\n",
    "        lstm1_out, hn1 = self.lstm1(input, hidden_cell1)\n",
    "        lstm2_out, hn2 = self.lstm2(lstm1_out, hidden_cell2)\n",
    "        e = self.tanh(self.lin(lstm2_out.reshape(-1, lstm2_out.size()[-1]))).reshape(input.size()[0], input.size()[1], -1)\n",
    "        w = self.softmax(e)\n",
    "        print(w.size())\n",
    "        print(lstm2_out.size())\n",
    "        att_out = torch.mean(lstm2_out*w, axis=1)\n",
    "        print(att_out.size())\n",
    "        res = self.lin_out(att_out)\n",
    "        return res"
   ]
  },
  {
   "cell_type": "code",
   "execution_count": 127,
   "metadata": {},
   "outputs": [],
   "source": [
    "input = torch.from_numpy(np.random.rand(60,10,20).astype(dtype=np.float32))"
   ]
  },
  {
   "cell_type": "code",
   "execution_count": 128,
   "metadata": {},
   "outputs": [],
   "source": [
    "seq = SequenceDoubleAtt(nb_features=input.size()[-1])"
   ]
  },
  {
   "cell_type": "code",
   "execution_count": 129,
   "metadata": {},
   "outputs": [
    {
     "name": "stdout",
     "output_type": "stream",
     "text": [
      "torch.Size([60, 10, 1])\n",
      "torch.Size([60, 10, 200])\n",
      "torch.Size([60, 200])\n"
     ]
    },
    {
     "data": {
      "text/plain": [
       "torch.Size([60, 1])"
      ]
     },
     "execution_count": 129,
     "metadata": {},
     "output_type": "execute_result"
    }
   ],
   "source": [
    "seq.forward(input).size()"
   ]
  }
 ],
 "metadata": {
  "kernelspec": {
   "display_name": "Python (fastai)",
   "language": "python",
   "name": "fastai"
  },
  "language_info": {
   "codemirror_mode": {
    "name": "ipython",
    "version": 3
   },
   "file_extension": ".py",
   "mimetype": "text/x-python",
   "name": "python",
   "nbconvert_exporter": "python",
   "pygments_lexer": "ipython3",
   "version": "3.6.10"
  }
 },
 "nbformat": 4,
 "nbformat_minor": 2
}
