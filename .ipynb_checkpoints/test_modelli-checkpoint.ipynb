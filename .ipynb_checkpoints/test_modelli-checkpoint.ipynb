{
 "cells": [
  {
   "cell_type": "markdown",
   "metadata": {
    "colab_type": "text",
    "id": "4SoRjGQmhDkg"
   },
   "source": [
    "# Import delle librerie necessarie"
   ]
  },
  {
   "cell_type": "code",
   "execution_count": 3,
   "metadata": {
    "colab": {},
    "colab_type": "code",
    "id": "c6wa9QZChDkh"
   },
   "outputs": [],
   "source": [
    "%reload_ext autoreload\n",
    "%autoreload 2\n",
    "%matplotlib inline"
   ]
  },
  {
   "cell_type": "code",
   "execution_count": 80,
   "metadata": {
    "colab": {
     "base_uri": "https://localhost:8080/"
    },
    "colab_type": "code",
    "id": "iAvkL66NMopR",
    "outputId": "4a7b7edd-d1dd-47e5-8bd8-956c07eade63"
   },
   "outputs": [
    {
     "name": "stdout",
     "output_type": "stream",
     "text": [
      "Cloning into 'tesi'...\n",
      "remote: Enumerating objects: 113, done.\u001b[K\n",
      "remote: Counting objects:   0% (1/113)\u001b[K\r",
      "remote: Counting objects:   1% (2/113)\u001b[K\r",
      "remote: Counting objects:   2% (3/113)\u001b[K\r",
      "remote: Counting objects:   3% (4/113)\u001b[K\r",
      "remote: Counting objects:   4% (5/113)\u001b[K\r",
      "remote: Counting objects:   5% (6/113)\u001b[K\r",
      "remote: Counting objects:   6% (7/113)\u001b[K\r",
      "remote: Counting objects:   7% (8/113)\u001b[K\r",
      "remote: Counting objects:   8% (10/113)\u001b[K\r",
      "remote: Counting objects:   9% (11/113)\u001b[K\r",
      "remote: Counting objects:  10% (12/113)\u001b[K\r",
      "remote: Counting objects:  11% (13/113)\u001b[K\r",
      "remote: Counting objects:  12% (14/113)\u001b[K\r",
      "remote: Counting objects:  13% (15/113)\u001b[K\r",
      "remote: Counting objects:  14% (16/113)\u001b[K\r",
      "remote: Counting objects:  15% (17/113)\u001b[K\r",
      "remote: Counting objects:  16% (19/113)\u001b[K\r",
      "remote: Counting objects:  17% (20/113)\u001b[K\r",
      "remote: Counting objects:  18% (21/113)\u001b[K\r",
      "remote: Counting objects:  19% (22/113)\u001b[K\r",
      "remote: Counting objects:  20% (23/113)\u001b[K\r",
      "remote: Counting objects:  21% (24/113)\u001b[K\r",
      "remote: Counting objects:  22% (25/113)\u001b[K\r",
      "remote: Counting objects:  23% (26/113)\u001b[K\r",
      "remote: Counting objects:  24% (28/113)\u001b[K\r",
      "remote: Counting objects:  25% (29/113)\u001b[K\r",
      "remote: Counting objects:  26% (30/113)\u001b[K\r",
      "remote: Counting objects:  27% (31/113)\u001b[K\r",
      "remote: Counting objects:  28% (32/113)\u001b[K\r",
      "remote: Counting objects:  29% (33/113)\u001b[K\r",
      "remote: Counting objects:  30% (34/113)\u001b[K\r",
      "remote: Counting objects:  31% (36/113)\u001b[K\r",
      "remote: Counting objects:  32% (37/113)\u001b[K\r",
      "remote: Counting objects:  33% (38/113)\u001b[K\r",
      "remote: Counting objects:  34% (39/113)\u001b[K\r",
      "remote: Counting objects:  35% (40/113)\u001b[K\r",
      "remote: Counting objects:  36% (41/113)\u001b[K\r",
      "remote: Counting objects:  37% (42/113)\u001b[K\r",
      "remote: Counting objects:  38% (43/113)\u001b[K\r",
      "remote: Counting objects:  39% (45/113)\u001b[K\r",
      "remote: Counting objects:  40% (46/113)\u001b[K\r",
      "remote: Counting objects:  41% (47/113)\u001b[K\r",
      "remote: Counting objects:  42% (48/113)\u001b[K\r",
      "remote: Counting objects:  43% (49/113)\u001b[K\r",
      "remote: Counting objects:  44% (50/113)\u001b[K\r",
      "remote: Counting objects:  45% (51/113)\u001b[K\r",
      "remote: Counting objects:  46% (52/113)\u001b[K\r",
      "remote: Counting objects:  47% (54/113)\u001b[K\r",
      "remote: Counting objects:  48% (55/113)\u001b[K\r",
      "remote: Counting objects:  49% (56/113)\u001b[K\r",
      "remote: Counting objects:  50% (57/113)\u001b[K\r",
      "remote: Counting objects:  51% (58/113)\u001b[K\r",
      "remote: Counting objects:  52% (59/113)\u001b[K\r",
      "remote: Counting objects:  53% (60/113)\u001b[K\r",
      "remote: Counting objects:  54% (62/113)\u001b[K\r",
      "remote: Counting objects:  55% (63/113)\u001b[K\r",
      "remote: Counting objects:  56% (64/113)\u001b[K\r",
      "remote: Counting objects:  57% (65/113)\u001b[K\r",
      "remote: Counting objects:  58% (66/113)\u001b[K\r",
      "remote: Counting objects:  59% (67/113)\u001b[K\r",
      "remote: Counting objects:  60% (68/113)\u001b[K\r",
      "remote: Counting objects:  61% (69/113)\u001b[K\r",
      "remote: Counting objects:  62% (71/113)\u001b[K\r",
      "remote: Counting objects:  63% (72/113)\u001b[K\r",
      "remote: Counting objects:  64% (73/113)\u001b[K\r",
      "remote: Counting objects:  65% (74/113)\u001b[K\r",
      "remote: Counting objects:  66% (75/113)\u001b[K\r",
      "remote: Counting objects:  67% (76/113)\u001b[K\r",
      "remote: Counting objects:  68% (77/113)\u001b[K\r",
      "remote: Counting objects:  69% (78/113)\u001b[K\r",
      "remote: Counting objects:  70% (80/113)\u001b[K\r",
      "remote: Counting objects:  71% (81/113)\u001b[K\r",
      "remote: Counting objects:  72% (82/113)\u001b[K\r",
      "remote: Counting objects:  73% (83/113)\u001b[K\r",
      "remote: Counting objects:  74% (84/113)\u001b[K\r",
      "remote: Counting objects:  75% (85/113)\u001b[K\r",
      "remote: Counting objects:  76% (86/113)\u001b[K\r",
      "remote: Counting objects:  77% (88/113)\u001b[K\r",
      "remote: Counting objects:  78% (89/113)\u001b[K\r",
      "remote: Counting objects:  79% (90/113)\u001b[K\r",
      "remote: Counting objects:  80% (91/113)\u001b[K\r",
      "remote: Counting objects:  81% (92/113)\u001b[K\r",
      "remote: Counting objects:  82% (93/113)\u001b[K\r",
      "remote: Counting objects:  83% (94/113)\u001b[K\r",
      "remote: Counting objects:  84% (95/113)\u001b[K\r",
      "remote: Counting objects:  85% (97/113)\u001b[K\r",
      "remote: Counting objects:  86% (98/113)\u001b[K\r",
      "remote: Counting objects:  87% (99/113)\u001b[K\r",
      "remote: Counting objects:  88% (100/113)\u001b[K\r",
      "remote: Counting objects:  89% (101/113)\u001b[K\r",
      "remote: Counting objects:  90% (102/113)\u001b[K\r",
      "remote: Counting objects:  91% (103/113)\u001b[K\r",
      "remote: Counting objects:  92% (104/113)\u001b[K\r",
      "remote: Counting objects:  93% (106/113)\u001b[K\r",
      "remote: Counting objects:  94% (107/113)\u001b[K\r",
      "remote: Counting objects:  95% (108/113)\u001b[K\r",
      "remote: Counting objects:  96% (109/113)\u001b[K\r",
      "remote: Counting objects:  97% (110/113)\u001b[K\r",
      "remote: Counting objects:  98% (111/113)\u001b[K\r",
      "remote: Counting objects:  99% (112/113)\u001b[K\r",
      "remote: Counting objects: 100% (113/113)\u001b[K\r",
      "remote: Counting objects: 100% (113/113), done.\u001b[K\n",
      "remote: Compressing objects:   1% (1/79)\u001b[K\r",
      "remote: Compressing objects:   2% (2/79)\u001b[K\r",
      "remote: Compressing objects:   3% (3/79)\u001b[K\r",
      "remote: Compressing objects:   5% (4/79)\u001b[K\r",
      "remote: Compressing objects:   6% (5/79)\u001b[K\r",
      "remote: Compressing objects:   7% (6/79)\u001b[K\r",
      "remote: Compressing objects:   8% (7/79)\u001b[K\r",
      "remote: Compressing objects:  10% (8/79)\u001b[K\r",
      "remote: Compressing objects:  11% (9/79)\u001b[K\r",
      "remote: Compressing objects:  12% (10/79)\u001b[K\r",
      "remote: Compressing objects:  13% (11/79)\u001b[K\r",
      "remote: Compressing objects:  15% (12/79)\u001b[K\r",
      "remote: Compressing objects:  16% (13/79)\u001b[K\r",
      "remote: Compressing objects:  17% (14/79)\u001b[K\r",
      "remote: Compressing objects:  18% (15/79)\u001b[K\r",
      "remote: Compressing objects:  20% (16/79)\u001b[K\r",
      "remote: Compressing objects:  21% (17/79)\u001b[K\r",
      "remote: Compressing objects:  22% (18/79)\u001b[K\r",
      "remote: Compressing objects:  24% (19/79)\u001b[K\r",
      "remote: Compressing objects:  25% (20/79)\u001b[K\r",
      "remote: Compressing objects:  26% (21/79)\u001b[K\r",
      "remote: Compressing objects:  27% (22/79)\u001b[K\r",
      "remote: Compressing objects:  29% (23/79)\u001b[K\r",
      "remote: Compressing objects:  30% (24/79)\u001b[K\r",
      "remote: Compressing objects:  31% (25/79)\u001b[K\r",
      "remote: Compressing objects:  32% (26/79)\u001b[K\r",
      "remote: Compressing objects:  34% (27/79)\u001b[K\r",
      "remote: Compressing objects:  35% (28/79)\u001b[K\r",
      "remote: Compressing objects:  36% (29/79)\u001b[K\r",
      "remote: Compressing objects:  37% (30/79)\u001b[K\r",
      "remote: Compressing objects:  39% (31/79)\u001b[K\r",
      "remote: Compressing objects:  40% (32/79)\u001b[K\r",
      "remote: Compressing objects:  41% (33/79)\u001b[K\r",
      "remote: Compressing objects:  43% (34/79)\u001b[K\r",
      "remote: Compressing objects:  44% (35/79)\u001b[K\r",
      "remote: Compressing objects:  45% (36/79)\u001b[K\r",
      "remote: Compressing objects:  46% (37/79)\u001b[K\r",
      "remote: Compressing objects:  48% (38/79)\u001b[K\r",
      "remote: Compressing objects:  49% (39/79)\u001b[K\r",
      "remote: Compressing objects:  50% (40/79)\u001b[K\r",
      "remote: Compressing objects:  51% (41/79)\u001b[K\r",
      "remote: Compressing objects:  53% (42/79)\u001b[K\r",
      "remote: Compressing objects:  54% (43/79)\u001b[K\r",
      "remote: Compressing objects:  55% (44/79)\u001b[K\r",
      "remote: Compressing objects:  56% (45/79)\u001b[K\r",
      "remote: Compressing objects:  58% (46/79)\u001b[K\r",
      "remote: Compressing objects:  59% (47/79)\u001b[K\r",
      "remote: Compressing objects:  60% (48/79)\u001b[K\r",
      "remote: Compressing objects:  62% (49/79)\u001b[K\r",
      "remote: Compressing objects:  63% (50/79)\u001b[K\r",
      "remote: Compressing objects:  64% (51/79)\u001b[K\r",
      "remote: Compressing objects:  65% (52/79)\u001b[K\r",
      "remote: Compressing objects:  67% (53/79)\u001b[K\r",
      "remote: Compressing objects:  68% (54/79)\u001b[K\r",
      "remote: Compressing objects:  69% (55/79)\u001b[K\r",
      "remote: Compressing objects:  70% (56/79)\u001b[K\r",
      "remote: Compressing objects:  72% (57/79)\u001b[K\r",
      "remote: Compressing objects:  73% (58/79)\u001b[K\r",
      "remote: Compressing objects:  74% (59/79)\u001b[K\r",
      "remote: Compressing objects:  75% (60/79)\u001b[K\r",
      "remote: Compressing objects:  77% (61/79)\u001b[K\r",
      "remote: Compressing objects:  78% (62/79)\u001b[K\r",
      "remote: Compressing objects:  79% (63/79)\u001b[K\r",
      "remote: Compressing objects:  81% (64/79)\u001b[K\r",
      "remote: Compressing objects:  82% (65/79)\u001b[K\r",
      "remote: Compressing objects:  83% (66/79)\u001b[K\r",
      "remote: Compressing objects:  84% (67/79)\u001b[K\r",
      "remote: Compressing objects:  86% (68/79)\u001b[K\r",
      "remote: Compressing objects:  87% (69/79)\u001b[K\r",
      "remote: Compressing objects:  88% (70/79)\u001b[K\r",
      "remote: Compressing objects:  89% (71/79)\u001b[K\r",
      "remote: Compressing objects:  91% (72/79)\u001b[K\r",
      "remote: Compressing objects:  92% (73/79)\u001b[K\r",
      "remote: Compressing objects:  93% (74/79)\u001b[K\r",
      "remote: Compressing objects:  94% (75/79)\u001b[K\r",
      "remote: Compressing objects:  96% (76/79)\u001b[K\r",
      "remote: Compressing objects:  97% (77/79)\u001b[K\r",
      "remote: Compressing objects:  98% (78/79)\u001b[K\r",
      "remote: Compressing objects: 100% (79/79)\u001b[K\r",
      "remote: Compressing objects: 100% (79/79), done.\u001b[K\n",
      "Receiving objects:   0% (1/113)   \r",
      "Receiving objects:   1% (2/113)   \r",
      "Receiving objects:   2% (3/113)   \r",
      "Receiving objects:   3% (4/113)   \r",
      "Receiving objects:   4% (5/113)   \r",
      "Receiving objects:   5% (6/113)   \r",
      "Receiving objects:   6% (7/113)   \r",
      "Receiving objects:   7% (8/113)   \r",
      "Receiving objects:   8% (10/113)   \r",
      "Receiving objects:   9% (11/113)   \r",
      "Receiving objects:  10% (12/113)   \r",
      "Receiving objects:  11% (13/113)   \r",
      "Receiving objects:  12% (14/113)   \r",
      "Receiving objects:  13% (15/113)   \r",
      "Receiving objects:  14% (16/113)   \r",
      "Receiving objects:  15% (17/113), 284.00 KiB | 537.00 KiB/s   \r",
      "Receiving objects:  16% (19/113), 284.00 KiB | 537.00 KiB/s   \r",
      "Receiving objects:  17% (20/113), 284.00 KiB | 537.00 KiB/s   \r",
      "Receiving objects:  18% (21/113), 284.00 KiB | 537.00 KiB/s   \r",
      "Receiving objects:  19% (22/113), 284.00 KiB | 537.00 KiB/s   \r",
      "Receiving objects:  20% (23/113), 284.00 KiB | 537.00 KiB/s   \r",
      "Receiving objects:  21% (24/113), 284.00 KiB | 537.00 KiB/s   \r",
      "Receiving objects:  22% (25/113), 284.00 KiB | 537.00 KiB/s   \r",
      "Receiving objects:  23% (26/113), 284.00 KiB | 537.00 KiB/s   \r",
      "Receiving objects:  24% (28/113), 284.00 KiB | 537.00 KiB/s   \r",
      "Receiving objects:  25% (29/113), 284.00 KiB | 537.00 KiB/s   \r",
      "Receiving objects:  26% (30/113), 284.00 KiB | 537.00 KiB/s   \r",
      "Receiving objects:  27% (31/113), 284.00 KiB | 537.00 KiB/s   \r",
      "Receiving objects:  28% (32/113), 284.00 KiB | 537.00 KiB/s   \r",
      "Receiving objects:  29% (33/113), 284.00 KiB | 537.00 KiB/s   \r",
      "Receiving objects:  30% (34/113), 284.00 KiB | 537.00 KiB/s   \r",
      "Receiving objects:  31% (36/113), 284.00 KiB | 537.00 KiB/s   \r",
      "Receiving objects:  32% (37/113), 284.00 KiB | 537.00 KiB/s   \r",
      "Receiving objects:  33% (38/113), 284.00 KiB | 537.00 KiB/s   \r",
      "Receiving objects:  34% (39/113), 284.00 KiB | 537.00 KiB/s   \r",
      "Receiving objects:  35% (40/113), 284.00 KiB | 537.00 KiB/s   \r",
      "Receiving objects:  36% (41/113), 284.00 KiB | 537.00 KiB/s   \r",
      "Receiving objects:  37% (42/113), 284.00 KiB | 537.00 KiB/s   \r",
      "Receiving objects:  38% (43/113), 284.00 KiB | 537.00 KiB/s   \r",
      "Receiving objects:  39% (45/113), 284.00 KiB | 537.00 KiB/s   \r",
      "Receiving objects:  40% (46/113), 284.00 KiB | 537.00 KiB/s   \r",
      "Receiving objects:  41% (47/113), 284.00 KiB | 537.00 KiB/s   \r",
      "Receiving objects:  42% (48/113), 284.00 KiB | 537.00 KiB/s   \r",
      "Receiving objects:  43% (49/113), 284.00 KiB | 537.00 KiB/s   \r",
      "Receiving objects:  44% (50/113), 284.00 KiB | 537.00 KiB/s   \r",
      "Receiving objects:  45% (51/113), 284.00 KiB | 537.00 KiB/s   \r",
      "Receiving objects:  46% (52/113), 284.00 KiB | 537.00 KiB/s   \r",
      "Receiving objects:  47% (54/113), 284.00 KiB | 537.00 KiB/s   \r",
      "Receiving objects:  48% (55/113), 284.00 KiB | 537.00 KiB/s   \r",
      "Receiving objects:  49% (56/113), 284.00 KiB | 537.00 KiB/s   \r",
      "Receiving objects:  50% (57/113), 284.00 KiB | 537.00 KiB/s   \r",
      "Receiving objects:  51% (58/113), 284.00 KiB | 537.00 KiB/s   \r",
      "Receiving objects:  52% (59/113), 284.00 KiB | 537.00 KiB/s   \r",
      "Receiving objects:  53% (60/113), 284.00 KiB | 537.00 KiB/s   \r",
      "Receiving objects:  54% (62/113), 284.00 KiB | 537.00 KiB/s   \r",
      "Receiving objects:  55% (63/113), 284.00 KiB | 537.00 KiB/s   \r",
      "Receiving objects:  56% (64/113), 284.00 KiB | 537.00 KiB/s   \r",
      "Receiving objects:  57% (65/113), 284.00 KiB | 537.00 KiB/s   \r",
      "Receiving objects:  58% (66/113), 284.00 KiB | 537.00 KiB/s   \r",
      "Receiving objects:  59% (67/113), 284.00 KiB | 537.00 KiB/s   \r",
      "Receiving objects:  60% (68/113), 284.00 KiB | 537.00 KiB/s   \r",
      "Receiving objects:  61% (69/113), 284.00 KiB | 537.00 KiB/s   \r",
      "Receiving objects:  61% (70/113), 2.71 MiB | 2.61 MiB/s   \r",
      "Receiving objects:  62% (71/113), 2.71 MiB | 2.61 MiB/s   \r",
      "Receiving objects:  63% (72/113), 2.71 MiB | 2.61 MiB/s   \r",
      "Receiving objects:  64% (73/113), 2.71 MiB | 2.61 MiB/s   \r",
      "Receiving objects:  65% (74/113), 2.71 MiB | 2.61 MiB/s   \r",
      "Receiving objects:  66% (75/113), 2.71 MiB | 2.61 MiB/s   \r",
      "Receiving objects:  67% (76/113), 2.71 MiB | 2.61 MiB/s   \r",
      "Receiving objects:  68% (77/113), 2.71 MiB | 2.61 MiB/s   \r",
      "Receiving objects:  69% (78/113), 2.71 MiB | 2.61 MiB/s   \r",
      "Receiving objects:  70% (80/113), 2.71 MiB | 2.61 MiB/s   \r",
      "Receiving objects:  71% (81/113), 2.71 MiB | 2.61 MiB/s   \r",
      "Receiving objects:  72% (82/113), 2.71 MiB | 2.61 MiB/s   \r",
      "Receiving objects:  73% (83/113), 2.71 MiB | 2.61 MiB/s   \r",
      "Receiving objects:  74% (84/113), 2.71 MiB | 2.61 MiB/s   \r",
      "remote: Total 113 (delta 42), reused 94 (delta 26), pack-reused 0\u001b[K\n",
      "Receiving objects:  75% (85/113), 2.71 MiB | 2.61 MiB/s   \r",
      "Receiving objects:  76% (86/113), 2.71 MiB | 2.61 MiB/s   \r",
      "Receiving objects:  77% (88/113), 2.71 MiB | 2.61 MiB/s   \r",
      "Receiving objects:  78% (89/113), 2.71 MiB | 2.61 MiB/s   \r",
      "Receiving objects:  79% (90/113), 2.71 MiB | 2.61 MiB/s   \r",
      "Receiving objects:  80% (91/113), 2.71 MiB | 2.61 MiB/s   \r",
      "Receiving objects:  81% (92/113), 2.71 MiB | 2.61 MiB/s   \r",
      "Receiving objects:  82% (93/113), 2.71 MiB | 2.61 MiB/s   \r",
      "Receiving objects:  83% (94/113), 2.71 MiB | 2.61 MiB/s   \r",
      "Receiving objects:  84% (95/113), 2.71 MiB | 2.61 MiB/s   \r",
      "Receiving objects:  85% (97/113), 2.71 MiB | 2.61 MiB/s   \r",
      "Receiving objects:  86% (98/113), 2.71 MiB | 2.61 MiB/s   \r",
      "Receiving objects:  87% (99/113), 2.71 MiB | 2.61 MiB/s   \r",
      "Receiving objects:  88% (100/113), 2.71 MiB | 2.61 MiB/s   \r",
      "Receiving objects:  89% (101/113), 2.71 MiB | 2.61 MiB/s   \r",
      "Receiving objects:  90% (102/113), 2.71 MiB | 2.61 MiB/s   \r",
      "Receiving objects:  91% (103/113), 2.71 MiB | 2.61 MiB/s   \r",
      "Receiving objects:  92% (104/113), 2.71 MiB | 2.61 MiB/s   \r",
      "Receiving objects:  93% (106/113), 2.71 MiB | 2.61 MiB/s   \r",
      "Receiving objects:  94% (107/113), 2.71 MiB | 2.61 MiB/s   \r",
      "Receiving objects:  95% (108/113), 2.71 MiB | 2.61 MiB/s   \r",
      "Receiving objects:  96% (109/113), 2.71 MiB | 2.61 MiB/s   \r",
      "Receiving objects:  97% (110/113), 2.71 MiB | 2.61 MiB/s   \r",
      "Receiving objects:  98% (111/113), 2.71 MiB | 2.61 MiB/s   \r",
      "Receiving objects:  99% (112/113), 2.71 MiB | 2.61 MiB/s   \r",
      "Receiving objects: 100% (113/113), 2.71 MiB | 2.61 MiB/s   \r",
      "Receiving objects: 100% (113/113), 8.25 MiB | 6.04 MiB/s, done.\n",
      "Resolving deltas:   0% (0/42)   \r",
      "Resolving deltas:   2% (1/42)   \r",
      "Resolving deltas:   7% (3/42)   \r",
      "Resolving deltas:  14% (6/42)   \r",
      "Resolving deltas:  19% (8/42)   \r",
      "Resolving deltas:  30% (13/42)   \r",
      "Resolving deltas:  33% (14/42)   \r",
      "Resolving deltas:  35% (15/42)   \r",
      "Resolving deltas:  40% (17/42)   \r",
      "Resolving deltas:  45% (19/42)   \r",
      "Resolving deltas:  47% (20/42)   \r",
      "Resolving deltas:  50% (21/42)   \r",
      "Resolving deltas:  52% (22/42)   \r",
      "Resolving deltas:  54% (23/42)   \r",
      "Resolving deltas:  57% (24/42)   \r",
      "Resolving deltas:  59% (25/42)   \r",
      "Resolving deltas:  61% (26/42)   \r",
      "Resolving deltas:  64% (27/42)   \r",
      "Resolving deltas:  76% (32/42)   \r",
      "Resolving deltas:  78% (33/42)   \r",
      "Resolving deltas:  83% (35/42)   \r",
      "Resolving deltas: 100% (42/42)   \r",
      "Resolving deltas: 100% (42/42), done.\n"
     ]
    }
   ],
   "source": [
    "# !git clone https://github.com/AntonioDelleCanne/tesi.git"
   ]
  },
  {
   "cell_type": "code",
   "execution_count": 4,
   "metadata": {
    "colab": {
     "base_uri": "https://localhost:8080/"
    },
    "colab_type": "code",
    "id": "cFpIIEUVM9p9",
    "outputId": "c94eb57a-b2ac-467d-e84f-cbb68bf1af4f"
   },
   "outputs": [
    {
     "name": "stdout",
     "output_type": "stream",
     "text": [
      "[Errno 2] No such file or directory: 'DeepLearning_Financial'\n",
      "/data/home/dsvm_server_admin/notebooks/fastai/tesi/DeepLearning_Financial\n"
     ]
    }
   ],
   "source": [
    "%cd DeepLearning_Financial"
   ]
  },
  {
   "cell_type": "code",
   "execution_count": 261,
   "metadata": {
    "colab": {
     "base_uri": "https://localhost:8080/"
    },
    "colab_type": "code",
    "id": "7OGJqse3hDkk",
    "outputId": "9e37161b-5ec6-4deb-be4d-e33d86c09d79"
   },
   "outputs": [],
   "source": [
    "## EXTERNAL\n",
    "import numpy as np\n",
    "import pandas as pd\n",
    "import matplotlib.pyplot as plt\n",
    "import sklearn\n",
    "import yfinance\n",
    "from pandas import Series\n",
    "from sklearn.preprocessing import PolynomialFeatures, StandardScaler, MinMaxScaler\n",
    "from sklearn.pipeline import Pipeline\n",
    "from sklearn.model_selection import TimeSeriesSplit\n",
    "from sklearn.metrics import make_scorer\n",
    "from sklearn.model_selection import cross_validate\n",
    "from sklearn.model_selection import GridSearchCV\n",
    "from IPython.display import display\n",
    "import datetime\n",
    "import torch\n",
    "import torch.nn as nn\n",
    "from torch.autograd import Variable\n",
    "import torch.optim as optim\n",
    "from torch.utils.data import Dataset, DataLoader\n",
    "import torch.nn.functional as F\n",
    "import numpy as np\n",
    "import time\n",
    "import os\n",
    "import random \n",
    "from sklearn.datasets import make_regression\n",
    "from torch import nn\n",
    "import torch.nn.functional as F\n",
    "from skorch import NeuralNetRegressor\n",
    "from torch.nn.modules.loss import MSELoss\n",
    "import tensorflow as tf\n",
    "from tensorflow import keras\n",
    "from skorch.dataset import CVSplit\n",
    "\n",
    "##INTERNAL\n",
    "from models import Autoencoder\n",
    "from models import Sequence\n",
    "from models import waveletSmooth\n",
    "from utils import prepare_data_lstm, ExampleDataset, save_checkpoint, evaluate_lstm, backtest"
   ]
  },
  {
   "cell_type": "markdown",
   "metadata": {
    "colab_type": "text",
    "id": "J8VKBEyWhDkm"
   },
   "source": [
    "# Raccolta dati e analisi esplorativa\n",
    "\n",
    "Carichiamo i dati da YahooFinance utilizzando l'API yfinance.\n",
    "Questa fornisce dati storici su un'ampia gamma di stock, e permette di ottenerli in dataframe Pandas.\n",
    "\n",
    "Da questa API otteniamo le seguenti informazioni indicizzare per data(YYYY-MM-DD):\n",
    "\n",
    " - `Open`: valore della security al momento dell'apertua del mercato\n",
    " \n",
    " - `Close`: valore della security al momento della chiusura del mercato\n",
    " \n",
    " - `Low`: valore minimo che la security ha raggiunto durante la gionrata\n",
    " \n",
    " - `High`: valore massimo che la security ha raggiunto durante la gionrata \n",
    " \n",
    " - `Volume`: numero di transazioni eseguite sulle security dello stock al momento della chiusura del mercato. Nella scelta dello stock, ne volgiamo considerare uno che abbia un volume abbastanza alto, in modod da facilitare le transazioni."
   ]
  },
  {
   "cell_type": "code",
   "execution_count": 8,
   "metadata": {
    "colab": {},
    "colab_type": "code",
    "id": "k0RQ1F9KhDkn"
   },
   "outputs": [],
   "source": [
    "start_date = \"2000-01-01\"\n",
    "end_date = \"2017-12-31\"\n",
    "security = yfinance.Ticker(\"DJIA\")\n",
    "security_data = security.history(start=start_date, end=end_date, actions=False)"
   ]
  },
  {
   "cell_type": "code",
   "execution_count": 9,
   "metadata": {
    "colab": {
     "base_uri": "https://localhost:8080/",
     "height": 297
    },
    "colab_type": "code",
    "id": "yqEC1rplhDkq",
    "outputId": "4f7c32f1-df11-4b17-94d2-5e03fac51b6d"
   },
   "outputs": [
    {
     "data": {
      "text/html": [
       "<div>\n",
       "<style scoped>\n",
       "    .dataframe tbody tr th:only-of-type {\n",
       "        vertical-align: middle;\n",
       "    }\n",
       "\n",
       "    .dataframe tbody tr th {\n",
       "        vertical-align: top;\n",
       "    }\n",
       "\n",
       "    .dataframe thead th {\n",
       "        text-align: right;\n",
       "    }\n",
       "</style>\n",
       "<table border=\"1\" class=\"dataframe\">\n",
       "  <thead>\n",
       "    <tr style=\"text-align: right;\">\n",
       "      <th></th>\n",
       "      <th>Open</th>\n",
       "      <th>High</th>\n",
       "      <th>Low</th>\n",
       "      <th>Close</th>\n",
       "      <th>Volume</th>\n",
       "    </tr>\n",
       "  </thead>\n",
       "  <tbody>\n",
       "    <tr>\n",
       "      <th>count</th>\n",
       "      <td>4528.000000</td>\n",
       "      <td>4528.000000</td>\n",
       "      <td>4528.000000</td>\n",
       "      <td>4528.000000</td>\n",
       "      <td>4.528000e+03</td>\n",
       "    </tr>\n",
       "    <tr>\n",
       "      <th>mean</th>\n",
       "      <td>12740.565071</td>\n",
       "      <td>12860.832849</td>\n",
       "      <td>12620.891407</td>\n",
       "      <td>12743.508149</td>\n",
       "      <td>3.037059e+09</td>\n",
       "    </tr>\n",
       "    <tr>\n",
       "      <th>std</th>\n",
       "      <td>3608.789477</td>\n",
       "      <td>3610.574730</td>\n",
       "      <td>3609.466386</td>\n",
       "      <td>3610.827892</td>\n",
       "      <td>1.533750e+09</td>\n",
       "    </tr>\n",
       "    <tr>\n",
       "      <th>min</th>\n",
       "      <td>6547.010000</td>\n",
       "      <td>6758.440000</td>\n",
       "      <td>6440.080000</td>\n",
       "      <td>6547.050000</td>\n",
       "      <td>2.200000e+06</td>\n",
       "    </tr>\n",
       "    <tr>\n",
       "      <th>25%</th>\n",
       "      <td>10314.365000</td>\n",
       "      <td>10416.732500</td>\n",
       "      <td>10211.222500</td>\n",
       "      <td>10314.695000</td>\n",
       "      <td>1.556750e+09</td>\n",
       "    </tr>\n",
       "    <tr>\n",
       "      <th>50%</th>\n",
       "      <td>11362.830000</td>\n",
       "      <td>11471.115000</td>\n",
       "      <td>11241.835000</td>\n",
       "      <td>11364.775000</td>\n",
       "      <td>3.117765e+09</td>\n",
       "    </tr>\n",
       "    <tr>\n",
       "      <th>75%</th>\n",
       "      <td>15106.982500</td>\n",
       "      <td>15203.210000</td>\n",
       "      <td>15002.562500</td>\n",
       "      <td>15113.035000</td>\n",
       "      <td>3.938362e+09</td>\n",
       "    </tr>\n",
       "    <tr>\n",
       "      <th>max</th>\n",
       "      <td>24849.630000</td>\n",
       "      <td>24973.150000</td>\n",
       "      <td>24729.000000</td>\n",
       "      <td>24837.510000</td>\n",
       "      <td>1.145623e+10</td>\n",
       "    </tr>\n",
       "  </tbody>\n",
       "</table>\n",
       "</div>"
      ],
      "text/plain": [
       "               Open          High           Low         Close        Volume\n",
       "count   4528.000000   4528.000000   4528.000000   4528.000000  4.528000e+03\n",
       "mean   12740.565071  12860.832849  12620.891407  12743.508149  3.037059e+09\n",
       "std     3608.789477   3610.574730   3609.466386   3610.827892  1.533750e+09\n",
       "min     6547.010000   6758.440000   6440.080000   6547.050000  2.200000e+06\n",
       "25%    10314.365000  10416.732500  10211.222500  10314.695000  1.556750e+09\n",
       "50%    11362.830000  11471.115000  11241.835000  11364.775000  3.117765e+09\n",
       "75%    15106.982500  15203.210000  15002.562500  15113.035000  3.938362e+09\n",
       "max    24849.630000  24973.150000  24729.000000  24837.510000  1.145623e+10"
      ]
     },
     "execution_count": 9,
     "metadata": {},
     "output_type": "execute_result"
    }
   ],
   "source": [
    "security_data.describe()"
   ]
  },
  {
   "cell_type": "code",
   "execution_count": 10,
   "metadata": {
    "colab": {},
    "colab_type": "code",
    "id": "dx0vIkwVhDku"
   },
   "outputs": [],
   "source": [
    "#per essereconsiderata nella nostra analisi, una feature deve essere disponibile all'inizio della giornata, se cosi' non e',\n",
    "#possiamo considerarne i valori delle gionrate passate usando il metodo shift dei dataframe e delle serie pandas\n",
    "\n",
    "open = security_data[\"Open\"] #disponibile all'apertura\n",
    "high = security_data[\"High\"] #non disponibile all'apertura\n",
    "low = security_data[\"Low\"] #non disponibile all'apertura\n",
    "close = security_data[\"Close\"] #non disponibile all'apertura\n",
    "volume = security_data[\"Volume\"] #non disponibile all'apertura"
   ]
  },
  {
   "cell_type": "code",
   "execution_count": 11,
   "metadata": {
    "colab": {
     "base_uri": "https://localhost:8080/",
     "height": 286
    },
    "colab_type": "code",
    "id": "iIgknnJHOv7G",
    "outputId": "93b2a675-c0a3-49b7-c347-c7ebd85530fe"
   },
   "outputs": [
    {
     "data": {
      "text/plain": [
       "<matplotlib.axes._subplots.AxesSubplot at 0x7f278b697ef0>"
      ]
     },
     "execution_count": 11,
     "metadata": {},
     "output_type": "execute_result"
    },
    {
     "data": {
      "image/png": "[encoded data removed]",
      "text/plain": [
       "<Figure size 432x288 with 1 Axes>"
      ]
     },
     "metadata": {
      "needs_background": "light"
     },
     "output_type": "display_data"
    }
   ],
   "source": [
    "open.plot()"
   ]
  },
  {
   "cell_type": "code",
   "execution_count": 12,
   "metadata": {
    "colab": {
     "base_uri": "https://localhost:8080/",
     "height": 286
    },
    "colab_type": "code",
    "id": "uTp5_sEhO1HM",
    "outputId": "3d2686cf-af8d-4685-85bc-74f57f387bc5"
   },
   "outputs": [
    {
     "data": {
      "text/plain": [
       "<matplotlib.axes._subplots.AxesSubplot at 0x7f2788461e48>"
      ]
     },
     "execution_count": 12,
     "metadata": {},
     "output_type": "execute_result"
    },
    {
     "data": {
      "image/png": "[encoded data removed]",
      "text/plain": [
       "<Figure size 432x288 with 1 Axes>"
      ]
     },
     "metadata": {
      "needs_background": "light"
     },
     "output_type": "display_data"
    }
   ],
   "source": [
    "open_inv = pd.Series(open.values, index=open.index[::-1])\n",
    "open_inv.plot()"
   ]
  },
  {
   "cell_type": "markdown",
   "metadata": {
    "colab_type": "text",
    "id": "N3mVLVkyhDlI"
   },
   "source": [
    "# Allenamento modello"
   ]
  },
  {
   "cell_type": "markdown",
   "metadata": {
    "colab_type": "text",
    "id": "gw2hmMQHhDlI"
   },
   "source": [
    "## Metriche\n",
    "Come metrica principale per valutare la bonta' dele predizioni utilizzeremo il Return of Investment (ROI).\n",
    "\n",
    "Con questa metrica assumiamo di utilizzare l'algoritmo di trading precedentemente descritto, e calcoliamo il guadango che avremmo ottenuto se lo avessimo utilizzato sul dataset che stiamo valutando."
   ]
  },
  {
   "cell_type": "code",
   "execution_count": 192,
   "metadata": {
    "colab": {},
    "colab_type": "code",
    "id": "P3gpU8l6hDlI"
   },
   "outputs": [],
   "source": [
    "def gain(C, C_pred):\n",
    "    O = open.reindex_like(C)\n",
    "    CO_diff = C - O\n",
    "    growth = C_pred > O\n",
    "    decline = C_pred < O\n",
    "    return CO_diff[growth].sum() - CO_diff[decline].sum()\n",
    "def roi(C, C_pred):\n",
    "    mean_open = open.reindex_like(C).mean()\n",
    "    return gain(C, C_pred) / mean_open"
   ]
  },
  {
   "cell_type": "markdown",
   "metadata": {
    "colab_type": "text",
    "id": "BpEzlQ-ghDlK"
   },
   "source": [
    "## Preparazione dei dati\n",
    "Come spiegato in precedenza, visto che alcune feature non sono disponibili all'inizio della giornata, per poterle utilizzare nel nostro modello, utilizzeremo i dati dei giori passati, servendoci della funzione shift.\n",
    "\n",
    "Visto che l'utilizzo di questa funzione fara' si che in alcune riche vi saranno dei vaolri NaN, dobbiamo assicurarci di eliminare queste osservazioni sia nelle serie relative ale features che in quella della variabile da predire.\n",
    "Questo compito e' svolto dalla funzione prepare_data."
   ]
  },
  {
   "cell_type": "code",
   "execution_count": 14,
   "metadata": {
    "colab": {},
    "colab_type": "code",
    "id": "K7Q_75EthDlL"
   },
   "outputs": [],
   "source": [
    "def prepare_data(features, target):\n",
    "    X = pd.DataFrame(features)\n",
    "    X.dropna(inplace=True)\n",
    "    Y = target.reindex_like(X)\n",
    "    return X, Y"
   ]
  },
  {
   "cell_type": "markdown",
   "metadata": {
    "colab_type": "text",
    "id": "sJjrwfynhDlN"
   },
   "source": [
    "Con questa funzione dividiamo i dati in training set e validation set come è stato fatto nel paper"
   ]
  },
  {
   "cell_type": "code",
   "execution_count": 15,
   "metadata": {
    "colab": {},
    "colab_type": "code",
    "id": "OReH-EXzhDlO"
   },
   "outputs": [],
   "source": [
    "def split_before_2009_06_30(X, y):\n",
    "    is_train = X.index.date < datetime.date(2009,6,30)\n",
    "    X_train = X.loc[is_train]\n",
    "    y_train = y.loc[is_train]\n",
    "    X_val = X.loc[~is_train]\n",
    "    y_val = y.loc[~is_train]\n",
    "    return X_train, X_val, y_train, y_val"
   ]
  },
  {
   "cell_type": "markdown",
   "metadata": {
    "colab_type": "text",
    "id": "oW0tPxrAhDlP"
   },
   "source": [
    "## Preparazione del dataset"
   ]
  },
  {
   "cell_type": "code",
   "execution_count": 66,
   "metadata": {},
   "outputs": [],
   "source": [
    "# targets = pd.DataFrame(index=close.index)\n",
    "# targets[\"Close\"] = close"
   ]
  },
  {
   "cell_type": "code",
   "execution_count": 237,
   "metadata": {
    "colab": {},
    "colab_type": "code",
    "id": "KYxv7o0ChDlQ"
   },
   "outputs": [],
   "source": [
    "features = {}\n",
    "# for i in range(1, 4):\n",
    "#     features[\"DeltaLag{}\".format(i)] = delta.shift(i)\n",
    "# for i in range(1, 4):\n",
    "#     features[\"DeltaSMALag{}\".format(i)] = sma_delta.shift(i)\n",
    "# for i in range(1, 4):\n",
    "#     features[\"DeltaVsSMALag{}\".format(i)] = delta_vs_sma.shift(i)\n",
    "# for i in range(1, 4):\n",
    "#     features[\"PriceVsSMALag{}\".format(i)] = price_vs_sma.shift(i)\n",
    "# for i in range(1, 4):\n",
    "#     features[\"PriceLag{}\".format(i)] = hlm.shift(i)\n",
    "features[\"Open\"] = open\n",
    "\n",
    "X, Y = prepare_data(features, close)\n",
    "X_train, X_val, Y_train, Y_val = split_before_2009_06_30(X, Y)"
   ]
  },
  {
   "cell_type": "markdown",
   "metadata": {
    "colab_type": "text",
    "id": "OjKS9Cg3hDlg"
   },
   "source": [
    "## Modello casuale\n",
    "Come vediamo di seguito, il return of investment di un modello casuale negativo.\n",
    "\n",
    "Per valutare se un modello e' efficace o meno, confronteremo quindi il suo roi con quello del modello casuale,\n",
    "ossia, se se ha un roi maggiore di 0, vuol dire che e' ha un certo grado di efficacia efficace, proporzionale al valore del roi."
   ]
  },
  {
   "cell_type": "code",
   "execution_count": 238,
   "metadata": {
    "colab": {
     "base_uri": "https://localhost:8080/",
     "height": 282
    },
    "colab_type": "code",
    "id": "G7JM3FvvhDli",
    "outputId": "219e837f-fa9d-4640-a4f6-1b93ccb7fd27"
   },
   "outputs": [
    {
     "data": {
      "text/plain": [
       "<matplotlib.axes._subplots.AxesSubplot at 0x7f26902ad5c0>"
      ]
     },
     "execution_count": 238,
     "metadata": {},
     "output_type": "execute_result"
    },
    {
     "data": {
      "image/png": "[encoded data removed]",
      "text/plain": [
       "<Figure size 864x288 with 1 Axes>"
      ]
     },
     "metadata": {
      "needs_background": "light"
     },
     "output_type": "display_data"
    }
   ],
   "source": [
    "Y.plot.hist(bins=40, figsize=(12, 4))"
   ]
  },
  {
   "cell_type": "code",
   "execution_count": 239,
   "metadata": {
    "colab": {
     "base_uri": "https://localhost:8080/",
     "height": 34
    },
    "colab_type": "code",
    "id": "gq6kHROOhDlk",
    "outputId": "6641ed7a-6ea3-4dc8-f117-a5c9efa72094"
   },
   "outputs": [
    {
     "name": "stdout",
     "output_type": "stream",
     "text": [
      "-0.43244292748307145\n"
     ]
    }
   ],
   "source": [
    "rois = []\n",
    "for s in range(1000):\n",
    "    np.random.seed(s)\n",
    "    preds = np.random.normal(Y_train.mean(), Y_train.std(), len(Y_val))\n",
    "    rois.append(roi(Y_val, preds))\n",
    "print(np.mean(rois))"
   ]
  },
  {
   "cell_type": "markdown",
   "metadata": {
    "colab_type": "text",
    "id": "NJIcMifAhDln"
   },
   "source": [
    "## Modelli"
   ]
  },
  {
   "cell_type": "code",
   "execution_count": null,
   "metadata": {},
   "outputs": [],
   "source": [
    "#ORA devi replicare i risultati, gli step mancanti sono\n",
    "#TODO scala i dati con zeta index\n",
    "#TODO guarda che altro\n",
    "#TODO lancia training e mentre training metti a punto funzioni per valutare modello"
   ]
  },
  {
   "cell_type": "code",
   "execution_count": 86,
   "metadata": {
    "colab": {
     "base_uri": "https://localhost:8080/",
     "height": 215
    },
    "colab_type": "code",
    "id": "c9nIWKRwYXRn",
    "outputId": "c39d95e8-f3fe-4108-bca3-9e64d9651cf1"
   },
   "outputs": [],
   "source": [
    "## Calcola la loss solo sull'utlimo elemento del batch\n",
    "class RNNMSELoss(MSELoss):\n",
    "    def __call__(self, input, target):\n",
    "        return super().__call__(input, target[-1])"
   ]
  },
  {
   "cell_type": "code",
   "execution_count": 298,
   "metadata": {},
   "outputs": [],
   "source": [
    "tss = TimeSeriesSplit(3)"
   ]
  },
  {
   "cell_type": "code",
   "execution_count": 299,
   "metadata": {},
   "outputs": [],
   "source": [
    "tss_split = CVSplit(cv=tss, stratified=False, random_state=None)"
   ]
  },
  {
   "cell_type": "code",
   "execution_count": 300,
   "metadata": {},
   "outputs": [
    {
     "name": "stdout",
     "output_type": "stream",
     "text": [
      "FOLD 1\n",
      "Training set da 2000-01-03 00:00:00 a 2004-07-07 00:00:00\n",
      "Validation set da 2004-07-08 00:00:00 a 2009-01-02 00:00:00\n",
      "FOLD 2\n",
      "Training set da 2000-01-03 00:00:00 a 2009-01-02 00:00:00\n",
      "Validation set da 2009-01-05 00:00:00 a 2013-07-03 00:00:00\n",
      "FOLD 3\n",
      "Training set da 2000-01-03 00:00:00 a 2013-07-03 00:00:00\n",
      "Validation set da 2013-07-05 00:00:00 a 2017-12-29 00:00:00\n"
     ]
    }
   ],
   "source": [
    "for i, (train, val) in enumerate(tss.split(X), start=1):\n",
    "    print(\"FOLD {}\".format(i))\n",
    "    train_dates = X.index[train]\n",
    "    val_dates = X.index[val]\n",
    "    print(\"Training set da {} a {}\".format(train_dates.min(), train_dates.max()))\n",
    "    print(\"Validation set da {} a {}\".format(val_dates.min(), val_dates.max()))"
   ]
  },
  {
   "cell_type": "code",
   "execution_count": 303,
   "metadata": {
    "colab": {},
    "colab_type": "code",
    "id": "u2eBLx1pYlk_"
   },
   "outputs": [],
   "source": [
    "n_days= 10\n",
    "lstm = NeuralNetRegressor(\n",
    "    module=Sequence,\n",
    "    optimizer=optim.Adam,\n",
    "    batch_size=n_days,\n",
    "    criterion=RNNMSELoss,\n",
    "    max_epochs=210,\n",
    "    train_split=None,\n",
    "    \n",
    "    module__nb_features=X.shape[1],\n",
    "    module__hidden_size=256, \n",
    "    module__nb_layers=2,\n",
    "    optimizer__lr=0.0005,\n",
    "    optimizer__amsgrad=True\n",
    ")"
   ]
  },
  {
   "cell_type": "code",
   "execution_count": 305,
   "metadata": {},
   "outputs": [
    {
     "name": "stdout",
     "output_type": "stream",
     "text": [
      "Re-initializing module because the following parameters were re-set: hidden_size, nb_features, nb_layers.\n",
      "Re-initializing optimizer because the following parameters were re-set: amsgrad, lr.\n",
      "  epoch      train_loss     dur\n",
      "-------  --------------  ------\n",
      "      1  \u001b[36m111862215.1350\u001b[0m  3.2132\n",
      "      2  \u001b[36m111161959.3596\u001b[0m  3.2531\n",
      "      3  \u001b[36m110512145.2372\u001b[0m  3.1107\n"
     ]
    },
    {
     "data": {
      "text/plain": [
       "<class 'skorch.regressor.NeuralNetRegressor'>[initialized](\n",
       "  module_=Sequence(\n",
       "    (lstm): LSTM(1, 256, num_layers=2, dropout=0.5)\n",
       "    (lin): Linear(in_features=256, out_features=1, bias=True)\n",
       "  ),\n",
       ")"
      ]
     },
     "execution_count": 305,
     "metadata": {},
     "output_type": "execute_result"
    }
   ],
   "source": [
    "lstm.fit(X_train.to_numpy().astype(np.float32),Y_train.to_numpy().astype(np.float32)[...,None])"
   ]
  },
  {
   "cell_type": "code",
   "execution_count": 22,
   "metadata": {
    "colab": {},
    "colab_type": "code",
    "id": "2_s14fuIhDln"
   },
   "outputs": [],
   "source": [
    "# models = {}"
   ]
  },
  {
   "cell_type": "code",
   "execution_count": null,
   "metadata": {
    "colab": {},
    "colab_type": "code",
    "id": "iiFWzFqBhDls"
   },
   "outputs": [],
   "source": [
    "# kernel_ridge = Pipeline([\n",
    "#     (\"scale\", None),\n",
    "#     (\"regr\", KernelRidge(kernel=\"rbf\"))\n",
    "# ])\n",
    "# k_ridge_grid = {\n",
    "#     \"scale\": [None, StandardScaler()],\n",
    "#     \"regr__gamma\": [0.001, 0.01, 0.1],\n",
    "#     \"regr__alpha\": np.logspace(-3, 2, 6)\n",
    "# }\n",
    "# models[\"k_ridge\"] = (kernel_ridge, k_ridge_grid)"
   ]
  },
  {
   "cell_type": "markdown",
   "metadata": {
    "colab_type": "text",
    "id": "0Sn9GfeThDlu"
   },
   "source": [
    "## Grid Search per trovare gli iperparametri migliori"
   ]
  },
  {
   "cell_type": "code",
   "execution_count": 46,
   "metadata": {
    "colab": {},
    "colab_type": "code",
    "id": "ubw0LGmwhDlv"
   },
   "outputs": [],
   "source": [
    "tss = TimeSeriesSplit(3)\n",
    "roi_scorer = make_scorer(roi, greater_is_better=True)\n",
    "scoring = {\n",
    "    \"roi\": roi_scorer\n",
    "}"
   ]
  },
  {
   "cell_type": "code",
   "execution_count": null,
   "metadata": {
    "colab": {},
    "colab_type": "code",
    "id": "Ju5tIyOKhDlx"
   },
   "outputs": [],
   "source": [
    "results = {}\n",
    "for model_name, model_data in models.items():\n",
    "    model = model_data[0]\n",
    "    grid = model_data[1]\n",
    "    gs = GridSearchCV(model, grid, scoring=scoring, cv=tss, refit=\"roi\")\n",
    "    gs.fit(X, y)\n",
    "    cv_results = pd.DataFrame(gs.cv_results_)\n",
    "    results[model_name] = cv_results"
   ]
  },
  {
   "cell_type": "code",
   "execution_count": null,
   "metadata": {
    "colab": {
     "base_uri": "https://localhost:8080/",
     "height": 1000
    },
    "colab_type": "code",
    "id": "KFsWDvAghDl1",
    "outputId": "0255e626-7050-41cd-ae22-05ba211db124",
    "scrolled": false
   },
   "outputs": [
    {
     "name": "stdout",
     "output_type": "stream",
     "text": [
      "-------------ridge_regr--------------\n"
     ]
    },
    {
     "data": {
      "text/html": [
       "<div>\n",
       "<style scoped>\n",
       "    .dataframe tbody tr th:only-of-type {\n",
       "        vertical-align: middle;\n",
       "    }\n",
       "\n",
       "    .dataframe tbody tr th {\n",
       "        vertical-align: top;\n",
       "    }\n",
       "\n",
       "    .dataframe thead th {\n",
       "        text-align: right;\n",
       "    }\n",
       "</style>\n",
       "<table border=\"1\" class=\"dataframe\">\n",
       "  <thead>\n",
       "    <tr style=\"text-align: right;\">\n",
       "      <th></th>\n",
       "      <th>mean_fit_time</th>\n",
       "      <th>std_fit_time</th>\n",
       "      <th>mean_score_time</th>\n",
       "      <th>std_score_time</th>\n",
       "      <th>param_regr__alpha</th>\n",
       "      <th>params</th>\n",
       "      <th>split0_test_roi</th>\n",
       "      <th>split1_test_roi</th>\n",
       "      <th>split2_test_roi</th>\n",
       "      <th>mean_test_roi</th>\n",
       "      <th>std_test_roi</th>\n",
       "      <th>rank_test_roi</th>\n",
       "    </tr>\n",
       "  </thead>\n",
       "  <tbody>\n",
       "    <tr>\n",
       "      <th>2</th>\n",
       "      <td>0.003494</td>\n",
       "      <td>0.000117</td>\n",
       "      <td>0.002162</td>\n",
       "      <td>0.000169</td>\n",
       "      <td>10</td>\n",
       "      <td>{'regr__alpha': 10}</td>\n",
       "      <td>-0.029932</td>\n",
       "      <td>-0.001615</td>\n",
       "      <td>0.398462</td>\n",
       "      <td>0.122305</td>\n",
       "      <td>0.195614</td>\n",
       "      <td>1</td>\n",
       "    </tr>\n",
       "    <tr>\n",
       "      <th>3</th>\n",
       "      <td>0.003416</td>\n",
       "      <td>0.000258</td>\n",
       "      <td>0.002076</td>\n",
       "      <td>0.000074</td>\n",
       "      <td>50</td>\n",
       "      <td>{'regr__alpha': 50}</td>\n",
       "      <td>0.061993</td>\n",
       "      <td>-0.024026</td>\n",
       "      <td>0.109699</td>\n",
       "      <td>0.049222</td>\n",
       "      <td>0.055335</td>\n",
       "      <td>2</td>\n",
       "    </tr>\n",
       "    <tr>\n",
       "      <th>1</th>\n",
       "      <td>0.003644</td>\n",
       "      <td>0.000448</td>\n",
       "      <td>0.002820</td>\n",
       "      <td>0.000367</td>\n",
       "      <td>1</td>\n",
       "      <td>{'regr__alpha': 1}</td>\n",
       "      <td>-0.006495</td>\n",
       "      <td>0.030744</td>\n",
       "      <td>0.031438</td>\n",
       "      <td>0.018562</td>\n",
       "      <td>0.017721</td>\n",
       "      <td>3</td>\n",
       "    </tr>\n",
       "    <tr>\n",
       "      <th>0</th>\n",
       "      <td>0.003727</td>\n",
       "      <td>0.000400</td>\n",
       "      <td>0.002143</td>\n",
       "      <td>0.000023</td>\n",
       "      <td>0.1</td>\n",
       "      <td>{'regr__alpha': 0.1}</td>\n",
       "      <td>-0.050108</td>\n",
       "      <td>-0.014879</td>\n",
       "      <td>0.049432</td>\n",
       "      <td>-0.005185</td>\n",
       "      <td>0.041211</td>\n",
       "      <td>4</td>\n",
       "    </tr>\n",
       "  </tbody>\n",
       "</table>\n",
       "</div>"
      ],
      "text/plain": [
       "   mean_fit_time  std_fit_time  mean_score_time  std_score_time  \\\n",
       "2       0.003494      0.000117         0.002162        0.000169   \n",
       "3       0.003416      0.000258         0.002076        0.000074   \n",
       "1       0.003644      0.000448         0.002820        0.000367   \n",
       "0       0.003727      0.000400         0.002143        0.000023   \n",
       "\n",
       "  param_regr__alpha                params  split0_test_roi  split1_test_roi  \\\n",
       "2                10   {'regr__alpha': 10}        -0.029932        -0.001615   \n",
       "3                50   {'regr__alpha': 50}         0.061993        -0.024026   \n",
       "1                 1    {'regr__alpha': 1}        -0.006495         0.030744   \n",
       "0               0.1  {'regr__alpha': 0.1}        -0.050108        -0.014879   \n",
       "\n",
       "   split2_test_roi  mean_test_roi  std_test_roi  rank_test_roi  \n",
       "2         0.398462       0.122305      0.195614              1  \n",
       "3         0.109699       0.049222      0.055335              2  \n",
       "1         0.031438       0.018562      0.017721              3  \n",
       "0         0.049432      -0.005185      0.041211              4  "
      ]
     },
     "metadata": {
      "tags": []
     },
     "output_type": "display_data"
    },
    {
     "name": "stdout",
     "output_type": "stream",
     "text": [
      "\n",
      "\n",
      "\n",
      "-------------lin_regr--------------\n"
     ]
    },
    {
     "data": {
      "text/html": [
       "<div>\n",
       "<style scoped>\n",
       "    .dataframe tbody tr th:only-of-type {\n",
       "        vertical-align: middle;\n",
       "    }\n",
       "\n",
       "    .dataframe tbody tr th {\n",
       "        vertical-align: top;\n",
       "    }\n",
       "\n",
       "    .dataframe thead th {\n",
       "        text-align: right;\n",
       "    }\n",
       "</style>\n",
       "<table border=\"1\" class=\"dataframe\">\n",
       "  <thead>\n",
       "    <tr style=\"text-align: right;\">\n",
       "      <th></th>\n",
       "      <th>mean_fit_time</th>\n",
       "      <th>std_fit_time</th>\n",
       "      <th>mean_score_time</th>\n",
       "      <th>std_score_time</th>\n",
       "      <th>param_poly__degree</th>\n",
       "      <th>param_scale</th>\n",
       "      <th>params</th>\n",
       "      <th>split0_test_roi</th>\n",
       "      <th>split1_test_roi</th>\n",
       "      <th>split2_test_roi</th>\n",
       "      <th>mean_test_roi</th>\n",
       "      <th>std_test_roi</th>\n",
       "      <th>rank_test_roi</th>\n",
       "    </tr>\n",
       "  </thead>\n",
       "  <tbody>\n",
       "    <tr>\n",
       "      <th>4</th>\n",
       "      <td>0.011034</td>\n",
       "      <td>0.001744</td>\n",
       "      <td>0.003804</td>\n",
       "      <td>0.000331</td>\n",
       "      <td>3</td>\n",
       "      <td>None</td>\n",
       "      <td>{'poly__degree': 3, 'scale': None}</td>\n",
       "      <td>0.191562</td>\n",
       "      <td>-0.165067</td>\n",
       "      <td>0.687484</td>\n",
       "      <td>0.237993</td>\n",
       "      <td>0.349598</td>\n",
       "      <td>1</td>\n",
       "    </tr>\n",
       "    <tr>\n",
       "      <th>5</th>\n",
       "      <td>0.014915</td>\n",
       "      <td>0.002911</td>\n",
       "      <td>0.004506</td>\n",
       "      <td>0.000140</td>\n",
       "      <td>3</td>\n",
       "      <td>StandardScaler(copy=True, with_mean=True, with...</td>\n",
       "      <td>{'poly__degree': 3, 'scale': StandardScaler(co...</td>\n",
       "      <td>0.191562</td>\n",
       "      <td>-0.165067</td>\n",
       "      <td>0.687484</td>\n",
       "      <td>0.237993</td>\n",
       "      <td>0.349598</td>\n",
       "      <td>1</td>\n",
       "    </tr>\n",
       "    <tr>\n",
       "      <th>10</th>\n",
       "      <td>0.315050</td>\n",
       "      <td>0.176616</td>\n",
       "      <td>0.006685</td>\n",
       "      <td>0.000038</td>\n",
       "      <td>6</td>\n",
       "      <td>None</td>\n",
       "      <td>{'poly__degree': 6, 'scale': None}</td>\n",
       "      <td>0.342689</td>\n",
       "      <td>-0.159093</td>\n",
       "      <td>0.241984</td>\n",
       "      <td>0.141860</td>\n",
       "      <td>0.216741</td>\n",
       "      <td>3</td>\n",
       "    </tr>\n",
       "    <tr>\n",
       "      <th>6</th>\n",
       "      <td>0.029804</td>\n",
       "      <td>0.007330</td>\n",
       "      <td>0.004875</td>\n",
       "      <td>0.000170</td>\n",
       "      <td>4</td>\n",
       "      <td>None</td>\n",
       "      <td>{'poly__degree': 4, 'scale': None}</td>\n",
       "      <td>0.125119</td>\n",
       "      <td>-0.010477</td>\n",
       "      <td>0.295892</td>\n",
       "      <td>0.136845</td>\n",
       "      <td>0.125349</td>\n",
       "      <td>4</td>\n",
       "    </tr>\n",
       "    <tr>\n",
       "      <th>7</th>\n",
       "      <td>0.032840</td>\n",
       "      <td>0.005772</td>\n",
       "      <td>0.007213</td>\n",
       "      <td>0.002876</td>\n",
       "      <td>4</td>\n",
       "      <td>StandardScaler(copy=True, with_mean=True, with...</td>\n",
       "      <td>{'poly__degree': 4, 'scale': StandardScaler(co...</td>\n",
       "      <td>0.125119</td>\n",
       "      <td>-0.010477</td>\n",
       "      <td>0.295892</td>\n",
       "      <td>0.136845</td>\n",
       "      <td>0.125349</td>\n",
       "      <td>4</td>\n",
       "    </tr>\n",
       "  </tbody>\n",
       "</table>\n",
       "</div>"
      ],
      "text/plain": [
       "    mean_fit_time  std_fit_time  mean_score_time  std_score_time  \\\n",
       "4        0.011034      0.001744         0.003804        0.000331   \n",
       "5        0.014915      0.002911         0.004506        0.000140   \n",
       "10       0.315050      0.176616         0.006685        0.000038   \n",
       "6        0.029804      0.007330         0.004875        0.000170   \n",
       "7        0.032840      0.005772         0.007213        0.002876   \n",
       "\n",
       "   param_poly__degree                                        param_scale  \\\n",
       "4                   3                                               None   \n",
       "5                   3  StandardScaler(copy=True, with_mean=True, with...   \n",
       "10                  6                                               None   \n",
       "6                   4                                               None   \n",
       "7                   4  StandardScaler(copy=True, with_mean=True, with...   \n",
       "\n",
       "                                               params  split0_test_roi  \\\n",
       "4                  {'poly__degree': 3, 'scale': None}         0.191562   \n",
       "5   {'poly__degree': 3, 'scale': StandardScaler(co...         0.191562   \n",
       "10                 {'poly__degree': 6, 'scale': None}         0.342689   \n",
       "6                  {'poly__degree': 4, 'scale': None}         0.125119   \n",
       "7   {'poly__degree': 4, 'scale': StandardScaler(co...         0.125119   \n",
       "\n",
       "    split1_test_roi  split2_test_roi  mean_test_roi  std_test_roi  \\\n",
       "4         -0.165067         0.687484       0.237993      0.349598   \n",
       "5         -0.165067         0.687484       0.237993      0.349598   \n",
       "10        -0.159093         0.241984       0.141860      0.216741   \n",
       "6         -0.010477         0.295892       0.136845      0.125349   \n",
       "7         -0.010477         0.295892       0.136845      0.125349   \n",
       "\n",
       "    rank_test_roi  \n",
       "4               1  \n",
       "5               1  \n",
       "10              3  \n",
       "6               4  \n",
       "7               4  "
      ]
     },
     "metadata": {
      "tags": []
     },
     "output_type": "display_data"
    },
    {
     "name": "stdout",
     "output_type": "stream",
     "text": [
      "\n",
      "\n",
      "\n",
      "-------------k_ridge--------------\n"
     ]
    },
    {
     "data": {
      "text/html": [
       "<div>\n",
       "<style scoped>\n",
       "    .dataframe tbody tr th:only-of-type {\n",
       "        vertical-align: middle;\n",
       "    }\n",
       "\n",
       "    .dataframe tbody tr th {\n",
       "        vertical-align: top;\n",
       "    }\n",
       "\n",
       "    .dataframe thead th {\n",
       "        text-align: right;\n",
       "    }\n",
       "</style>\n",
       "<table border=\"1\" class=\"dataframe\">\n",
       "  <thead>\n",
       "    <tr style=\"text-align: right;\">\n",
       "      <th></th>\n",
       "      <th>mean_fit_time</th>\n",
       "      <th>std_fit_time</th>\n",
       "      <th>mean_score_time</th>\n",
       "      <th>std_score_time</th>\n",
       "      <th>param_regr__alpha</th>\n",
       "      <th>param_regr__gamma</th>\n",
       "      <th>param_scale</th>\n",
       "      <th>params</th>\n",
       "      <th>split0_test_roi</th>\n",
       "      <th>split1_test_roi</th>\n",
       "      <th>split2_test_roi</th>\n",
       "      <th>mean_test_roi</th>\n",
       "      <th>std_test_roi</th>\n",
       "      <th>rank_test_roi</th>\n",
       "    </tr>\n",
       "  </thead>\n",
       "  <tbody>\n",
       "    <tr>\n",
       "      <th>7</th>\n",
       "      <td>0.072577</td>\n",
       "      <td>0.050123</td>\n",
       "      <td>0.017760</td>\n",
       "      <td>0.005557</td>\n",
       "      <td>0.01</td>\n",
       "      <td>0.001</td>\n",
       "      <td>StandardScaler(copy=True, with_mean=True, with...</td>\n",
       "      <td>{'regr__alpha': 0.01, 'regr__gamma': 0.001, 's...</td>\n",
       "      <td>-0.085762</td>\n",
       "      <td>0.400412</td>\n",
       "      <td>0.910933</td>\n",
       "      <td>0.408528</td>\n",
       "      <td>0.406940</td>\n",
       "      <td>1</td>\n",
       "    </tr>\n",
       "    <tr>\n",
       "      <th>8</th>\n",
       "      <td>0.071150</td>\n",
       "      <td>0.049809</td>\n",
       "      <td>0.019299</td>\n",
       "      <td>0.004225</td>\n",
       "      <td>0.01</td>\n",
       "      <td>0.01</td>\n",
       "      <td>None</td>\n",
       "      <td>{'regr__alpha': 0.01, 'regr__gamma': 0.01, 'sc...</td>\n",
       "      <td>0.256125</td>\n",
       "      <td>0.397554</td>\n",
       "      <td>0.444282</td>\n",
       "      <td>0.365987</td>\n",
       "      <td>0.079992</td>\n",
       "      <td>2</td>\n",
       "    </tr>\n",
       "    <tr>\n",
       "      <th>1</th>\n",
       "      <td>0.086959</td>\n",
       "      <td>0.063666</td>\n",
       "      <td>0.017870</td>\n",
       "      <td>0.005306</td>\n",
       "      <td>0.001</td>\n",
       "      <td>0.001</td>\n",
       "      <td>StandardScaler(copy=True, with_mean=True, with...</td>\n",
       "      <td>{'regr__alpha': 0.001, 'regr__gamma': 0.001, '...</td>\n",
       "      <td>-0.168346</td>\n",
       "      <td>0.469475</td>\n",
       "      <td>0.694707</td>\n",
       "      <td>0.331946</td>\n",
       "      <td>0.365514</td>\n",
       "      <td>3</td>\n",
       "    </tr>\n",
       "    <tr>\n",
       "      <th>14</th>\n",
       "      <td>0.071230</td>\n",
       "      <td>0.050763</td>\n",
       "      <td>0.017533</td>\n",
       "      <td>0.006215</td>\n",
       "      <td>0.1</td>\n",
       "      <td>0.01</td>\n",
       "      <td>None</td>\n",
       "      <td>{'regr__alpha': 0.1, 'regr__gamma': 0.01, 'sca...</td>\n",
       "      <td>0.298136</td>\n",
       "      <td>0.277266</td>\n",
       "      <td>0.292547</td>\n",
       "      <td>0.289316</td>\n",
       "      <td>0.008821</td>\n",
       "      <td>4</td>\n",
       "    </tr>\n",
       "    <tr>\n",
       "      <th>21</th>\n",
       "      <td>0.076957</td>\n",
       "      <td>0.055982</td>\n",
       "      <td>0.018027</td>\n",
       "      <td>0.005427</td>\n",
       "      <td>1</td>\n",
       "      <td>0.01</td>\n",
       "      <td>StandardScaler(copy=True, with_mean=True, with...</td>\n",
       "      <td>{'regr__alpha': 1.0, 'regr__gamma': 0.01, 'sca...</td>\n",
       "      <td>-0.018269</td>\n",
       "      <td>0.142085</td>\n",
       "      <td>0.711317</td>\n",
       "      <td>0.278377</td>\n",
       "      <td>0.313056</td>\n",
       "      <td>5</td>\n",
       "    </tr>\n",
       "  </tbody>\n",
       "</table>\n",
       "</div>"
      ],
      "text/plain": [
       "    mean_fit_time  std_fit_time  mean_score_time  std_score_time  \\\n",
       "7        0.072577      0.050123         0.017760        0.005557   \n",
       "8        0.071150      0.049809         0.019299        0.004225   \n",
       "1        0.086959      0.063666         0.017870        0.005306   \n",
       "14       0.071230      0.050763         0.017533        0.006215   \n",
       "21       0.076957      0.055982         0.018027        0.005427   \n",
       "\n",
       "   param_regr__alpha param_regr__gamma  \\\n",
       "7               0.01             0.001   \n",
       "8               0.01              0.01   \n",
       "1              0.001             0.001   \n",
       "14               0.1              0.01   \n",
       "21                 1              0.01   \n",
       "\n",
       "                                          param_scale  \\\n",
       "7   StandardScaler(copy=True, with_mean=True, with...   \n",
       "8                                                None   \n",
       "1   StandardScaler(copy=True, with_mean=True, with...   \n",
       "14                                               None   \n",
       "21  StandardScaler(copy=True, with_mean=True, with...   \n",
       "\n",
       "                                               params  split0_test_roi  \\\n",
       "7   {'regr__alpha': 0.01, 'regr__gamma': 0.001, 's...        -0.085762   \n",
       "8   {'regr__alpha': 0.01, 'regr__gamma': 0.01, 'sc...         0.256125   \n",
       "1   {'regr__alpha': 0.001, 'regr__gamma': 0.001, '...        -0.168346   \n",
       "14  {'regr__alpha': 0.1, 'regr__gamma': 0.01, 'sca...         0.298136   \n",
       "21  {'regr__alpha': 1.0, 'regr__gamma': 0.01, 'sca...        -0.018269   \n",
       "\n",
       "    split1_test_roi  split2_test_roi  mean_test_roi  std_test_roi  \\\n",
       "7          0.400412         0.910933       0.408528      0.406940   \n",
       "8          0.397554         0.444282       0.365987      0.079992   \n",
       "1          0.469475         0.694707       0.331946      0.365514   \n",
       "14         0.277266         0.292547       0.289316      0.008821   \n",
       "21         0.142085         0.711317       0.278377      0.313056   \n",
       "\n",
       "    rank_test_roi  \n",
       "7               1  \n",
       "8               2  \n",
       "1               3  \n",
       "14              4  \n",
       "21              5  "
      ]
     },
     "metadata": {
      "tags": []
     },
     "output_type": "display_data"
    },
    {
     "name": "stdout",
     "output_type": "stream",
     "text": [
      "\n",
      "\n",
      "\n"
     ]
    }
   ],
   "source": [
    "pd.set_option('display.max_columns', None)\n",
    "for model_name in models.keys():\n",
    "    print(f\"-------------{model_name}--------------\")\n",
    "    display(results[model_name].sort_values(\"mean_test_roi\", ascending=False).head(5))\n",
    "    print(\"\\n\\n\")\n",
    "    #si puo' fare con un dataframe con indice gerarchico"
   ]
  }
 ],
 "metadata": {
  "colab": {
   "collapsed_sections": [],
   "name": "test_modelli.ipynb",
   "provenance": []
  },
  "kernelspec": {
   "display_name": "Python (fastai)",
   "language": "python",
   "name": "fastai"
  },
  "language_info": {
   "codemirror_mode": {
    "name": "ipython",
    "version": 3
   },
   "file_extension": ".py",
   "mimetype": "text/x-python",
   "name": "python",
   "nbconvert_exporter": "python",
   "pygments_lexer": "ipython3",
   "version": "3.6.10"
  }
 },
 "nbformat": 4,
 "nbformat_minor": 1
}
