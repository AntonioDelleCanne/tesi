{
 "cells": [
  {
   "cell_type": "markdown",
   "metadata": {
    "colab_type": "text",
    "id": "4SoRjGQmhDkg"
   },
   "source": [
    "# Import delle librerie necessarie"
   ]
  },
  {
   "cell_type": "code",
   "execution_count": 1,
   "metadata": {
    "colab": {},
    "colab_type": "code",
    "id": "c6wa9QZChDkh"
   },
   "outputs": [],
   "source": [
    "%reload_ext autoreload\n",
    "%autoreload 2\n",
    "%matplotlib inline"
   ]
  },
  {
   "cell_type": "code",
   "execution_count": 2,
   "metadata": {
    "colab": {
     "base_uri": "https://localhost:8080/"
    },
    "colab_type": "code",
    "id": "iAvkL66NMopR",
    "outputId": "4a7b7edd-d1dd-47e5-8bd8-956c07eade63"
   },
   "outputs": [],
   "source": [
    "# !git clone https://github.com/AntonioDelleCanne/tesi.git"
   ]
  },
  {
   "cell_type": "code",
   "execution_count": 3,
   "metadata": {
    "colab": {
     "base_uri": "https://localhost:8080/"
    },
    "colab_type": "code",
    "id": "cFpIIEUVM9p9",
    "outputId": "c94eb57a-b2ac-467d-e84f-cbb68bf1af4f"
   },
   "outputs": [
    {
     "name": "stdout",
     "output_type": "stream",
     "text": [
      "/data/home/dsvm_server_admin/notebooks/fastai/tesi/DeepLearning_Financial\n"
     ]
    }
   ],
   "source": [
    "%cd DeepLearning_Financial"
   ]
  },
  {
   "cell_type": "code",
   "execution_count": 76,
   "metadata": {
    "colab": {
     "base_uri": "https://localhost:8080/"
    },
    "colab_type": "code",
    "id": "7OGJqse3hDkk",
    "outputId": "9e37161b-5ec6-4deb-be4d-e33d86c09d79"
   },
   "outputs": [],
   "source": [
    "## EXTERNAL\n",
    "import numpy as np\n",
    "import pandas as pd\n",
    "import matplotlib.pyplot as plt\n",
    "import sklearn\n",
    "import yfinance\n",
    "from pandas import Series\n",
    "from sklearn.preprocessing import PolynomialFeatures, StandardScaler, MinMaxScaler\n",
    "from sklearn.pipeline import Pipeline\n",
    "from sklearn.model_selection import TimeSeriesSplit, PredefinedSplit\n",
    "from sklearn.metrics import make_scorer\n",
    "from sklearn.model_selection import cross_validate\n",
    "from sklearn.model_selection import GridSearchCV\n",
    "from IPython.display import display\n",
    "import datetime\n",
    "import torch\n",
    "import torch.nn as nn\n",
    "from torch.autograd import Variable\n",
    "import torch.optim as optim\n",
    "from torch.utils.data import Dataset, DataLoader\n",
    "import torch.nn.functional as F\n",
    "import numpy as np\n",
    "import time\n",
    "import os\n",
    "import random \n",
    "from sklearn.datasets import make_regression\n",
    "from torch import nn\n",
    "import torch.nn.functional as F\n",
    "from skorch import NeuralNetRegressor\n",
    "from torch.nn.modules.loss import MSELoss\n",
    "import tensorflow as tf\n",
    "from tensorflow import keras\n",
    "from skorch.dataset import CVSplit\n",
    "from skorch import callbacks\n",
    "import pickle\n",
    "from sklearn.model_selection import train_test_split\n",
    "from functools import partial\n",
    "import skorch\n",
    "\n",
    "##INTERNAL\n",
    "from models import Autoencoder, Sequence, waveletSmooth, SequenceDouble, SequenceDoubleAtt, SequenceAtt\n",
    "from utils import prepare_data_lstm, ExampleDataset, save_checkpoint, evaluate_lstm, backtest"
   ]
  },
  {
   "cell_type": "markdown",
   "metadata": {
    "colab_type": "text",
    "id": "J8VKBEyWhDkm"
   },
   "source": [
    "# Raccolta dati e analisi esplorativa\n",
    "\n",
    "Carichiamo i dati da YahooFinance utilizzando l'API yfinance.\n",
    "Questa fornisce dati storici su un'ampia gamma di stock, e permette di ottenerli in dataframe Pandas.\n",
    "\n",
    "Da questa API otteniamo le seguenti informazioni indicizzare per data(YYYY-MM-DD):\n",
    "\n",
    " - `Open`: valore della security al momento dell'apertua del mercato\n",
    " \n",
    " - `Close`: valore della security al momento della chiusura del mercato\n",
    " \n",
    " - `Low`: valore minimo che la security ha raggiunto durante la gionrata\n",
    " \n",
    " - `High`: valore massimo che la security ha raggiunto durante la gionrata \n",
    " \n",
    " - `Volume`: numero di transazioni eseguite sulle security dello stock al momento della chiusura del mercato. Nella scelta dello stock, ne volgiamo considerare uno che abbia un volume abbastanza alto, in modod da facilitare le transazioni."
   ]
  },
  {
   "cell_type": "code",
   "execution_count": 5,
   "metadata": {
    "colab": {},
    "colab_type": "code",
    "id": "k0RQ1F9KhDkn"
   },
   "outputs": [],
   "source": [
    "start_date = \"2000-01-01\"\n",
    "end_date = \"2017-12-31\"\n",
    "security = yfinance.Ticker(\"DJIA\")\n",
    "security_data = security.history(start=start_date, end=end_date, actions=False)"
   ]
  },
  {
   "cell_type": "code",
   "execution_count": 6,
   "metadata": {
    "colab": {
     "base_uri": "https://localhost:8080/",
     "height": 297
    },
    "colab_type": "code",
    "id": "yqEC1rplhDkq",
    "outputId": "4f7c32f1-df11-4b17-94d2-5e03fac51b6d",
    "scrolled": true
   },
   "outputs": [
    {
     "data": {
      "text/html": [
       "<div>\n",
       "<style scoped>\n",
       "    .dataframe tbody tr th:only-of-type {\n",
       "        vertical-align: middle;\n",
       "    }\n",
       "\n",
       "    .dataframe tbody tr th {\n",
       "        vertical-align: top;\n",
       "    }\n",
       "\n",
       "    .dataframe thead th {\n",
       "        text-align: right;\n",
       "    }\n",
       "</style>\n",
       "<table border=\"1\" class=\"dataframe\">\n",
       "  <thead>\n",
       "    <tr style=\"text-align: right;\">\n",
       "      <th></th>\n",
       "      <th>Open</th>\n",
       "      <th>High</th>\n",
       "      <th>Low</th>\n",
       "      <th>Close</th>\n",
       "      <th>Volume</th>\n",
       "    </tr>\n",
       "  </thead>\n",
       "  <tbody>\n",
       "    <tr>\n",
       "      <th>count</th>\n",
       "      <td>4528.000000</td>\n",
       "      <td>4528.000000</td>\n",
       "      <td>4528.000000</td>\n",
       "      <td>4528.000000</td>\n",
       "      <td>4.528000e+03</td>\n",
       "    </tr>\n",
       "    <tr>\n",
       "      <th>mean</th>\n",
       "      <td>12740.565071</td>\n",
       "      <td>12860.832849</td>\n",
       "      <td>12620.891407</td>\n",
       "      <td>12743.508149</td>\n",
       "      <td>3.037059e+09</td>\n",
       "    </tr>\n",
       "    <tr>\n",
       "      <th>std</th>\n",
       "      <td>3608.789477</td>\n",
       "      <td>3610.574730</td>\n",
       "      <td>3609.466386</td>\n",
       "      <td>3610.827892</td>\n",
       "      <td>1.533750e+09</td>\n",
       "    </tr>\n",
       "    <tr>\n",
       "      <th>min</th>\n",
       "      <td>6547.010000</td>\n",
       "      <td>6758.440000</td>\n",
       "      <td>6440.080000</td>\n",
       "      <td>6547.050000</td>\n",
       "      <td>2.200000e+06</td>\n",
       "    </tr>\n",
       "    <tr>\n",
       "      <th>25%</th>\n",
       "      <td>10314.365000</td>\n",
       "      <td>10416.732500</td>\n",
       "      <td>10211.222500</td>\n",
       "      <td>10314.695000</td>\n",
       "      <td>1.556750e+09</td>\n",
       "    </tr>\n",
       "    <tr>\n",
       "      <th>50%</th>\n",
       "      <td>11362.830000</td>\n",
       "      <td>11471.115000</td>\n",
       "      <td>11241.835000</td>\n",
       "      <td>11364.775000</td>\n",
       "      <td>3.117765e+09</td>\n",
       "    </tr>\n",
       "    <tr>\n",
       "      <th>75%</th>\n",
       "      <td>15106.982500</td>\n",
       "      <td>15203.210000</td>\n",
       "      <td>15002.562500</td>\n",
       "      <td>15113.035000</td>\n",
       "      <td>3.938362e+09</td>\n",
       "    </tr>\n",
       "    <tr>\n",
       "      <th>max</th>\n",
       "      <td>24849.630000</td>\n",
       "      <td>24973.150000</td>\n",
       "      <td>24729.000000</td>\n",
       "      <td>24837.510000</td>\n",
       "      <td>1.145623e+10</td>\n",
       "    </tr>\n",
       "  </tbody>\n",
       "</table>\n",
       "</div>"
      ],
      "text/plain": [
       "               Open          High           Low         Close        Volume\n",
       "count   4528.000000   4528.000000   4528.000000   4528.000000  4.528000e+03\n",
       "mean   12740.565071  12860.832849  12620.891407  12743.508149  3.037059e+09\n",
       "std     3608.789477   3610.574730   3609.466386   3610.827892  1.533750e+09\n",
       "min     6547.010000   6758.440000   6440.080000   6547.050000  2.200000e+06\n",
       "25%    10314.365000  10416.732500  10211.222500  10314.695000  1.556750e+09\n",
       "50%    11362.830000  11471.115000  11241.835000  11364.775000  3.117765e+09\n",
       "75%    15106.982500  15203.210000  15002.562500  15113.035000  3.938362e+09\n",
       "max    24849.630000  24973.150000  24729.000000  24837.510000  1.145623e+10"
      ]
     },
     "execution_count": 6,
     "metadata": {},
     "output_type": "execute_result"
    }
   ],
   "source": [
    "security_data.describe()"
   ]
  },
  {
   "cell_type": "code",
   "execution_count": 7,
   "metadata": {
    "colab": {},
    "colab_type": "code",
    "id": "dx0vIkwVhDku"
   },
   "outputs": [],
   "source": [
    "#per essereconsiderata nella nostra analisi, una feature deve essere disponibile all'inizio della giornata, se cosi' non e',\n",
    "#possiamo considerarne i valori delle gionrate passate usando il metodo shift dei dataframe e delle serie pandas\n",
    "\n",
    "opn = security_data[\"Open\"] #disponibile all'apertura\n",
    "high = security_data[\"High\"] #non disponibile all'apertura\n",
    "low = security_data[\"Low\"] #non disponibile all'apertura\n",
    "close = security_data[\"Close\"] #non disponibile all'apertura\n",
    "volume = security_data[\"Volume\"] #non disponibile all'apertura"
   ]
  },
  {
   "cell_type": "code",
   "execution_count": 8,
   "metadata": {
    "colab": {
     "base_uri": "https://localhost:8080/",
     "height": 286
    },
    "colab_type": "code",
    "id": "iIgknnJHOv7G",
    "outputId": "93b2a675-c0a3-49b7-c347-c7ebd85530fe"
   },
   "outputs": [
    {
     "data": {
      "text/plain": [
       "<matplotlib.axes._subplots.AxesSubplot at 0x7f3ad7b08ac8>"
      ]
     },
     "execution_count": 8,
     "metadata": {},
     "output_type": "execute_result"
    },
    {
     "data": {
      "image/png": "[encoded data removed]",
      "text/plain": [
       "<Figure size 432x288 with 1 Axes>"
      ]
     },
     "metadata": {
      "needs_background": "light"
     },
     "output_type": "display_data"
    }
   ],
   "source": [
    "opn.plot()"
   ]
  },
  {
   "cell_type": "code",
   "execution_count": 9,
   "metadata": {
    "colab": {
     "base_uri": "https://localhost:8080/",
     "height": 286
    },
    "colab_type": "code",
    "id": "uTp5_sEhO1HM",
    "outputId": "3d2686cf-af8d-4685-85bc-74f57f387bc5"
   },
   "outputs": [
    {
     "data": {
      "text/plain": [
       "<matplotlib.axes._subplots.AxesSubplot at 0x7f3ad4986048>"
      ]
     },
     "execution_count": 9,
     "metadata": {},
     "output_type": "execute_result"
    },
    {
     "data": {
      "image/png": "[encoded data removed]",
      "text/plain": [
       "<Figure size 432x288 with 1 Axes>"
      ]
     },
     "metadata": {
      "needs_background": "light"
     },
     "output_type": "display_data"
    }
   ],
   "source": [
    "opn_inv = pd.Series(opn.values, index=opn.index[::-1])\n",
    "opn_inv.plot()"
   ]
  },
  {
   "cell_type": "markdown",
   "metadata": {
    "colab_type": "text",
    "id": "N3mVLVkyhDlI"
   },
   "source": [
    "# Allenamento modello"
   ]
  },
  {
   "cell_type": "markdown",
   "metadata": {
    "colab_type": "text",
    "id": "gw2hmMQHhDlI"
   },
   "source": [
    "## Metriche\n",
    "Come metrica principale per valutare la bonta' dele predizioni utilizzeremo il Return of Investment (ROI).\n",
    "\n",
    "Con questa metrica assumiamo di utilizzare l'algoritmo di trading precedentemente descritto, e calcoliamo il guadango che avremmo ottenuto se lo avessimo utilizzato sul dataset che stiamo valutando."
   ]
  },
  {
   "cell_type": "code",
   "execution_count": 10,
   "metadata": {
    "colab": {},
    "colab_type": "code",
    "id": "P3gpU8l6hDlI"
   },
   "outputs": [],
   "source": [
    "def gain(C, C_pred):\n",
    "    O = opn.reindex_like(C)\n",
    "    CO_diff = C - O\n",
    "    growth = C_pred > O\n",
    "    decline = C_pred < O\n",
    "    return CO_diff[growth].sum() - CO_diff[decline].sum()\n",
    "def roi(C, C_pred):\n",
    "    mean_opn = opn.reindex_like(C).mean()\n",
    "    return gain(C, C_pred) / mean_opn"
   ]
  },
  {
   "cell_type": "markdown",
   "metadata": {
    "colab_type": "text",
    "id": "BpEzlQ-ghDlK"
   },
   "source": [
    "## Preparazione dei dati\n",
    "Come spiegato in precedenza, visto che alcune feature non sono disponibili all'inizio della giornata, per poterle utilizzare nel nostro modello, utilizzeremo i dati dei giori passati, servendoci della funzione shift.\n",
    "\n",
    "Visto che l'utilizzo di questa funzione fara' si che in alcune riche vi saranno dei vaolri NaN, dobbiamo assicurarci di eliminare queste osservazioni sia nelle serie relative ale features che in quella della variabile da predire.\n",
    "Questo compito e' svolto dalla funzione prepare_data."
   ]
  },
  {
   "cell_type": "code",
   "execution_count": 11,
   "metadata": {
    "colab": {},
    "colab_type": "code",
    "id": "K7Q_75EthDlL"
   },
   "outputs": [],
   "source": [
    "def prepare_data(features, target):\n",
    "    X = pd.DataFrame(features)\n",
    "    X.dropna(inplace=True)\n",
    "    Y = target.reindex_like(X)\n",
    "    return X, Y"
   ]
  },
  {
   "cell_type": "markdown",
   "metadata": {
    "colab_type": "text",
    "id": "sJjrwfynhDlN"
   },
   "source": [
    "Con questa funzione dividiamo i dati in training set e validation set come è stato fatto nel paper"
   ]
  },
  {
   "cell_type": "code",
   "execution_count": 12,
   "metadata": {
    "colab": {},
    "colab_type": "code",
    "id": "OReH-EXzhDlO"
   },
   "outputs": [],
   "source": [
    "def split_before_2009_06_30(X, y):\n",
    "    is_train = X.index.date < datetime.date(2009,6,30)\n",
    "    X_train = X.loc[is_train]\n",
    "    y_train = y.loc[is_train]\n",
    "    X_val = X.loc[~is_train]\n",
    "    y_val = y.loc[~is_train]\n",
    "    return X_train, X_val, y_train, y_val"
   ]
  },
  {
   "cell_type": "markdown",
   "metadata": {
    "colab_type": "text",
    "id": "oW0tPxrAhDlP"
   },
   "source": [
    "# Preparazione del dataset"
   ]
  },
  {
   "cell_type": "markdown",
   "metadata": {},
   "source": [
    "## Regolarizzazione"
   ]
  },
  {
   "cell_type": "markdown",
   "metadata": {},
   "source": [
    "### Wavelet"
   ]
  },
  {
   "cell_type": "code",
   "execution_count": 13,
   "metadata": {},
   "outputs": [],
   "source": [
    "def apply_wavelet_transform(data, consider_future=False):\n",
    "    serie=False\n",
    "    if(type(data) is not type(pd.DataFrame())):\n",
    "        data = pd.DataFrame(data)\n",
    "        serie=True\n",
    "    res = data.copy()\n",
    "    if(len(res.shape) == 1):\n",
    "        res = res[...,np.newaxis]\n",
    "    if(consider_future):\n",
    "        for i in range(res.shape[1]):\n",
    "            res.iloc[:,i] = waveletSmooth(data.iloc[:,i].copy(), level=1)[-len(res):]\n",
    "    else:\n",
    "        for i in range(res.shape[1]):\n",
    "            for j in range(res.shape[0]):\n",
    "                if(j > 0):\n",
    "                    res.iloc[j,i] = waveletSmooth(data.iloc[:j,i].copy(), level=1)[-1]\n",
    "    if(serie):\n",
    "        res = res.iloc[:,0]\n",
    "    return res"
   ]
  },
  {
   "cell_type": "code",
   "execution_count": 14,
   "metadata": {},
   "outputs": [],
   "source": [
    "opn_wt = apply_wavelet_transform(opn.copy())"
   ]
  },
  {
   "cell_type": "code",
   "execution_count": 15,
   "metadata": {},
   "outputs": [
    {
     "data": {
      "text/plain": [
       "<matplotlib.legend.Legend at 0x7f3ad47ef438>"
      ]
     },
     "execution_count": 15,
     "metadata": {},
     "output_type": "execute_result"
    },
    {
     "data": {
      "text/plain": [
       "<Figure size 3600x3600 with 0 Axes>"
      ]
     },
     "metadata": {},
     "output_type": "display_data"
    },
    {
     "data": {
      "image/png": "[encoded data removed]",
      "text/plain": [
       "<Figure size 432x288 with 2 Axes>"
      ]
     },
     "metadata": {
      "needs_background": "light"
     },
     "output_type": "display_data"
    }
   ],
   "source": [
    "plt.figure(figsize=(50,50))\n",
    "f, (ax1, ax2) = plt.subplots(2, 1, sharey=True)\n",
    "ax1.plot(opn, label='open before wavelet')\n",
    "ax2.plot(opn_wt, label='open after wavelet')\n",
    "ax1.legend()\n",
    "ax2.legend()"
   ]
  },
  {
   "cell_type": "markdown",
   "metadata": {},
   "source": [
    "## Normalizzazione \n",
    "Le seguenti funzioni sono utilizzate per normalizzare i dati, pianifichiamo di utilizzare queste funzioni anche sulla variabile da predire dovremo implementarne anche l'inversa, di modo da poter denormalizzare le predizioni fatte dal modello.\n",
    "Questo passo sarà importante nella valutazione del modello, ad esempio per calcolare il ROI."
   ]
  },
  {
   "cell_type": "markdown",
   "metadata": {},
   "source": [
    "### Z score"
   ]
  },
  {
   "cell_type": "code",
   "execution_count": 16,
   "metadata": {},
   "outputs": [],
   "source": [
    "#Calcola il z-score di una serie pandas\n",
    "def z_score(serie):\n",
    "    res = serie[1:].copy()\n",
    "    for i in range(0,len(res)):\n",
    "        serie_slice = serie[:i+2].copy()\n",
    "        res[i] = (serie_slice[-1] - serie_slice.mean())/serie_slice.std(ddof=0)\n",
    "    return res\n",
    "#prede come la serie dei valori precedenti a allo z score da denormalizzare e lo z_score\n",
    "def z_score_inv(past_serie, z_score):\n",
    "    return z_score * past_serie.std(ddof=0) +  past_serie.mean()"
   ]
  },
  {
   "cell_type": "code",
   "execution_count": 17,
   "metadata": {},
   "outputs": [],
   "source": [
    "opn_z = z_score(opn)\n",
    "close_z = z_score(close)"
   ]
  },
  {
   "cell_type": "code",
   "execution_count": 18,
   "metadata": {},
   "outputs": [
    {
     "data": {
      "text/plain": [
       "3.3169773894865258"
      ]
     },
     "execution_count": 18,
     "metadata": {},
     "output_type": "execute_result"
    }
   ],
   "source": [
    "close_z[-1]"
   ]
  },
  {
   "cell_type": "code",
   "execution_count": 19,
   "metadata": {},
   "outputs": [
    {
     "data": {
      "text/plain": [
       "24843.371842561362"
      ]
     },
     "execution_count": 19,
     "metadata": {},
     "output_type": "execute_result"
    }
   ],
   "source": [
    "z_score_inv(close[:-1], opn_z[-1])"
   ]
  },
  {
   "cell_type": "markdown",
   "metadata": {},
   "source": [
    "## Stacked Autoencoder"
   ]
  },
  {
   "cell_type": "code",
   "execution_count": 20,
   "metadata": {},
   "outputs": [],
   "source": [
    "def get_encoder(X):\n",
    "    X_train_f = X.to_numpy().astype(np.float32)\n",
    "    #Initialize the autoencoder\n",
    "    sa_hidden_size= np.ceil(X.shape[1] / 2).astype(int) # Con tutte le features 10\n",
    "\n",
    "    num_hidden_1 = sa_hidden_size\n",
    "    num_hidden_2 = sa_hidden_size\n",
    "    num_hidden_3 = sa_hidden_size\n",
    "    num_hidden_4 = sa_hidden_size\n",
    "\n",
    "    n_epoch=100#20000\n",
    "\n",
    "    # ---- train using training data\n",
    "\n",
    "    # The n==0 statement is done because we only want to initialize the network once and then keep training\n",
    "    # as we move through time \n",
    "\n",
    "    auto1 = Autoencoder(X_train_f.shape[1], num_hidden_1)\n",
    "    auto2 = Autoencoder(num_hidden_1, num_hidden_2)\n",
    "    auto3 = Autoencoder(num_hidden_2, num_hidden_3)\n",
    "    auto4 = Autoencoder(num_hidden_3, num_hidden_4)\n",
    "    \n",
    "    # Train the autoencoder \n",
    "    # switch to training mode\n",
    "    auto1.train()      \n",
    "    auto2.train()\n",
    "    auto3.train()\n",
    "    auto4.train()\n",
    "\n",
    "    inputs = torch.from_numpy(X_train_f)\n",
    "    auto1.fit(X_train_f, n_epoch=n_epoch)\n",
    "\n",
    "    auto1_out = auto1.encoder(inputs).data.numpy()\n",
    "    auto2.fit(auto1_out, n_epoch=n_epoch)\n",
    "\n",
    "\n",
    "    auto1_out = torch.from_numpy(auto1_out.astype(np.float32))\n",
    "    auto2_out = auto2.encoder(auto1_out).data.numpy()\n",
    "    auto3.fit(auto2_out, n_epoch=n_epoch)\n",
    "\n",
    "\n",
    "    auto2_out = torch.from_numpy(auto2_out.astype(np.float32))\n",
    "    auto3_out = auto3.encoder(auto2_out).data.numpy()\n",
    "    auto4.fit(auto3_out, n_epoch=n_epoch)\n",
    "\n",
    "    # Change to evaluation mode, in this mode the network behaves differently, e.g. dropout is switched off and so on\n",
    "    auto1.eval()        \n",
    "    auto2.eval()\n",
    "    auto3.eval()\n",
    "    auto4.eval()\n",
    "    return [auto1, auto2, auto3, auto4]"
   ]
  },
  {
   "cell_type": "code",
   "execution_count": 21,
   "metadata": {},
   "outputs": [],
   "source": [
    "def encode(feat_matrix, encoder):\n",
    "    encoded = torch.from_numpy(feat_matrix)\n",
    "    for auto in encoder:\n",
    "        encoded = auto.encoder(encoded)\n",
    "    return encoded.data.numpy()\n",
    "    "
   ]
  },
  {
   "cell_type": "markdown",
   "metadata": {},
   "source": [
    "## Selezione delle features"
   ]
  },
  {
   "cell_type": "code",
   "execution_count": 22,
   "metadata": {},
   "outputs": [],
   "source": [
    "data_set={}"
   ]
  },
  {
   "cell_type": "code",
   "execution_count": 23,
   "metadata": {
    "colab": {},
    "colab_type": "code",
    "id": "KYxv7o0ChDlQ"
   },
   "outputs": [
    {
     "name": "stderr",
     "output_type": "stream",
     "text": [
      "/data/anaconda/envs/fastai/lib/python3.6/site-packages/ipykernel_launcher.py:6: RuntimeWarning: invalid value encountered in double_scalars\n",
      "  \n"
     ]
    }
   ],
   "source": [
    "features = {}\n",
    "features[\"Open\"] = z_score(opn)\n",
    "\n",
    "target = z_score(apply_wavelet_transform(close))\n",
    "\n",
    "X, Y = prepare_data(features, target)\n",
    "X_train, X_val, Y_train, Y_val = split_before_2009_06_30(X, Y)\n",
    "\n",
    "data_set[\"open\"] = (X, Y)"
   ]
  },
  {
   "cell_type": "code",
   "execution_count": 24,
   "metadata": {},
   "outputs": [
    {
     "name": "stderr",
     "output_type": "stream",
     "text": [
      "/data/anaconda/envs/fastai/lib/python3.6/site-packages/ipykernel_launcher.py:6: RuntimeWarning: invalid value encountered in double_scalars\n",
      "  \n"
     ]
    },
    {
     "data": {
      "text/plain": [
       "Date\n",
       "2000-01-04         NaN\n",
       "2000-01-05   -1.414214\n",
       "2000-01-06   -1.654128\n",
       "2000-01-07   -0.857956\n",
       "2000-01-10   -0.193796\n",
       "                ...   \n",
       "2017-12-22    3.359009\n",
       "2017-12-26    3.350510\n",
       "2017-12-27    3.332624\n",
       "2017-12-28    3.342217\n",
       "2017-12-29    3.348993\n",
       "Name: Open, Length: 4527, dtype: float64"
      ]
     },
     "execution_count": 24,
     "metadata": {},
     "output_type": "execute_result"
    }
   ],
   "source": [
    "z_score(apply_wavelet_transform(opn))"
   ]
  },
  {
   "cell_type": "code",
   "execution_count": 25,
   "metadata": {},
   "outputs": [
    {
     "name": "stderr",
     "output_type": "stream",
     "text": [
      "/data/anaconda/envs/fastai/lib/python3.6/site-packages/ipykernel_launcher.py:6: RuntimeWarning: invalid value encountered in double_scalars\n",
      "  \n"
     ]
    }
   ],
   "source": [
    "features = {}\n",
    "features[\"Open\"] = z_score(apply_wavelet_transform(opn))\n",
    "features[\"CloseL1\"] = z_score(apply_wavelet_transform(close)).shift(1)\n",
    "features[\"HighL1\"] = z_score(apply_wavelet_transform(high)).shift(1)\n",
    "features[\"LowL1\"] = z_score(apply_wavelet_transform(low)).shift(1)\n",
    "features[\"VolumeL1\"] = z_score(apply_wavelet_transform(volume/1000)).shift(1)\n",
    "target = z_score(apply_wavelet_transform(close))\n",
    "\n",
    "X, Y = prepare_data(features, target)\n",
    "X_train, X_val, Y_train, Y_val = split_before_2009_06_30(X, Y)\n",
    "\n",
    "data_set[\"ohlcv\"]= (X, Y)"
   ]
  },
  {
   "cell_type": "code",
   "execution_count": 26,
   "metadata": {
    "scrolled": true
   },
   "outputs": [
    {
     "name": "stdout",
     "output_type": "stream",
     "text": [
      "Data Shuffled\n",
      "Epoch 1/100 | Step 0/70 | train loss: 535.0093 | l1 loss: 534.7872 | sparsity loss: 1.1110\n",
      "Epoch 1/100 | Step 50/70 | train loss: 443.9505 | l1 loss: 443.6982 | sparsity loss: 1.2617\n",
      "Data Shuffled\n",
      "Epoch 2/100 | Step 0/70 | train loss: 476.3145 | l1 loss: 476.0693 | sparsity loss: 1.2260\n",
      "Epoch 2/100 | Step 50/70 | train loss: 444.2559 | l1 loss: 443.9835 | sparsity loss: 1.3619\n",
      "Data Shuffled\n",
      "Epoch 3/100 | Step 0/70 | train loss: 439.6799 | l1 loss: 439.4133 | sparsity loss: 1.3331\n",
      "Epoch 3/100 | Step 50/70 | train loss: 387.1216 | l1 loss: 386.8151 | sparsity loss: 1.5324\n",
      "Data Shuffled\n",
      "Epoch 4/100 | Step 0/70 | train loss: 406.2673 | l1 loss: 405.9562 | sparsity loss: 1.5558\n",
      "Epoch 4/100 | Step 50/70 | train loss: 407.2547 | l1 loss: 406.8799 | sparsity loss: 1.8743\n",
      "Data Shuffled\n",
      "Epoch 5/100 | Step 0/70 | train loss: 364.8572 | l1 loss: 364.5399 | sparsity loss: 1.5866\n",
      "Epoch 5/100 | Step 50/70 | train loss: 330.2857 | l1 loss: 329.8322 | sparsity loss: 2.2677\n",
      "Data Shuffled\n",
      "Epoch 6/100 | Step 0/70 | train loss: 338.2722 | l1 loss: 337.8699 | sparsity loss: 2.0111\n",
      "Epoch 6/100 | Step 50/70 | train loss: 335.9926 | l1 loss: 335.5345 | sparsity loss: 2.2905\n",
      "Data Shuffled\n",
      "Epoch 7/100 | Step 0/70 | train loss: 281.6545 | l1 loss: 281.3298 | sparsity loss: 1.6235\n",
      "Epoch 7/100 | Step 50/70 | train loss: 282.1005 | l1 loss: 281.7325 | sparsity loss: 1.8401\n",
      "Data Shuffled\n",
      "Epoch 8/100 | Step 0/70 | train loss: 263.9565 | l1 loss: 263.5465 | sparsity loss: 2.0504\n",
      "Epoch 8/100 | Step 50/70 | train loss: 268.0234 | l1 loss: 267.6510 | sparsity loss: 1.8620\n",
      "Data Shuffled\n",
      "Epoch 9/100 | Step 0/70 | train loss: 234.1331 | l1 loss: 233.7646 | sparsity loss: 1.8424\n",
      "Epoch 9/100 | Step 50/70 | train loss: 228.3863 | l1 loss: 227.9754 | sparsity loss: 2.0547\n",
      "Data Shuffled\n",
      "Epoch 10/100 | Step 0/70 | train loss: 244.0104 | l1 loss: 243.6875 | sparsity loss: 1.6147\n",
      "Epoch 10/100 | Step 50/70 | train loss: 212.0206 | l1 loss: 211.6646 | sparsity loss: 1.7800\n",
      "Data Shuffled\n",
      "Epoch 11/100 | Step 0/70 | train loss: 198.1929 | l1 loss: 197.8310 | sparsity loss: 1.8097\n",
      "Epoch 11/100 | Step 50/70 | train loss: 178.7145 | l1 loss: 178.3552 | sparsity loss: 1.7968\n",
      "Data Shuffled\n",
      "Epoch 12/100 | Step 0/70 | train loss: 205.9393 | l1 loss: 205.5941 | sparsity loss: 1.7258\n",
      "Epoch 12/100 | Step 50/70 | train loss: 176.8931 | l1 loss: 176.5277 | sparsity loss: 1.8269\n",
      "Data Shuffled\n",
      "Epoch 13/100 | Step 0/70 | train loss: 195.0591 | l1 loss: 194.6614 | sparsity loss: 1.9887\n",
      "Epoch 13/100 | Step 50/70 | train loss: 143.1274 | l1 loss: 142.7453 | sparsity loss: 1.9107\n",
      "Data Shuffled\n",
      "Epoch 14/100 | Step 0/70 | train loss: 179.6949 | l1 loss: 179.3710 | sparsity loss: 1.6193\n",
      "Epoch 14/100 | Step 50/70 | train loss: 162.1798 | l1 loss: 161.7955 | sparsity loss: 1.9216\n",
      "Data Shuffled\n",
      "Epoch 15/100 | Step 0/70 | train loss: 149.5375 | l1 loss: 149.2038 | sparsity loss: 1.6688\n",
      "Epoch 15/100 | Step 50/70 | train loss: 167.0350 | l1 loss: 166.6958 | sparsity loss: 1.6961\n",
      "Data Shuffled\n",
      "Epoch 16/100 | Step 0/70 | train loss: 131.0628 | l1 loss: 130.7275 | sparsity loss: 1.6764\n",
      "Epoch 16/100 | Step 50/70 | train loss: 144.1754 | l1 loss: 143.8542 | sparsity loss: 1.6057\n",
      "Data Shuffled\n",
      "Epoch 17/100 | Step 0/70 | train loss: 143.8665 | l1 loss: 143.5548 | sparsity loss: 1.5586\n",
      "Epoch 17/100 | Step 50/70 | train loss: 127.3383 | l1 loss: 127.0036 | sparsity loss: 1.6738\n",
      "Data Shuffled\n",
      "Epoch 18/100 | Step 0/70 | train loss: 146.8382 | l1 loss: 146.4829 | sparsity loss: 1.7765\n",
      "Epoch 18/100 | Step 50/70 | train loss: 108.3226 | l1 loss: 108.0033 | sparsity loss: 1.5962\n",
      "Data Shuffled\n",
      "Epoch 19/100 | Step 0/70 | train loss: 140.3717 | l1 loss: 140.0555 | sparsity loss: 1.5808\n",
      "Epoch 19/100 | Step 50/70 | train loss: 137.5763 | l1 loss: 137.2250 | sparsity loss: 1.7563\n",
      "Data Shuffled\n",
      "Epoch 20/100 | Step 0/70 | train loss: 123.3777 | l1 loss: 123.0633 | sparsity loss: 1.5719\n",
      "Epoch 20/100 | Step 50/70 | train loss: 104.5553 | l1 loss: 104.2538 | sparsity loss: 1.5074\n",
      "Data Shuffled\n",
      "Epoch 21/100 | Step 0/70 | train loss: 102.8113 | l1 loss: 102.4892 | sparsity loss: 1.6108\n",
      "Epoch 21/100 | Step 50/70 | train loss: 102.5596 | l1 loss: 102.2284 | sparsity loss: 1.6563\n",
      "Data Shuffled\n",
      "Epoch 22/100 | Step 0/70 | train loss: 123.8585 | l1 loss: 123.5302 | sparsity loss: 1.6414\n",
      "Epoch 22/100 | Step 50/70 | train loss: 124.4451 | l1 loss: 124.1141 | sparsity loss: 1.6552\n",
      "Data Shuffled\n",
      "Epoch 23/100 | Step 0/70 | train loss: 111.7939 | l1 loss: 111.4559 | sparsity loss: 1.6900\n",
      "Epoch 23/100 | Step 50/70 | train loss: 134.9687 | l1 loss: 134.6408 | sparsity loss: 1.6391\n",
      "Data Shuffled\n",
      "Epoch 24/100 | Step 0/70 | train loss: 117.9675 | l1 loss: 117.6448 | sparsity loss: 1.6135\n",
      "Epoch 24/100 | Step 50/70 | train loss: 104.2682 | l1 loss: 103.9540 | sparsity loss: 1.5710\n",
      "Data Shuffled\n",
      "Epoch 25/100 | Step 0/70 | train loss: 102.1963 | l1 loss: 101.8656 | sparsity loss: 1.6537\n",
      "Epoch 25/100 | Step 50/70 | train loss: 116.6929 | l1 loss: 116.3874 | sparsity loss: 1.5275\n",
      "Data Shuffled\n",
      "Epoch 26/100 | Step 0/70 | train loss: 109.0843 | l1 loss: 108.7582 | sparsity loss: 1.6308\n",
      "Epoch 26/100 | Step 50/70 | train loss: 84.8945 | l1 loss: 84.5695 | sparsity loss: 1.6252\n",
      "Data Shuffled\n",
      "Epoch 27/100 | Step 0/70 | train loss: 112.0031 | l1 loss: 111.6807 | sparsity loss: 1.6120\n",
      "Epoch 27/100 | Step 50/70 | train loss: 96.9346 | l1 loss: 96.6241 | sparsity loss: 1.5530\n",
      "Data Shuffled\n",
      "Epoch 28/100 | Step 0/70 | train loss: 109.2860 | l1 loss: 108.9902 | sparsity loss: 1.4790\n",
      "Epoch 28/100 | Step 50/70 | train loss: 86.0360 | l1 loss: 85.7075 | sparsity loss: 1.6429\n",
      "Data Shuffled\n",
      "Epoch 29/100 | Step 0/70 | train loss: 100.3063 | l1 loss: 99.9796 | sparsity loss: 1.6335\n",
      "Epoch 29/100 | Step 50/70 | train loss: 106.4555 | l1 loss: 106.1531 | sparsity loss: 1.5123\n",
      "Data Shuffled\n",
      "Epoch 30/100 | Step 0/70 | train loss: 104.0882 | l1 loss: 103.7917 | sparsity loss: 1.4826\n",
      "Epoch 30/100 | Step 50/70 | train loss: 107.3411 | l1 loss: 107.0224 | sparsity loss: 1.5933\n",
      "Data Shuffled\n",
      "Epoch 31/100 | Step 0/70 | train loss: 112.7659 | l1 loss: 112.4535 | sparsity loss: 1.5623\n",
      "Epoch 31/100 | Step 50/70 | train loss: 95.7839 | l1 loss: 95.4690 | sparsity loss: 1.5747\n",
      "Data Shuffled\n",
      "Epoch 32/100 | Step 0/70 | train loss: 94.8960 | l1 loss: 94.5758 | sparsity loss: 1.6009\n",
      "Epoch 32/100 | Step 50/70 | train loss: 76.2950 | l1 loss: 75.9800 | sparsity loss: 1.5751\n",
      "Data Shuffled\n",
      "Epoch 33/100 | Step 0/70 | train loss: 98.7269 | l1 loss: 98.4057 | sparsity loss: 1.6062\n",
      "Epoch 33/100 | Step 50/70 | train loss: 89.6418 | l1 loss: 89.3221 | sparsity loss: 1.5988\n",
      "Data Shuffled\n",
      "Epoch 34/100 | Step 0/70 | train loss: 81.2261 | l1 loss: 80.8888 | sparsity loss: 1.6866\n",
      "Epoch 34/100 | Step 50/70 | train loss: 74.7086 | l1 loss: 74.3737 | sparsity loss: 1.6745\n",
      "Data Shuffled\n",
      "Epoch 35/100 | Step 0/70 | train loss: 106.6487 | l1 loss: 106.3246 | sparsity loss: 1.6205\n",
      "Epoch 35/100 | Step 50/70 | train loss: 105.8066 | l1 loss: 105.4927 | sparsity loss: 1.5696\n",
      "Data Shuffled\n",
      "Epoch 36/100 | Step 0/70 | train loss: 80.1362 | l1 loss: 79.8129 | sparsity loss: 1.6166\n",
      "Epoch 36/100 | Step 50/70 | train loss: 70.5318 | l1 loss: 70.1866 | sparsity loss: 1.7262\n",
      "Data Shuffled\n",
      "Epoch 37/100 | Step 0/70 | train loss: 74.9405 | l1 loss: 74.6014 | sparsity loss: 1.6953\n",
      "Epoch 37/100 | Step 50/70 | train loss: 80.2035 | l1 loss: 79.9039 | sparsity loss: 1.4979\n",
      "Data Shuffled\n",
      "Epoch 38/100 | Step 0/70 | train loss: 88.3685 | l1 loss: 88.0640 | sparsity loss: 1.5224\n",
      "Epoch 38/100 | Step 50/70 | train loss: 84.3589 | l1 loss: 84.0442 | sparsity loss: 1.5736\n",
      "Data Shuffled\n",
      "Epoch 39/100 | Step 0/70 | train loss: 103.7869 | l1 loss: 103.4624 | sparsity loss: 1.6225\n",
      "Epoch 39/100 | Step 50/70 | train loss: 84.8366 | l1 loss: 84.5126 | sparsity loss: 1.6198\n",
      "Data Shuffled\n",
      "Epoch 40/100 | Step 0/70 | train loss: 79.6481 | l1 loss: 79.3367 | sparsity loss: 1.5569\n",
      "Epoch 40/100 | Step 50/70 | train loss: 114.4572 | l1 loss: 114.1587 | sparsity loss: 1.4927\n",
      "Data Shuffled\n",
      "Epoch 41/100 | Step 0/70 | train loss: 100.5428 | l1 loss: 100.2309 | sparsity loss: 1.5597\n",
      "Epoch 41/100 | Step 50/70 | train loss: 87.7246 | l1 loss: 87.4164 | sparsity loss: 1.5415\n",
      "Data Shuffled\n",
      "Epoch 42/100 | Step 0/70 | train loss: 73.1301 | l1 loss: 72.8321 | sparsity loss: 1.4903\n"
     ]
    },
    {
     "name": "stdout",
     "output_type": "stream",
     "text": [
      "Epoch 42/100 | Step 50/70 | train loss: 87.7498 | l1 loss: 87.4340 | sparsity loss: 1.5789\n",
      "Data Shuffled\n",
      "Epoch 43/100 | Step 0/70 | train loss: 77.0382 | l1 loss: 76.7101 | sparsity loss: 1.6404\n",
      "Epoch 43/100 | Step 50/70 | train loss: 77.5445 | l1 loss: 77.2280 | sparsity loss: 1.5826\n",
      "Data Shuffled\n",
      "Epoch 44/100 | Step 0/70 | train loss: 73.2675 | l1 loss: 72.9402 | sparsity loss: 1.6365\n",
      "Epoch 44/100 | Step 50/70 | train loss: 83.1164 | l1 loss: 82.7984 | sparsity loss: 1.5896\n",
      "Data Shuffled\n",
      "Epoch 45/100 | Step 0/70 | train loss: 97.8232 | l1 loss: 97.5191 | sparsity loss: 1.5205\n",
      "Epoch 45/100 | Step 50/70 | train loss: 100.0760 | l1 loss: 99.7696 | sparsity loss: 1.5316\n",
      "Data Shuffled\n",
      "Epoch 46/100 | Step 0/70 | train loss: 84.1241 | l1 loss: 83.8256 | sparsity loss: 1.4928\n",
      "Epoch 46/100 | Step 50/70 | train loss: 75.6455 | l1 loss: 75.3125 | sparsity loss: 1.6652\n",
      "Data Shuffled\n",
      "Epoch 47/100 | Step 0/70 | train loss: 70.3024 | l1 loss: 69.9547 | sparsity loss: 1.7388\n",
      "Epoch 47/100 | Step 50/70 | train loss: 69.7773 | l1 loss: 69.4456 | sparsity loss: 1.6584\n",
      "Data Shuffled\n",
      "Epoch 48/100 | Step 0/70 | train loss: 79.5675 | l1 loss: 79.2565 | sparsity loss: 1.5549\n",
      "Epoch 48/100 | Step 50/70 | train loss: 102.2996 | l1 loss: 102.0027 | sparsity loss: 1.4846\n",
      "Data Shuffled\n",
      "Epoch 49/100 | Step 0/70 | train loss: 73.6619 | l1 loss: 73.3471 | sparsity loss: 1.5740\n",
      "Epoch 49/100 | Step 50/70 | train loss: 61.2192 | l1 loss: 60.8992 | sparsity loss: 1.6003\n",
      "Data Shuffled\n",
      "Epoch 50/100 | Step 0/70 | train loss: 78.5019 | l1 loss: 78.1914 | sparsity loss: 1.5523\n",
      "Epoch 50/100 | Step 50/70 | train loss: 88.3363 | l1 loss: 88.0335 | sparsity loss: 1.5136\n",
      "Data Shuffled\n",
      "Epoch 51/100 | Step 0/70 | train loss: 61.0128 | l1 loss: 60.6856 | sparsity loss: 1.6360\n",
      "Epoch 51/100 | Step 50/70 | train loss: 98.0315 | l1 loss: 97.7243 | sparsity loss: 1.5363\n",
      "Data Shuffled\n",
      "Epoch 52/100 | Step 0/70 | train loss: 72.0179 | l1 loss: 71.7236 | sparsity loss: 1.4711\n",
      "Epoch 52/100 | Step 50/70 | train loss: 63.6706 | l1 loss: 63.3562 | sparsity loss: 1.5717\n",
      "Data Shuffled\n",
      "Epoch 53/100 | Step 0/70 | train loss: 90.9625 | l1 loss: 90.6680 | sparsity loss: 1.4725\n",
      "Epoch 53/100 | Step 50/70 | train loss: 77.6408 | l1 loss: 77.3159 | sparsity loss: 1.6246\n",
      "Data Shuffled\n",
      "Epoch 54/100 | Step 0/70 | train loss: 73.4650 | l1 loss: 73.1724 | sparsity loss: 1.4628\n",
      "Epoch 54/100 | Step 50/70 | train loss: 73.7156 | l1 loss: 73.4167 | sparsity loss: 1.4945\n",
      "Data Shuffled\n",
      "Epoch 55/100 | Step 0/70 | train loss: 60.3124 | l1 loss: 59.9778 | sparsity loss: 1.6732\n",
      "Epoch 55/100 | Step 50/70 | train loss: 57.5894 | l1 loss: 57.2880 | sparsity loss: 1.5072\n",
      "Data Shuffled\n",
      "Epoch 56/100 | Step 0/70 | train loss: 71.1559 | l1 loss: 70.8486 | sparsity loss: 1.5366\n",
      "Epoch 56/100 | Step 50/70 | train loss: 61.5914 | l1 loss: 61.2809 | sparsity loss: 1.5525\n",
      "Data Shuffled\n",
      "Epoch 57/100 | Step 0/70 | train loss: 53.1921 | l1 loss: 52.8659 | sparsity loss: 1.6312\n",
      "Epoch 57/100 | Step 50/70 | train loss: 63.8472 | l1 loss: 63.5537 | sparsity loss: 1.4677\n",
      "Data Shuffled\n",
      "Epoch 58/100 | Step 0/70 | train loss: 65.0167 | l1 loss: 64.6972 | sparsity loss: 1.5973\n",
      "Epoch 58/100 | Step 50/70 | train loss: 61.8137 | l1 loss: 61.5097 | sparsity loss: 1.5198\n",
      "Data Shuffled\n",
      "Epoch 59/100 | Step 0/70 | train loss: 64.4100 | l1 loss: 64.1080 | sparsity loss: 1.5100\n",
      "Epoch 59/100 | Step 50/70 | train loss: 75.1656 | l1 loss: 74.8591 | sparsity loss: 1.5326\n",
      "Data Shuffled\n",
      "Epoch 60/100 | Step 0/70 | train loss: 64.3595 | l1 loss: 64.0640 | sparsity loss: 1.4775\n",
      "Epoch 60/100 | Step 50/70 | train loss: 72.2498 | l1 loss: 71.9579 | sparsity loss: 1.4598\n",
      "Data Shuffled\n",
      "Epoch 61/100 | Step 0/70 | train loss: 59.5474 | l1 loss: 59.2427 | sparsity loss: 1.5235\n",
      "Epoch 61/100 | Step 50/70 | train loss: 57.4575 | l1 loss: 57.1582 | sparsity loss: 1.4965\n",
      "Data Shuffled\n",
      "Epoch 62/100 | Step 0/70 | train loss: 84.2894 | l1 loss: 83.9978 | sparsity loss: 1.4581\n",
      "Epoch 62/100 | Step 50/70 | train loss: 52.7494 | l1 loss: 52.4607 | sparsity loss: 1.4431\n",
      "Data Shuffled\n",
      "Epoch 63/100 | Step 0/70 | train loss: 53.5778 | l1 loss: 53.2653 | sparsity loss: 1.5625\n",
      "Epoch 63/100 | Step 50/70 | train loss: 56.0151 | l1 loss: 55.7240 | sparsity loss: 1.4552\n",
      "Data Shuffled\n",
      "Epoch 64/100 | Step 0/70 | train loss: 48.0387 | l1 loss: 47.7223 | sparsity loss: 1.5822\n",
      "Epoch 64/100 | Step 50/70 | train loss: 59.6761 | l1 loss: 59.3856 | sparsity loss: 1.4528\n",
      "Data Shuffled\n",
      "Epoch 65/100 | Step 0/70 | train loss: 47.4778 | l1 loss: 47.1697 | sparsity loss: 1.5403\n",
      "Epoch 65/100 | Step 50/70 | train loss: 46.2752 | l1 loss: 45.9877 | sparsity loss: 1.4375\n",
      "Data Shuffled\n",
      "Epoch 66/100 | Step 0/70 | train loss: 44.8401 | l1 loss: 44.5520 | sparsity loss: 1.4405\n",
      "Epoch 66/100 | Step 50/70 | train loss: 70.5945 | l1 loss: 70.2893 | sparsity loss: 1.5259\n",
      "Data Shuffled\n",
      "Epoch 67/100 | Step 0/70 | train loss: 44.1687 | l1 loss: 43.8788 | sparsity loss: 1.4495\n",
      "Epoch 67/100 | Step 50/70 | train loss: 36.3147 | l1 loss: 36.0112 | sparsity loss: 1.5175\n",
      "Data Shuffled\n",
      "Epoch 68/100 | Step 0/70 | train loss: 56.7030 | l1 loss: 56.4157 | sparsity loss: 1.4364\n",
      "Epoch 68/100 | Step 50/70 | train loss: 42.8646 | l1 loss: 42.5698 | sparsity loss: 1.4741\n",
      "Data Shuffled\n",
      "Epoch 69/100 | Step 0/70 | train loss: 40.6384 | l1 loss: 40.3231 | sparsity loss: 1.5769\n",
      "Epoch 69/100 | Step 50/70 | train loss: 32.7178 | l1 loss: 32.4217 | sparsity loss: 1.4808\n",
      "Data Shuffled\n",
      "Epoch 70/100 | Step 0/70 | train loss: 47.7044 | l1 loss: 47.3973 | sparsity loss: 1.5356\n",
      "Epoch 70/100 | Step 50/70 | train loss: 49.1026 | l1 loss: 48.8097 | sparsity loss: 1.4641\n",
      "Data Shuffled\n",
      "Epoch 71/100 | Step 0/70 | train loss: 32.1068 | l1 loss: 31.8185 | sparsity loss: 1.4416\n",
      "Epoch 71/100 | Step 50/70 | train loss: 38.0925 | l1 loss: 37.7981 | sparsity loss: 1.4720\n",
      "Data Shuffled\n",
      "Epoch 72/100 | Step 0/70 | train loss: 39.9811 | l1 loss: 39.6899 | sparsity loss: 1.4561\n",
      "Epoch 72/100 | Step 50/70 | train loss: 35.9617 | l1 loss: 35.6683 | sparsity loss: 1.4670\n",
      "Data Shuffled\n",
      "Epoch 73/100 | Step 0/70 | train loss: 42.9363 | l1 loss: 42.6396 | sparsity loss: 1.4833\n",
      "Epoch 73/100 | Step 50/70 | train loss: 51.2233 | l1 loss: 50.9365 | sparsity loss: 1.4338\n",
      "Data Shuffled\n",
      "Epoch 74/100 | Step 0/70 | train loss: 46.4202 | l1 loss: 46.1327 | sparsity loss: 1.4376\n",
      "Epoch 74/100 | Step 50/70 | train loss: 35.1142 | l1 loss: 34.8095 | sparsity loss: 1.5232\n",
      "Data Shuffled\n",
      "Epoch 75/100 | Step 0/70 | train loss: 40.3457 | l1 loss: 40.0559 | sparsity loss: 1.4492\n",
      "Epoch 75/100 | Step 50/70 | train loss: 33.2177 | l1 loss: 32.9241 | sparsity loss: 1.4682\n",
      "Data Shuffled\n",
      "Epoch 76/100 | Step 0/70 | train loss: 57.8659 | l1 loss: 57.5746 | sparsity loss: 1.4567\n",
      "Epoch 76/100 | Step 50/70 | train loss: 33.9422 | l1 loss: 33.6558 | sparsity loss: 1.4320\n",
      "Data Shuffled\n",
      "Epoch 77/100 | Step 0/70 | train loss: 49.1563 | l1 loss: 48.8730 | sparsity loss: 1.4164\n",
      "Epoch 77/100 | Step 50/70 | train loss: 43.2209 | l1 loss: 42.9311 | sparsity loss: 1.4490\n",
      "Data Shuffled\n",
      "Epoch 78/100 | Step 0/70 | train loss: 33.8033 | l1 loss: 33.5108 | sparsity loss: 1.4628\n",
      "Epoch 78/100 | Step 50/70 | train loss: 43.8477 | l1 loss: 43.5537 | sparsity loss: 1.4701\n",
      "Data Shuffled\n",
      "Epoch 79/100 | Step 0/70 | train loss: 30.6397 | l1 loss: 30.3485 | sparsity loss: 1.4561\n",
      "Epoch 79/100 | Step 50/70 | train loss: 51.5460 | l1 loss: 51.2653 | sparsity loss: 1.4032\n",
      "Data Shuffled\n",
      "Epoch 80/100 | Step 0/70 | train loss: 36.7342 | l1 loss: 36.4299 | sparsity loss: 1.5218\n",
      "Epoch 80/100 | Step 50/70 | train loss: 28.1163 | l1 loss: 27.8241 | sparsity loss: 1.4607\n",
      "Data Shuffled\n",
      "Epoch 81/100 | Step 0/70 | train loss: 48.2767 | l1 loss: 47.9821 | sparsity loss: 1.4730\n",
      "Epoch 81/100 | Step 50/70 | train loss: 34.6427 | l1 loss: 34.3454 | sparsity loss: 1.4869\n",
      "Data Shuffled\n",
      "Epoch 82/100 | Step 0/70 | train loss: 38.0686 | l1 loss: 37.7870 | sparsity loss: 1.4078\n",
      "Epoch 82/100 | Step 50/70 | train loss: 28.9490 | l1 loss: 28.6589 | sparsity loss: 1.4502\n",
      "Data Shuffled\n",
      "Epoch 83/100 | Step 0/70 | train loss: 48.0438 | l1 loss: 47.7508 | sparsity loss: 1.4652\n",
      "Epoch 83/100 | Step 50/70 | train loss: 33.7396 | l1 loss: 33.4515 | sparsity loss: 1.4405\n",
      "Data Shuffled\n",
      "Epoch 84/100 | Step 0/70 | train loss: 44.6002 | l1 loss: 44.3047 | sparsity loss: 1.4772\n"
     ]
    },
    {
     "name": "stdout",
     "output_type": "stream",
     "text": [
      "Epoch 84/100 | Step 50/70 | train loss: 35.6608 | l1 loss: 35.3657 | sparsity loss: 1.4754\n",
      "Data Shuffled\n",
      "Epoch 85/100 | Step 0/70 | train loss: 35.9728 | l1 loss: 35.6777 | sparsity loss: 1.4757\n",
      "Epoch 85/100 | Step 50/70 | train loss: 29.7956 | l1 loss: 29.4960 | sparsity loss: 1.4978\n",
      "Data Shuffled\n",
      "Epoch 86/100 | Step 0/70 | train loss: 37.1724 | l1 loss: 36.8800 | sparsity loss: 1.4619\n",
      "Epoch 86/100 | Step 50/70 | train loss: 29.2506 | l1 loss: 28.9548 | sparsity loss: 1.4788\n",
      "Data Shuffled\n",
      "Epoch 87/100 | Step 0/70 | train loss: 45.5587 | l1 loss: 45.2634 | sparsity loss: 1.4769\n",
      "Epoch 87/100 | Step 50/70 | train loss: 28.0507 | l1 loss: 27.7670 | sparsity loss: 1.4188\n",
      "Data Shuffled\n",
      "Epoch 88/100 | Step 0/70 | train loss: 38.3232 | l1 loss: 38.0330 | sparsity loss: 1.4508\n",
      "Epoch 88/100 | Step 50/70 | train loss: 27.5923 | l1 loss: 27.2987 | sparsity loss: 1.4683\n",
      "Data Shuffled\n",
      "Epoch 89/100 | Step 0/70 | train loss: 44.0046 | l1 loss: 43.7087 | sparsity loss: 1.4795\n",
      "Epoch 89/100 | Step 50/70 | train loss: 28.8407 | l1 loss: 28.5515 | sparsity loss: 1.4460\n",
      "Data Shuffled\n",
      "Epoch 90/100 | Step 0/70 | train loss: 31.6911 | l1 loss: 31.4041 | sparsity loss: 1.4350\n",
      "Epoch 90/100 | Step 50/70 | train loss: 29.7234 | l1 loss: 29.4204 | sparsity loss: 1.5152\n",
      "Data Shuffled\n",
      "Epoch 91/100 | Step 0/70 | train loss: 32.6415 | l1 loss: 32.3510 | sparsity loss: 1.4527\n",
      "Epoch 91/100 | Step 50/70 | train loss: 28.1952 | l1 loss: 27.9024 | sparsity loss: 1.4641\n",
      "Data Shuffled\n",
      "Epoch 92/100 | Step 0/70 | train loss: 31.3757 | l1 loss: 31.0895 | sparsity loss: 1.4315\n",
      "Epoch 92/100 | Step 50/70 | train loss: 46.8114 | l1 loss: 46.5287 | sparsity loss: 1.4134\n",
      "Data Shuffled\n",
      "Epoch 93/100 | Step 0/70 | train loss: 36.9096 | l1 loss: 36.6232 | sparsity loss: 1.4322\n",
      "Epoch 93/100 | Step 50/70 | train loss: 28.5085 | l1 loss: 28.2175 | sparsity loss: 1.4552\n",
      "Data Shuffled\n",
      "Epoch 94/100 | Step 0/70 | train loss: 35.3616 | l1 loss: 35.0738 | sparsity loss: 1.4393\n",
      "Epoch 94/100 | Step 50/70 | train loss: 26.0453 | l1 loss: 25.7501 | sparsity loss: 1.4761\n",
      "Data Shuffled\n",
      "Epoch 95/100 | Step 0/70 | train loss: 26.8457 | l1 loss: 26.5501 | sparsity loss: 1.4780\n",
      "Epoch 95/100 | Step 50/70 | train loss: 29.5389 | l1 loss: 29.2542 | sparsity loss: 1.4236\n",
      "Data Shuffled\n",
      "Epoch 96/100 | Step 0/70 | train loss: 49.2080 | l1 loss: 48.9196 | sparsity loss: 1.4420\n",
      "Epoch 96/100 | Step 50/70 | train loss: 25.4346 | l1 loss: 25.1342 | sparsity loss: 1.5019\n",
      "Data Shuffled\n",
      "Epoch 97/100 | Step 0/70 | train loss: 38.5511 | l1 loss: 38.2611 | sparsity loss: 1.4501\n",
      "Epoch 97/100 | Step 50/70 | train loss: 33.0455 | l1 loss: 32.7479 | sparsity loss: 1.4878\n",
      "Data Shuffled\n",
      "Epoch 98/100 | Step 0/70 | train loss: 26.8111 | l1 loss: 26.4957 | sparsity loss: 1.5768\n",
      "Epoch 98/100 | Step 50/70 | train loss: 26.9059 | l1 loss: 26.6046 | sparsity loss: 1.5070\n",
      "Data Shuffled\n",
      "Epoch 99/100 | Step 0/70 | train loss: 41.7523 | l1 loss: 41.4589 | sparsity loss: 1.4673\n",
      "Epoch 99/100 | Step 50/70 | train loss: 21.8360 | l1 loss: 21.5512 | sparsity loss: 1.4239\n",
      "Data Shuffled\n",
      "Epoch 100/100 | Step 0/70 | train loss: 38.5040 | l1 loss: 38.2156 | sparsity loss: 1.4423\n",
      "Epoch 100/100 | Step 50/70 | train loss: 30.2720 | l1 loss: 29.9820 | sparsity loss: 1.4499\n",
      "Data Shuffled\n",
      "Epoch 1/100 | Step 0/70 | train loss: 61.4692 | l1 loss: 61.1223 | sparsity loss: 1.7341\n",
      "Epoch 1/100 | Step 50/70 | train loss: 50.1891 | l1 loss: 49.8413 | sparsity loss: 1.7387\n",
      "Data Shuffled\n",
      "Epoch 2/100 | Step 0/70 | train loss: 41.2507 | l1 loss: 40.9044 | sparsity loss: 1.7312\n",
      "Epoch 2/100 | Step 50/70 | train loss: 39.9077 | l1 loss: 39.5660 | sparsity loss: 1.7086\n",
      "Data Shuffled\n",
      "Epoch 3/100 | Step 0/70 | train loss: 37.5579 | l1 loss: 37.2179 | sparsity loss: 1.7000\n",
      "Epoch 3/100 | Step 50/70 | train loss: 34.8019 | l1 loss: 34.4640 | sparsity loss: 1.6895\n",
      "Data Shuffled\n",
      "Epoch 4/100 | Step 0/70 | train loss: 35.9253 | l1 loss: 35.5856 | sparsity loss: 1.6984\n",
      "Epoch 4/100 | Step 50/70 | train loss: 34.7359 | l1 loss: 34.3974 | sparsity loss: 1.6925\n",
      "Data Shuffled\n",
      "Epoch 5/100 | Step 0/70 | train loss: 33.5857 | l1 loss: 33.2458 | sparsity loss: 1.6997\n",
      "Epoch 5/100 | Step 50/70 | train loss: 34.2437 | l1 loss: 33.9047 | sparsity loss: 1.6951\n",
      "Data Shuffled\n",
      "Epoch 6/100 | Step 0/70 | train loss: 38.8998 | l1 loss: 38.5607 | sparsity loss: 1.6958\n",
      "Epoch 6/100 | Step 50/70 | train loss: 37.9685 | l1 loss: 37.6357 | sparsity loss: 1.6641\n",
      "Data Shuffled\n",
      "Epoch 7/100 | Step 0/70 | train loss: 37.6575 | l1 loss: 37.3217 | sparsity loss: 1.6792\n",
      "Epoch 7/100 | Step 50/70 | train loss: 31.1200 | l1 loss: 30.7785 | sparsity loss: 1.7072\n",
      "Data Shuffled\n",
      "Epoch 8/100 | Step 0/70 | train loss: 34.8861 | l1 loss: 34.5526 | sparsity loss: 1.6671\n",
      "Epoch 8/100 | Step 50/70 | train loss: 33.2417 | l1 loss: 32.9044 | sparsity loss: 1.6866\n",
      "Data Shuffled\n",
      "Epoch 9/100 | Step 0/70 | train loss: 35.6286 | l1 loss: 35.2981 | sparsity loss: 1.6526\n",
      "Epoch 9/100 | Step 50/70 | train loss: 34.9344 | l1 loss: 34.6064 | sparsity loss: 1.6403\n",
      "Data Shuffled\n",
      "Epoch 10/100 | Step 0/70 | train loss: 35.1514 | l1 loss: 34.8245 | sparsity loss: 1.6346\n",
      "Epoch 10/100 | Step 50/70 | train loss: 33.8632 | l1 loss: 33.5356 | sparsity loss: 1.6376\n",
      "Data Shuffled\n",
      "Epoch 11/100 | Step 0/70 | train loss: 32.6364 | l1 loss: 32.3097 | sparsity loss: 1.6334\n",
      "Epoch 11/100 | Step 50/70 | train loss: 32.5577 | l1 loss: 32.2263 | sparsity loss: 1.6571\n",
      "Data Shuffled\n",
      "Epoch 12/100 | Step 0/70 | train loss: 30.4889 | l1 loss: 30.1625 | sparsity loss: 1.6319\n",
      "Epoch 12/100 | Step 50/70 | train loss: 31.1448 | l1 loss: 30.8225 | sparsity loss: 1.6114\n",
      "Data Shuffled\n",
      "Epoch 13/100 | Step 0/70 | train loss: 28.3582 | l1 loss: 28.0375 | sparsity loss: 1.6032\n",
      "Epoch 13/100 | Step 50/70 | train loss: 31.3444 | l1 loss: 31.0249 | sparsity loss: 1.5972\n",
      "Data Shuffled\n",
      "Epoch 14/100 | Step 0/70 | train loss: 31.5196 | l1 loss: 31.2069 | sparsity loss: 1.5639\n",
      "Epoch 14/100 | Step 50/70 | train loss: 30.2587 | l1 loss: 29.9456 | sparsity loss: 1.5652\n",
      "Data Shuffled\n",
      "Epoch 15/100 | Step 0/70 | train loss: 32.1321 | l1 loss: 31.8273 | sparsity loss: 1.5242\n",
      "Epoch 15/100 | Step 50/70 | train loss: 30.3713 | l1 loss: 30.0795 | sparsity loss: 1.4586\n",
      "Data Shuffled\n",
      "Epoch 16/100 | Step 0/70 | train loss: 26.0196 | l1 loss: 25.6991 | sparsity loss: 1.6025\n",
      "Epoch 16/100 | Step 50/70 | train loss: 27.5340 | l1 loss: 27.2298 | sparsity loss: 1.5211\n",
      "Data Shuffled\n",
      "Epoch 17/100 | Step 0/70 | train loss: 30.1805 | l1 loss: 29.8800 | sparsity loss: 1.5026\n",
      "Epoch 17/100 | Step 50/70 | train loss: 25.4238 | l1 loss: 25.1149 | sparsity loss: 1.5447\n",
      "Data Shuffled\n",
      "Epoch 18/100 | Step 0/70 | train loss: 27.8379 | l1 loss: 27.5406 | sparsity loss: 1.4865\n",
      "Epoch 18/100 | Step 50/70 | train loss: 27.2775 | l1 loss: 26.9800 | sparsity loss: 1.4875\n",
      "Data Shuffled\n",
      "Epoch 19/100 | Step 0/70 | train loss: 26.5180 | l1 loss: 26.2308 | sparsity loss: 1.4360\n",
      "Epoch 19/100 | Step 50/70 | train loss: 25.4334 | l1 loss: 25.1532 | sparsity loss: 1.4014\n",
      "Data Shuffled\n",
      "Epoch 20/100 | Step 0/70 | train loss: 24.4530 | l1 loss: 24.1665 | sparsity loss: 1.4328\n",
      "Epoch 20/100 | Step 50/70 | train loss: 21.0041 | l1 loss: 20.7146 | sparsity loss: 1.4472\n",
      "Data Shuffled\n",
      "Epoch 21/100 | Step 0/70 | train loss: 24.2786 | l1 loss: 24.0026 | sparsity loss: 1.3797\n",
      "Epoch 21/100 | Step 50/70 | train loss: 19.2267 | l1 loss: 18.9412 | sparsity loss: 1.4271\n",
      "Data Shuffled\n",
      "Epoch 22/100 | Step 0/70 | train loss: 22.3235 | l1 loss: 22.0320 | sparsity loss: 1.4571\n",
      "Epoch 22/100 | Step 50/70 | train loss: 20.1509 | l1 loss: 19.8803 | sparsity loss: 1.3529\n",
      "Data Shuffled\n",
      "Epoch 23/100 | Step 0/70 | train loss: 19.0547 | l1 loss: 18.7674 | sparsity loss: 1.4364\n",
      "Epoch 23/100 | Step 50/70 | train loss: 18.9953 | l1 loss: 18.7454 | sparsity loss: 1.2497\n",
      "Data Shuffled\n",
      "Epoch 24/100 | Step 0/70 | train loss: 18.3765 | l1 loss: 18.1051 | sparsity loss: 1.3569\n",
      "Epoch 24/100 | Step 50/70 | train loss: 17.3619 | l1 loss: 17.0751 | sparsity loss: 1.4341\n",
      "Data Shuffled\n",
      "Epoch 25/100 | Step 0/70 | train loss: 16.1029 | l1 loss: 15.8378 | sparsity loss: 1.3256\n",
      "Epoch 25/100 | Step 50/70 | train loss: 16.9086 | l1 loss: 16.6641 | sparsity loss: 1.2226\n",
      "Data Shuffled\n",
      "Epoch 26/100 | Step 0/70 | train loss: 14.5626 | l1 loss: 14.2820 | sparsity loss: 1.4031\n",
      "Epoch 26/100 | Step 50/70 | train loss: 14.8791 | l1 loss: 14.6266 | sparsity loss: 1.2623\n",
      "Data Shuffled\n",
      "Epoch 27/100 | Step 0/70 | train loss: 12.6654 | l1 loss: 12.3945 | sparsity loss: 1.3549\n",
      "Epoch 27/100 | Step 50/70 | train loss: 11.2850 | l1 loss: 11.0283 | sparsity loss: 1.2838\n",
      "Data Shuffled\n",
      "Epoch 28/100 | Step 0/70 | train loss: 12.1362 | l1 loss: 11.8820 | sparsity loss: 1.2710\n",
      "Epoch 28/100 | Step 50/70 | train loss: 9.4396 | l1 loss: 9.1884 | sparsity loss: 1.2559\n",
      "Data Shuffled\n",
      "Epoch 29/100 | Step 0/70 | train loss: 9.4841 | l1 loss: 9.2347 | sparsity loss: 1.2467\n"
     ]
    },
    {
     "name": "stdout",
     "output_type": "stream",
     "text": [
      "Epoch 29/100 | Step 50/70 | train loss: 6.7833 | l1 loss: 6.4837 | sparsity loss: 1.4981\n",
      "Data Shuffled\n",
      "Epoch 30/100 | Step 0/70 | train loss: 8.3384 | l1 loss: 8.0870 | sparsity loss: 1.2572\n",
      "Epoch 30/100 | Step 50/70 | train loss: 5.5858 | l1 loss: 5.3085 | sparsity loss: 1.3867\n",
      "Data Shuffled\n",
      "Epoch 31/100 | Step 0/70 | train loss: 5.3460 | l1 loss: 5.0818 | sparsity loss: 1.3207\n",
      "Epoch 31/100 | Step 50/70 | train loss: 4.7867 | l1 loss: 4.4953 | sparsity loss: 1.4570\n",
      "Data Shuffled\n",
      "Epoch 32/100 | Step 0/70 | train loss: 4.2926 | l1 loss: 4.0099 | sparsity loss: 1.4136\n",
      "Epoch 32/100 | Step 50/70 | train loss: 4.4002 | l1 loss: 4.1547 | sparsity loss: 1.2275\n",
      "Data Shuffled\n",
      "Epoch 33/100 | Step 0/70 | train loss: 3.2247 | l1 loss: 2.9728 | sparsity loss: 1.2597\n",
      "Epoch 33/100 | Step 50/70 | train loss: 2.1736 | l1 loss: 1.9072 | sparsity loss: 1.3322\n",
      "Data Shuffled\n",
      "Epoch 34/100 | Step 0/70 | train loss: 2.0359 | l1 loss: 1.7385 | sparsity loss: 1.4868\n",
      "Epoch 34/100 | Step 50/70 | train loss: 2.2421 | l1 loss: 1.9646 | sparsity loss: 1.3878\n",
      "Data Shuffled\n",
      "Epoch 35/100 | Step 0/70 | train loss: 2.8296 | l1 loss: 2.5555 | sparsity loss: 1.3703\n",
      "Epoch 35/100 | Step 50/70 | train loss: 2.0573 | l1 loss: 1.7585 | sparsity loss: 1.4938\n",
      "Data Shuffled\n",
      "Epoch 36/100 | Step 0/70 | train loss: 1.9707 | l1 loss: 1.6745 | sparsity loss: 1.4808\n",
      "Epoch 36/100 | Step 50/70 | train loss: 2.1462 | l1 loss: 1.8841 | sparsity loss: 1.3103\n",
      "Data Shuffled\n",
      "Epoch 37/100 | Step 0/70 | train loss: 2.3188 | l1 loss: 2.0461 | sparsity loss: 1.3639\n",
      "Epoch 37/100 | Step 50/70 | train loss: 2.7065 | l1 loss: 2.4176 | sparsity loss: 1.4446\n",
      "Data Shuffled\n",
      "Epoch 38/100 | Step 0/70 | train loss: 2.5922 | l1 loss: 2.3190 | sparsity loss: 1.3660\n",
      "Epoch 38/100 | Step 50/70 | train loss: 2.2809 | l1 loss: 2.0060 | sparsity loss: 1.3748\n",
      "Data Shuffled\n",
      "Epoch 39/100 | Step 0/70 | train loss: 2.0886 | l1 loss: 1.7791 | sparsity loss: 1.5477\n",
      "Epoch 39/100 | Step 50/70 | train loss: 2.3765 | l1 loss: 2.1038 | sparsity loss: 1.3637\n",
      "Data Shuffled\n",
      "Epoch 40/100 | Step 0/70 | train loss: 2.1527 | l1 loss: 1.8504 | sparsity loss: 1.5117\n",
      "Epoch 40/100 | Step 50/70 | train loss: 2.2132 | l1 loss: 1.9338 | sparsity loss: 1.3970\n",
      "Data Shuffled\n",
      "Epoch 41/100 | Step 0/70 | train loss: 2.2368 | l1 loss: 1.9576 | sparsity loss: 1.3960\n",
      "Epoch 41/100 | Step 50/70 | train loss: 2.0382 | l1 loss: 1.7291 | sparsity loss: 1.5452\n",
      "Data Shuffled\n",
      "Epoch 42/100 | Step 0/70 | train loss: 2.0055 | l1 loss: 1.6994 | sparsity loss: 1.5304\n",
      "Epoch 42/100 | Step 50/70 | train loss: 2.4164 | l1 loss: 2.1366 | sparsity loss: 1.3989\n",
      "Data Shuffled\n",
      "Epoch 43/100 | Step 0/70 | train loss: 2.0173 | l1 loss: 1.7173 | sparsity loss: 1.5001\n",
      "Epoch 43/100 | Step 50/70 | train loss: 2.2592 | l1 loss: 1.9528 | sparsity loss: 1.5318\n",
      "Data Shuffled\n",
      "Epoch 44/100 | Step 0/70 | train loss: 2.3122 | l1 loss: 2.0375 | sparsity loss: 1.3732\n",
      "Epoch 44/100 | Step 50/70 | train loss: 2.3201 | l1 loss: 2.0270 | sparsity loss: 1.4656\n",
      "Data Shuffled\n",
      "Epoch 45/100 | Step 0/70 | train loss: 2.3807 | l1 loss: 2.0663 | sparsity loss: 1.5718\n",
      "Epoch 45/100 | Step 50/70 | train loss: 2.3536 | l1 loss: 2.0206 | sparsity loss: 1.6648\n",
      "Data Shuffled\n",
      "Epoch 46/100 | Step 0/70 | train loss: 2.2972 | l1 loss: 1.9931 | sparsity loss: 1.5206\n",
      "Epoch 46/100 | Step 50/70 | train loss: 2.2089 | l1 loss: 1.9229 | sparsity loss: 1.4297\n",
      "Data Shuffled\n",
      "Epoch 47/100 | Step 0/70 | train loss: 1.9388 | l1 loss: 1.6153 | sparsity loss: 1.6176\n",
      "Epoch 47/100 | Step 50/70 | train loss: 2.0345 | l1 loss: 1.7367 | sparsity loss: 1.4885\n",
      "Data Shuffled\n",
      "Epoch 48/100 | Step 0/70 | train loss: 2.0870 | l1 loss: 1.7902 | sparsity loss: 1.4841\n",
      "Epoch 48/100 | Step 50/70 | train loss: 2.2839 | l1 loss: 1.9734 | sparsity loss: 1.5522\n",
      "Data Shuffled\n",
      "Epoch 49/100 | Step 0/70 | train loss: 2.5504 | l1 loss: 2.2358 | sparsity loss: 1.5732\n",
      "Epoch 49/100 | Step 50/70 | train loss: 2.4361 | l1 loss: 2.1264 | sparsity loss: 1.5486\n",
      "Data Shuffled\n",
      "Epoch 50/100 | Step 0/70 | train loss: 2.4137 | l1 loss: 2.1349 | sparsity loss: 1.3940\n",
      "Epoch 50/100 | Step 50/70 | train loss: 1.7407 | l1 loss: 1.4060 | sparsity loss: 1.6731\n",
      "Data Shuffled\n",
      "Epoch 51/100 | Step 0/70 | train loss: 2.0258 | l1 loss: 1.7284 | sparsity loss: 1.4874\n",
      "Epoch 51/100 | Step 50/70 | train loss: 2.2247 | l1 loss: 1.9219 | sparsity loss: 1.5137\n",
      "Data Shuffled\n",
      "Epoch 52/100 | Step 0/70 | train loss: 2.1392 | l1 loss: 1.8386 | sparsity loss: 1.5028\n",
      "Epoch 52/100 | Step 50/70 | train loss: 1.7028 | l1 loss: 1.3821 | sparsity loss: 1.6035\n",
      "Data Shuffled\n",
      "Epoch 53/100 | Step 0/70 | train loss: 1.8862 | l1 loss: 1.5789 | sparsity loss: 1.5366\n",
      "Epoch 53/100 | Step 50/70 | train loss: 2.1145 | l1 loss: 1.8061 | sparsity loss: 1.5416\n",
      "Data Shuffled\n",
      "Epoch 54/100 | Step 0/70 | train loss: 1.9179 | l1 loss: 1.5970 | sparsity loss: 1.6045\n",
      "Epoch 54/100 | Step 50/70 | train loss: 2.0928 | l1 loss: 1.7743 | sparsity loss: 1.5925\n",
      "Data Shuffled\n",
      "Epoch 55/100 | Step 0/70 | train loss: 2.1478 | l1 loss: 1.8569 | sparsity loss: 1.4544\n",
      "Epoch 55/100 | Step 50/70 | train loss: 2.2348 | l1 loss: 1.9060 | sparsity loss: 1.6439\n",
      "Data Shuffled\n",
      "Epoch 56/100 | Step 0/70 | train loss: 2.2005 | l1 loss: 1.8960 | sparsity loss: 1.5227\n",
      "Epoch 56/100 | Step 50/70 | train loss: 2.1345 | l1 loss: 1.8305 | sparsity loss: 1.5204\n",
      "Data Shuffled\n",
      "Epoch 57/100 | Step 0/70 | train loss: 2.2797 | l1 loss: 1.9702 | sparsity loss: 1.5478\n",
      "Epoch 57/100 | Step 50/70 | train loss: 1.9095 | l1 loss: 1.5772 | sparsity loss: 1.6618\n",
      "Data Shuffled\n",
      "Epoch 58/100 | Step 0/70 | train loss: 1.8773 | l1 loss: 1.5885 | sparsity loss: 1.4435\n",
      "Epoch 58/100 | Step 50/70 | train loss: 2.7792 | l1 loss: 2.4859 | sparsity loss: 1.4665\n",
      "Data Shuffled\n",
      "Epoch 59/100 | Step 0/70 | train loss: 1.9874 | l1 loss: 1.7027 | sparsity loss: 1.4233\n",
      "Epoch 59/100 | Step 50/70 | train loss: 2.0017 | l1 loss: 1.6961 | sparsity loss: 1.5279\n",
      "Data Shuffled\n",
      "Epoch 60/100 | Step 0/70 | train loss: 1.9144 | l1 loss: 1.5938 | sparsity loss: 1.6031\n",
      "Epoch 60/100 | Step 50/70 | train loss: 2.1398 | l1 loss: 1.8147 | sparsity loss: 1.6252\n",
      "Data Shuffled\n",
      "Epoch 61/100 | Step 0/70 | train loss: 1.9463 | l1 loss: 1.6585 | sparsity loss: 1.4391\n",
      "Epoch 61/100 | Step 50/70 | train loss: 1.8823 | l1 loss: 1.5404 | sparsity loss: 1.7096\n",
      "Data Shuffled\n",
      "Epoch 62/100 | Step 0/70 | train loss: 1.8648 | l1 loss: 1.5497 | sparsity loss: 1.5753\n",
      "Epoch 62/100 | Step 50/70 | train loss: 2.3078 | l1 loss: 2.0139 | sparsity loss: 1.4696\n",
      "Data Shuffled\n",
      "Epoch 63/100 | Step 0/70 | train loss: 2.2733 | l1 loss: 1.9597 | sparsity loss: 1.5678\n",
      "Epoch 63/100 | Step 50/70 | train loss: 1.9005 | l1 loss: 1.6070 | sparsity loss: 1.4677\n",
      "Data Shuffled\n",
      "Epoch 64/100 | Step 0/70 | train loss: 2.0838 | l1 loss: 1.7577 | sparsity loss: 1.6303\n",
      "Epoch 64/100 | Step 50/70 | train loss: 2.2139 | l1 loss: 1.8815 | sparsity loss: 1.6622\n",
      "Data Shuffled\n",
      "Epoch 65/100 | Step 0/70 | train loss: 1.7114 | l1 loss: 1.4041 | sparsity loss: 1.5365\n",
      "Epoch 65/100 | Step 50/70 | train loss: 2.3548 | l1 loss: 2.0577 | sparsity loss: 1.4852\n",
      "Data Shuffled\n",
      "Epoch 66/100 | Step 0/70 | train loss: 1.9161 | l1 loss: 1.5827 | sparsity loss: 1.6672\n",
      "Epoch 66/100 | Step 50/70 | train loss: 2.0280 | l1 loss: 1.7065 | sparsity loss: 1.6076\n",
      "Data Shuffled\n",
      "Epoch 67/100 | Step 0/70 | train loss: 1.8356 | l1 loss: 1.5519 | sparsity loss: 1.4189\n",
      "Epoch 67/100 | Step 50/70 | train loss: 1.9579 | l1 loss: 1.6728 | sparsity loss: 1.4253\n",
      "Data Shuffled\n",
      "Epoch 68/100 | Step 0/70 | train loss: 2.1123 | l1 loss: 1.8312 | sparsity loss: 1.4053\n",
      "Epoch 68/100 | Step 50/70 | train loss: 1.7735 | l1 loss: 1.4816 | sparsity loss: 1.4592\n",
      "Data Shuffled\n",
      "Epoch 69/100 | Step 0/70 | train loss: 2.1153 | l1 loss: 1.8635 | sparsity loss: 1.2588\n",
      "Epoch 69/100 | Step 50/70 | train loss: 1.8786 | l1 loss: 1.5812 | sparsity loss: 1.4870\n",
      "Data Shuffled\n",
      "Epoch 70/100 | Step 0/70 | train loss: 2.2532 | l1 loss: 1.9501 | sparsity loss: 1.5154\n",
      "Epoch 70/100 | Step 50/70 | train loss: 2.8594 | l1 loss: 2.5771 | sparsity loss: 1.4112\n",
      "Data Shuffled\n",
      "Epoch 71/100 | Step 0/70 | train loss: 1.6037 | l1 loss: 1.3150 | sparsity loss: 1.4433\n",
      "Epoch 71/100 | Step 50/70 | train loss: 2.1867 | l1 loss: 1.9000 | sparsity loss: 1.4336\n",
      "Data Shuffled\n",
      "Epoch 72/100 | Step 0/70 | train loss: 2.2114 | l1 loss: 1.8877 | sparsity loss: 1.6186\n",
      "Epoch 72/100 | Step 50/70 | train loss: 2.7666 | l1 loss: 2.4905 | sparsity loss: 1.3801\n",
      "Data Shuffled\n",
      "Epoch 73/100 | Step 0/70 | train loss: 2.0796 | l1 loss: 1.7845 | sparsity loss: 1.4758\n",
      "Epoch 73/100 | Step 50/70 | train loss: 2.0499 | l1 loss: 1.7544 | sparsity loss: 1.4774\n",
      "Data Shuffled\n",
      "Epoch 74/100 | Step 0/70 | train loss: 2.1915 | l1 loss: 1.9004 | sparsity loss: 1.4555\n"
     ]
    },
    {
     "name": "stdout",
     "output_type": "stream",
     "text": [
      "Epoch 74/100 | Step 50/70 | train loss: 1.8692 | l1 loss: 1.5624 | sparsity loss: 1.5337\n",
      "Data Shuffled\n",
      "Epoch 75/100 | Step 0/70 | train loss: 1.8549 | l1 loss: 1.5655 | sparsity loss: 1.4469\n",
      "Epoch 75/100 | Step 50/70 | train loss: 1.8172 | l1 loss: 1.5212 | sparsity loss: 1.4801\n",
      "Data Shuffled\n",
      "Epoch 76/100 | Step 0/70 | train loss: 1.8754 | l1 loss: 1.5668 | sparsity loss: 1.5429\n",
      "Epoch 76/100 | Step 50/70 | train loss: 1.9907 | l1 loss: 1.6905 | sparsity loss: 1.5009\n",
      "Data Shuffled\n",
      "Epoch 77/100 | Step 0/70 | train loss: 1.9343 | l1 loss: 1.6339 | sparsity loss: 1.5018\n",
      "Epoch 77/100 | Step 50/70 | train loss: 2.2064 | l1 loss: 1.9264 | sparsity loss: 1.3998\n",
      "Data Shuffled\n",
      "Epoch 78/100 | Step 0/70 | train loss: 1.9490 | l1 loss: 1.6297 | sparsity loss: 1.5966\n",
      "Epoch 78/100 | Step 50/70 | train loss: 2.1560 | l1 loss: 1.8796 | sparsity loss: 1.3822\n",
      "Data Shuffled\n",
      "Epoch 79/100 | Step 0/70 | train loss: 1.8112 | l1 loss: 1.4949 | sparsity loss: 1.5815\n",
      "Epoch 79/100 | Step 50/70 | train loss: 1.8983 | l1 loss: 1.6042 | sparsity loss: 1.4706\n",
      "Data Shuffled\n",
      "Epoch 80/100 | Step 0/70 | train loss: 2.1383 | l1 loss: 1.8086 | sparsity loss: 1.6489\n",
      "Epoch 80/100 | Step 50/70 | train loss: 1.7983 | l1 loss: 1.4818 | sparsity loss: 1.5821\n",
      "Data Shuffled\n",
      "Epoch 81/100 | Step 0/70 | train loss: 2.3064 | l1 loss: 2.0039 | sparsity loss: 1.5126\n",
      "Epoch 81/100 | Step 50/70 | train loss: 2.4876 | l1 loss: 2.1901 | sparsity loss: 1.4874\n",
      "Data Shuffled\n",
      "Epoch 82/100 | Step 0/70 | train loss: 1.6185 | l1 loss: 1.3171 | sparsity loss: 1.5072\n",
      "Epoch 82/100 | Step 50/70 | train loss: 1.8492 | l1 loss: 1.5435 | sparsity loss: 1.5285\n",
      "Data Shuffled\n",
      "Epoch 83/100 | Step 0/70 | train loss: 1.8493 | l1 loss: 1.5234 | sparsity loss: 1.6295\n",
      "Epoch 83/100 | Step 50/70 | train loss: 1.7463 | l1 loss: 1.4325 | sparsity loss: 1.5690\n",
      "Data Shuffled\n",
      "Epoch 84/100 | Step 0/70 | train loss: 1.9510 | l1 loss: 1.6721 | sparsity loss: 1.3948\n",
      "Epoch 84/100 | Step 50/70 | train loss: 2.0146 | l1 loss: 1.6997 | sparsity loss: 1.5747\n",
      "Data Shuffled\n",
      "Epoch 85/100 | Step 0/70 | train loss: 1.7375 | l1 loss: 1.4265 | sparsity loss: 1.5549\n",
      "Epoch 85/100 | Step 50/70 | train loss: 1.8114 | l1 loss: 1.4954 | sparsity loss: 1.5803\n",
      "Data Shuffled\n",
      "Epoch 86/100 | Step 0/70 | train loss: 2.2516 | l1 loss: 1.9491 | sparsity loss: 1.5123\n",
      "Epoch 86/100 | Step 50/70 | train loss: 2.2565 | l1 loss: 1.9262 | sparsity loss: 1.6515\n",
      "Data Shuffled\n",
      "Epoch 87/100 | Step 0/70 | train loss: 2.4775 | l1 loss: 2.1851 | sparsity loss: 1.4621\n",
      "Epoch 87/100 | Step 50/70 | train loss: 1.7299 | l1 loss: 1.4385 | sparsity loss: 1.4570\n",
      "Data Shuffled\n",
      "Epoch 88/100 | Step 0/70 | train loss: 2.2049 | l1 loss: 1.9180 | sparsity loss: 1.4342\n",
      "Epoch 88/100 | Step 50/70 | train loss: 1.8689 | l1 loss: 1.5705 | sparsity loss: 1.4920\n",
      "Data Shuffled\n",
      "Epoch 89/100 | Step 0/70 | train loss: 1.5508 | l1 loss: 1.2372 | sparsity loss: 1.5684\n",
      "Epoch 89/100 | Step 50/70 | train loss: 1.6911 | l1 loss: 1.3793 | sparsity loss: 1.5594\n",
      "Data Shuffled\n",
      "Epoch 90/100 | Step 0/70 | train loss: 1.9136 | l1 loss: 1.6133 | sparsity loss: 1.5014\n",
      "Epoch 90/100 | Step 50/70 | train loss: 2.1930 | l1 loss: 1.8999 | sparsity loss: 1.4656\n",
      "Data Shuffled\n",
      "Epoch 91/100 | Step 0/70 | train loss: 1.6346 | l1 loss: 1.3345 | sparsity loss: 1.5006\n",
      "Epoch 91/100 | Step 50/70 | train loss: 1.8668 | l1 loss: 1.5422 | sparsity loss: 1.6225\n",
      "Data Shuffled\n",
      "Epoch 92/100 | Step 0/70 | train loss: 1.8303 | l1 loss: 1.5330 | sparsity loss: 1.4865\n",
      "Epoch 92/100 | Step 50/70 | train loss: 2.1707 | l1 loss: 1.8894 | sparsity loss: 1.4064\n",
      "Data Shuffled\n",
      "Epoch 93/100 | Step 0/70 | train loss: 1.8571 | l1 loss: 1.5636 | sparsity loss: 1.4673\n",
      "Epoch 93/100 | Step 50/70 | train loss: 1.8748 | l1 loss: 1.5732 | sparsity loss: 1.5081\n",
      "Data Shuffled\n",
      "Epoch 94/100 | Step 0/70 | train loss: 2.0135 | l1 loss: 1.6763 | sparsity loss: 1.6858\n",
      "Epoch 94/100 | Step 50/70 | train loss: 1.8749 | l1 loss: 1.5819 | sparsity loss: 1.4653\n",
      "Data Shuffled\n",
      "Epoch 95/100 | Step 0/70 | train loss: 2.0744 | l1 loss: 1.7796 | sparsity loss: 1.4740\n",
      "Epoch 95/100 | Step 50/70 | train loss: 1.8441 | l1 loss: 1.5160 | sparsity loss: 1.6405\n",
      "Data Shuffled\n",
      "Epoch 96/100 | Step 0/70 | train loss: 1.7346 | l1 loss: 1.4236 | sparsity loss: 1.5553\n",
      "Epoch 96/100 | Step 50/70 | train loss: 2.0933 | l1 loss: 1.8060 | sparsity loss: 1.4363\n",
      "Data Shuffled\n",
      "Epoch 97/100 | Step 0/70 | train loss: 1.8399 | l1 loss: 1.5448 | sparsity loss: 1.4753\n",
      "Epoch 97/100 | Step 50/70 | train loss: 1.9254 | l1 loss: 1.6229 | sparsity loss: 1.5127\n",
      "Data Shuffled\n",
      "Epoch 98/100 | Step 0/70 | train loss: 2.0738 | l1 loss: 1.7652 | sparsity loss: 1.5429\n",
      "Epoch 98/100 | Step 50/70 | train loss: 1.7463 | l1 loss: 1.4626 | sparsity loss: 1.4183\n",
      "Data Shuffled\n",
      "Epoch 99/100 | Step 0/70 | train loss: 1.8149 | l1 loss: 1.5037 | sparsity loss: 1.5562\n",
      "Epoch 99/100 | Step 50/70 | train loss: 2.1694 | l1 loss: 1.8776 | sparsity loss: 1.4587\n",
      "Data Shuffled\n",
      "Epoch 100/100 | Step 0/70 | train loss: 1.8869 | l1 loss: 1.6012 | sparsity loss: 1.4289\n",
      "Epoch 100/100 | Step 50/70 | train loss: 1.9940 | l1 loss: 1.6881 | sparsity loss: 1.5295\n",
      "Data Shuffled\n",
      "Epoch 1/100 | Step 0/70 | train loss: 47.6913 | l1 loss: 47.4406 | sparsity loss: 1.2535\n",
      "Epoch 1/100 | Step 50/70 | train loss: 38.1496 | l1 loss: 37.9223 | sparsity loss: 1.1363\n",
      "Data Shuffled\n",
      "Epoch 2/100 | Step 0/70 | train loss: 34.8018 | l1 loss: 34.5817 | sparsity loss: 1.1004\n",
      "Epoch 2/100 | Step 50/70 | train loss: 27.3937 | l1 loss: 27.1821 | sparsity loss: 1.0575\n",
      "Data Shuffled\n",
      "Epoch 3/100 | Step 0/70 | train loss: 23.6672 | l1 loss: 23.4601 | sparsity loss: 1.0354\n",
      "Epoch 3/100 | Step 50/70 | train loss: 23.1334 | l1 loss: 22.9223 | sparsity loss: 1.0552\n",
      "Data Shuffled\n",
      "Epoch 4/100 | Step 0/70 | train loss: 23.4751 | l1 loss: 23.2617 | sparsity loss: 1.0667\n",
      "Epoch 4/100 | Step 50/70 | train loss: 22.3085 | l1 loss: 22.0875 | sparsity loss: 1.1047\n",
      "Data Shuffled\n",
      "Epoch 5/100 | Step 0/70 | train loss: 23.1896 | l1 loss: 22.9647 | sparsity loss: 1.1244\n",
      "Epoch 5/100 | Step 50/70 | train loss: 22.8899 | l1 loss: 22.6585 | sparsity loss: 1.1570\n",
      "Data Shuffled\n",
      "Epoch 6/100 | Step 0/70 | train loss: 19.7858 | l1 loss: 19.5506 | sparsity loss: 1.1762\n",
      "Epoch 6/100 | Step 50/70 | train loss: 22.1689 | l1 loss: 21.9301 | sparsity loss: 1.1939\n",
      "Data Shuffled\n",
      "Epoch 7/100 | Step 0/70 | train loss: 22.2595 | l1 loss: 22.0134 | sparsity loss: 1.2307\n",
      "Epoch 7/100 | Step 50/70 | train loss: 20.1876 | l1 loss: 19.9393 | sparsity loss: 1.2413\n",
      "Data Shuffled\n",
      "Epoch 8/100 | Step 0/70 | train loss: 20.7863 | l1 loss: 20.5347 | sparsity loss: 1.2578\n",
      "Epoch 8/100 | Step 50/70 | train loss: 21.3201 | l1 loss: 21.0652 | sparsity loss: 1.2745\n",
      "Data Shuffled\n",
      "Epoch 9/100 | Step 0/70 | train loss: 19.7544 | l1 loss: 19.4927 | sparsity loss: 1.3087\n",
      "Epoch 9/100 | Step 50/70 | train loss: 19.1480 | l1 loss: 18.8856 | sparsity loss: 1.3120\n",
      "Data Shuffled\n",
      "Epoch 10/100 | Step 0/70 | train loss: 20.3211 | l1 loss: 20.0556 | sparsity loss: 1.3277\n",
      "Epoch 10/100 | Step 50/70 | train loss: 17.8904 | l1 loss: 17.6268 | sparsity loss: 1.3181\n",
      "Data Shuffled\n",
      "Epoch 11/100 | Step 0/70 | train loss: 18.8401 | l1 loss: 18.5738 | sparsity loss: 1.3312\n",
      "Epoch 11/100 | Step 50/70 | train loss: 18.1703 | l1 loss: 17.8967 | sparsity loss: 1.3680\n",
      "Data Shuffled\n",
      "Epoch 12/100 | Step 0/70 | train loss: 21.4601 | l1 loss: 21.1896 | sparsity loss: 1.3526\n",
      "Epoch 12/100 | Step 50/70 | train loss: 20.6915 | l1 loss: 20.4168 | sparsity loss: 1.3734\n",
      "Data Shuffled\n",
      "Epoch 13/100 | Step 0/70 | train loss: 20.0554 | l1 loss: 19.7814 | sparsity loss: 1.3702\n",
      "Epoch 13/100 | Step 50/70 | train loss: 19.2486 | l1 loss: 18.9733 | sparsity loss: 1.3765\n",
      "Data Shuffled\n",
      "Epoch 14/100 | Step 0/70 | train loss: 18.5008 | l1 loss: 18.2278 | sparsity loss: 1.3649\n",
      "Epoch 14/100 | Step 50/70 | train loss: 17.6015 | l1 loss: 17.3243 | sparsity loss: 1.3864\n",
      "Data Shuffled\n",
      "Epoch 15/100 | Step 0/70 | train loss: 18.1926 | l1 loss: 17.9172 | sparsity loss: 1.3770\n",
      "Epoch 15/100 | Step 50/70 | train loss: 17.7509 | l1 loss: 17.4733 | sparsity loss: 1.3878\n",
      "Data Shuffled\n",
      "Epoch 16/100 | Step 0/70 | train loss: 16.3042 | l1 loss: 16.0281 | sparsity loss: 1.3806\n",
      "Epoch 16/100 | Step 50/70 | train loss: 16.3249 | l1 loss: 16.0526 | sparsity loss: 1.3613\n",
      "Data Shuffled\n",
      "Epoch 17/100 | Step 0/70 | train loss: 16.3461 | l1 loss: 16.0720 | sparsity loss: 1.3703\n",
      "Epoch 17/100 | Step 50/70 | train loss: 14.9784 | l1 loss: 14.6987 | sparsity loss: 1.3985\n",
      "Data Shuffled\n",
      "Epoch 18/100 | Step 0/70 | train loss: 15.3251 | l1 loss: 15.0501 | sparsity loss: 1.3746\n",
      "Epoch 18/100 | Step 50/70 | train loss: 13.3255 | l1 loss: 13.0528 | sparsity loss: 1.3632\n",
      "Data Shuffled\n",
      "Epoch 19/100 | Step 0/70 | train loss: 13.4398 | l1 loss: 13.1690 | sparsity loss: 1.3542\n"
     ]
    },
    {
     "name": "stdout",
     "output_type": "stream",
     "text": [
      "Epoch 19/100 | Step 50/70 | train loss: 12.0093 | l1 loss: 11.7342 | sparsity loss: 1.3753\n",
      "Data Shuffled\n",
      "Epoch 20/100 | Step 0/70 | train loss: 12.0268 | l1 loss: 11.7518 | sparsity loss: 1.3749\n",
      "Epoch 20/100 | Step 50/70 | train loss: 12.3835 | l1 loss: 12.1155 | sparsity loss: 1.3399\n",
      "Data Shuffled\n",
      "Epoch 21/100 | Step 0/70 | train loss: 12.1778 | l1 loss: 11.9047 | sparsity loss: 1.3655\n",
      "Epoch 21/100 | Step 50/70 | train loss: 10.0144 | l1 loss: 9.7441 | sparsity loss: 1.3516\n",
      "Data Shuffled\n",
      "Epoch 22/100 | Step 0/70 | train loss: 12.1431 | l1 loss: 11.8842 | sparsity loss: 1.2943\n",
      "Epoch 22/100 | Step 50/70 | train loss: 11.0845 | l1 loss: 10.8231 | sparsity loss: 1.3072\n",
      "Data Shuffled\n",
      "Epoch 23/100 | Step 0/70 | train loss: 10.6792 | l1 loss: 10.4198 | sparsity loss: 1.2970\n",
      "Epoch 23/100 | Step 50/70 | train loss: 8.9770 | l1 loss: 8.7225 | sparsity loss: 1.2727\n",
      "Data Shuffled\n",
      "Epoch 24/100 | Step 0/70 | train loss: 9.6421 | l1 loss: 9.3829 | sparsity loss: 1.2961\n",
      "Epoch 24/100 | Step 50/70 | train loss: 7.9837 | l1 loss: 7.7262 | sparsity loss: 1.2873\n",
      "Data Shuffled\n",
      "Epoch 25/100 | Step 0/70 | train loss: 9.2696 | l1 loss: 9.0153 | sparsity loss: 1.2713\n",
      "Epoch 25/100 | Step 50/70 | train loss: 8.6832 | l1 loss: 8.4318 | sparsity loss: 1.2567\n",
      "Data Shuffled\n",
      "Epoch 26/100 | Step 0/70 | train loss: 7.8001 | l1 loss: 7.5469 | sparsity loss: 1.2659\n",
      "Epoch 26/100 | Step 50/70 | train loss: 7.8295 | l1 loss: 7.5831 | sparsity loss: 1.2323\n",
      "Data Shuffled\n",
      "Epoch 27/100 | Step 0/70 | train loss: 7.7472 | l1 loss: 7.4990 | sparsity loss: 1.2409\n",
      "Epoch 27/100 | Step 50/70 | train loss: 9.1073 | l1 loss: 8.8610 | sparsity loss: 1.2316\n",
      "Data Shuffled\n",
      "Epoch 28/100 | Step 0/70 | train loss: 9.5013 | l1 loss: 9.2591 | sparsity loss: 1.2110\n",
      "Epoch 28/100 | Step 50/70 | train loss: 8.1562 | l1 loss: 7.9129 | sparsity loss: 1.2164\n",
      "Data Shuffled\n",
      "Epoch 29/100 | Step 0/70 | train loss: 8.6707 | l1 loss: 8.4337 | sparsity loss: 1.1846\n",
      "Epoch 29/100 | Step 50/70 | train loss: 7.7743 | l1 loss: 7.5374 | sparsity loss: 1.1844\n",
      "Data Shuffled\n",
      "Epoch 30/100 | Step 0/70 | train loss: 8.4284 | l1 loss: 8.1957 | sparsity loss: 1.1636\n",
      "Epoch 30/100 | Step 50/70 | train loss: 7.5065 | l1 loss: 7.2705 | sparsity loss: 1.1803\n",
      "Data Shuffled\n",
      "Epoch 31/100 | Step 0/70 | train loss: 8.4998 | l1 loss: 8.2657 | sparsity loss: 1.1701\n",
      "Epoch 31/100 | Step 50/70 | train loss: 10.0404 | l1 loss: 9.8054 | sparsity loss: 1.1748\n",
      "Data Shuffled\n",
      "Epoch 32/100 | Step 0/70 | train loss: 6.9930 | l1 loss: 6.7639 | sparsity loss: 1.1452\n",
      "Epoch 32/100 | Step 50/70 | train loss: 7.9847 | l1 loss: 7.7540 | sparsity loss: 1.1535\n",
      "Data Shuffled\n",
      "Epoch 33/100 | Step 0/70 | train loss: 7.9470 | l1 loss: 7.7165 | sparsity loss: 1.1524\n",
      "Epoch 33/100 | Step 50/70 | train loss: 7.7582 | l1 loss: 7.5285 | sparsity loss: 1.1485\n",
      "Data Shuffled\n",
      "Epoch 34/100 | Step 0/70 | train loss: 7.4628 | l1 loss: 7.2360 | sparsity loss: 1.1342\n",
      "Epoch 34/100 | Step 50/70 | train loss: 7.2699 | l1 loss: 7.0393 | sparsity loss: 1.1529\n",
      "Data Shuffled\n",
      "Epoch 35/100 | Step 0/70 | train loss: 7.7993 | l1 loss: 7.5727 | sparsity loss: 1.1333\n",
      "Epoch 35/100 | Step 50/70 | train loss: 8.0398 | l1 loss: 7.8167 | sparsity loss: 1.1154\n",
      "Data Shuffled\n",
      "Epoch 36/100 | Step 0/70 | train loss: 6.1075 | l1 loss: 5.8786 | sparsity loss: 1.1445\n",
      "Epoch 36/100 | Step 50/70 | train loss: 7.5932 | l1 loss: 7.3680 | sparsity loss: 1.1258\n",
      "Data Shuffled\n",
      "Epoch 37/100 | Step 0/70 | train loss: 8.3371 | l1 loss: 8.1134 | sparsity loss: 1.1186\n",
      "Epoch 37/100 | Step 50/70 | train loss: 7.7560 | l1 loss: 7.5310 | sparsity loss: 1.1248\n",
      "Data Shuffled\n",
      "Epoch 38/100 | Step 0/70 | train loss: 6.7995 | l1 loss: 6.5714 | sparsity loss: 1.1402\n",
      "Epoch 38/100 | Step 50/70 | train loss: 7.9860 | l1 loss: 7.7606 | sparsity loss: 1.1271\n",
      "Data Shuffled\n",
      "Epoch 39/100 | Step 0/70 | train loss: 7.3283 | l1 loss: 7.1036 | sparsity loss: 1.1237\n",
      "Epoch 39/100 | Step 50/70 | train loss: 6.9686 | l1 loss: 6.7444 | sparsity loss: 1.1211\n",
      "Data Shuffled\n",
      "Epoch 40/100 | Step 0/70 | train loss: 5.6720 | l1 loss: 5.4463 | sparsity loss: 1.1285\n",
      "Epoch 40/100 | Step 50/70 | train loss: 5.9041 | l1 loss: 5.6757 | sparsity loss: 1.1421\n",
      "Data Shuffled\n",
      "Epoch 41/100 | Step 0/70 | train loss: 5.6024 | l1 loss: 5.3747 | sparsity loss: 1.1385\n",
      "Epoch 41/100 | Step 50/70 | train loss: 5.7831 | l1 loss: 5.5523 | sparsity loss: 1.1540\n",
      "Data Shuffled\n",
      "Epoch 42/100 | Step 0/70 | train loss: 6.2501 | l1 loss: 6.0229 | sparsity loss: 1.1360\n",
      "Epoch 42/100 | Step 50/70 | train loss: 5.5052 | l1 loss: 5.2773 | sparsity loss: 1.1392\n",
      "Data Shuffled\n",
      "Epoch 43/100 | Step 0/70 | train loss: 4.7235 | l1 loss: 4.4911 | sparsity loss: 1.1618\n",
      "Epoch 43/100 | Step 50/70 | train loss: 5.2350 | l1 loss: 5.0035 | sparsity loss: 1.1574\n",
      "Data Shuffled\n",
      "Epoch 44/100 | Step 0/70 | train loss: 5.5686 | l1 loss: 5.3423 | sparsity loss: 1.1317\n",
      "Epoch 44/100 | Step 50/70 | train loss: 5.2202 | l1 loss: 4.9878 | sparsity loss: 1.1623\n",
      "Data Shuffled\n",
      "Epoch 45/100 | Step 0/70 | train loss: 4.3199 | l1 loss: 4.0865 | sparsity loss: 1.1668\n",
      "Epoch 45/100 | Step 50/70 | train loss: 3.9954 | l1 loss: 3.7600 | sparsity loss: 1.1772\n",
      "Data Shuffled\n",
      "Epoch 46/100 | Step 0/70 | train loss: 3.9937 | l1 loss: 3.7641 | sparsity loss: 1.1481\n",
      "Epoch 46/100 | Step 50/70 | train loss: 3.2510 | l1 loss: 3.0158 | sparsity loss: 1.1763\n",
      "Data Shuffled\n",
      "Epoch 47/100 | Step 0/70 | train loss: 3.2901 | l1 loss: 3.0533 | sparsity loss: 1.1837\n",
      "Epoch 47/100 | Step 50/70 | train loss: 3.2890 | l1 loss: 3.0550 | sparsity loss: 1.1700\n",
      "Data Shuffled\n",
      "Epoch 48/100 | Step 0/70 | train loss: 3.3096 | l1 loss: 3.0723 | sparsity loss: 1.1865\n",
      "Epoch 48/100 | Step 50/70 | train loss: 2.6748 | l1 loss: 2.4352 | sparsity loss: 1.1981\n",
      "Data Shuffled\n",
      "Epoch 49/100 | Step 0/70 | train loss: 2.0869 | l1 loss: 1.8452 | sparsity loss: 1.2088\n",
      "Epoch 49/100 | Step 50/70 | train loss: 2.3959 | l1 loss: 2.1538 | sparsity loss: 1.2103\n",
      "Data Shuffled\n",
      "Epoch 50/100 | Step 0/70 | train loss: 2.5791 | l1 loss: 2.3409 | sparsity loss: 1.1912\n",
      "Epoch 50/100 | Step 50/70 | train loss: 2.3704 | l1 loss: 2.1337 | sparsity loss: 1.1834\n",
      "Data Shuffled\n",
      "Epoch 51/100 | Step 0/70 | train loss: 2.2911 | l1 loss: 2.0551 | sparsity loss: 1.1798\n",
      "Epoch 51/100 | Step 50/70 | train loss: 1.8971 | l1 loss: 1.6576 | sparsity loss: 1.1976\n",
      "Data Shuffled\n",
      "Epoch 52/100 | Step 0/70 | train loss: 1.9717 | l1 loss: 1.7344 | sparsity loss: 1.1866\n",
      "Epoch 52/100 | Step 50/70 | train loss: 1.4696 | l1 loss: 1.2245 | sparsity loss: 1.2256\n",
      "Data Shuffled\n",
      "Epoch 53/100 | Step 0/70 | train loss: 1.7016 | l1 loss: 1.4579 | sparsity loss: 1.2186\n",
      "Epoch 53/100 | Step 50/70 | train loss: 1.6656 | l1 loss: 1.4254 | sparsity loss: 1.2013\n",
      "Data Shuffled\n",
      "Epoch 54/100 | Step 0/70 | train loss: 1.3931 | l1 loss: 1.1494 | sparsity loss: 1.2183\n",
      "Epoch 54/100 | Step 50/70 | train loss: 1.1749 | l1 loss: 0.9322 | sparsity loss: 1.2133\n",
      "Data Shuffled\n",
      "Epoch 55/100 | Step 0/70 | train loss: 1.0381 | l1 loss: 0.7930 | sparsity loss: 1.2254\n",
      "Epoch 55/100 | Step 50/70 | train loss: 1.0717 | l1 loss: 0.8331 | sparsity loss: 1.1933\n",
      "Data Shuffled\n",
      "Epoch 56/100 | Step 0/70 | train loss: 0.9196 | l1 loss: 0.6741 | sparsity loss: 1.2278\n",
      "Epoch 56/100 | Step 50/70 | train loss: 0.9232 | l1 loss: 0.6837 | sparsity loss: 1.1975\n",
      "Data Shuffled\n",
      "Epoch 57/100 | Step 0/70 | train loss: 0.8857 | l1 loss: 0.6411 | sparsity loss: 1.2227\n",
      "Epoch 57/100 | Step 50/70 | train loss: 1.0274 | l1 loss: 0.7908 | sparsity loss: 1.1830\n",
      "Data Shuffled\n",
      "Epoch 58/100 | Step 0/70 | train loss: 0.8323 | l1 loss: 0.5880 | sparsity loss: 1.2215\n",
      "Epoch 58/100 | Step 50/70 | train loss: 0.8502 | l1 loss: 0.6026 | sparsity loss: 1.2376\n",
      "Data Shuffled\n",
      "Epoch 59/100 | Step 0/70 | train loss: 0.7614 | l1 loss: 0.5125 | sparsity loss: 1.2449\n",
      "Epoch 59/100 | Step 50/70 | train loss: 0.9194 | l1 loss: 0.6793 | sparsity loss: 1.2007\n",
      "Data Shuffled\n",
      "Epoch 60/100 | Step 0/70 | train loss: 0.7872 | l1 loss: 0.5437 | sparsity loss: 1.2175\n",
      "Epoch 60/100 | Step 50/70 | train loss: 0.8167 | l1 loss: 0.5787 | sparsity loss: 1.1900\n",
      "Data Shuffled\n",
      "Epoch 61/100 | Step 0/70 | train loss: 0.9618 | l1 loss: 0.7223 | sparsity loss: 1.1976\n",
      "Epoch 61/100 | Step 50/70 | train loss: 0.8076 | l1 loss: 0.5626 | sparsity loss: 1.2249\n",
      "Data Shuffled\n",
      "Epoch 62/100 | Step 0/70 | train loss: 0.7894 | l1 loss: 0.5414 | sparsity loss: 1.2401\n",
      "Epoch 62/100 | Step 50/70 | train loss: 0.7800 | l1 loss: 0.5311 | sparsity loss: 1.2448\n",
      "Data Shuffled\n",
      "Epoch 63/100 | Step 0/70 | train loss: 0.7234 | l1 loss: 0.4731 | sparsity loss: 1.2515\n",
      "Epoch 63/100 | Step 50/70 | train loss: 0.7013 | l1 loss: 0.4542 | sparsity loss: 1.2358\n",
      "Data Shuffled\n",
      "Epoch 64/100 | Step 0/70 | train loss: 0.7680 | l1 loss: 0.5245 | sparsity loss: 1.2177\n"
     ]
    },
    {
     "name": "stdout",
     "output_type": "stream",
     "text": [
      "Epoch 64/100 | Step 50/70 | train loss: 0.7593 | l1 loss: 0.5048 | sparsity loss: 1.2724\n",
      "Data Shuffled\n",
      "Epoch 65/100 | Step 0/70 | train loss: 0.7966 | l1 loss: 0.5493 | sparsity loss: 1.2369\n",
      "Epoch 65/100 | Step 50/70 | train loss: 0.7518 | l1 loss: 0.5051 | sparsity loss: 1.2336\n",
      "Data Shuffled\n",
      "Epoch 66/100 | Step 0/70 | train loss: 0.6670 | l1 loss: 0.4156 | sparsity loss: 1.2569\n",
      "Epoch 66/100 | Step 50/70 | train loss: 0.7519 | l1 loss: 0.5074 | sparsity loss: 1.2224\n",
      "Data Shuffled\n",
      "Epoch 67/100 | Step 0/70 | train loss: 0.7125 | l1 loss: 0.4620 | sparsity loss: 1.2523\n",
      "Epoch 67/100 | Step 50/70 | train loss: 0.6787 | l1 loss: 0.4340 | sparsity loss: 1.2233\n",
      "Data Shuffled\n",
      "Epoch 68/100 | Step 0/70 | train loss: 0.7192 | l1 loss: 0.4682 | sparsity loss: 1.2552\n",
      "Epoch 68/100 | Step 50/70 | train loss: 0.6863 | l1 loss: 0.4381 | sparsity loss: 1.2408\n",
      "Data Shuffled\n",
      "Epoch 69/100 | Step 0/70 | train loss: 0.7518 | l1 loss: 0.5000 | sparsity loss: 1.2593\n",
      "Epoch 69/100 | Step 50/70 | train loss: 0.7270 | l1 loss: 0.4802 | sparsity loss: 1.2342\n",
      "Data Shuffled\n",
      "Epoch 70/100 | Step 0/70 | train loss: 0.7200 | l1 loss: 0.4703 | sparsity loss: 1.2486\n",
      "Epoch 70/100 | Step 50/70 | train loss: 0.8021 | l1 loss: 0.5594 | sparsity loss: 1.2138\n",
      "Data Shuffled\n",
      "Epoch 71/100 | Step 0/70 | train loss: 0.6509 | l1 loss: 0.4019 | sparsity loss: 1.2450\n",
      "Epoch 71/100 | Step 50/70 | train loss: 0.6807 | l1 loss: 0.4301 | sparsity loss: 1.2530\n",
      "Data Shuffled\n",
      "Epoch 72/100 | Step 0/70 | train loss: 0.8309 | l1 loss: 0.5860 | sparsity loss: 1.2250\n",
      "Epoch 72/100 | Step 50/70 | train loss: 0.6546 | l1 loss: 0.4013 | sparsity loss: 1.2666\n",
      "Data Shuffled\n",
      "Epoch 73/100 | Step 0/70 | train loss: 0.6803 | l1 loss: 0.4260 | sparsity loss: 1.2718\n",
      "Epoch 73/100 | Step 50/70 | train loss: 0.6125 | l1 loss: 0.3514 | sparsity loss: 1.3059\n",
      "Data Shuffled\n",
      "Epoch 74/100 | Step 0/70 | train loss: 0.7318 | l1 loss: 0.4850 | sparsity loss: 1.2338\n",
      "Epoch 74/100 | Step 50/70 | train loss: 0.6727 | l1 loss: 0.4196 | sparsity loss: 1.2655\n",
      "Data Shuffled\n",
      "Epoch 75/100 | Step 0/70 | train loss: 0.7150 | l1 loss: 0.4615 | sparsity loss: 1.2673\n",
      "Epoch 75/100 | Step 50/70 | train loss: 0.6793 | l1 loss: 0.4288 | sparsity loss: 1.2523\n",
      "Data Shuffled\n",
      "Epoch 76/100 | Step 0/70 | train loss: 0.5587 | l1 loss: 0.2995 | sparsity loss: 1.2960\n",
      "Epoch 76/100 | Step 50/70 | train loss: 0.6682 | l1 loss: 0.4125 | sparsity loss: 1.2785\n",
      "Data Shuffled\n",
      "Epoch 77/100 | Step 0/70 | train loss: 0.6774 | l1 loss: 0.4188 | sparsity loss: 1.2933\n",
      "Epoch 77/100 | Step 50/70 | train loss: 0.7352 | l1 loss: 0.4876 | sparsity loss: 1.2384\n",
      "Data Shuffled\n",
      "Epoch 78/100 | Step 0/70 | train loss: 0.6184 | l1 loss: 0.3650 | sparsity loss: 1.2671\n",
      "Epoch 78/100 | Step 50/70 | train loss: 0.7429 | l1 loss: 0.4880 | sparsity loss: 1.2746\n",
      "Data Shuffled\n",
      "Epoch 79/100 | Step 0/70 | train loss: 0.6502 | l1 loss: 0.3970 | sparsity loss: 1.2658\n",
      "Epoch 79/100 | Step 50/70 | train loss: 0.5969 | l1 loss: 0.3358 | sparsity loss: 1.3053\n",
      "Data Shuffled\n",
      "Epoch 80/100 | Step 0/70 | train loss: 0.7745 | l1 loss: 0.5241 | sparsity loss: 1.2522\n",
      "Epoch 80/100 | Step 50/70 | train loss: 0.6605 | l1 loss: 0.4058 | sparsity loss: 1.2736\n",
      "Data Shuffled\n",
      "Epoch 81/100 | Step 0/70 | train loss: 0.6707 | l1 loss: 0.4147 | sparsity loss: 1.2800\n",
      "Epoch 81/100 | Step 50/70 | train loss: 0.6957 | l1 loss: 0.4452 | sparsity loss: 1.2527\n",
      "Data Shuffled\n",
      "Epoch 82/100 | Step 0/70 | train loss: 0.6037 | l1 loss: 0.3504 | sparsity loss: 1.2668\n",
      "Epoch 82/100 | Step 50/70 | train loss: 0.6045 | l1 loss: 0.3482 | sparsity loss: 1.2814\n",
      "Data Shuffled\n",
      "Epoch 83/100 | Step 0/70 | train loss: 0.6911 | l1 loss: 0.4414 | sparsity loss: 1.2487\n",
      "Epoch 83/100 | Step 50/70 | train loss: 0.5930 | l1 loss: 0.3400 | sparsity loss: 1.2648\n",
      "Data Shuffled\n",
      "Epoch 84/100 | Step 0/70 | train loss: 0.6591 | l1 loss: 0.4027 | sparsity loss: 1.2821\n",
      "Epoch 84/100 | Step 50/70 | train loss: 0.6737 | l1 loss: 0.4181 | sparsity loss: 1.2780\n",
      "Data Shuffled\n",
      "Epoch 85/100 | Step 0/70 | train loss: 0.6248 | l1 loss: 0.3657 | sparsity loss: 1.2956\n",
      "Epoch 85/100 | Step 50/70 | train loss: 0.6263 | l1 loss: 0.3665 | sparsity loss: 1.2989\n",
      "Data Shuffled\n",
      "Epoch 86/100 | Step 0/70 | train loss: 0.7805 | l1 loss: 0.5349 | sparsity loss: 1.2280\n",
      "Epoch 86/100 | Step 50/70 | train loss: 0.5997 | l1 loss: 0.3459 | sparsity loss: 1.2690\n",
      "Data Shuffled\n",
      "Epoch 87/100 | Step 0/70 | train loss: 0.6181 | l1 loss: 0.3667 | sparsity loss: 1.2572\n",
      "Epoch 87/100 | Step 50/70 | train loss: 0.6830 | l1 loss: 0.4311 | sparsity loss: 1.2598\n",
      "Data Shuffled\n",
      "Epoch 88/100 | Step 0/70 | train loss: 0.7303 | l1 loss: 0.4815 | sparsity loss: 1.2439\n",
      "Epoch 88/100 | Step 50/70 | train loss: 0.7021 | l1 loss: 0.4524 | sparsity loss: 1.2486\n",
      "Data Shuffled\n",
      "Epoch 89/100 | Step 0/70 | train loss: 0.6626 | l1 loss: 0.4077 | sparsity loss: 1.2744\n",
      "Epoch 89/100 | Step 50/70 | train loss: 0.6174 | l1 loss: 0.3629 | sparsity loss: 1.2723\n",
      "Data Shuffled\n",
      "Epoch 90/100 | Step 0/70 | train loss: 0.6006 | l1 loss: 0.3471 | sparsity loss: 1.2672\n",
      "Epoch 90/100 | Step 50/70 | train loss: 0.6475 | l1 loss: 0.3994 | sparsity loss: 1.2407\n",
      "Data Shuffled\n",
      "Epoch 91/100 | Step 0/70 | train loss: 0.7089 | l1 loss: 0.4573 | sparsity loss: 1.2578\n",
      "Epoch 91/100 | Step 50/70 | train loss: 0.6395 | l1 loss: 0.3809 | sparsity loss: 1.2928\n",
      "Data Shuffled\n",
      "Epoch 92/100 | Step 0/70 | train loss: 0.6489 | l1 loss: 0.4037 | sparsity loss: 1.2259\n",
      "Epoch 92/100 | Step 50/70 | train loss: 0.7455 | l1 loss: 0.4888 | sparsity loss: 1.2835\n",
      "Data Shuffled\n",
      "Epoch 93/100 | Step 0/70 | train loss: 0.6469 | l1 loss: 0.3977 | sparsity loss: 1.2459\n",
      "Epoch 93/100 | Step 50/70 | train loss: 0.5934 | l1 loss: 0.3328 | sparsity loss: 1.3033\n",
      "Data Shuffled\n",
      "Epoch 94/100 | Step 0/70 | train loss: 0.6536 | l1 loss: 0.3981 | sparsity loss: 1.2779\n",
      "Epoch 94/100 | Step 50/70 | train loss: 0.7259 | l1 loss: 0.4782 | sparsity loss: 1.2385\n",
      "Data Shuffled\n",
      "Epoch 95/100 | Step 0/70 | train loss: 0.6370 | l1 loss: 0.3854 | sparsity loss: 1.2581\n",
      "Epoch 95/100 | Step 50/70 | train loss: 0.6313 | l1 loss: 0.3744 | sparsity loss: 1.2848\n",
      "Data Shuffled\n",
      "Epoch 96/100 | Step 0/70 | train loss: 0.5934 | l1 loss: 0.3431 | sparsity loss: 1.2513\n",
      "Epoch 96/100 | Step 50/70 | train loss: 0.6882 | l1 loss: 0.4367 | sparsity loss: 1.2578\n",
      "Data Shuffled\n",
      "Epoch 97/100 | Step 0/70 | train loss: 0.6540 | l1 loss: 0.3968 | sparsity loss: 1.2858\n",
      "Epoch 97/100 | Step 50/70 | train loss: 0.6863 | l1 loss: 0.4353 | sparsity loss: 1.2551\n",
      "Data Shuffled\n",
      "Epoch 98/100 | Step 0/70 | train loss: 0.6810 | l1 loss: 0.4271 | sparsity loss: 1.2695\n",
      "Epoch 98/100 | Step 50/70 | train loss: 0.6020 | l1 loss: 0.3497 | sparsity loss: 1.2613\n",
      "Data Shuffled\n",
      "Epoch 99/100 | Step 0/70 | train loss: 0.6281 | l1 loss: 0.3785 | sparsity loss: 1.2481\n",
      "Epoch 99/100 | Step 50/70 | train loss: 0.6705 | l1 loss: 0.4172 | sparsity loss: 1.2664\n",
      "Data Shuffled\n",
      "Epoch 100/100 | Step 0/70 | train loss: 0.6682 | l1 loss: 0.4176 | sparsity loss: 1.2531\n",
      "Epoch 100/100 | Step 50/70 | train loss: 0.7040 | l1 loss: 0.4480 | sparsity loss: 1.2797\n",
      "Data Shuffled\n",
      "Epoch 1/100 | Step 0/70 | train loss: 162.6218 | l1 loss: 162.2200 | sparsity loss: 2.0094\n",
      "Epoch 1/100 | Step 50/70 | train loss: 133.5982 | l1 loss: 133.1853 | sparsity loss: 2.0644\n",
      "Data Shuffled\n",
      "Epoch 2/100 | Step 0/70 | train loss: 120.4385 | l1 loss: 120.0170 | sparsity loss: 2.1074\n",
      "Epoch 2/100 | Step 50/70 | train loss: 90.6653 | l1 loss: 90.2229 | sparsity loss: 2.2120\n",
      "Data Shuffled\n",
      "Epoch 3/100 | Step 0/70 | train loss: 77.6044 | l1 loss: 77.1484 | sparsity loss: 2.2800\n",
      "Epoch 3/100 | Step 50/70 | train loss: 55.8247 | l1 loss: 55.3507 | sparsity loss: 2.3701\n",
      "Data Shuffled\n",
      "Epoch 4/100 | Step 0/70 | train loss: 49.0205 | l1 loss: 48.5345 | sparsity loss: 2.4297\n",
      "Epoch 4/100 | Step 50/70 | train loss: 30.6319 | l1 loss: 30.1184 | sparsity loss: 2.5676\n",
      "Data Shuffled\n",
      "Epoch 5/100 | Step 0/70 | train loss: 23.5364 | l1 loss: 23.0131 | sparsity loss: 2.6167\n",
      "Epoch 5/100 | Step 50/70 | train loss: 13.6240 | l1 loss: 13.0875 | sparsity loss: 2.6825\n",
      "Data Shuffled\n",
      "Epoch 6/100 | Step 0/70 | train loss: 12.9007 | l1 loss: 12.3631 | sparsity loss: 2.6879\n",
      "Epoch 6/100 | Step 50/70 | train loss: 12.3583 | l1 loss: 11.8179 | sparsity loss: 2.7017\n",
      "Data Shuffled\n",
      "Epoch 7/100 | Step 0/70 | train loss: 13.4053 | l1 loss: 12.8663 | sparsity loss: 2.6953\n",
      "Epoch 7/100 | Step 50/70 | train loss: 11.8687 | l1 loss: 11.3274 | sparsity loss: 2.7063\n",
      "Data Shuffled\n",
      "Epoch 8/100 | Step 0/70 | train loss: 11.8970 | l1 loss: 11.3531 | sparsity loss: 2.7194\n",
      "Epoch 8/100 | Step 50/70 | train loss: 11.4251 | l1 loss: 10.8840 | sparsity loss: 2.7053\n",
      "Data Shuffled\n",
      "Epoch 9/100 | Step 0/70 | train loss: 12.3662 | l1 loss: 11.8253 | sparsity loss: 2.7046\n"
     ]
    },
    {
     "name": "stdout",
     "output_type": "stream",
     "text": [
      "Epoch 9/100 | Step 50/70 | train loss: 12.9165 | l1 loss: 12.3766 | sparsity loss: 2.6993\n",
      "Data Shuffled\n",
      "Epoch 10/100 | Step 0/70 | train loss: 12.2902 | l1 loss: 11.7482 | sparsity loss: 2.7103\n",
      "Epoch 10/100 | Step 50/70 | train loss: 13.1563 | l1 loss: 12.6174 | sparsity loss: 2.6944\n",
      "Data Shuffled\n",
      "Epoch 11/100 | Step 0/70 | train loss: 13.8705 | l1 loss: 13.3323 | sparsity loss: 2.6911\n",
      "Epoch 11/100 | Step 50/70 | train loss: 11.9897 | l1 loss: 11.4508 | sparsity loss: 2.6948\n",
      "Data Shuffled\n",
      "Epoch 12/100 | Step 0/70 | train loss: 12.4462 | l1 loss: 11.9076 | sparsity loss: 2.6931\n",
      "Epoch 12/100 | Step 50/70 | train loss: 11.8687 | l1 loss: 11.3279 | sparsity loss: 2.7038\n",
      "Data Shuffled\n",
      "Epoch 13/100 | Step 0/70 | train loss: 13.1612 | l1 loss: 12.6239 | sparsity loss: 2.6863\n",
      "Epoch 13/100 | Step 50/70 | train loss: 12.1315 | l1 loss: 11.5934 | sparsity loss: 2.6904\n",
      "Data Shuffled\n",
      "Epoch 14/100 | Step 0/70 | train loss: 12.6839 | l1 loss: 12.1484 | sparsity loss: 2.6773\n",
      "Epoch 14/100 | Step 50/70 | train loss: 12.9092 | l1 loss: 12.3729 | sparsity loss: 2.6812\n",
      "Data Shuffled\n",
      "Epoch 15/100 | Step 0/70 | train loss: 12.2652 | l1 loss: 11.7273 | sparsity loss: 2.6891\n",
      "Epoch 15/100 | Step 50/70 | train loss: 12.2180 | l1 loss: 11.6839 | sparsity loss: 2.6702\n",
      "Data Shuffled\n",
      "Epoch 16/100 | Step 0/70 | train loss: 11.9660 | l1 loss: 11.4315 | sparsity loss: 2.6728\n",
      "Epoch 16/100 | Step 50/70 | train loss: 11.6035 | l1 loss: 11.0682 | sparsity loss: 2.6764\n",
      "Data Shuffled\n",
      "Epoch 17/100 | Step 0/70 | train loss: 12.8942 | l1 loss: 12.3614 | sparsity loss: 2.6639\n",
      "Epoch 17/100 | Step 50/70 | train loss: 12.1488 | l1 loss: 11.6165 | sparsity loss: 2.6615\n",
      "Data Shuffled\n",
      "Epoch 18/100 | Step 0/70 | train loss: 12.5699 | l1 loss: 12.0371 | sparsity loss: 2.6638\n",
      "Epoch 18/100 | Step 50/70 | train loss: 12.5698 | l1 loss: 12.0386 | sparsity loss: 2.6560\n",
      "Data Shuffled\n",
      "Epoch 19/100 | Step 0/70 | train loss: 11.7377 | l1 loss: 11.2094 | sparsity loss: 2.6417\n",
      "Epoch 19/100 | Step 50/70 | train loss: 12.9164 | l1 loss: 12.3874 | sparsity loss: 2.6450\n",
      "Data Shuffled\n",
      "Epoch 20/100 | Step 0/70 | train loss: 12.0524 | l1 loss: 11.5244 | sparsity loss: 2.6403\n",
      "Epoch 20/100 | Step 50/70 | train loss: 11.6495 | l1 loss: 11.1222 | sparsity loss: 2.6370\n",
      "Data Shuffled\n",
      "Epoch 21/100 | Step 0/70 | train loss: 11.5203 | l1 loss: 10.9922 | sparsity loss: 2.6405\n",
      "Epoch 21/100 | Step 50/70 | train loss: 12.1227 | l1 loss: 11.5995 | sparsity loss: 2.6160\n",
      "Data Shuffled\n",
      "Epoch 22/100 | Step 0/70 | train loss: 12.6882 | l1 loss: 12.1646 | sparsity loss: 2.6180\n",
      "Epoch 22/100 | Step 50/70 | train loss: 11.1828 | l1 loss: 10.6613 | sparsity loss: 2.6077\n",
      "Data Shuffled\n",
      "Epoch 23/100 | Step 0/70 | train loss: 12.7804 | l1 loss: 12.2625 | sparsity loss: 2.5895\n",
      "Epoch 23/100 | Step 50/70 | train loss: 12.5453 | l1 loss: 12.0254 | sparsity loss: 2.5993\n",
      "Data Shuffled\n",
      "Epoch 24/100 | Step 0/70 | train loss: 13.0311 | l1 loss: 12.5146 | sparsity loss: 2.5826\n",
      "Epoch 24/100 | Step 50/70 | train loss: 12.2306 | l1 loss: 11.7142 | sparsity loss: 2.5823\n",
      "Data Shuffled\n",
      "Epoch 25/100 | Step 0/70 | train loss: 12.4221 | l1 loss: 11.9077 | sparsity loss: 2.5719\n",
      "Epoch 25/100 | Step 50/70 | train loss: 11.4509 | l1 loss: 10.9397 | sparsity loss: 2.5562\n",
      "Data Shuffled\n",
      "Epoch 26/100 | Step 0/70 | train loss: 12.1948 | l1 loss: 11.6840 | sparsity loss: 2.5542\n",
      "Epoch 26/100 | Step 50/70 | train loss: 10.6594 | l1 loss: 10.1511 | sparsity loss: 2.5416\n",
      "Data Shuffled\n",
      "Epoch 27/100 | Step 0/70 | train loss: 11.7697 | l1 loss: 11.2612 | sparsity loss: 2.5421\n",
      "Epoch 27/100 | Step 50/70 | train loss: 11.8982 | l1 loss: 11.3899 | sparsity loss: 2.5416\n",
      "Data Shuffled\n",
      "Epoch 28/100 | Step 0/70 | train loss: 12.2031 | l1 loss: 11.7011 | sparsity loss: 2.5103\n",
      "Epoch 28/100 | Step 50/70 | train loss: 11.5456 | l1 loss: 11.0463 | sparsity loss: 2.4962\n",
      "Data Shuffled\n",
      "Epoch 29/100 | Step 0/70 | train loss: 11.3285 | l1 loss: 10.8312 | sparsity loss: 2.4866\n",
      "Epoch 29/100 | Step 50/70 | train loss: 10.5122 | l1 loss: 10.0155 | sparsity loss: 2.4832\n",
      "Data Shuffled\n",
      "Epoch 30/100 | Step 0/70 | train loss: 10.7544 | l1 loss: 10.2602 | sparsity loss: 2.4710\n",
      "Epoch 30/100 | Step 50/70 | train loss: 11.4497 | l1 loss: 10.9586 | sparsity loss: 2.4555\n",
      "Data Shuffled\n",
      "Epoch 31/100 | Step 0/70 | train loss: 11.6272 | l1 loss: 11.1354 | sparsity loss: 2.4594\n",
      "Epoch 31/100 | Step 50/70 | train loss: 11.7728 | l1 loss: 11.2845 | sparsity loss: 2.4412\n",
      "Data Shuffled\n",
      "Epoch 32/100 | Step 0/70 | train loss: 11.2014 | l1 loss: 10.7167 | sparsity loss: 2.4238\n",
      "Epoch 32/100 | Step 50/70 | train loss: 10.6436 | l1 loss: 10.1621 | sparsity loss: 2.4075\n",
      "Data Shuffled\n",
      "Epoch 33/100 | Step 0/70 | train loss: 10.4802 | l1 loss: 9.9963 | sparsity loss: 2.4194\n",
      "Epoch 33/100 | Step 50/70 | train loss: 11.5307 | l1 loss: 11.0510 | sparsity loss: 2.3983\n",
      "Data Shuffled\n",
      "Epoch 34/100 | Step 0/70 | train loss: 10.7882 | l1 loss: 10.3098 | sparsity loss: 2.3919\n",
      "Epoch 34/100 | Step 50/70 | train loss: 10.0227 | l1 loss: 9.5473 | sparsity loss: 2.3766\n",
      "Data Shuffled\n",
      "Epoch 35/100 | Step 0/70 | train loss: 10.7744 | l1 loss: 10.3059 | sparsity loss: 2.3424\n",
      "Epoch 35/100 | Step 50/70 | train loss: 9.9003 | l1 loss: 9.4321 | sparsity loss: 2.3409\n",
      "Data Shuffled\n",
      "Epoch 36/100 | Step 0/70 | train loss: 9.9540 | l1 loss: 9.4846 | sparsity loss: 2.3467\n",
      "Epoch 36/100 | Step 50/70 | train loss: 10.6444 | l1 loss: 10.1807 | sparsity loss: 2.3180\n",
      "Data Shuffled\n",
      "Epoch 37/100 | Step 0/70 | train loss: 10.5988 | l1 loss: 10.1368 | sparsity loss: 2.3099\n",
      "Epoch 37/100 | Step 50/70 | train loss: 9.0301 | l1 loss: 8.5733 | sparsity loss: 2.2840\n",
      "Data Shuffled\n",
      "Epoch 38/100 | Step 0/70 | train loss: 9.5828 | l1 loss: 9.1252 | sparsity loss: 2.2880\n",
      "Epoch 38/100 | Step 50/70 | train loss: 9.2211 | l1 loss: 8.7656 | sparsity loss: 2.2776\n",
      "Data Shuffled\n",
      "Epoch 39/100 | Step 0/70 | train loss: 9.1954 | l1 loss: 8.7419 | sparsity loss: 2.2676\n",
      "Epoch 39/100 | Step 50/70 | train loss: 9.2896 | l1 loss: 8.8413 | sparsity loss: 2.2418\n",
      "Data Shuffled\n",
      "Epoch 40/100 | Step 0/70 | train loss: 8.7864 | l1 loss: 8.3398 | sparsity loss: 2.2331\n",
      "Epoch 40/100 | Step 50/70 | train loss: 8.4537 | l1 loss: 8.0097 | sparsity loss: 2.2202\n",
      "Data Shuffled\n",
      "Epoch 41/100 | Step 0/70 | train loss: 8.9922 | l1 loss: 8.5530 | sparsity loss: 2.1960\n",
      "Epoch 41/100 | Step 50/70 | train loss: 9.4173 | l1 loss: 8.9767 | sparsity loss: 2.2029\n",
      "Data Shuffled\n",
      "Epoch 42/100 | Step 0/70 | train loss: 8.4868 | l1 loss: 8.0454 | sparsity loss: 2.2069\n",
      "Epoch 42/100 | Step 50/70 | train loss: 8.1512 | l1 loss: 7.7167 | sparsity loss: 2.1722\n",
      "Data Shuffled\n",
      "Epoch 43/100 | Step 0/70 | train loss: 8.3924 | l1 loss: 7.9583 | sparsity loss: 2.1705\n",
      "Epoch 43/100 | Step 50/70 | train loss: 7.7444 | l1 loss: 7.3182 | sparsity loss: 2.1311\n",
      "Data Shuffled\n",
      "Epoch 44/100 | Step 0/70 | train loss: 7.7294 | l1 loss: 7.2961 | sparsity loss: 2.1667\n",
      "Epoch 44/100 | Step 50/70 | train loss: 7.5874 | l1 loss: 7.1583 | sparsity loss: 2.1455\n",
      "Data Shuffled\n",
      "Epoch 45/100 | Step 0/70 | train loss: 7.3871 | l1 loss: 6.9609 | sparsity loss: 2.1313\n",
      "Epoch 45/100 | Step 50/70 | train loss: 6.6992 | l1 loss: 6.2763 | sparsity loss: 2.1145\n",
      "Data Shuffled\n",
      "Epoch 46/100 | Step 0/70 | train loss: 6.8976 | l1 loss: 6.4714 | sparsity loss: 2.1310\n",
      "Epoch 46/100 | Step 50/70 | train loss: 7.1327 | l1 loss: 6.7050 | sparsity loss: 2.1385\n",
      "Data Shuffled\n",
      "Epoch 47/100 | Step 0/70 | train loss: 7.2230 | l1 loss: 6.7976 | sparsity loss: 2.1274\n",
      "Epoch 47/100 | Step 50/70 | train loss: 6.4100 | l1 loss: 5.9930 | sparsity loss: 2.0853\n",
      "Data Shuffled\n",
      "Epoch 48/100 | Step 0/70 | train loss: 6.2858 | l1 loss: 5.8705 | sparsity loss: 2.0766\n",
      "Epoch 48/100 | Step 50/70 | train loss: 6.8994 | l1 loss: 6.4862 | sparsity loss: 2.0662\n",
      "Data Shuffled\n",
      "Epoch 49/100 | Step 0/70 | train loss: 6.9803 | l1 loss: 6.5605 | sparsity loss: 2.0988\n",
      "Epoch 49/100 | Step 50/70 | train loss: 6.6502 | l1 loss: 6.2440 | sparsity loss: 2.0308\n",
      "Data Shuffled\n",
      "Epoch 50/100 | Step 0/70 | train loss: 6.1815 | l1 loss: 5.7663 | sparsity loss: 2.0757\n",
      "Epoch 50/100 | Step 50/70 | train loss: 6.2947 | l1 loss: 5.8850 | sparsity loss: 2.0485\n",
      "Data Shuffled\n",
      "Epoch 51/100 | Step 0/70 | train loss: 6.3600 | l1 loss: 5.9519 | sparsity loss: 2.0405\n",
      "Epoch 51/100 | Step 50/70 | train loss: 6.1237 | l1 loss: 5.7139 | sparsity loss: 2.0490\n",
      "Data Shuffled\n",
      "Epoch 52/100 | Step 0/70 | train loss: 5.5415 | l1 loss: 5.1352 | sparsity loss: 2.0317\n",
      "Epoch 52/100 | Step 50/70 | train loss: 5.3839 | l1 loss: 4.9808 | sparsity loss: 2.0151\n",
      "Data Shuffled\n",
      "Epoch 53/100 | Step 0/70 | train loss: 5.2852 | l1 loss: 4.8844 | sparsity loss: 2.0038\n",
      "Epoch 53/100 | Step 50/70 | train loss: 5.2365 | l1 loss: 4.8351 | sparsity loss: 2.0066\n",
      "Data Shuffled\n",
      "Epoch 54/100 | Step 0/70 | train loss: 4.8434 | l1 loss: 4.4373 | sparsity loss: 2.0304\n"
     ]
    },
    {
     "name": "stdout",
     "output_type": "stream",
     "text": [
      "Epoch 54/100 | Step 50/70 | train loss: 5.2157 | l1 loss: 4.8164 | sparsity loss: 1.9968\n",
      "Data Shuffled\n",
      "Epoch 55/100 | Step 0/70 | train loss: 5.4778 | l1 loss: 5.0809 | sparsity loss: 1.9848\n",
      "Epoch 55/100 | Step 50/70 | train loss: 4.3695 | l1 loss: 3.9754 | sparsity loss: 1.9706\n",
      "Data Shuffled\n",
      "Epoch 56/100 | Step 0/70 | train loss: 4.4015 | l1 loss: 4.0056 | sparsity loss: 1.9792\n",
      "Epoch 56/100 | Step 50/70 | train loss: 4.0695 | l1 loss: 3.6795 | sparsity loss: 1.9500\n",
      "Data Shuffled\n",
      "Epoch 57/100 | Step 0/70 | train loss: 4.2576 | l1 loss: 3.8625 | sparsity loss: 1.9751\n",
      "Epoch 57/100 | Step 50/70 | train loss: 3.8060 | l1 loss: 3.4175 | sparsity loss: 1.9424\n",
      "Data Shuffled\n",
      "Epoch 58/100 | Step 0/70 | train loss: 4.0655 | l1 loss: 3.6784 | sparsity loss: 1.9357\n",
      "Epoch 58/100 | Step 50/70 | train loss: 4.0265 | l1 loss: 3.6432 | sparsity loss: 1.9164\n",
      "Data Shuffled\n",
      "Epoch 59/100 | Step 0/70 | train loss: 3.3695 | l1 loss: 2.9809 | sparsity loss: 1.9433\n",
      "Epoch 59/100 | Step 50/70 | train loss: 3.3860 | l1 loss: 3.0056 | sparsity loss: 1.9021\n",
      "Data Shuffled\n",
      "Epoch 60/100 | Step 0/70 | train loss: 3.4530 | l1 loss: 3.0651 | sparsity loss: 1.9395\n",
      "Epoch 60/100 | Step 50/70 | train loss: 2.9195 | l1 loss: 2.5398 | sparsity loss: 1.8984\n",
      "Data Shuffled\n",
      "Epoch 61/100 | Step 0/70 | train loss: 3.2333 | l1 loss: 2.8585 | sparsity loss: 1.8737\n",
      "Epoch 61/100 | Step 50/70 | train loss: 3.3837 | l1 loss: 3.0044 | sparsity loss: 1.8963\n",
      "Data Shuffled\n",
      "Epoch 62/100 | Step 0/70 | train loss: 2.7328 | l1 loss: 2.3574 | sparsity loss: 1.8770\n",
      "Epoch 62/100 | Step 50/70 | train loss: 2.8713 | l1 loss: 2.4971 | sparsity loss: 1.8710\n",
      "Data Shuffled\n",
      "Epoch 63/100 | Step 0/70 | train loss: 2.6365 | l1 loss: 2.2648 | sparsity loss: 1.8588\n",
      "Epoch 63/100 | Step 50/70 | train loss: 3.0583 | l1 loss: 2.6888 | sparsity loss: 1.8475\n",
      "Data Shuffled\n",
      "Epoch 64/100 | Step 0/70 | train loss: 2.7417 | l1 loss: 2.3709 | sparsity loss: 1.8538\n",
      "Epoch 64/100 | Step 50/70 | train loss: 2.5318 | l1 loss: 2.1609 | sparsity loss: 1.8545\n",
      "Data Shuffled\n",
      "Epoch 65/100 | Step 0/70 | train loss: 2.6382 | l1 loss: 2.2731 | sparsity loss: 1.8257\n",
      "Epoch 65/100 | Step 50/70 | train loss: 2.3187 | l1 loss: 1.9488 | sparsity loss: 1.8494\n",
      "Data Shuffled\n",
      "Epoch 66/100 | Step 0/70 | train loss: 2.4308 | l1 loss: 2.0653 | sparsity loss: 1.8276\n",
      "Epoch 66/100 | Step 50/70 | train loss: 2.0833 | l1 loss: 1.7150 | sparsity loss: 1.8416\n",
      "Data Shuffled\n",
      "Epoch 67/100 | Step 0/70 | train loss: 2.1691 | l1 loss: 1.8059 | sparsity loss: 1.8158\n",
      "Epoch 67/100 | Step 50/70 | train loss: 2.0456 | l1 loss: 1.6828 | sparsity loss: 1.8141\n",
      "Data Shuffled\n",
      "Epoch 68/100 | Step 0/70 | train loss: 2.2647 | l1 loss: 1.9043 | sparsity loss: 1.8023\n",
      "Epoch 68/100 | Step 50/70 | train loss: 1.8630 | l1 loss: 1.5003 | sparsity loss: 1.8137\n",
      "Data Shuffled\n",
      "Epoch 69/100 | Step 0/70 | train loss: 1.7787 | l1 loss: 1.4188 | sparsity loss: 1.7994\n",
      "Epoch 69/100 | Step 50/70 | train loss: 1.9594 | l1 loss: 1.5997 | sparsity loss: 1.7987\n",
      "Data Shuffled\n",
      "Epoch 70/100 | Step 0/70 | train loss: 1.8117 | l1 loss: 1.4453 | sparsity loss: 1.8322\n",
      "Epoch 70/100 | Step 50/70 | train loss: 1.8744 | l1 loss: 1.5128 | sparsity loss: 1.8077\n",
      "Data Shuffled\n",
      "Epoch 71/100 | Step 0/70 | train loss: 2.1714 | l1 loss: 1.8185 | sparsity loss: 1.7645\n",
      "Epoch 71/100 | Step 50/70 | train loss: 2.1129 | l1 loss: 1.7550 | sparsity loss: 1.7896\n",
      "Data Shuffled\n",
      "Epoch 72/100 | Step 0/70 | train loss: 1.6508 | l1 loss: 1.2894 | sparsity loss: 1.8068\n",
      "Epoch 72/100 | Step 50/70 | train loss: 1.5719 | l1 loss: 1.2128 | sparsity loss: 1.7954\n",
      "Data Shuffled\n",
      "Epoch 73/100 | Step 0/70 | train loss: 1.7947 | l1 loss: 1.4378 | sparsity loss: 1.7843\n",
      "Epoch 73/100 | Step 50/70 | train loss: 1.7025 | l1 loss: 1.3481 | sparsity loss: 1.7716\n",
      "Data Shuffled\n",
      "Epoch 74/100 | Step 0/70 | train loss: 1.5683 | l1 loss: 1.2139 | sparsity loss: 1.7717\n",
      "Epoch 74/100 | Step 50/70 | train loss: 1.5138 | l1 loss: 1.1635 | sparsity loss: 1.7519\n",
      "Data Shuffled\n",
      "Epoch 75/100 | Step 0/70 | train loss: 1.4329 | l1 loss: 1.0756 | sparsity loss: 1.7862\n",
      "Epoch 75/100 | Step 50/70 | train loss: 1.4133 | l1 loss: 1.0597 | sparsity loss: 1.7678\n",
      "Data Shuffled\n",
      "Epoch 76/100 | Step 0/70 | train loss: 1.2764 | l1 loss: 0.9223 | sparsity loss: 1.7702\n",
      "Epoch 76/100 | Step 50/70 | train loss: 1.2416 | l1 loss: 0.8899 | sparsity loss: 1.7583\n",
      "Data Shuffled\n",
      "Epoch 77/100 | Step 0/70 | train loss: 1.0941 | l1 loss: 0.7443 | sparsity loss: 1.7490\n",
      "Epoch 77/100 | Step 50/70 | train loss: 1.2546 | l1 loss: 0.9069 | sparsity loss: 1.7387\n",
      "Data Shuffled\n",
      "Epoch 78/100 | Step 0/70 | train loss: 1.0818 | l1 loss: 0.7339 | sparsity loss: 1.7397\n",
      "Epoch 78/100 | Step 50/70 | train loss: 1.0083 | l1 loss: 0.6645 | sparsity loss: 1.7191\n",
      "Data Shuffled\n",
      "Epoch 79/100 | Step 0/70 | train loss: 1.0143 | l1 loss: 0.6622 | sparsity loss: 1.7606\n",
      "Epoch 79/100 | Step 50/70 | train loss: 0.9896 | l1 loss: 0.6473 | sparsity loss: 1.7114\n",
      "Data Shuffled\n",
      "Epoch 80/100 | Step 0/70 | train loss: 0.8284 | l1 loss: 0.4771 | sparsity loss: 1.7567\n",
      "Epoch 80/100 | Step 50/70 | train loss: 0.7409 | l1 loss: 0.3913 | sparsity loss: 1.7479\n",
      "Data Shuffled\n",
      "Epoch 81/100 | Step 0/70 | train loss: 0.7525 | l1 loss: 0.4110 | sparsity loss: 1.7078\n",
      "Epoch 81/100 | Step 50/70 | train loss: 0.7244 | l1 loss: 0.3756 | sparsity loss: 1.7439\n",
      "Data Shuffled\n",
      "Epoch 82/100 | Step 0/70 | train loss: 0.6915 | l1 loss: 0.3453 | sparsity loss: 1.7312\n",
      "Epoch 82/100 | Step 50/70 | train loss: 0.5442 | l1 loss: 0.2028 | sparsity loss: 1.7070\n",
      "Data Shuffled\n",
      "Epoch 83/100 | Step 0/70 | train loss: 0.5815 | l1 loss: 0.2372 | sparsity loss: 1.7213\n",
      "Epoch 83/100 | Step 50/70 | train loss: 0.5551 | l1 loss: 0.2093 | sparsity loss: 1.7290\n",
      "Data Shuffled\n",
      "Epoch 84/100 | Step 0/70 | train loss: 0.5067 | l1 loss: 0.1631 | sparsity loss: 1.7180\n",
      "Epoch 84/100 | Step 50/70 | train loss: 0.5444 | l1 loss: 0.2056 | sparsity loss: 1.6941\n",
      "Data Shuffled\n",
      "Epoch 85/100 | Step 0/70 | train loss: 0.5149 | l1 loss: 0.1758 | sparsity loss: 1.6955\n",
      "Epoch 85/100 | Step 50/70 | train loss: 0.5477 | l1 loss: 0.2035 | sparsity loss: 1.7209\n",
      "Data Shuffled\n",
      "Epoch 86/100 | Step 0/70 | train loss: 0.5620 | l1 loss: 0.2217 | sparsity loss: 1.7015\n",
      "Epoch 86/100 | Step 50/70 | train loss: 0.4891 | l1 loss: 0.1538 | sparsity loss: 1.6765\n",
      "Data Shuffled\n",
      "Epoch 87/100 | Step 0/70 | train loss: 0.5468 | l1 loss: 0.2018 | sparsity loss: 1.7248\n",
      "Epoch 87/100 | Step 50/70 | train loss: 0.5233 | l1 loss: 0.1811 | sparsity loss: 1.7110\n",
      "Data Shuffled\n",
      "Epoch 88/100 | Step 0/70 | train loss: 0.4905 | l1 loss: 0.1567 | sparsity loss: 1.6690\n",
      "Epoch 88/100 | Step 50/70 | train loss: 0.5121 | l1 loss: 0.1833 | sparsity loss: 1.6440\n",
      "Data Shuffled\n",
      "Epoch 89/100 | Step 0/70 | train loss: 0.5185 | l1 loss: 0.1823 | sparsity loss: 1.6812\n",
      "Epoch 89/100 | Step 50/70 | train loss: 0.5067 | l1 loss: 0.1687 | sparsity loss: 1.6899\n",
      "Data Shuffled\n",
      "Epoch 90/100 | Step 0/70 | train loss: 0.5380 | l1 loss: 0.1989 | sparsity loss: 1.6956\n",
      "Epoch 90/100 | Step 50/70 | train loss: 0.5087 | l1 loss: 0.1758 | sparsity loss: 1.6646\n",
      "Data Shuffled\n",
      "Epoch 91/100 | Step 0/70 | train loss: 0.5255 | l1 loss: 0.1893 | sparsity loss: 1.6808\n",
      "Epoch 91/100 | Step 50/70 | train loss: 0.4890 | l1 loss: 0.1559 | sparsity loss: 1.6655\n",
      "Data Shuffled\n",
      "Epoch 92/100 | Step 0/70 | train loss: 0.5290 | l1 loss: 0.1974 | sparsity loss: 1.6578\n",
      "Epoch 92/100 | Step 50/70 | train loss: 0.5271 | l1 loss: 0.1902 | sparsity loss: 1.6845\n",
      "Data Shuffled\n",
      "Epoch 93/100 | Step 0/70 | train loss: 0.5609 | l1 loss: 0.2172 | sparsity loss: 1.7186\n",
      "Epoch 93/100 | Step 50/70 | train loss: 0.4845 | l1 loss: 0.1502 | sparsity loss: 1.6713\n",
      "Data Shuffled\n",
      "Epoch 94/100 | Step 0/70 | train loss: 0.4847 | l1 loss: 0.1541 | sparsity loss: 1.6529\n",
      "Epoch 94/100 | Step 50/70 | train loss: 0.5075 | l1 loss: 0.1800 | sparsity loss: 1.6374\n",
      "Data Shuffled\n",
      "Epoch 95/100 | Step 0/70 | train loss: 0.5592 | l1 loss: 0.2222 | sparsity loss: 1.6853\n",
      "Epoch 95/100 | Step 50/70 | train loss: 0.5202 | l1 loss: 0.1863 | sparsity loss: 1.6698\n",
      "Data Shuffled\n",
      "Epoch 96/100 | Step 0/70 | train loss: 0.5173 | l1 loss: 0.1897 | sparsity loss: 1.6379\n",
      "Epoch 96/100 | Step 50/70 | train loss: 0.5147 | l1 loss: 0.1852 | sparsity loss: 1.6476\n",
      "Data Shuffled\n",
      "Epoch 97/100 | Step 0/70 | train loss: 0.4910 | l1 loss: 0.1577 | sparsity loss: 1.6668\n",
      "Epoch 97/100 | Step 50/70 | train loss: 0.4964 | l1 loss: 0.1708 | sparsity loss: 1.6281\n",
      "Data Shuffled\n",
      "Epoch 98/100 | Step 0/70 | train loss: 0.5227 | l1 loss: 0.1911 | sparsity loss: 1.6580\n",
      "Epoch 98/100 | Step 50/70 | train loss: 0.5083 | l1 loss: 0.1795 | sparsity loss: 1.6443\n",
      "Data Shuffled\n",
      "Epoch 99/100 | Step 0/70 | train loss: 0.5233 | l1 loss: 0.1968 | sparsity loss: 1.6326\n"
     ]
    },
    {
     "name": "stdout",
     "output_type": "stream",
     "text": [
      "Epoch 99/100 | Step 50/70 | train loss: 0.5621 | l1 loss: 0.2315 | sparsity loss: 1.6529\n",
      "Data Shuffled\n",
      "Epoch 100/100 | Step 0/70 | train loss: 0.5322 | l1 loss: 0.2080 | sparsity loss: 1.6209\n",
      "Epoch 100/100 | Step 50/70 | train loss: 0.5237 | l1 loss: 0.1903 | sparsity loss: 1.6671\n"
     ]
    }
   ],
   "source": [
    "ohlcv_encoder = get_encoder(data_set[\"ohlcv\"][0])"
   ]
  },
  {
   "cell_type": "code",
   "execution_count": 27,
   "metadata": {},
   "outputs": [],
   "source": [
    "features = {}\n",
    "\n",
    "for i, feature in enumerate(encode(data_set[\"ohlcv\"][0].to_numpy().astype(np.float32), ohlcv_encoder).T):\n",
    "    features[\"deep{}\".format(i)] = pd.Series(feature, index=data_set[\"ohlcv\"][0].index)\n",
    "target = data_set[\"ohlcv\"][1]\n",
    "\n",
    "X, Y = prepare_data(features, target)\n",
    "X_train, X_val, Y_train, Y_val = split_before_2009_06_30(X, Y)\n",
    "\n",
    "data_set[\"sa_ohlcv\"]= (X, Y)"
   ]
  },
  {
   "cell_type": "code",
   "execution_count": 28,
   "metadata": {},
   "outputs": [],
   "source": [
    "tss = TimeSeriesSplit(3)\n",
    "tss_split = CVSplit(cv=tss, stratified=False, random_state=None)"
   ]
  },
  {
   "cell_type": "code",
   "execution_count": 29,
   "metadata": {},
   "outputs": [],
   "source": [
    "half = PredefinedSplit(np.concatenate((np.ones(len(X)//2)*-1,np.ones(len(X)//2))))\n",
    "half_split =  CVSplit(cv=half, stratified=False, random_state=None)"
   ]
  },
  {
   "cell_type": "code",
   "execution_count": 30,
   "metadata": {},
   "outputs": [
    {
     "name": "stdout",
     "output_type": "stream",
     "text": [
      "FOLD 1\n",
      "Training set da 2000-01-06 00:00:00 a 2009-01-05 00:00:00\n",
      "Validation set da 2009-01-06 00:00:00 a 2017-12-28 00:00:00\n"
     ]
    }
   ],
   "source": [
    "for i, (train, val) in enumerate(half.split(X), start=1):\n",
    "    print(\"FOLD {}\".format(i))\n",
    "    train_dates = X.index[train]\n",
    "    val_dates = X.index[val]\n",
    "    print(\"Training set da {} a {}\".format(train_dates.min(), train_dates.max()))\n",
    "    print(\"Validation set da {} a {}\".format(val_dates.min(), val_dates.max()))"
   ]
  },
  {
   "cell_type": "code",
   "execution_count": 31,
   "metadata": {},
   "outputs": [],
   "source": [
    "def set_dataset(data):\n",
    "    global X_train\n",
    "    global Y_train\n",
    "    global X_val\n",
    "    global Y_val\n",
    "    global X_train_f\n",
    "    global Y_train_f\n",
    "    global X_val_f\n",
    "    global Y_val_f\n",
    "    global X_f\n",
    "    global Y_f\n",
    "    global half\n",
    "    global half_split\n",
    "    X_train, X_val, Y_train, Y_val = split_before_2009_06_30(data_set[data][0], data_set[data][1])\n",
    "    X_f = data_set[data][0].to_numpy().astype(np.float32)\n",
    "    Y_f = data_set[data][1].to_numpy().astype(np.float32)[...,None]\n",
    "    X_train_f = X_train.to_numpy().astype(np.float32)\n",
    "    Y_train_f = Y_train.to_numpy().astype(np.float32)[...,None]\n",
    "    X_val_f = X_val.to_numpy().astype(np.float32)\n",
    "    Y_val_f = Y_val.to_numpy().astype(np.float32)[...,None] \n",
    "    l1 = len(np.split(X_f, [len(X_f)//2])[0])\n",
    "    l2 = len(np.split(X_f, [len(X_f)//2])[1])\n",
    "    half = PredefinedSplit(np.concatenate((np.ones(l1)*-1,np.ones(l2))))\n",
    "    half_split =  CVSplit(cv=half, stratified=False, random_state=None)"
   ]
  },
  {
   "cell_type": "code",
   "execution_count": 32,
   "metadata": {},
   "outputs": [],
   "source": [
    "def save(model, name):\n",
    "    with open(name + '.pkl', 'wb') as f:\n",
    "        pickle.dump(model, f)\n",
    "        \n",
    "def load(name):\n",
    "    with open(name + '.pkl', 'rb') as f:\n",
    "        return pickle.load(f)"
   ]
  },
  {
   "cell_type": "markdown",
   "metadata": {},
   "source": [
    "## Metriche"
   ]
  },
  {
   "cell_type": "code",
   "execution_count": 33,
   "metadata": {
    "colab": {
     "base_uri": "https://localhost:8080/",
     "height": 215
    },
    "colab_type": "code",
    "id": "c9nIWKRwYXRn",
    "outputId": "c39d95e8-f3fe-4108-bca3-9e64d9651cf1"
   },
   "outputs": [],
   "source": [
    "## Calcola la loss solo sull'utlimo elemento del batch\n",
    "class RNNMSELoss(MSELoss):\n",
    "    def __call__(self, input, target):\n",
    "        return super().__call__(input, target[-1])"
   ]
  },
  {
   "cell_type": "markdown",
   "metadata": {
    "colab_type": "text",
    "id": "NJIcMifAhDln"
   },
   "source": [
    "## Modelli"
   ]
  },
  {
   "cell_type": "code",
   "execution_count": 37,
   "metadata": {},
   "outputs": [],
   "source": [
    "# set_dataset('sa_ohlcv')"
   ]
  },
  {
   "cell_type": "code",
   "execution_count": 38,
   "metadata": {},
   "outputs": [],
   "source": [
    "# # NON CONVERGE!!\n",
    "# #modello del paper che usa stacked autoencoders usando LSTM originale TODO test\n",
    "# n_days = 4 #nel paper chiamati delays \n",
    "\n",
    "# lstm_sa = NeuralNetRegressor(\n",
    "#     module=Sequence,\n",
    "#     optimizer=optim.Adam,\n",
    "#     batch_size=n_days,\n",
    "#     criterion=RNNMSELoss,\n",
    "#     max_epochs=5000,\n",
    "#     train_split=half_split,\n",
    "    \n",
    "#     module__nb_features=X.shape[1],\n",
    "#     module__hidden_size=1,\n",
    "#     module__nb_layers=5,\n",
    "#     optimizer__lr=0.01\n",
    "# )"
   ]
  },
  {
   "cell_type": "code",
   "execution_count": 39,
   "metadata": {},
   "outputs": [],
   "source": [
    "# lstm_sa.fit(X_f, Y_f)"
   ]
  },
  {
   "cell_type": "code",
   "execution_count": 34,
   "metadata": {},
   "outputs": [],
   "source": [
    "set_dataset('open')"
   ]
  },
  {
   "cell_type": "code",
   "execution_count": 35,
   "metadata": {},
   "outputs": [],
   "source": [
    "# # modello del paper di Moro\n",
    "# #SALVATO!\n",
    "n_days= 10\n",
    "lstm_moro = NeuralNetRegressor(\n",
    "    module=SequenceDouble,\n",
    "    optimizer=optim.SGD,\n",
    "    batch_size=n_days,\n",
    "    criterion=RNNMSELoss,\n",
    "    max_epochs=200, # usato nel paper\n",
    "    train_split=half_split,\n",
    "#     callbacks=[callbacks.BatchScoring('accuracy', lower_is_better=False)],\n",
    "    \n",
    "    module__nb_features=X_f.shape[1],\n",
    "    module__hidden_size=256,\n",
    "    optimizer__lr=0.01,\n",
    "    optimizer__weight_decay=0,\n",
    "    optimizer__momentum=0.9\n",
    ")\n"
   ]
  },
  {
   "cell_type": "code",
   "execution_count": 36,
   "metadata": {
    "scrolled": true
   },
   "outputs": [],
   "source": [
    "# lstm_moro.fit(X_f,Y_f)"
   ]
  },
  {
   "cell_type": "code",
   "execution_count": 40,
   "metadata": {},
   "outputs": [],
   "source": [
    "set_dataset('sa_ohlcv')"
   ]
  },
  {
   "cell_type": "code",
   "execution_count": 41,
   "metadata": {},
   "outputs": [],
   "source": [
    "#modello del paper che usa stacked autoencoders usando LSTM paper Moro\n",
    "# #SALVATO!\n",
    "# arriva a 0.1 loss in training e validation\n",
    "#SAlvato a 1000 epoche, potrebbe migliorare andando avanti\n",
    "n_days = 10\n",
    "\n",
    "lstm_sa_d = NeuralNetRegressor(\n",
    "    module=SequenceDouble,#TODO usa delays come nel paper, fallo in altro modello, questo usalo per paragone\n",
    "    optimizer=optim.SGD,\n",
    "    batch_size=n_days,\n",
    "    criterion=RNNMSELoss,\n",
    "    max_epochs=1050, # trovato empiricamente 1050, da portare oltre(5000 nel paper)\n",
    "    train_split=half_split,\n",
    "#     callbacks=[callbacks.Checkpoint(monitor='valid_loss_best', f_pickle=None)],\n",
    "    \n",
    "    module__nb_features=X_f.shape[1],\n",
    "    module__hidden_size=256,\n",
    "    optimizer__lr=0.01,\n",
    "    optimizer__weight_decay=0,\n",
    "    optimizer__momentum=0.9\n",
    ")"
   ]
  },
  {
   "cell_type": "code",
   "execution_count": 42,
   "metadata": {},
   "outputs": [],
   "source": [
    "# lstm_sa_d.fit(X_f, Y_f)"
   ]
  },
  {
   "cell_type": "code",
   "execution_count": 43,
   "metadata": {},
   "outputs": [],
   "source": [
    "# save(lstm_sa_d, 'lstm_sa_d_1000')"
   ]
  },
  {
   "cell_type": "code",
   "execution_count": 74,
   "metadata": {},
   "outputs": [],
   "source": [
    "set_dataset('ohlcv')"
   ]
  },
  {
   "cell_type": "code",
   "execution_count": 95,
   "metadata": {},
   "outputs": [],
   "source": [
    "#modello del paper che usa attention mechanism\n",
    "#Salvato accuracy 94%\n",
    "n_days = 10\n",
    "\n",
    "lstm_att_d = NeuralNetRegressor(\n",
    "    module=SequenceDoubleAtt,\n",
    "    optimizer=optim.Adam,\n",
    "    batch_size=n_days,\n",
    "    criterion=RNNMSELoss,\n",
    "    max_epochs=600, # trovato 280\n",
    "    train_split=half_split,\n",
    "    \n",
    "    module__nb_features=X_f.shape[1],\n",
    "    module__hidden_size=256,\n",
    "    optimizer__lr=0.0001,\n",
    "#     optimizer__weight_decay=0,\n",
    "#     optimizer__momentum=0.9\n",
    ")"
   ]
  },
  {
   "cell_type": "code",
   "execution_count": null,
   "metadata": {
    "collapsed": true
   },
   "outputs": [
    {
     "name": "stdout",
     "output_type": "stream",
     "text": [
      "  epoch    train_loss    valid_loss     dur\n",
      "-------  ------------  ------------  ------\n",
      "      1        \u001b[36m1.1172\u001b[0m        \u001b[32m0.7187\u001b[0m  6.4809\n",
      "      2        \u001b[36m1.0034\u001b[0m        \u001b[32m0.5998\u001b[0m  7.1808\n",
      "      3        \u001b[36m0.8840\u001b[0m        0.6591  6.1611\n",
      "      4        \u001b[36m0.7984\u001b[0m        \u001b[32m0.4365\u001b[0m  6.0274\n",
      "      5        \u001b[36m0.6922\u001b[0m        0.8383  4.9582\n",
      "      6        \u001b[36m0.6131\u001b[0m        0.6147  4.8983\n",
      "      7        \u001b[36m0.4969\u001b[0m        0.8261  6.2194\n",
      "      8        \u001b[36m0.4653\u001b[0m        \u001b[32m0.3120\u001b[0m  4.2532\n",
      "      9        \u001b[36m0.3711\u001b[0m        0.7243  6.8349\n",
      "     10        0.4107        \u001b[32m0.2713\u001b[0m  6.0433\n",
      "     11        \u001b[36m0.3264\u001b[0m        0.4538  7.0782\n",
      "     12        0.3413        \u001b[32m0.2125\u001b[0m  6.8971\n",
      "     13        \u001b[36m0.3014\u001b[0m        \u001b[32m0.1398\u001b[0m  4.8922\n",
      "     14        \u001b[36m0.2883\u001b[0m        \u001b[32m0.1048\u001b[0m  3.9719\n",
      "     15        \u001b[36m0.2764\u001b[0m        \u001b[32m0.0873\u001b[0m  7.3364\n",
      "     16        \u001b[36m0.2675\u001b[0m        \u001b[32m0.0826\u001b[0m  7.8844\n",
      "     17        \u001b[36m0.2582\u001b[0m        0.0871  7.1083\n",
      "     18        \u001b[36m0.2551\u001b[0m        \u001b[32m0.0758\u001b[0m  6.8948\n",
      "     19        \u001b[36m0.2514\u001b[0m        0.0877  5.7369\n",
      "     20        \u001b[36m0.2488\u001b[0m        \u001b[32m0.0727\u001b[0m  4.2753\n",
      "     21        \u001b[36m0.2481\u001b[0m        0.0863  6.0882\n",
      "     22        \u001b[36m0.2456\u001b[0m        0.0745  9.6357\n",
      "     23        0.2457        0.0909  7.1404\n",
      "     24        \u001b[36m0.2442\u001b[0m        0.0776  7.2243\n",
      "     25        0.2442        0.1045  3.9255\n",
      "     26        \u001b[36m0.2436\u001b[0m        0.0816  3.8582\n",
      "     27        \u001b[36m0.2430\u001b[0m        0.1279  4.0993\n",
      "     28        \u001b[36m0.2425\u001b[0m        0.0826  7.3067\n",
      "     29        \u001b[36m0.2419\u001b[0m        0.1288  6.6778\n",
      "     30        \u001b[36m0.2413\u001b[0m        0.0817  4.1905\n",
      "     31        \u001b[36m0.2402\u001b[0m        0.1149  4.1787\n",
      "     32        \u001b[36m0.2398\u001b[0m        0.0908  5.7380\n",
      "     33        \u001b[36m0.2384\u001b[0m        0.1389  5.6271\n",
      "     34        \u001b[36m0.2380\u001b[0m        0.0800  4.5396\n",
      "     35        \u001b[36m0.2369\u001b[0m        0.1810  4.2781\n",
      "     36        \u001b[36m0.2364\u001b[0m        0.0813  5.4432\n",
      "     37        \u001b[36m0.2358\u001b[0m        0.2318  6.4942\n",
      "     38        \u001b[36m0.2356\u001b[0m        0.0790  3.8324\n",
      "     39        \u001b[36m0.2344\u001b[0m        0.2589  4.9621\n",
      "     40        \u001b[36m0.2342\u001b[0m        0.0843  6.7488\n",
      "     41        0.2342        0.1475  5.7745\n",
      "     42        \u001b[36m0.2334\u001b[0m        0.1289  6.7873\n",
      "     43        \u001b[36m0.2324\u001b[0m        0.1215  7.2003\n",
      "     44        0.2329        0.1936  7.4020\n",
      "     45        \u001b[36m0.2296\u001b[0m        0.1519  7.1052\n",
      "     46        \u001b[36m0.2290\u001b[0m        0.1904  7.0867\n",
      "     47        \u001b[36m0.2262\u001b[0m        0.2092  5.3390\n",
      "     48        0.2266        0.1535  5.0269\n",
      "     49        \u001b[36m0.2240\u001b[0m        0.1899  7.3802\n",
      "     50        0.2250        0.2582  6.4720\n",
      "     51        \u001b[36m0.2236\u001b[0m        0.2554  6.8241\n",
      "     52        \u001b[36m0.2232\u001b[0m        0.2102  6.7640\n",
      "     53        \u001b[36m0.2208\u001b[0m        0.3115  5.9335\n",
      "     54        0.2229        0.0777  7.0299\n",
      "     55        \u001b[36m0.2206\u001b[0m        0.7489  7.2421\n",
      "     56        0.2217        0.3671  7.0145\n",
      "     57        \u001b[36m0.2193\u001b[0m        1.5247  4.3237\n",
      "     58        0.2208        0.0883  6.0628\n",
      "     59        0.2200        0.9426  6.0277\n",
      "     60        0.2224        0.1738  7.3218\n",
      "     61        \u001b[36m0.2192\u001b[0m        0.1333  5.9497\n",
      "     62        0.2221        2.2768  7.1116\n",
      "     63        0.2263        0.1027  7.2838\n",
      "     64        0.2260        0.1315  5.7576\n",
      "     65        0.2199        0.4064  6.6338\n",
      "     66        \u001b[36m0.2127\u001b[0m        0.1077  5.9358\n",
      "     67        \u001b[36m0.2116\u001b[0m        0.3066  9.5464\n",
      "     68        \u001b[36m0.2086\u001b[0m        0.0890  5.3514\n",
      "     69        \u001b[36m0.2082\u001b[0m        0.1130  6.2411\n",
      "     70        \u001b[36m0.2050\u001b[0m        0.1569  4.1660\n",
      "     71        \u001b[36m0.2035\u001b[0m        0.1292  3.8270\n",
      "     72        \u001b[36m0.2026\u001b[0m        0.2225  4.0699\n",
      "     73        0.2029        0.1250  6.9851\n",
      "     74        0.2034        0.1531  6.8842\n",
      "     75        \u001b[36m0.2024\u001b[0m        0.1635  6.2666\n",
      "     76        \u001b[36m0.2015\u001b[0m        0.1574  3.9358\n",
      "     77        0.2023        0.1250  4.6892\n",
      "     78        0.2015        0.1296  7.9707\n",
      "     79        0.2057        0.1523  7.1312\n",
      "     80        0.2021        0.3155  5.6462\n",
      "     81        \u001b[36m0.2004\u001b[0m        0.1407  5.6040\n",
      "     82        \u001b[36m0.2002\u001b[0m        0.1066  7.0234\n",
      "     83        \u001b[36m0.1980\u001b[0m        0.1553  6.6764\n",
      "     84        \u001b[36m0.1975\u001b[0m        0.2276  6.3988\n",
      "     85        \u001b[36m0.1949\u001b[0m        0.2295  6.8260\n",
      "     86        0.1972        0.1349  6.0224\n",
      "     87        \u001b[36m0.1942\u001b[0m        0.1055  7.2027\n",
      "     88        0.1944        0.1793  4.0247\n",
      "     89        \u001b[36m0.1924\u001b[0m        0.1499  4.0467\n",
      "     90        0.1960        0.1700  7.1798\n",
      "     91        \u001b[36m0.1920\u001b[0m        0.2286  7.6232\n",
      "     92        \u001b[36m0.1909\u001b[0m        0.1361  7.7062\n",
      "     93        0.1922        0.1555  6.7668\n",
      "     94        0.1929        0.3183  5.7457\n",
      "     95        0.1951        0.1829  5.8267\n",
      "     96        0.1993        0.1251  7.4889\n",
      "     97        \u001b[36m0.1906\u001b[0m        0.2285  6.0713\n",
      "     98        \u001b[36m0.1893\u001b[0m        0.1434  4.3841\n",
      "     99        \u001b[36m0.1880\u001b[0m        0.1357  7.7786\n",
      "    100        \u001b[36m0.1868\u001b[0m        0.1409  7.2277\n",
      "    101        \u001b[36m0.1867\u001b[0m        0.2450  4.5877\n",
      "    102        0.1903        0.3983  5.7462\n",
      "    103        \u001b[36m0.1831\u001b[0m        0.1403  6.2969\n",
      "    104        0.1875        0.2043  3.9904\n",
      "    105        0.1832        0.1365  6.6605\n",
      "    106        0.1841        0.1722  6.4326\n",
      "    107        0.1853        0.1375  4.7394\n",
      "    108        \u001b[36m0.1825\u001b[0m        0.1121  9.6300\n",
      "    109        0.1845        0.6936  5.3699\n",
      "    110        \u001b[36m0.1815\u001b[0m        0.2015  8.5356\n",
      "    111        0.1822        0.2326  7.3677\n",
      "    112        \u001b[36m0.1793\u001b[0m        0.4423  6.4630\n",
      "    113        0.1798        0.1529  7.0552\n",
      "    114        0.1806        0.1983  5.1876\n",
      "    115        0.1794        0.1079  5.6425\n",
      "    116        0.1824        0.0800  5.7632\n",
      "    117        \u001b[36m0.1778\u001b[0m        0.0947  6.1631\n",
      "    118        \u001b[36m0.1771\u001b[0m        0.1854  7.5289\n",
      "    119        \u001b[36m0.1765\u001b[0m        0.1772  7.1309\n",
      "    120        \u001b[36m0.1755\u001b[0m        0.1490  5.0197\n",
      "    121        \u001b[36m0.1746\u001b[0m        0.0898  5.5602\n",
      "    122        \u001b[36m0.1745\u001b[0m        0.1859  7.2509\n",
      "    123        \u001b[36m0.1724\u001b[0m        0.1722  6.4854\n",
      "    124        \u001b[36m0.1720\u001b[0m        0.2449  7.2567\n",
      "    125        0.1734        0.2596  7.0908\n",
      "    126        0.1737        0.2649  6.2263\n",
      "    127        \u001b[36m0.1716\u001b[0m        0.8373  7.2840\n",
      "    128        0.1754        0.1711  4.3850\n",
      "    129        0.1761        0.0738  6.0569\n",
      "    130        0.1744        0.1714  3.9575\n",
      "    131        \u001b[36m0.1685\u001b[0m        0.1310  7.6927\n",
      "    132        \u001b[36m0.1672\u001b[0m        0.1398  6.6234\n",
      "    133        \u001b[36m0.1670\u001b[0m        0.1468  8.8720\n",
      "    134        0.1680        0.1261  4.4946\n",
      "    135        0.1672        0.1701  4.1066\n",
      "    136        0.1679        0.1157  5.0959\n",
      "    137        \u001b[36m0.1653\u001b[0m        0.2185  3.9211\n",
      "    138        0.1668        0.1315  3.8508\n",
      "    139        0.1658        0.1848  3.8503\n",
      "    140        \u001b[36m0.1637\u001b[0m        0.1991  4.6277\n",
      "    141        \u001b[36m0.1630\u001b[0m        0.1740  6.0700\n",
      "    142        0.1649        0.2233  4.6633\n",
      "    143        0.1676        0.1976  8.9745\n",
      "    144        0.1675        0.2345  7.5179\n",
      "    145        0.1661        0.2313  6.0645\n",
      "    146        \u001b[36m0.1620\u001b[0m        0.2481  7.1618\n",
      "    147        \u001b[36m0.1611\u001b[0m        0.2183  6.1437\n",
      "    148        0.1636        0.2468  6.0172\n",
      "    149        \u001b[36m0.1609\u001b[0m        0.2394  6.4524\n",
      "    150        \u001b[36m0.1589\u001b[0m        0.2528  5.3883\n",
      "    151        0.1590        0.2970  6.7008\n",
      "    152        \u001b[36m0.1586\u001b[0m        0.3067  5.3216\n",
      "    153        \u001b[36m0.1582\u001b[0m        0.2340  5.8966\n",
      "    154        0.1594        0.3834  9.6424\n",
      "    155        0.1690        0.2633  8.1929\n",
      "    156        0.1727        0.2227  6.1796\n",
      "    157        0.1616        0.2165  5.8821\n",
      "    158        0.1611        0.2137  8.6377\n",
      "    159        0.1610        0.2492  6.2501\n",
      "    160        0.1582        0.2782  7.3498\n",
      "    161        \u001b[36m0.1574\u001b[0m        0.2183  6.8460\n",
      "    162        \u001b[36m0.1556\u001b[0m        0.2772  5.9300\n"
     ]
    },
    {
     "name": "stdout",
     "output_type": "stream",
     "text": [
      "    163        \u001b[36m0.1556\u001b[0m        0.2006  4.6121\n",
      "    164        \u001b[36m0.1551\u001b[0m        0.2658  5.2178\n",
      "    165        0.1603        0.2401  5.8900\n",
      "    166        0.1585        0.2449  7.1737\n",
      "    167        0.1575        0.2238  4.6052\n",
      "    168        \u001b[36m0.1544\u001b[0m        0.2593  6.7709\n",
      "    169        0.1547        0.2235  6.0914\n",
      "    170        \u001b[36m0.1536\u001b[0m        0.2359  5.3163\n",
      "    171        0.1560        0.2854  5.5693\n",
      "    172        0.1639        0.2550  5.0595\n",
      "    173        0.1654        0.2330  6.8731\n",
      "    174        0.1619        0.3086  5.2706\n",
      "    175        0.1568        0.2091  6.5499\n",
      "    176        0.1548        0.1732  6.0210\n",
      "    177        0.1540        0.1839  6.5787\n",
      "    178        \u001b[36m0.1532\u001b[0m        0.2620  4.3068\n",
      "    179        \u001b[36m0.1525\u001b[0m        0.1877  4.4146\n",
      "    180        \u001b[36m0.1519\u001b[0m        0.1182  6.2053\n",
      "    181        0.1539        0.2734  5.1855\n",
      "    182        0.1568        0.3231  7.6910\n",
      "    183        0.1561        0.2027  4.4865\n",
      "    184        0.1546        0.1834  6.5276\n",
      "    185        0.1605        0.2800  4.8540\n",
      "    186        0.1538        0.1592  5.3027\n",
      "    187        \u001b[36m0.1512\u001b[0m        0.1315  4.8248\n",
      "    188        \u001b[36m0.1506\u001b[0m        0.2849  6.1192\n",
      "    189        \u001b[36m0.1504\u001b[0m        0.2093  6.1009\n",
      "    190        0.1523        0.1234  8.5118\n",
      "    191        0.1584        0.2299  5.2321\n",
      "    192        0.1523        0.2258  7.3593\n",
      "    193        0.1507        0.1121  6.4435\n",
      "    194        \u001b[36m0.1504\u001b[0m        0.2337  9.0682\n",
      "    195        0.1507        0.2163  5.1392\n",
      "    196        0.1515        0.1772  6.8766\n",
      "    197        0.1586        0.1933  6.0838\n",
      "    198        0.1511        0.1854  7.2991\n",
      "    199        0.1508        0.1939  6.7535\n",
      "    200        \u001b[36m0.1483\u001b[0m        0.2210  5.9951\n",
      "    201        \u001b[36m0.1483\u001b[0m        0.1395  6.4226\n",
      "    202        \u001b[36m0.1471\u001b[0m        0.2028  6.8624\n",
      "    203        0.1474        0.1493  6.1064\n",
      "    204        0.1478        0.1612  6.7392\n",
      "    205        0.1536        0.1852  5.2400\n",
      "    206        0.1504        0.1607  5.2924\n",
      "    207        0.1478        0.2218  4.6269\n",
      "    208        0.1478        0.1700  4.9715\n",
      "    209        0.1480        0.3314  7.2414\n",
      "    210        0.1480        0.1372  4.3675\n",
      "    211        0.1479        0.1498  5.8297\n",
      "    212        0.1489        0.2039  4.7806\n",
      "    213        0.1478        0.1231  6.5773\n",
      "    214        0.1485        0.2568  6.1914\n",
      "    215        0.1475        0.1458  4.8284\n",
      "    216        \u001b[36m0.1463\u001b[0m        0.1321  6.5095\n",
      "    217        0.1476        0.3595  6.8607\n",
      "    218        0.1471        0.1958  6.5116\n",
      "    219        \u001b[36m0.1451\u001b[0m        0.1294  6.1626\n",
      "    220        \u001b[36m0.1448\u001b[0m        0.1810  5.8737\n",
      "    221        0.1459        0.2046  6.8727\n",
      "    222        0.1455        0.1448  6.2805\n",
      "    223        0.1461        0.1081  6.0987\n",
      "    224        0.1468        0.2519  7.2390\n",
      "    225        0.1450        0.1819  5.8042\n",
      "    226        0.1449        0.1438  6.8452\n",
      "    227        0.1449        0.3556  4.7253\n",
      "    228        \u001b[36m0.1441\u001b[0m        0.1965  4.7291\n",
      "    229        \u001b[36m0.1432\u001b[0m        0.1170  8.3011\n",
      "    230        0.1468        0.2659  7.5743\n",
      "    231        0.1472        0.1466  6.0781\n",
      "    232        0.1446        0.1327  6.9432\n",
      "    233        \u001b[36m0.1423\u001b[0m        0.2026  5.6215\n",
      "    234        0.1424        0.1287  6.6903\n",
      "    235        \u001b[36m0.1422\u001b[0m        0.0878  6.7392\n",
      "    236        \u001b[36m0.1417\u001b[0m        0.1672  7.1163\n",
      "    237        \u001b[36m0.1413\u001b[0m        0.1525  5.5220\n",
      "    256        0.1364        0.1701  4.8557\n",
      "    257        0.1430        0.1919  5.3647\n",
      "    258        0.1422        0.1370  7.4741\n",
      "    259        0.1400        0.0943  6.0652\n",
      "    260        0.1376        0.1815  6.0831\n",
      "    261        0.1382        0.2799  8.2737\n",
      "    262        \u001b[36m0.1357\u001b[0m        0.1166  5.1917\n",
      "    263        \u001b[36m0.1349\u001b[0m        0.1500  5.2617\n",
      "    264        \u001b[36m0.1339\u001b[0m        0.3350  6.2166\n",
      "    265        0.1340        0.2597  4.3761\n",
      "    266        \u001b[36m0.1336\u001b[0m        0.2200  4.2336\n",
      "    267        0.1338        0.1596  5.6086\n",
      "    268        \u001b[36m0.1332\u001b[0m        0.1458  8.1656\n",
      "    269        0.1352        0.1387  5.2070\n",
      "    270        0.1336        0.2440  6.1109\n",
      "    271        0.1335        0.2476  8.6168\n",
      "    272        0.1342        0.2235  7.4078\n",
      "    273        0.1357        0.1629  4.9754\n",
      "    274        \u001b[36m0.1331\u001b[0m        0.2775  7.2288\n",
      "    275        \u001b[36m0.1317\u001b[0m        0.2875  5.7978\n",
      "    276        0.1326        0.1927  7.1012\n",
      "    277        0.1326        0.3119  7.2669\n",
      "    278        0.1361        0.1628  5.5353\n",
      "    279        \u001b[36m0.1316\u001b[0m        0.1717  4.7181\n",
      "    280        \u001b[36m0.1304\u001b[0m        0.2930  4.9165\n",
      "    281        0.1307        0.1789  6.0320\n",
      "    282        0.1321        0.1903  6.8711\n",
      "    283        0.1321        0.1600  6.0881\n",
      "    284        0.1318        0.1916  6.1036\n",
      "    285        0.1317        0.2005  5.9399\n",
      "    286        \u001b[36m0.1296\u001b[0m        0.1541  6.2820\n",
      "    287        0.1300        0.1736  4.4520\n",
      "    288        \u001b[36m0.1286\u001b[0m        0.2145  5.1128\n",
      "    289        \u001b[36m0.1278\u001b[0m        0.1104  7.1411\n",
      "    290        \u001b[36m0.1276\u001b[0m        0.1105  6.6766\n",
      "    291        0.1281        0.2640  6.1193\n",
      "    292        0.1280        0.1783  4.4547\n",
      "    293        0.1307        0.1324  6.5669\n",
      "    294        0.1331        0.3520  6.1226\n",
      "    295        0.1286        0.1940  6.1982\n",
      "    296        \u001b[36m0.1263\u001b[0m        0.1364  7.3127\n",
      "    297        \u001b[36m0.1255\u001b[0m        0.2240  6.0769\n",
      "    298        \u001b[36m0.1250\u001b[0m        0.1890  6.0693\n",
      "    299        0.1306        0.2192  7.4933\n",
      "    300        0.1425        0.2000  6.5224\n",
      "    301        0.1308        0.2152  6.2489\n",
      "    302        \u001b[36m0.1250\u001b[0m        0.1670  6.3626\n",
      "    303        \u001b[36m0.1231\u001b[0m        0.1946  6.0362\n",
      "    304        \u001b[36m0.1221\u001b[0m        0.1891  5.5278\n",
      "    305        \u001b[36m0.1216\u001b[0m        0.2455  5.3616\n",
      "    306        \u001b[36m0.1213\u001b[0m        0.1890  5.7807\n",
      "    307        \u001b[36m0.1213\u001b[0m        0.1428  6.6187\n",
      "    308        0.1220        0.3004  6.2684\n",
      "    309        0.1242        0.9496  6.9397\n",
      "    310        0.1288        0.2669  7.0380\n",
      "    311        0.1304        0.2018  6.7026\n",
      "    312        0.1310        0.5562  6.6730\n",
      "    313        0.1282        0.2916  12.7518\n",
      "    314        0.1242        0.2302  6.9491\n",
      "    315        \u001b[36m0.1212\u001b[0m        0.1711  7.8457\n",
      "    316        \u001b[36m0.1196\u001b[0m        0.2149  5.3698\n",
      "    317        \u001b[36m0.1188\u001b[0m        0.2109  6.5300\n",
      "    318        \u001b[36m0.1186\u001b[0m        0.1751  6.5955\n",
      "    319        \u001b[36m0.1183\u001b[0m        0.1675  6.0134\n",
      "    320        \u001b[36m0.1181\u001b[0m        0.2238  7.0291\n",
      "    321        0.1200        0.3388  4.8444\n",
      "    322        0.1268        0.4180  7.6083\n",
      "    323        0.1241        0.2192  4.8835\n",
      "    324        0.1248        0.3189  4.8177\n",
      "    325        0.1211        0.3149  4.7989\n",
      "    326        0.1192        0.2287  3.7660\n",
      "    327        \u001b[36m0.1173\u001b[0m        0.3571  3.7442\n",
      "    328        0.1175        0.3562  7.2940\n",
      "    329        \u001b[36m0.1172\u001b[0m        0.2271  6.4213\n",
      "    330        \u001b[36m0.1163\u001b[0m        0.2133  10.2432\n",
      "    331        \u001b[36m0.1159\u001b[0m        0.2403  5.6845\n",
      "    332        0.1163        0.2664  5.1422\n",
      "    333        0.1161        0.1548  4.7781\n",
      "    334        \u001b[36m0.1152\u001b[0m        0.1969  9.1501\n",
      "    335        0.1177        0.4139  5.6518\n",
      "    336        0.1203        0.1443  6.0150\n",
      "    337        0.1271        0.2043  6.3846\n",
      "    338        0.1292        0.3602  8.0888\n",
      "    339        0.1195        0.2417  5.3181\n",
      "    340        0.1154        0.2868  6.0644\n",
      "    341        \u001b[36m0.1140\u001b[0m        0.1770  6.0514\n",
      "    342        \u001b[36m0.1126\u001b[0m        0.2079  5.5427\n",
      "    343        \u001b[36m0.1116\u001b[0m        0.1856  6.0252\n",
      "    344        \u001b[36m0.1108\u001b[0m        0.1712  5.0029\n",
      "    345        0.1111        0.2235  7.7748\n",
      "    346        0.1114        0.1956  5.1779\n",
      "    347        0.1131        0.1659  5.9685\n",
      "    348        0.1182        0.2470  5.1101\n",
      "    349        0.1179        0.2038  9.4657\n",
      "    350        0.1150        0.1609  5.9453\n",
      "    351        0.1123        0.2084  4.6760\n",
      "    352        0.1120        0.3370  5.9531\n",
      "    353        0.1109        0.2982  7.5680\n",
      "    354        \u001b[36m0.1102\u001b[0m        0.2353  3.9275\n"
     ]
    },
    {
     "name": "stdout",
     "output_type": "stream",
     "text": [
      "    355        \u001b[36m0.1094\u001b[0m        0.2152  5.7333\n",
      "    356        0.1096        0.1388  8.1066\n",
      "    357        0.1097        0.4203  6.3318\n",
      "    358        0.1095        0.2442  6.3795\n"
     ]
    }
   ],
   "source": [
    "# lstm_att_d.fit(X_f, Y_f)"
   ]
  },
  {
   "cell_type": "code",
   "execution_count": null,
   "metadata": {},
   "outputs": [],
   "source": [
    "save(lstm_att_d, 'lstm_att_d_600')"
   ]
  },
  {
   "cell_type": "code",
   "execution_count": 152,
   "metadata": {},
   "outputs": [],
   "source": [
    "set_dataset('sa_ohlcv')"
   ]
  },
  {
   "cell_type": "code",
   "execution_count": 171,
   "metadata": {},
   "outputs": [],
   "source": [
    "#modello del paper che usa attention mechanism\n",
    "n_days = 10\n",
    "\n",
    "lstm_sa_att_d = NeuralNetRegressor(\n",
    "    module=SequenceDoubleAtt,\n",
    "    optimizer=optim.Adam,\n",
    "    batch_size=n_days,\n",
    "    criterion=RNNMSELoss,\n",
    "    max_epochs=1500,\n",
    "    train_split=half_split,\n",
    "    callbacks=[callbacks.Checkpoint(monitor='valid_loss_best', f_pickle='lstm_sa_att_sa_best')],\n",
    "    \n",
    "    module__nb_features=X_f.shape[1],\n",
    "    module__hidden_size=256,\n",
    "    optimizer__lr=0.0001,\n",
    "#     optimizer__weight_decay=0,\n",
    "#     optimizer__momentum=0.9\n",
    ")"
   ]
  },
  {
   "cell_type": "code",
   "execution_count": null,
   "metadata": {},
   "outputs": [
    {
     "name": "stdout",
     "output_type": "stream",
     "text": [
      "  epoch    train_loss    valid_loss    cp     dur\n",
      "-------  ------------  ------------  ----  ------\n",
      "      1        \u001b[36m1.7839\u001b[0m        \u001b[32m1.7800\u001b[0m     +  4.2405\n",
      "      2        2.5504        2.6548        5.3017\n",
      "      3        2.2136        3.2959        6.9751\n",
      "      4        2.0680        3.3661        7.4058\n",
      "      5        2.0567        3.4067        6.1896\n",
      "      6        2.0513        3.4322        4.5342\n",
      "      7        2.0478        3.4533        4.6748\n",
      "      8        2.0453        3.4689        7.1891\n",
      "      9        2.0435        3.4812        5.1962\n",
      "     10        2.0420        3.4910        5.6740\n",
      "     11        2.0408        3.4986        4.0372\n",
      "     12        2.0398        3.5045        3.8377\n",
      "     13        2.0390        3.5090        4.7327\n",
      "     14        2.0382        3.5123        5.3868\n",
      "     15        2.0376        3.5145        6.1007\n",
      "     16        2.0370        3.5158        6.1171\n",
      "     17        2.0365        3.5160        7.4258\n",
      "     18        2.0361        3.5151        4.3187\n",
      "     19        2.0357        3.5128        7.1806\n",
      "     20        2.0354        3.5115        6.0764\n",
      "     21        2.0351        3.5098        3.9020\n",
      "     22        2.0347        3.5069        4.3040\n",
      "     23        2.0342        3.5053        5.8956\n",
      "     24        2.0337        3.5012        6.7525\n",
      "     25        2.0331        3.4977        7.1865\n",
      "     26        2.0324        3.4887        7.0995\n",
      "     27        2.0314        3.4726        7.4316\n",
      "     28        2.0299        3.4309        5.4853\n",
      "     29        2.0302        3.2325        5.2758\n",
      "     30        \u001b[36m1.7589\u001b[0m        1.8964        5.0335\n",
      "     31        2.0387        2.1345        5.2422\n",
      "     32        2.2235        3.5444        5.9918\n",
      "     33        2.0293        3.6325        7.9763\n",
      "     34        2.0401        2.6730        7.0362\n",
      "     35        1.8731        2.2912        3.9533\n",
      "     36        \u001b[36m1.7508\u001b[0m        2.1065        3.7752\n",
      "     37        2.0684        2.4228        6.8729\n",
      "     38        1.9884        2.2607        7.2247\n",
      "     39        2.2697        3.5555        5.3081\n",
      "     40        2.0330        3.4895        7.5305\n",
      "     41        2.0322        3.4221        3.8527\n",
      "     42        1.9878        3.2011        3.9351\n",
      "     43        1.9545        3.1071        3.8935\n",
      "     44        1.9459        3.0041        6.2759\n",
      "     45        1.7822        2.5290        6.9862\n",
      "     46        \u001b[36m1.6428\u001b[0m        1.9309        7.1269\n",
      "     47        \u001b[36m1.4907\u001b[0m        \u001b[32m1.4580\u001b[0m     +  3.8451\n",
      "     48        \u001b[36m1.2832\u001b[0m        \u001b[32m1.2188\u001b[0m     +  7.2242\n",
      "     49        \u001b[36m1.1757\u001b[0m        \u001b[32m1.0704\u001b[0m     +  6.7666\n",
      "     50        1.2073        \u001b[32m0.9654\u001b[0m     +  7.2556\n",
      "     51        \u001b[36m1.0892\u001b[0m        \u001b[32m0.8789\u001b[0m     +  7.0019\n",
      "     52        \u001b[36m1.0105\u001b[0m        1.1745        6.1932\n",
      "     53        1.0127        1.0021        6.2503\n",
      "     54        \u001b[36m0.9825\u001b[0m        1.0706        6.2944\n",
      "     55        \u001b[36m0.9620\u001b[0m        1.1478        4.4421\n",
      "     56        \u001b[36m0.9457\u001b[0m        1.2352        3.7337\n",
      "     57        \u001b[36m0.9405\u001b[0m        1.1602        5.3746\n",
      "     58        0.9441        0.9960        4.7263\n",
      "     59        \u001b[36m0.9108\u001b[0m        0.8878        5.2473\n",
      "     60        \u001b[36m0.8408\u001b[0m        1.6894        7.0469\n",
      "     61        0.9015        \u001b[32m0.8140\u001b[0m     +  5.4818\n"
     ]
    }
   ],
   "source": [
    "lstm_sa_att_d.fit(X_f, Y_f)"
   ]
  },
  {
   "cell_type": "code",
   "execution_count": null,
   "metadata": {},
   "outputs": [],
   "source": [
    "save(lstm_sa_att_sa, 'lstm_sa_att_sa_1500')"
   ]
  },
  {
   "cell_type": "markdown",
   "metadata": {},
   "source": [
    "## Valutazione del training"
   ]
  },
  {
   "cell_type": "code",
   "execution_count": 106,
   "metadata": {},
   "outputs": [
    {
     "data": {
      "text/plain": [
       "dict_keys(['batches', 'epoch', 'train_batch_count', 'valid_batch_count', 'dur', 'train_loss', 'train_loss_best', 'valid_loss', 'valid_loss_best'])"
      ]
     },
     "execution_count": 106,
     "metadata": {},
     "output_type": "execute_result"
    }
   ],
   "source": [
    "lstm_test.history[10].keys()"
   ]
  },
  {
   "cell_type": "code",
   "execution_count": 107,
   "metadata": {},
   "outputs": [
    {
     "data": {
      "text/plain": [
       "<matplotlib.legend.Legend at 0x7f3a69790320>"
      ]
     },
     "execution_count": 107,
     "metadata": {},
     "output_type": "execute_result"
    },
    {
     "data": {
      "image/png": "[encoded data removed]",
      "text/plain": [
       "<Figure size 864x504 with 1 Axes>"
      ]
     },
     "metadata": {
      "needs_background": "light"
     },
     "output_type": "display_data"
    }
   ],
   "source": [
    "lstm = lstm_test\n",
    "valid_losses = lstm.history[:, 'valid_loss']\n",
    "train_losses = lstm.history[:, 'train_loss']\n",
    "plt.figure(figsize=(12,7))\n",
    "plt.plot(valid_losses, label='valid_loss')\n",
    "plt.plot(train_losses, label='train_loss')\n",
    "# plt.xticks(np.arange(len(valid_losses)+1, step=50))\n",
    "plt.legend()"
   ]
  },
  {
   "cell_type": "markdown",
   "metadata": {},
   "source": [
    "# Test\n",
    "Dopo aver trovato i parametri migliori i modelli vengono testati facendo training sulla metà dei dati e predizioni sull'altra metà"
   ]
  },
  {
   "cell_type": "code",
   "execution_count": 99,
   "metadata": {},
   "outputs": [],
   "source": [
    "# models = ['lstm_sa_d', 'lstm_moro', 'lstm_sa_d_1000', 'lstm_att_d_600', 'lstm_sa_att_sa_1500', 'lstm_sa_att_sa_best']"
   ]
  },
  {
   "cell_type": "code",
   "execution_count": null,
   "metadata": {},
   "outputs": [],
   "source": [
    "models = ['lstm_moro', 'lstm_sa_d_1000', 'lstm_att_d_600']"
   ]
  },
  {
   "cell_type": "code",
   "execution_count": 100,
   "metadata": {},
   "outputs": [],
   "source": [
    "lstm_test = load('lstm_att_d_600')"
   ]
  },
  {
   "cell_type": "code",
   "execution_count": 101,
   "metadata": {},
   "outputs": [
    {
     "name": "stdout",
     "output_type": "stream",
     "text": [
      "<class 'skorch.regressor.NeuralNetRegressor'>[initialized](\n",
      "  module_=SequenceDoubleAtt(\n",
      "    (lstm1): LSTM(5, 256)\n",
      "    (lstm2): LSTM(256, 512)\n",
      "    (lin): Linear(in_features=512, out_features=1, bias=True)\n",
      "    (softmax): Softmax(dim=0)\n",
      "  ),\n",
      ")\n"
     ]
    }
   ],
   "source": [
    "print(lstm_test)"
   ]
  },
  {
   "cell_type": "code",
   "execution_count": 385,
   "metadata": {},
   "outputs": [
    {
     "data": {
      "text/plain": [
       "dict_keys(['open', 'ohlcv', 'sa_ohlcv'])"
      ]
     },
     "execution_count": 385,
     "metadata": {},
     "output_type": "execute_result"
    }
   ],
   "source": [
    "data_set.keys()"
   ]
  },
  {
   "cell_type": "code",
   "execution_count": 438,
   "metadata": {},
   "outputs": [],
   "source": [
    "set_dataset('open')"
   ]
  },
  {
   "cell_type": "code",
   "execution_count": 108,
   "metadata": {},
   "outputs": [],
   "source": [
    "Y_preds = Y_val.copy()\n",
    "Y_original = close.copy().reindex_like(Y_val)\n",
    "for i in range(51, len(Y_val)):\n",
    "    pred = lstm_test.predict(X_val[i-10:i].to_numpy().astype(np.float32))[0] #in input vengono dati 10 gionri\n",
    "    #denormalization\n",
    "    previous_serie = Y_original[:i]\n",
    "    Y_preds[i] = z_score_inv(previous_serie[:-50], pred) #il z score viene calcolato su 50 gionri\n",
    "Y_preds = Y_preds[51:]\n",
    "Y_original = Y_original.reindex_like(Y_preds, copy=False)"
   ]
  },
  {
   "cell_type": "code",
   "execution_count": 109,
   "metadata": {},
   "outputs": [
    {
     "data": {
      "text/plain": [
       "<matplotlib.legend.Legend at 0x7f3a6979d240>"
      ]
     },
     "execution_count": 109,
     "metadata": {},
     "output_type": "execute_result"
    },
    {
     "data": {
      "image/png": "[encoded data removed]",
      "text/plain": [
       "<Figure size 1080x504 with 1 Axes>"
      ]
     },
     "metadata": {
      "needs_background": "light"
     },
     "output_type": "display_data"
    }
   ],
   "source": [
    "plt.figure(figsize=(15,7))\n",
    "Y_preds.plot(label='close_pred')\n",
    "Y_original.plot(label='close_true')\n",
    "plt.legend()"
   ]
  },
  {
   "cell_type": "code",
   "execution_count": 110,
   "metadata": {},
   "outputs": [
    {
     "data": {
      "text/plain": [
       "0.9468633858478787"
      ]
     },
     "execution_count": 110,
     "metadata": {},
     "output_type": "execute_result"
    }
   ],
   "source": [
    "#accuracy\n",
    "1 - (abs(Y_original-Y_preds).mean()/Y_preds.mean())"
   ]
  },
  {
   "cell_type": "code",
   "execution_count": 111,
   "metadata": {},
   "outputs": [
    {
     "data": {
      "text/plain": [
       "0.4843299738257877"
      ]
     },
     "execution_count": 111,
     "metadata": {},
     "output_type": "execute_result"
    }
   ],
   "source": [
    "roi(Y_original,Y_preds)"
   ]
  },
  {
   "cell_type": "code",
   "execution_count": 443,
   "metadata": {},
   "outputs": [
    {
     "data": {
      "text/plain": [
       "24849.63"
      ]
     },
     "execution_count": 443,
     "metadata": {},
     "output_type": "execute_result"
    }
   ],
   "source": [
    "opns.max()"
   ]
  },
  {
   "cell_type": "code",
   "execution_count": 121,
   "metadata": {},
   "outputs": [
    {
     "name": "stdout",
     "output_type": "stream",
     "text": [
      "guadagno assoluto: 9903.789999999877\n",
      "guadagno percentuale: 0.33012633333332925\n"
     ]
    }
   ],
   "source": [
    "show_transaction = False\n",
    "initial_capital = 30000\n",
    "capital = initial_capital\n",
    "cap_history = Y_preds.copy()\n",
    "holding=False\n",
    "opns = opn.reindex_like(Y_preds)\n",
    "buy_history = opn.reindex_like(Y_preds)\n",
    "sell_history = opn.reindex_like(Y_preds)\n",
    "for date in Y_preds.index:\n",
    "    buy_history[date] = None\n",
    "    sell_history[date] = None\n",
    "    pred = Y_preds[date]\n",
    "    true = Y_original[date]\n",
    "    buy = Y_preds[date] - opns[date] > 0\n",
    "    delta_true = Y_original[date] - opns[date]\n",
    "    if(buy and not holding): # buy\n",
    "        if(show_transaction):\n",
    "            capital -= opns[date]\n",
    "        holding = True\n",
    "        buy_history[date] = capital\n",
    "    elif(not buy and holding): #sell\n",
    "        if(show_transaction):\n",
    "            capital += opns[date]\n",
    "        holding = False\n",
    "        sell_history[date] = capital\n",
    "    if(holding):\n",
    "        capital+= delta_true\n",
    "    cap_history[date] = capital\n",
    "if(holding and show_transaction):\n",
    "    capital += opns[-1]\n",
    "    holding = False\n",
    "abs_gain = capital - initial_capital\n",
    "perc_gain = (abs_gain) / initial_capital\n",
    "print(f\"guadagno assoluto: {abs_gain}\")\n",
    "print(f\"guadagno percentuale: {perc_gain}\")"
   ]
  },
  {
   "cell_type": "code",
   "execution_count": 149,
   "metadata": {},
   "outputs": [
    {
     "data": {
      "text/plain": [
       "<matplotlib.legend.Legend at 0x7f3a62f166a0>"
      ]
     },
     "execution_count": 149,
     "metadata": {},
     "output_type": "execute_result"
    },
    {
     "data": {
      "image/png": "[encoded data removed]",
      "text/plain": [
       "<Figure size 1080x504 with 1 Axes>"
      ]
     },
     "metadata": {
      "needs_background": "light"
     },
     "output_type": "display_data"
    }
   ],
   "source": [
    "plt.figure(figsize=(15,7))\n",
    "plt.scatter(buy_history.index, buy_history, c='green', label='buy', linewidths=0.001)\n",
    "plt.scatter(sell_history.index, sell_history, c= 'red', label='sell', linewidths=0.001)\n",
    "cap_history.plot(label='capital')\n",
    "plt.legend()"
   ]
  }
 ],
 "metadata": {
  "colab": {
   "collapsed_sections": [],
   "name": "test_modelli.ipynb",
   "provenance": []
  },
  "kernelspec": {
   "display_name": "Python (fastai)",
   "language": "python",
   "name": "fastai"
  },
  "language_info": {
   "codemirror_mode": {
    "name": "ipython",
    "version": 3
   },
   "file_extension": ".py",
   "mimetype": "text/x-python",
   "name": "python",
   "nbconvert_exporter": "python",
   "pygments_lexer": "ipython3",
   "version": "3.6.10"
  }
 },
 "nbformat": 4,
 "nbformat_minor": 1
}
