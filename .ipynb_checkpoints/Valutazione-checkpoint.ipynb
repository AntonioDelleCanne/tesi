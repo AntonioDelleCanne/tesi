{
 "cells": [
  {
   "cell_type": "code",
   "execution_count": 1,
   "metadata": {},
   "outputs": [],
   "source": [
    "%reload_ext autoreload\n",
    "%autoreload 2\n",
    "%matplotlib inline"
   ]
  },
  {
   "cell_type": "code",
   "execution_count": 2,
   "metadata": {},
   "outputs": [
    {
     "name": "stdout",
     "output_type": "stream",
     "text": [
      "/data/home/dsvm_server_admin/notebooks/fastai/tesi/DeepLearning_Financial\n"
     ]
    }
   ],
   "source": [
    "%cd DeepLearning_Financial"
   ]
  },
  {
   "cell_type": "code",
   "execution_count": 3,
   "metadata": {},
   "outputs": [],
   "source": [
    "## EXTERNAL\n",
    "import numpy as np\n",
    "import pandas as pd\n",
    "import matplotlib.pyplot as plt\n",
    "import sklearn\n",
    "import yfinance\n",
    "from pandas import Series\n",
    "from sklearn.preprocessing import PolynomialFeatures, StandardScaler, MinMaxScaler\n",
    "from sklearn.pipeline import Pipeline\n",
    "from sklearn.model_selection import TimeSeriesSplit, PredefinedSplit\n",
    "from sklearn.metrics import make_scorer\n",
    "from sklearn.model_selection import cross_validate\n",
    "from sklearn.model_selection import GridSearchCV\n",
    "from IPython.display import display\n",
    "import datetime\n",
    "import torch\n",
    "import torch.nn as nn\n",
    "from torch.autograd import Variable\n",
    "import torch.optim as optim\n",
    "from torch.utils.data import Dataset, DataLoader\n",
    "import torch.nn.functional as F\n",
    "import numpy as np\n",
    "import time\n",
    "import os\n",
    "import random \n",
    "from sklearn.datasets import make_regression\n",
    "from torch import nn\n",
    "import torch.nn.functional as F\n",
    "from skorch import NeuralNetRegressor\n",
    "from torch.nn.modules.loss import MSELoss\n",
    "import tensorflow as tf\n",
    "from tensorflow import keras\n",
    "from skorch.dataset import CVSplit\n",
    "from skorch import callbacks\n",
    "import pickle\n",
    "from sklearn.model_selection import train_test_split\n",
    "from functools import partial\n",
    "import skorch\n",
    "import pywt\n",
    "from sklearn import preprocessing\n",
    "import joblib\n",
    "\n",
    "\n",
    "##INTERNAL\n",
    "from models import Autoencoder, waveletSmooth, SequenceDouble, SequenceDoubleAtt, SequenceAtt\n",
    "from utils import prepare_data_lstm, ExampleDataset, save_checkpoint, evaluate_lstm, backtest\n",
    "from testing import *\n",
    "from sa_tools import *\n",
    "from test_models import *"
   ]
  },
  {
   "cell_type": "markdown",
   "metadata": {},
   "source": [
    "## Creazione dei dataset"
   ]
  },
  {
   "cell_type": "code",
   "execution_count": 4,
   "metadata": {},
   "outputs": [],
   "source": [
    "# len(list(tss.split(X))[0])"
   ]
  },
  {
   "cell_type": "code",
   "execution_count": 5,
   "metadata": {},
   "outputs": [],
   "source": [
    "# tss = TimeSeriesSplit(4)\n",
    "# tss_split = CVSplit(cv=tss, stratified=False, random_state=None)\n",
    "\n",
    "\n",
    "# X=datasets['^GSPC'][\"target\"]\n",
    "# for i, (train, val) in enumerate(tss.split(X), start=1):\n",
    "#     print(\"FOLD {}\".format(i))\n",
    "#     train_dates = X.index[train]\n",
    "#     val_dates = X.index[val]\n",
    "#     print(\"Training set da {} a {}\".format(train_dates.min(), train_dates.max()))\n",
    "#     print(\"Validation set da {} a {}\".format(val_dates.min(), val_dates.max()))\n",
    "#     print(X.index.min())\n",
    "#     print(X.index.max())"
   ]
  },
  {
   "cell_type": "code",
   "execution_count": 12,
   "metadata": {},
   "outputs": [
    {
     "data": {
      "text/plain": [
       "dict_keys(['open', 'ohlcv', 'ext'])"
      ]
     },
     "execution_count": 12,
     "metadata": {},
     "output_type": "execute_result"
    }
   ],
   "source": [
    "datasets['^GSPC'][\"features\"].keys()"
   ]
  },
  {
   "cell_type": "code",
   "execution_count": 10,
   "metadata": {},
   "outputs": [
    {
     "data": {
      "text/plain": [
       "<generator object TimeSeriesSplit.split at 0x7f63c2890888>"
      ]
     },
     "execution_count": 10,
     "metadata": {},
     "output_type": "execute_result"
    }
   ],
   "source": [
    "tss.split(datasets['^GSPC'][\"features\"])"
   ]
  },
  {
   "cell_type": "code",
   "execution_count": 46,
   "metadata": {},
   "outputs": [
    {
     "name": "stdout",
     "output_type": "stream",
     "text": [
      "\n",
      "----lstm_moro----\n",
      "                           mape      mspe       acc        r2       roi  \\\n",
      "2000-09-19_2004-05-18  0.018890  0.001367  0.981110  0.968690  6.861156   \n",
      "2000-09-19_2008-01-12  0.015038  0.000507  0.984962  0.983221  7.443764   \n",
      "\n",
      "                       valid_loss  epochs  \n",
      "2000-09-19_2004-05-18    0.012104   789.0  \n",
      "2000-09-19_2008-01-12    0.019203   859.0  \n",
      "           mape      mspe       acc        r2       roi  valid_loss  \\\n",
      "count  2.000000  2.000000  2.000000  2.000000  2.000000    2.000000   \n",
      "mean   0.016964  0.000937  0.983036  0.975955  7.152460    0.015654   \n",
      "std    0.002724  0.000608  0.002724  0.010275  0.411966    0.005020   \n",
      "min    0.015038  0.000507  0.981110  0.968690  6.861156    0.012104   \n",
      "25%    0.016001  0.000722  0.982073  0.972323  7.006808    0.013879   \n",
      "50%    0.016964  0.000937  0.983036  0.975956  7.152460    0.015654   \n",
      "75%    0.017927  0.001152  0.983999  0.979588  7.298112    0.017429   \n",
      "max    0.018890  0.001367  0.984962  0.983221  7.443764    0.019203   \n",
      "\n",
      "           epochs  \n",
      "count    2.000000  \n",
      "mean   824.000000  \n",
      "std     49.497475  \n",
      "min    789.000000  \n",
      "25%    806.500000  \n",
      "50%    824.000000  \n",
      "75%    841.500000  \n",
      "max    859.000000  \n",
      "\n",
      "----lstm_sa----\n",
      "                           mape      mspe       acc        r2       roi  \\\n",
      "2000-09-19_2004-05-18  0.141009  0.034388  0.858991 -0.123861  0.773640   \n",
      "2000-09-19_2008-01-12  0.372881  0.190810  0.627119 -4.681874 -0.263712   \n",
      "\n",
      "                       valid_loss  epochs  \n",
      "2000-09-19_2004-05-18    0.038189  1583.0  \n",
      "2000-09-19_2008-01-12    0.295673  1588.0  \n",
      "           mape      mspe       acc        r2       roi  valid_loss  \\\n",
      "count  2.000000  2.000000  2.000000  2.000000  2.000000    2.000000   \n",
      "mean   0.256945  0.112599  0.743055 -2.402868  0.254964    0.166931   \n",
      "std    0.163958  0.110607  0.163958  3.223001  0.733519    0.182069   \n",
      "min    0.141009  0.034388  0.627119 -4.681874 -0.263712    0.038189   \n",
      "25%    0.198977  0.073493  0.685087 -3.542371 -0.004374    0.102560   \n",
      "50%    0.256945  0.112599  0.743055 -2.402868  0.254964    0.166931   \n",
      "75%    0.314913  0.151704  0.801023 -1.263364  0.514302    0.231302   \n",
      "max    0.372881  0.190810  0.858991 -0.123861  0.773640    0.295673   \n",
      "\n",
      "            epochs  \n",
      "count     2.000000  \n",
      "mean   1585.500000  \n",
      "std       3.535534  \n",
      "min    1583.000000  \n",
      "25%    1584.250000  \n",
      "50%    1585.500000  \n",
      "75%    1586.750000  \n",
      "max    1588.000000  \n",
      "\n",
      "----lstm_sa_att----\n",
      "                           mape      mspe       acc        r2       roi  \\\n",
      "2000-09-19_2004-05-18  0.039313  0.003281  0.960687  0.907467  2.131921   \n",
      "2000-09-19_2008-01-12  0.052676  0.004936  0.947324  0.823019  0.782432   \n",
      "\n",
      "                       valid_loss  epochs  \n",
      "2000-09-19_2004-05-18    0.328512  1869.0  \n",
      "2000-09-19_2008-01-12    0.209170  1999.0  \n",
      "           mape      mspe       acc        r2       roi  valid_loss  \\\n",
      "count  2.000000  2.000000  2.000000  2.000000  2.000000    2.000000   \n",
      "mean   0.045995  0.004109  0.954005  0.865243  1.457176    0.268841   \n",
      "std    0.009449  0.001170  0.009449  0.059713  0.954233    0.084388   \n",
      "min    0.039313  0.003281  0.947324  0.823019  0.782432    0.209170   \n",
      "25%    0.042654  0.003695  0.950665  0.844131  1.119804    0.239006   \n",
      "50%    0.045995  0.004109  0.954005  0.865243  1.457177    0.268841   \n",
      "75%    0.049335  0.004522  0.957346  0.886355  1.794549    0.298677   \n",
      "max    0.052676  0.004936  0.960687  0.907467  2.131921    0.328512   \n",
      "\n",
      "            epochs  \n",
      "count     2.000000  \n",
      "mean   1934.000000  \n",
      "std      91.923882  \n",
      "min    1869.000000  \n",
      "25%    1901.500000  \n",
      "50%    1934.000000  \n",
      "75%    1966.500000  \n",
      "max    1999.000000  \n",
      "\n",
      "----lstm_att----\n",
      "                           mape      mspe       acc        r2       roi  \\\n",
      "2000-09-19_2004-05-18  0.038748  0.002946  0.961252  0.909164  3.238565   \n",
      "2000-09-19_2008-01-12  0.033310  0.001880  0.966690  0.936059  1.200078   \n",
      "\n",
      "                       valid_loss  epochs  \n",
      "2000-09-19_2004-05-18    0.039568   341.0  \n",
      "2000-09-19_2008-01-12    0.080202   222.0  \n",
      "           mape      mspe       acc        r2       roi  valid_loss  \\\n",
      "count  2.000000  2.000000  2.000000  2.000000  2.000000    2.000000   \n",
      "mean   0.036029  0.002413  0.963971  0.922611  2.219322    0.059885   \n",
      "std    0.003845  0.000753  0.003846  0.019018  1.441428    0.028732   \n",
      "min    0.033310  0.001880  0.961252  0.909164  1.200078    0.039568   \n",
      "25%    0.034670  0.002147  0.962611  0.915888  1.709700    0.049726   \n",
      "50%    0.036029  0.002413  0.963971  0.922612  2.219322    0.059885   \n",
      "75%    0.037389  0.002679  0.965330  0.929335  2.728944    0.070043   \n",
      "max    0.038748  0.002946  0.966690  0.936059  3.238565    0.080202   \n",
      "\n",
      "           epochs  \n",
      "count    2.000000  \n",
      "mean   281.500000  \n",
      "std     84.145706  \n",
      "min    222.000000  \n",
      "25%    251.750000  \n",
      "50%    281.500000  \n",
      "75%    311.250000  \n",
      "max    341.000000  \n",
      "\n",
      "----lstm_sa----\n",
      "                           mape      mspe       acc        r2       roi  \\\n",
      "2000-09-19_2004-05-18  0.141009  0.034388  0.858991 -0.123861  0.773640   \n",
      "2000-09-19_2008-01-12  0.372881  0.190810  0.627119 -4.681874 -0.263712   \n",
      "\n",
      "                       valid_loss  epochs  \n",
      "2000-09-19_2004-05-18    0.038189  1583.0  \n",
      "2000-09-19_2008-01-12    0.295673  1588.0  \n",
      "           mape      mspe       acc        r2       roi  valid_loss  \\\n",
      "count  2.000000  2.000000  2.000000  2.000000  2.000000    2.000000   \n",
      "mean   0.256945  0.112599  0.743055 -2.402868  0.254964    0.166931   \n",
      "std    0.163958  0.110607  0.163958  3.223001  0.733519    0.182069   \n",
      "min    0.141009  0.034388  0.627119 -4.681874 -0.263712    0.038189   \n",
      "25%    0.198977  0.073493  0.685087 -3.542371 -0.004374    0.102560   \n",
      "50%    0.256945  0.112599  0.743055 -2.402868  0.254964    0.166931   \n",
      "75%    0.314913  0.151704  0.801023 -1.263364  0.514302    0.231302   \n",
      "max    0.372881  0.190810  0.858991 -0.123861  0.773640    0.295673   \n",
      "\n",
      "            epochs  \n",
      "count     2.000000  \n",
      "mean   1585.500000  \n",
      "std       3.535534  \n",
      "min    1583.000000  \n",
      "25%    1584.250000  \n",
      "50%    1585.500000  \n",
      "75%    1586.750000  \n",
      "max    1588.000000  \n"
     ]
    }
   ],
   "source": [
    "indices = ['^GSPC', '^DJI', '^HSI', '^N225', 'ASHR','^NSEI']\n",
    "feature_sets = ['open', 'ohlcv', 'ext']\n",
    "start_date=\"2000-01-01\"\n",
    "end_date=\"2018-12-31\"\n",
    "\n",
    "datasets= load('^GSCP')\n",
    "tss = TimeSeriesSplit(4)\n",
    "\n",
    "\n",
    "for model_name, feature_set in [('lstm_moro', 'open'), ('lstm_sa', 'ext_sa'), ('lstm_sa_att', 'ext_sa'), ('lstm_att', 'ohlcv')]:\n",
    "    for index_name in ['^GSPC']:\n",
    "        split_periods = ['2000-09-19_2004-05-18', '2000-09-19_2008-01-12']\n",
    "        scores = pd.DataFrame(index=split_periods)\n",
    "        scores[\"mape\"] = pd.Series([], dtype=np.float32)\n",
    "        scores[\"mspe\"] = pd.Series([], dtype=np.float32)\n",
    "        scores[\"acc\"] = pd.Series([], dtype=np.float32)\n",
    "        scores[\"r2\"] = pd.Series([], dtype=np.float32)\n",
    "        scores[\"roi\"] = pd.Series([], dtype=np.float32)\n",
    "        scores[\"valid_loss\"] = pd.Series([], dtype=np.float32)\n",
    "        scores[\"epochs\"] = pd.Series([], dtype=np.float32)\n",
    "        for split_period in split_periods:\n",
    "            model_full_name = \"{}_{}_{}\".format(model_name, index_name, split_period)\n",
    "            model = load(model_full_name)\n",
    "\n",
    "            split = model.train_split\n",
    "            train_dates, valid_dates = list(tss.split(datasets[index_name][\"target\"]))[1]\n",
    "            \n",
    "            sa=None\n",
    "            ld=True\n",
    "            fset= feature_set\n",
    "            if(feature_set is 'ext_sa'):\n",
    "                fset='ext'\n",
    "                sa = \"sa_{}_{}\".format(index_name, split_period)\n",
    "            x, y, x_train, x_val, x_scaler, y_train, y_val, y_scaler = get_dataset_train(datasets=datasets, feature_set=fset, train_dates=train_dates, val_dates=valid_dates, index=index_name, sa=sa, ld=ld)\n",
    "\n",
    "            n_days=5\n",
    "            x_batch = days_group(x, n_days=n_days)\n",
    "            y_batch = y[n_days:]\n",
    "            serie = x_batch\n",
    "            train_dates_s = train_dates[n_days:].copy()\n",
    "            val_dates_s = valid_dates.copy()\n",
    "\n",
    "            splitted = np.split(serie, [len(train_dates_s)])\n",
    "            l1, l2 = len(splitted[0]), len(splitted[1])\n",
    "            train_s = PredefinedSplit(np.concatenate((np.ones(l1)*-1,np.ones(l2))))\n",
    "            train_split =  CVSplit(cv=train_s, stratified=False, random_state=None)  \n",
    "            train_dates_t, val_dates_t = list(train_s.split(serie))[0]\n",
    "\n",
    "            train_dates_s, valid_dates_s =datasets[index_name][\"target\"].index[train_dates_t], datasets[index_name][\"target\"].index[val_dates_t]\n",
    "            opn_test = datasets[index_name][\"original\"][\"Open\"].loc[valid_dates_s]\n",
    "            close_test = datasets[index_name][\"target\"].loc[valid_dates_s]\n",
    "\n",
    "            x_test_batch = x_batch[val_dates_t]\n",
    "\n",
    "\n",
    "            pred = model.predict(x_test_batch).squeeze()\n",
    "            pred_unsc = pd.Series(y_scaler.inverse_transform(pred), index=close_test.index)\n",
    "            \n",
    "            roi_test = partial(roi,opn=opn_test)\n",
    "            mape = (abs(close_test - pred_unsc)/close_test).mean()\n",
    "            mspe = (((close_test - pred_unsc)/close_test)**2).mean()\n",
    "            acc = 1 - mape\n",
    "            roi_score = roi_test(close_test, pred_unsc)\n",
    "            r2_score = sklearn.metrics.r2_score(close_test, pred_unsc)\n",
    "\n",
    "            \n",
    "            scores[\"mape\"][split_period] = mape\n",
    "            scores[\"mspe\"][split_period] = mspe\n",
    "            scores[\"acc\"][split_period] = acc\n",
    "            scores[\"r2\"][split_period] = r2_score\n",
    "            scores[\"roi\"][split_period] = roi_score\n",
    "            scores[\"valid_loss\"][split_period] = model.history[-1][\"valid_loss\"]\n",
    "            scores[\"epochs\"][split_period] = len(model.history)\n",
    "            \n",
    "            t_dates, val_dates = list(model.train_split.cv.split(datasets[index_name][\"features\"]))[0]\n",
    "            t_dates_s, val_dates_s =datasets[index_name][\"target\"].index[t_dates], datasets[index_name][\"target\"].index[val_dates]\n",
    "#             print(\"\\n----{}----\".format(model_full_name))\n",
    "#             print(\"Training set da {} a {}\".format(t_dates_s.min(), t_dates_s.max()))\n",
    "#             print(\"Valid set da {} a {}\".format(val_dates_s.min(), val_dates_s.max()))\n",
    "#             print(\"Test set da {} a {}\".format(valid_dates_s.min(), valid_dates_s.max()))\n",
    "#             print(\"mape: %.4f\\nmspe: %.4f\\nacc: %.4f\\nR2: %.4f\\nroi: %.4f\"% (mape, mspe, acc, r2_score, roi_score))\n",
    "#             print(\"valid_loss: %.4f\" % (model.history[-1][\"valid_loss\"]))\n",
    "#             print(\"epochs: {}\".format(len(model.history)))\n",
    "        print(\"\\n----{}----\".format(model_name))\n",
    "        print(scores)\n",
    "        print(scores.describe())"
   ]
  },
  {
   "cell_type": "code",
   "execution_count": null,
   "metadata": {},
   "outputs": [],
   "source": [
    "x_test_batch.shape"
   ]
  },
  {
   "cell_type": "code",
   "execution_count": null,
   "metadata": {},
   "outputs": [],
   "source": [
    "pd.Serie(x_test_batch['r2'])"
   ]
  },
  {
   "cell_type": "code",
   "execution_count": null,
   "metadata": {},
   "outputs": [],
   "source": [
    "close_test.plot()\n",
    "pred_unsc.plot()"
   ]
  },
  {
   "cell_type": "code",
   "execution_count": 47,
   "metadata": {},
   "outputs": [
    {
     "data": {
      "text/plain": [
       "<matplotlib.legend.Legend at 0x7f63c2086be0>"
      ]
     },
     "execution_count": 47,
     "metadata": {},
     "output_type": "execute_result"
    },
    {
     "data": {
      "image/png": "[encoded data removed]",
      "text/plain": [
       "<Figure size 864x504 with 1 Axes>"
      ]
     },
     "metadata": {
      "needs_background": "light"
     },
     "output_type": "display_data"
    }
   ],
   "source": [
    "lstm = model\n",
    "valid_losses = lstm.history[:, 'valid_loss']\n",
    "train_losses = lstm.history[:, 'train_loss']\n",
    "plt.figure(figsize=(12,7))\n",
    "plt.plot(valid_losses, label='valid_loss')\n",
    "plt.plot(train_losses, label='train_loss')\n",
    "plt.xticks(np.arange(len(valid_losses)+1, step=50))\n",
    "plt.legend()"
   ]
  }
 ],
 "metadata": {
  "kernelspec": {
   "display_name": "Python (fastai)",
   "language": "python",
   "name": "fastai"
  },
  "language_info": {
   "codemirror_mode": {
    "name": "ipython",
    "version": 3
   },
   "file_extension": ".py",
   "mimetype": "text/x-python",
   "name": "python",
   "nbconvert_exporter": "python",
   "pygments_lexer": "ipython3",
   "version": "3.6.10"
  }
 },
 "nbformat": 4,
 "nbformat_minor": 2
}
