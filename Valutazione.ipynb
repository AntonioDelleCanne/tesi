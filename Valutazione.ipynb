{
 "cells": [
  {
   "cell_type": "code",
   "execution_count": 220,
   "metadata": {},
   "outputs": [],
   "source": [
    "%reload_ext autoreload\n",
    "%autoreload 2\n",
    "%matplotlib inline"
   ]
  },
  {
   "cell_type": "code",
   "execution_count": 221,
   "metadata": {},
   "outputs": [
    {
     "name": "stdout",
     "output_type": "stream",
     "text": [
      "[Errno 2] No such file or directory: 'DeepLearning_Financial'\n",
      "/data/home/dsvm_server_admin/notebooks/fastai/tesi/DeepLearning_Financial\n"
     ]
    }
   ],
   "source": [
    "%cd DeepLearning_Financial"
   ]
  },
  {
   "cell_type": "code",
   "execution_count": 222,
   "metadata": {},
   "outputs": [],
   "source": [
    "## EXTERNAL\n",
    "import numpy as np\n",
    "import pandas as pd\n",
    "import matplotlib.pyplot as plt\n",
    "import sklearn\n",
    "import yfinance\n",
    "from pandas import Series\n",
    "from sklearn.preprocessing import PolynomialFeatures, StandardScaler, MinMaxScaler\n",
    "from sklearn.pipeline import Pipeline\n",
    "from sklearn.model_selection import TimeSeriesSplit, PredefinedSplit\n",
    "from sklearn.metrics import make_scorer\n",
    "from sklearn.model_selection import cross_validate\n",
    "from sklearn.model_selection import GridSearchCV\n",
    "from IPython.display import display\n",
    "import datetime\n",
    "import torch\n",
    "import torch.nn as nn\n",
    "from torch.autograd import Variable\n",
    "import torch.optim as optim\n",
    "from torch.utils.data import Dataset, DataLoader\n",
    "import torch.nn.functional as F\n",
    "import numpy as np\n",
    "import time\n",
    "import os\n",
    "import random \n",
    "from sklearn.datasets import make_regression\n",
    "from torch import nn\n",
    "import torch.nn.functional as F\n",
    "from skorch import NeuralNetRegressor\n",
    "from torch.nn.modules.loss import MSELoss\n",
    "import tensorflow as tf\n",
    "from tensorflow import keras\n",
    "from skorch.dataset import CVSplit\n",
    "from skorch import callbacks\n",
    "import pickle\n",
    "from sklearn.model_selection import train_test_split\n",
    "from functools import partial\n",
    "import skorch\n",
    "import pywt\n",
    "from sklearn import preprocessing\n",
    "import joblib\n",
    "\n",
    "\n",
    "##INTERNAL\n",
    "from models import Autoencoder, waveletSmooth, SequenceDouble, SequenceDoubleAtt, SequenceAtt\n",
    "from utils import prepare_data_lstm, ExampleDataset, save_checkpoint, evaluate_lstm, backtest\n",
    "from testing import *\n",
    "from sa_tools import *\n",
    "from test_models import *"
   ]
  },
  {
   "cell_type": "markdown",
   "metadata": {},
   "source": [
    "## Creazione dei dataset"
   ]
  },
  {
   "cell_type": "code",
   "execution_count": null,
   "metadata": {},
   "outputs": [],
   "source": []
  },
  {
   "cell_type": "code",
   "execution_count": 337,
   "metadata": {},
   "outputs": [
    {
     "name": "stdout",
     "output_type": "stream",
     "text": [
      "\n",
      "----lstm_moro_^GSPC_2000-09-19_2005-04-15----\n",
      "mape: 0.8839\n",
      "mspe: 1.0097\n",
      "acc: 0.1161\n",
      "R2: -27.6190\n",
      "roi: -0.0106\n",
      "valid_loss: 0.0283\n",
      "epochs: 813\n",
      "\n",
      "----lstm_sa_^GSPC_2000-09-19_2005-04-15----\n",
      "mape: 0.9920\n",
      "mspe: 1.1201\n",
      "acc: 0.0080\n",
      "R2: -33.3812\n",
      "roi: -0.0106\n",
      "valid_loss: 0.0675\n",
      "epochs: 443\n",
      "\n",
      "----lstm_att_^GSPC_2000-09-19_2005-04-15----\n",
      "mape: 0.1626\n",
      "mspe: 0.0554\n",
      "acc: 0.8374\n",
      "R2: -0.2480\n",
      "roi: 0.2407\n",
      "valid_loss: 0.1305\n",
      "epochs: 20\n"
     ]
    }
   ],
   "source": [
    "indices = ['^GSPC', '^DJI', '^HSI', '^N225', 'ASHR','^NSEI']\n",
    "feature_sets = ['open', 'ohlcv', 'ext']\n",
    "start_date=\"2000-01-01\"\n",
    "end_date=\"2018-12-31\"\n",
    "\n",
    "datasets= load('^GSCP')\n",
    "\n",
    "\n",
    "\n",
    "for model_name, feature_set in [('lstm_moro', 'open'), ('lstm_sa', 'ext_sa'), ('lstm_att', 'ohlcv')]:\n",
    "    for index_name in ['^GSPC']:\n",
    "        for split_period in ['2000-09-19_2005-04-15']:\n",
    "            model_full_name = \"{}_{}_{}\".format(model_name, index_name, split_period)\n",
    "            model = load(model_full_name)\n",
    "\n",
    "            split = model.train_split\n",
    "            train_dates, valid_dates = list(model.train_split.cv.split(datasets[index_name][\"target\"]))[0]\n",
    "\n",
    "            sa=None\n",
    "            ld=True\n",
    "            fset= feature_set\n",
    "            if(feature_set is 'ext_sa'):\n",
    "                fset='ext'\n",
    "                sa = \"sa_{}_{}\".format(index, split_period)\n",
    "            x, y, x_train, x_val, x_scaler, y_train, y_val, y_scaler = get_dataset_train(datasets=datasets, feature_set=fset, train_dates=train_dates, val_dates=val_dates, index=index, sa=sa, ld=ld)\n",
    "\n",
    "            n_days=10\n",
    "            x_batch = days_group(x, n_days=n_days)\n",
    "            y_batch = y[n_days:]\n",
    "            serie = x_batch\n",
    "            train_dates_s = train_dates[n_days:].copy()\n",
    "            val_dates_s = val_dates.copy()\n",
    "\n",
    "            splitted = np.split(serie, [len(train_dates_s)])\n",
    "            l1, l2 = len(splitted[0]), len(splitted[1])\n",
    "            train_s = PredefinedSplit(np.concatenate((np.ones(l1)*-1,np.ones(l2))))\n",
    "            train_split =  CVSplit(cv=train_s, stratified=False, random_state=None)  \n",
    "            train_dates_t, val_dates_t = list(train_s.split(serie))[0]\n",
    "\n",
    "            train_dates_s, valid_dates_s =datasets[index_name][\"target\"].index[train_dates_t], datasets[index_name][\"target\"].index[val_dates_t]\n",
    "            opn_test = datasets[index_name][\"original\"][\"Open\"].loc[valid_dates_s]\n",
    "            close_test = datasets[index_name][\"target\"].loc[valid_dates_s]\n",
    "\n",
    "            x_test_batch = x_batch[val_dates_t]\n",
    "\n",
    "\n",
    "            pred = model.predict(x_test_batch).squeeze()\n",
    "            pred_unsc = pd.Series(y_scaler.inverse_transform(pred), index=close_test.index)\n",
    "\n",
    "            roi_test = partial(roi,opn=opn_val)\n",
    "            mape = (abs(close_test - pred_unsc)/close_test).mean()\n",
    "            mspe = (((close_test - pred_unsc)/close_test)**2).mean()\n",
    "            acc = 1 - mape\n",
    "            roi_score = roi_test(close_test, pred_unsc)\n",
    "            r2_score = sklearn.metrics.r2_score(close_test, pred_unsc)\n",
    "                                                \n",
    "            print(\"\\n----{}----\".format(model_full_name))\n",
    "            print(\"mape: %.4f\\nmspe: %.4f\\nacc: %.4f\\nR2: %.4f\\nroi: %.4f\"% (mape, mspe, acc, r2_score, roi_score))\n",
    "            print(\"valid_loss: %.4f\" % (model.history[-1][\"valid_loss\"]))\n",
    "            print(\"epochs: {}\".format(len(model.history)))"
   ]
  },
  {
   "cell_type": "code",
   "execution_count": 322,
   "metadata": {},
   "outputs": [
    {
     "data": {
      "text/plain": [
       "(2008, 5, 10)"
      ]
     },
     "execution_count": 322,
     "metadata": {},
     "output_type": "execute_result"
    }
   ],
   "source": [
    "x_test_batch.shape"
   ]
  },
  {
   "cell_type": "code",
   "execution_count": 331,
   "metadata": {},
   "outputs": [
    {
     "ename": "AttributeError",
     "evalue": "module 'pandas' has no attribute 'Serie'",
     "output_type": "error",
     "traceback": [
      "\u001b[0;31m---------------------------------------------------------------------------\u001b[0m",
      "\u001b[0;31mAttributeError\u001b[0m                            Traceback (most recent call last)",
      "\u001b[0;32m<ipython-input-331-cc65d929ff6a>\u001b[0m in \u001b[0;36m<module>\u001b[0;34m\u001b[0m\n\u001b[0;32m----> 1\u001b[0;31m \u001b[0mpd\u001b[0m\u001b[0;34m.\u001b[0m\u001b[0mSerie\u001b[0m\u001b[0;34m(\u001b[0m\u001b[0mx_test_batch\u001b[0m\u001b[0;34m[\u001b[0m\u001b[0;34m'r2'\u001b[0m\u001b[0;34m]\u001b[0m\u001b[0;34m)\u001b[0m\u001b[0;34m\u001b[0m\u001b[0;34m\u001b[0m\u001b[0m\n\u001b[0m",
      "\u001b[0;31mAttributeError\u001b[0m: module 'pandas' has no attribute 'Serie'"
     ]
    }
   ],
   "source": [
    "pd.Serie(x_test_batch['r2'])"
   ]
  },
  {
   "cell_type": "code",
   "execution_count": 332,
   "metadata": {},
   "outputs": [
    {
     "data": {
      "text/plain": [
       "<matplotlib.axes._subplots.AxesSubplot at 0x7f08b9429f28>"
      ]
     },
     "execution_count": 332,
     "metadata": {},
     "output_type": "execute_result"
    },
    {
     "data": {
      "image/png": "[encoded data removed]",
      "text/plain": [
       "<Figure size 432x288 with 1 Axes>"
      ]
     },
     "metadata": {
      "needs_background": "light"
     },
     "output_type": "display_data"
    }
   ],
   "source": [
    "close_test.plot()\n",
    "pred_unsc.plot()"
   ]
  },
  {
   "cell_type": "code",
   "execution_count": 320,
   "metadata": {},
   "outputs": [
    {
     "data": {
      "text/plain": [
       "<matplotlib.legend.Legend at 0x7f08dc34e630>"
      ]
     },
     "execution_count": 320,
     "metadata": {},
     "output_type": "execute_result"
    },
    {
     "data": {
      "image/png": "[encoded data removed]",
      "text/plain": [
       "<Figure size 864x504 with 1 Axes>"
      ]
     },
     "metadata": {
      "needs_background": "light"
     },
     "output_type": "display_data"
    }
   ],
   "source": [
    "lstm = model\n",
    "valid_losses = lstm.history[:, 'valid_loss']\n",
    "train_losses = lstm.history[:, 'train_loss']\n",
    "plt.figure(figsize=(12,7))\n",
    "plt.plot(valid_losses, label='valid_loss')\n",
    "plt.plot(train_losses, label='train_loss')\n",
    "plt.xticks(np.arange(len(valid_losses)+1, step=50))\n",
    "plt.legend()"
   ]
  }
 ],
 "metadata": {
  "kernelspec": {
   "display_name": "Python (fastai)",
   "language": "python",
   "name": "fastai"
  },
  "language_info": {
   "codemirror_mode": {
    "name": "ipython",
    "version": 3
   },
   "file_extension": ".py",
   "mimetype": "text/x-python",
   "name": "python",
   "nbconvert_exporter": "python",
   "pygments_lexer": "ipython3",
   "version": "3.6.10"
  }
 },
 "nbformat": 4,
 "nbformat_minor": 2
}
